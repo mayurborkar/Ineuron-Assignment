{
  "nbformat": 4,
  "nbformat_minor": 0,
  "metadata": {
    "colab": {
      "name": "Python Assignment 2.ipynb",
      "provenance": [],
      "collapsed_sections": []
    },
    "kernelspec": {
      "name": "python3",
      "display_name": "Python 3"
    }
  },
  "cells": [
    {
      "cell_type": "markdown",
      "metadata": {
        "id": "rDc4eMV9TQs0"
      },
      "source": [
        "**1. What are the Boolean data type's two values? How do you go about writing them?**\r\n",
        "\r\n",
        "**Solution:-** There are just two values of boolean data type: True and False. They are used as the values of expressions that have yes or no answers"
      ]
    },
    {
      "cell_type": "code",
      "metadata": {
        "colab": {
          "base_uri": "https://localhost:8080/"
        },
        "id": "-ECswXwRTOyZ",
        "outputId": "f86dba82-923d-47c1-b501-697e4d8f8389"
      },
      "source": [
        "print(bool(True))\r\n",
        "print(bool(False))\r\n",
        "print(bool(1))\r\n",
        "print(bool(0))"
      ],
      "execution_count": null,
      "outputs": [
        {
          "output_type": "stream",
          "text": [
            "True\n",
            "False\n",
            "True\n",
            "False\n"
          ],
          "name": "stdout"
        }
      ]
    },
    {
      "cell_type": "markdown",
      "metadata": {
        "id": "zEQI2tcQTg-f"
      },
      "source": [
        "**2. What are the three different types of Boolean operators?**\r\n",
        "\r\n",
        "**Solution:-** The three basic boolean operators are: AND, OR, and NOT"
      ]
    },
    {
      "cell_type": "markdown",
      "metadata": {
        "id": "3RySoxEjVE2J"
      },
      "source": [
        "**3. Make a list of each Boolean operator's truth tables (i.e. every possible combination of Boolean values for the operator and    what it evaluate ).**\r\n",
        "\r\n",
        "**Solution:-** 1- True & 0- False\r\n",
        "\r\n",
        "![Capture.PNG](data:image/png;base64,iVBORw0KGgoAAAANSUhEUgAAAh4AAAHzCAYAAABv8RSLAAAAAXNSR0IArs4c6QAAAARnQU1BAACxjwv8YQUAAAAJcEhZcwAADsMAAA7DAcdvqGQAAD9GSURBVHhe7d07ktu6FoXhM0NHZzDOPAyHjk/mTp100pEzj8BVPYgb6hIAQe6NN18QKf7BV9UtUSCF5xIlUf/873//ewAAAPRA8AAAAN0QPAAAQDcEDwAA0A3BAwAAdEPwAAAA3RA8AABAN83B4/37f49vv9P3AQAAtFDB4+/bz8c//2YCxufH48u/Px8/PhP3NTDBJS778/Hjq7n91+N9uu3P45vfz+9f9jHSl7dP8fg6/5yc9ce/P/fcCXM4Kz12Rl8/Hn8T2x7BzBlLx/vMzy1nGvMViflOz40HM/tf0752bdDHvb7d9rdpDbDP7ag2uO8aMAYPVwFf3j6GRb9QEWs7pg0TQ+OZx3//I24f9/v1p9hnGDxEo48dvLVT2w4njtd1wI4DuYjggWsIx1Evm4KHmSuGY34fjv1Mi2CTcN7rZVPwEAt6+P8TbV4DCB6HsMHDNIZ78mbRL1XEyoqaOvQYQKb7xvKGwGMmCdc5CsHDaB6UopzpNnn85m9zv3vOLg2H5cr7gklw6pBiGzVo3b78Y+V9/uxPSJbvBsh8n6pzX5/2GMZtVKAzxuOKbgeWSQcP07+G/i/7oNzG9NGh78l+HPVv2TfFBB/2/cmCvjyVb8qNjv3kMnOceU6mDuX8Mc8LlfnMzxn+fzk/yjZU4mNIso+Xc62cZ59JPMfptnAN0Mc590tZj9JcXr09cmW3rQGvLPiMh6vsUoeRlddqfuUSNsb8//t336Cis6QGYNTJM8REJm+3DW6P3+1bdqT5PvO/u3/uCEHdTINVHvd8/9+3X+IYw7Lm25J1HT5v+794zvZ/s+9xm2SdjANnYVsBITvmk8FD9MFwfPg+6vtf0EejeSQxXud5Y76tjRxb5rjCsXFyqXlvYOtsqFNfJ7pdKvOZKTMXPPxt0TaNwvkn0ZZPkTmOcA2Qc3BLv/TC9tDt1lB2aQ14cYuDx/LOqTu4rnxR8aZce7vYXjWk1ziRZI5z3n+i0eVjTIcLHq+O3XZI/fjSRNne6dztYTmqbFsvsg7u24FxPNt3o7EUj8Ooj6rH6D4ajYfEBF8aT0VBWavLeZbkvFers8p8FrVHYh6Ntmk0zoXuxZBzirko83zmeozrrKVfetG2qk4byr7xvL08eBQaIils/OxgMX+b20XjmceG+7KPDwZMSuY450ko0ehyf/ZvPZgs33Fq9WDvzzzWynW69O3lSX0ZU5Y8rktNyujOTphRf1sXPPz9LRP82sAQlb1xvHQn5yGhXGcN85mqg72DhyzLrSNPn1cyc3RpDWjpl160rVo/G8rOzPV3cPgZj3CR81KNYxrGfcA1Hzxs42U6gpYYWGp/iUaXz632PAsdMjXw2judu10P2uC2tRMEsILtu1F/i8dXS/CQY702wa8LHm4/8ZwTzgUnlpj3jHKdJeaT4nyWmB/Xziv2OHRZ8Xz3DMvXgJZ+6cXPUe6voexUm93EwZ/xSFesDSO2jPD+Yf9fh/DhGy8cgPb/9oay+xEDyR779H9i30PZ80QX/h9oCB5T2XZb/5zn7eZ6mG8z7HFGzzv4vzpBuGNobysgTY8bz/QvPamXgkfYp3WZY18NxlN6vzXxcfmxvjzEPEk43ke2PuR4LgYPV6eqPYJtozCWCBBNose5fbfO00dqWQN0HYVzZv65hO2h99VSdn4NeHUuePhKCcSVHXbuitziPA2CuDzbEL4TR8e1fFC48kZqEvODbxZPTH5CnE3HmntuI9spp8f9evwIJw1Lly/3rx8fPG9TL9UJeSz7hp0a+9B9cDT1O9O/dL80Yy2aaCfhWJHjbyjnd2o8BWO0pS9nxoZecE4qqjNjrpNwoUsFD/nYcD6Tc+G333H7GeG8lZvfFHscc9lGPJc+T34NGMhjH+4zX7+O+plql7nOovGxpuzCGvDKgjMeFU0L3lXEoQfATl5qrrgC5rPeoiCIZu3Bw6a3OCFfFwMVOAzBozPms94IHus1Bw9zuuq1OjUDFTgMwaMz5rPeCB7rLXurBQAAYAOCBwAA6IbgAQAAuiF4AACAbggeAAAcaecPW6triBzwAdejv0xC8ABwDDPZThdHeqWv4p+V+2bLkQvS7ezRhzOXolAXNhstXewP+2bNwZfPIHgA2F8wcblXaI1XwsQqdiGbFiF3Rcy7XAnzELv0YRcGU+1g2mtr+xz6ld4DvxJP8ACwO70IGm4h5DoTB0m8QrWLEtdSWW2XPlxYvGvBwwUdfzYkffYhHzz0pdijY2g6k3PctWEIHgB2Fk5Y81sAvAI/SLjATQsLZ5nW2acPl8JFMXgMQfKbuC8XInPBo1a2Cqm2r6T7ST7YbEPwALCzedK2rxrHyfqoSQwDHzzsouIDh3nVm3s1i7I9+nAYXjRf7qzQVrZd43BQCh65My3mMTqUFI4zDLQ7IXgA2Fn61WHxVRi2SZ3hyCxWaLFHHy6/NVMua97/rD14hI+XxxAHnnibyUF9iOABYHd2clMTYuFVFbYLT58bB71avYvtfbi8fSl42H3Ltlt4xkOxj52Po7TfCGc8AFzG+Ap8mnTt/7z6Ps74CndaJNz/7a/OEdmhD9fCRTF4TIFibNu1wSM882KfR9tbcG3lL0fwAHCMceJ2CB3H8wuUQ+jYwdY+XAgrxTMP41kKv+9vb/KMh27nyRQQgm+0DKL9qOdlpI7R7Sd3xmYLggcAAIe48JknE04OequO4AEAwFFSn785u4OPmeABAMCRDjx7cATzNtARb7F4BA8AANANwQMAAHRD8AAAAN0QPAAAQDcEDwAAjrTzh0vthb38NTgOuMAXHy4FcE3qIkUX+zrhZY0Xj7rQNyhObY8+nPlqqr066VS2s3SxP+rKonydFsD1BBOXe4XG1UsPZRfJX48fpq4JHtvt0ofzFxArXrm00WHBwzjwK8AEDwC7s6/m1IRY/qVObDXU77hI2MWI4LHZLn24sHjXgocLOv5sSPrsQz54BJdND4+h6UwOl0wHcBnhhOX+N5PcJS8dfTEEjz3s04dL4aIYPD4/Ht/Efbk2zQWPWtnqbZTxTFnqTE4+2GxD8ACws3nStq8ax8n6qEkMGsFjD3v04TC8aL7cWe7Mw8CGhTgclIJHrg+Yx+hQUjjOg95uIXgA2Fn61WHxVRh2Q/DYwx59uPzWTLmsef+z9uARPl4eQxx44m0mmcCzFcEDwO7s5KYmxMKrKuyK4LGP7X24vH0peNh9yzZceMZDsY+dj6O03whnPABcxvjhtWnSLbyPjH0RPHayQx+uhYti8JgChT97sTJ4hGde7PMovK0jtJW/HMEDwDHGidshdBxLn1qfEEC22dqHC2GleOZhPEvh9/3tTZ7xyLT1FBCCb7QMov2o52WkjnHpGZ52BA8AAA7hFu/mtzbOxISTg4IrwQMAgKPYsxdtb22cxsHHTPAAAOBIB549OIJ5G+iIt1g8ggcAAOiG4AEAALoheAAAgG4IHgAAoBuCBwAAR9r5w6X2wl7+GhwHXOCLD5cCuCw/QR45icELLix1wIJ0O+pCWyu/Xpr5aqq9OulUtrN0nBx1ZVG+TgvggvyFkz6KP5SF/ejLbLurV17ywlVnESy+LkQvvXpp/gJixSuXNjoseBhcQAzAlZgJ0YWN8i90YieJV6h2UeKS6avpIGes6MuFxbsWPFzQ8WdD0mcf8sEjuGx6eAxNZ3K4ZDqASyJ4dBEucNPCsuL3RTAIF935bawlZylK4aIYPIYg+U3clwuRueBRK1uFVNtX0v0kH2y2IXgAOBDBowsfPOyi4gOHqfvcq1mUzcHDnvkYA8eyhbh8xsCXOyu0lW3XOByUgkfuTIt5jA4lheMMA+1OCB4ADkTw6CJ1hiOzWKFF+gxH8UxCpNz3y2XN+5+1B4/w8fIY4sATbzM5qA8RPAAciODRRXj63Djo1epd2AVaLerlMxix8val4GH3Ldtu4RkPxT52Po5y4AlwxgPA9RA8+hhf4U6LhPu//dU5IuNZpKnv2v+XvfqvhYti8JgChT97sTJ4hGPQPo+2t+Dayl+O4AFgf+OkHSKAHMkvUA6hYweqH694y6EQVopnHsazFH7f397kGQ/dzpMpILigIe+L9hONz9Qxuv0cMWYJHgAAHOLCZ55MODnorTqCBwAAR0l9/ubsDj5mggcAAEc68OzBEczbQEe+LUrwAAAA3RA8AABANwQPAADQDcEDAAB0Q/AAAOBIJ/twafx7LX0RPAAcxl758F8uHNbPePGoC32D4uw29+HEV1N9mZFu7fbcKwoTPAAcwF846YNLpvcyXiXzh1nUCB472KMP1y4g9sQAYAPRiqux7oDgAWB35hWdm0yf+8rqPoZ6HsOGfTVN8Nhslz5cfYslU7Z/nLx0evDbLfIxts3Vb6q4cv2ZlFzwKV62/UAEDwAHInj0RvDY2/o+XF/YC8HDhobxjIR6u6YWPMKzLIXjf9JnTwgeAA5E8OiN4LG3tX04DgixUvCQnwuRZVWChwkpQfvHZ0RGT3q7heAB4EAEj94IHntb24dbHlcIHtk2rASP6WxJIBU87P77/44MwQPAgQgevRE89ra2D28847EleLS2P2c8ALwegkdvBI+9re/Dmz7jUQkeU7n+DMd0RsOV2fSh0SUhZUcEDwD785NhgAByFLcYRXVOAFlvjz5syyidUVgTPAby2y7Ddu/yjIflyq0dN99qAQDgpQRnJ87kSW+zGAQPAACOYhf4/h/gLFv/9tEeCB4AABzpSZ+lyDGfA3rmWRiCBwAA6IbgAQAAuiF4AACAbggeAACgG4IHAADohuABAAC6IXgAAIBuCB4AAKAbggcAAOiG4AEAALoheAAAgG4IHgAAoBuCBwAA6IbgAQAAuiF4AACAbggeAACgG4IHAADohuABAAC6IXgAAIBuCB4AAKAbggcAAOimOXi8f//v8e13+j4AAIAWU/AwweKff0dfPx5/xUbW58fjy78/Hz8+g9tb/P41lz2QAebv20913z///nq8y8fWFMp+NlOnX94+k/cB230+fnyVY8fp1+fc/tePOX/8K+eVZwjmG2fhnLWF2X9qfq6I59kz1XnQj5c+P7s2HdQGR5Z9Yy54mM78/c9449gJpv+FNZ3eDlTRcPb/udPbASH2ZQNQ6z4qZT8bwQN9uDHbv69tDB5mUh/G+vswB1xunIRzTy9mv2uDh3hc+P/zhH23sP7kEDwuJ/lWS75TLp1o0tvLBTkMHu0Doq1s87cNM2Oa1tuPndwnbdXZ5/Lnxwehxk4+8+N92fY5iNsnsnzboUv3mc7+5/HN35+oE3dcDAq4vhov3qb/DP1D9jXZj0z/Hfqd7K+yjHBsyklYjikpPoa8qXxT7ikWwQWSwcO0g5kjxLhV2zS0h6oHs/0458jHKOExpNm6lmWLtgy37SoVpNSxiToY75/neFnP0ry9ed75NSBeQ+Y+Xy8b6y0MHrJh4vticacxZPm6vDEINJXfWPbQWabJMJgsbGcM9j1PnOOxiMfr7Yf9y+NMTETzAJlvc1ynnju8+3/adppk/PMLt3fcYDrB5IEnC/uu5/rN3EeCfmT7rOjTtt/pSVuNxWixiifudvKx5rguNqEnxvs8Z/jnErZL2B7B/dEinKiXaJs2cl6c/pdt+yTp45D9NK6DaF4thKjyGhD333qfxx7i4DEuetnJZEnHzzWaKMN3DC+ePDNay1adWnZi83fwePXcxklEPr743BsGyMgeV1iOLDvRBvkQA4QLnFfpk1F/1hNxfRKOJ+5mQVmX69+m7qL5p7aQxe2h7o/aI96+PAfl2f2IeTY+9udIt7usx4Z5NbcWDKI+rMqrtdegUDbWC4KHaZTKBLCoIRIDZyAbN/q7eVAtK9txz892NPs85EAcTfuvT6pmAOjHVwbIKD6uQRQ8NnT26LkxcF6b66txX4vHiOqTmeDh74/6adQv62MkJyp75YL6NOZ4o3FVW8ji9rD3++cd1UFijltZT2o/hj3+eP7sLeoHlnzelT5sFObLuHxTnm+jWnsNts7FSBLBwzVI3AkCizp+emKSHUc3tOwUNUvLNkQnrnao8qRqy1aPbxggI/vYoA7VbXR2LOL6atzXKn0yGsu6z0fjZ7fg4R6nQ7uhj/XU7MIdjtG4PnQdxu2h7o/aI95+2fw7i+ectW23s9TzUf2sYV4tzJdRH1bl1dprwFx8iDF4mMYYBr5qoLS4Icvs9rLhggEblmf/bxxYS8s2HXYue5z8ss+lPDDD47RlpyaV1HOxnVmW7ep/+r+xs7t91rfDq3N9dWvwCMeT7r/jHBH0N9sHF8wHTnxc+edwUsFc49QWsuB5h/OAKnOcn8J6so8J664umouSx/8Mrl/N7R72A3e/ryPXR8N+oreRdP2n1wA1HoZydH/Ol431bPDwjRmKKzseWC10+bqzhx0j7ohl1bKn+wZRCPCDexYOgPxzdcc5P+5j+D89mU7ly+c5Tjrz48XzJXigSdx/dV8yfVT3ySh4qMeGfUmWP5TzO9Uvw3HQMG7NfqOxOI7XxO2nEtWZ4esknjP0/KbrygjnFzem/X1x+xmlOS8nmgtXhJfjVPqQrPOhLlUfTm0jnlt1DZDz8HCf+Wq3Xo8GmbKxXvzh0pLMhHFWetADUC42nq8vHSRwHNaAc2oPHitP8T0TnQ4oIHh0RvDojTXgnJqDhzm9tfQtlmej0wEFBI/OCB69sQac07K3WgAAADYgeAAAgG4IHgAAoBuCBwAA6IbgAQBAUe26TsvJa7Y0Xf9mCfMt1BN/cJzgASDLfitgungSF6s7HBer2t0efdiGhPDbMcFFIK0Vi33ygmg7SB7zSRA8AKTZRXCeqO1ExtdvjxNcK8ktmIS9Tfbow0EZE9te29vnqOBxxFmavRA8ACS4SUtNiBe8iOCVxK9Q3aXEr3b9pPPYow8XFu9q8HCPrZ0NyQYPdfYr3CYoO3dmw5RxwhcLBA8ACeHFrtwiaCY5FsIjhAvcvLAc82r4Dnbow6VwUQkef99+iX279ky1ZTp4hMeu6ZCaL7tWzrMQPAAk+AlrXgDNZH3caeG7m4OHXVTGwMGVN7fYoQ+XzhjY4OHKnRTaKteW+eBRChNB4Mke59yv9O3PRfAAkOAmPj9Zu9vOOYm9hnlxlIsNQW+L7X3YhoVi8Ci81dIYTLJtrB4v9pMq11j6Vs4TETwAJLgJWk9Y/hWk3A57MQuEXpgIetvs0IerZzxywcOFHrnvZWc8NPVB41rgUc7ZhwgeAJLcZDdP0sVXf9hu/DDhtEjY/1sXGKRs7sOlRb4heExt6c9SrAweui+4MJEqK3bOFwsEDwBZbuIun8rFjsbw4RA69rCtD6fOmowqZx7Ufoftfpj/p7Dggsl8vzPtR/UDIwwPY/gQ2ySP0ZRzwnFL8AAAIOeyZ57O+TaLQfAAAKAg/vzN+Z35mAkeAAAUnffsQZJ5G+jEb40SPAAAQDcEDwAA0A3BAwAAdEPwAAAA3RA8AAAoOtuHS811QK57nReCB4Cs8CJIXNDqeL7OL/MNiguwXy3dcAXP+Kup6QuA9Ww3208uelE/ggeAtODCSXby5eqlB/JXyfzQl9vGBuOly4c6/bI2eFQuIPbMAGDGZPVy6ydE8ACQ4BdBManZS0Sf73cfXoVZwFzYGBdLgsdm79/H/rq679bfYskFDx8K/BksfTbEtLE+nihEqMumZ469ctn2syJ4AEgIJ8b51DIL4tEIHrtbGzwaFvZS8LChYXyLRm9XCR7h8WbPulzswmYjggeABD8xuonNB46rntq9FoLH7tYGD7PgV95GKQYPebsKMeXgYcrU4ywfMK44JgkeABLc4qfPcFzz1dX1EDx2tzJ45EKFVAoe+UBQDh42tIzjT0r1Cbv/i/2ODMEDQIILGXrijCdLHIHgsbsnnfHYEjzyj9WWbHsWBA8ASXZCFZNjy6s/7IHgsbu1wUO9PZK2PnjMbezGmtjefqaj5Xj5jAeAF+MnRIvQcSz1LYYZAWQ91X8nSwJI6syfti54DGR7f/8Tbx/1h0QAaghGZ0TwAAAgxwaAcy7uV3ybxSB4AABQYBb4s32AM3em5QoIHgAAFJ3tsxTmMyLXe4vFI3gAAIBuCB4AAKAbggcAAOiG4AEAALoheAAAUMSHS/dE8ABQZL9KuOaqj1hOXTSKOt/L1j4cf53WXXlUX+DL6RVO+DotgBc0Xtb5beXlprFMcFlvd9XN676qPYcd+nDlAmLPDABcQAzAS3n/Pk7Ua3/nAovkXlVzyfT1tvfh+lsstUumuwAZng0xbauPJwoRLWe/uGQ6gJdE8OggXODc/2bRueIr2tNZ24cbFvZS8LChYQyTertK8AiPN3vW5WyfPWlD8ABQRvDoYF5A/II1vVo+2aW6L2ltHzYLfuVtlGLwkLerEFMOHqZMHTjzAUMFlosgeAAoI3h0kD7DccVF5ZRW9uFcqJBKwSPfduXgYf52b7FoqeBxxXBK8ABQRvDowi42agG55mn0U3rSGY8twaM1cC7Z9iwIHgDKCB59jB8mnIJG9n19LLa2D9vHrf+MRzl4zG1tyxj+n7a3bd9yvHzGA8AL8ZOhRgA51Bg+HELHVtv7sFvYS2cU1gWPgWzr73/i7VVfMBL9oSEYnRHBAwCAnBOfebri2ywGwQMAgAKzwJ/tA5y5My1XQPAAAKDobJ+lMJ8Rue5bcQQPAADQDcEDAAB0Q/AAAADdEDwAAEA3BA8AAIr4cOmeCB4AiuxXCblwWDf+oldXuxrlmW3tw/HXad2VR/UFvpxe7cbXaQG8oPGyzm9cMr0Pf5XMD3U5bWyxQx+uXEDsmQGAC4gBeCnv38eJmt9q6cIsYC5sjIslwWOz7X24/hZLLnj4UODPYOmzIaaN9fFEIUJdMj1z7FwyHcBLInh0RvDY3do+3LCwl4KHDQ3jWzR6u0rwCI83e9blbJ89aUPwAFBG8OiM4LG7tX3YLPiVt1GKwUPerkJMOXiYMvVbKPmAEZ0puQCCB4AygkdnBI/drezDuVAhlYJHPhCUg4cNLfYtFi3VJ+z+T/Y7MjUEDwBlBI/OCB67e9IZjy3Bo/UsxpJtz4LgAaCM4NEZwWN3a/uwfdz6z3iUg8fcxraM4f9pe/uZjpbj5TMeAF6Inww1Ashh1LcYZgSQ9bb3Yf8V5/wZhXXBYyDb+/ufePuoPyQCUEMwOiOCBwAAOTYAnHNxv+LbLAbBAwCAArPAn+0DnLkzLVdA8AAAoOhsn6UwnxG53lssHsEDAAB0Q/AAAADdEDwAAEA3BA8AANANwQMAAHRD8AAAAN0QPAAAQDcEDwAA0A3BAwAAdEPwAAAA3RA8AABANwQPAADQDcEDAAB0Q/AAAADdEDwAAEA3BA8AANANwQMAAHRD8AAAAN0QPAAAQDcEDwAA0A3BAwAAdNMcPN6///f49jt9HwAAQAsXPD4/Hl/+/e/xj/f14/E32NBt8/Px4zO4vcIEln/U4z4fP77qEPP37ee8b7nt71/idunX4318bE227KeL6wHY15/HNzVunG59zs4Z7WM14uel1Hx0Wm5cT/W99Ni31lnJkWUDCyTPeNiw8P1PdLsNAgsHkinry9efjy9vn+NtesG1wUCU6YJCODjcY+Yy2rSV/SwED/TiAkj3vrZxoTPj9cvbn2GcnOkFQ0k4T40hJDWX5hA8cAPJ4GEX6ORgWb5Y2uDx9jFMfL7DyzLMhBhOKql9hAO6Ra1s87e5X74qDAelfsWo9j8NYrGNCmVuX/6x8j53Figmy3chab5P1YcPgPYYxm2i9hqPa8mkhxfl+kI0bk0/GvqH7GthHzT/y/46l2HK1OPLjXXzeD1uZksCxDxW/XGktzuR1Asztdhvq7Nye8i5bd7ejf892gPYTyJ4xB1Ymjtz+v6QH1jmca5MUX4mgduBpfbhHrNo8qmW7cqUg0/vN9ynG7xTvUyLvn+8vv/v2y8xqFPHL+phum1k32ISx27/F5OE/d/se9zGHks4iYyTzYK2wqsK+q7n+5HvI0G/s2N9uH/qt+p+U6buc36s+/9zY7CJfKzZb7ign1B6bpR1v63Oyu0RzyfR8WxpD2BHc/Dwk5BRGuQLJ4FpYJlObx8nBkimrHgApxbuimrZiYVfPmY63vl+dVx2EOvHR5OIkHtOav/i9rAcVbZtKzmB5coCjELwUH1cL4xxn5X3b1tEa/S+432dUXr8y7G5rc7K7RHPAdH2G9oD2FPyrRa3sGU66MLOKwfW+3czSMQAyZQVD+D0YlxULTuxWMvnbf8eg5jkB3KtHuz9mcdaif0Xbld1Ei0Yy5iy5HEtqldckFmgEn1tVfDw5WxbRMviMRDPCecT15ch62lbnZXbI64zggfOKh08EgNksnDRixbM7x9igKT2k1p43W3LJp5a2Yn9yOdWe57FQewmBHm88aSRep7z7fq5BrctbAPcnVyghKgf6TGTXuj8/fH42i142MfpcGydvc+nxqWqg211Vm6PeD4heOCs8h8uzQzyuPOX6YFlBsfPxxcxQMz9cl/pfacW47py2eFANYNY7iP8P1AcxO6xU9l+Ig3qzR5foi7tccqyzYQW/p9pn5k7hiVthVcV9EdvYfDQ40mX6fpsOF4y+63JLuB60T4f93z1fBfPKWvrrNwewb7snBGO/5XtAezMBQ/fSb3sohYu1nVmcMiB5QebLMMOoOK+1wUPI1+2K3O6bxCX7waq3GY67sqrB/88nV+PH8Gk4ejyU/XkBBMuwQNN4v5rTH24JXjIx4Z9Ts4bQz8Lx3q0TWNwSJazYQ7oKz+mrQ11Vm0P/wJnvO89NeesaA9gb5m3WjJMp60ueFexPEQBd2IXOoLradAeeBXtweMSpzqXIHgAJSx050J74FU0Bw9zSvC1FmmCB1DCQncutAdexbK3WgAAADYgeAAAgG4IHgAAoBuCBwAA6IbgAQCv5mSXPjAfjD3/NVjQC8EDQJb9JsV0wSkut92Dr/PV37iLLn0QXyzR6xcG3IXV+BYhDIIHgDR7lcs5bNirAL/MBQTPyF+d9WPDIu3LyASKoE27qlztGfdB8ACQkFjAXu4igudiznS4sLHh7EDtLZZc8PCPk5ddn64ZEl/zKL6mSOVS8aP05fBxNwQPAAn6d1vkwsLp8qOtDx7Vhb0UPGz7jvepkFkLHmFILRx/LRjhFggeABJ88HCLig8cvGLtYW3wiANCpBg84s+FuLIqwcOElCBMxGdERrzdggHBA0BC6gxHw8KGHawNHg2PKwWP7JmISvCwZbq+oqSCxxRow9txJwQPAAlusdFnN1g0+lgbPBqC4VHBo/XtE854YEDwAJBkFxcRNOz/vD/fwdrgsfEzHpXgMZVry5BnNNzxNr0FtySk4GURPABkufAxnjpnwTiWX9ADiwJILlh4uftrgUB+22XY7l2e8bBc+KgdN58RgkHwAICXkXqL7CR4mwUjggcAvBK7wJ/tszjr3z7C6yF4AMCrOdlnKcxbdrzFAo/gAQAAuiF4AACAbggeAACgG4IHAADohuABAK9m5w+Xquu5JC+FvoX5xgtfs70TggeAInPRJ/0DYjiMvcCXvwjXyjpPfp02vsBX8UJjGTaA7B48uCru3RA8AGSM1154O+N1IV5QEBjcWYal4SB3ATHTltvb8KjgYXBV0/sgeABIev8+LlSnvCDV67FnlhKXIV98yfTkmYN68FBvp2S2zQeP4IxKeAwtZ3K4sultEDwAlBE8Ogh/Adb9bxbqJWcB8mcNKsFjaONv4nG5tz5ywaN4tiLsPzaEpAJGWAd4VQQPAGUEjw7mRdd9psYt5Mve2igt3MEZCaP0mYrM2YdS8MiVZx6jQ0n+OIsBBi+D4AGgjODRQfoMx7KFuPTWTO2tlnn/s/bgET5eHoMPUqHUcS4LWrgqggeAMoJHF3aBVotu6QxGSmn7cvCIzlgsPOOh2MfOx7EkPC0LWrgqggeAMoJHH+MHMKfgkP0sRF5+4W4IHlOg8GcvVgaP8MyLfR4t/Wdp0MJVETwAJNlFZjwtPiOAHEp9+2NZ6LCyYaXyVst4lsLv232F2pej30aZTAHEBQ15XxR+1PMyEseYOcuC10PwAICX4ULCFd+u4G2W+yB4AMArueBbY/bsWulbNngpBA8AeDXmrY3LLOTmrRreYrkTggcAAOiG4AEAALoheAAAgG4IHgAAoBuCBwAA6IbgAQAAuiF4AACAbggeAACgG4IHAADohuABAAC6IXgAAIBuCB4AAKAbggcAAOiG4AEAALoheAAAgG4IHgAAoBuCBwAA6IbgAQAAuiF4AACAbggeAACgG4IHAADopjl4vH//7/Htd/q+0/r8eHz597/HP9avx3tqm//9eXwz93/9ePxN3g8AAPYSBQ8TMMxCHYUMu4j/fPz4DG6vUYu/lwsBB7HHsCZ4fD5+fD0qcI379b7/SWzzJL9/EcReQtDHRt1eQBTHXQM/d1yqL7o5Y6rvpce+tc5KjiwbWEAHD7vg/Hp8yy22axakM3T21cdwVPBwC8Jcrvv/y9un2OaJCB4vJuxvnWwc+3/ffg5j4s8wBle84HkKN1/M43gMIUteVBA8cAMiePjJqbTYrliIGzq7mWDkK7J50Yv3Z7eVA9kskuKxyWPLHIPabzA5+DM/ITephBOMkbotLXoOhlzszd/D/fL4wnJ1nennZo7dbC+3UfWSqzNbT/PtM1l+8CpaBZS5veb6ixcNd1xXWUxeQSZ4VPqZud38L8fCXIYpU7eh73dRH5ksafO5L/njSG93InIMe2ru2VZn5fYozZV7tAewnyl42M5sO2ncgaW5M6fvj9SCh10Exf1q8JYGk/l/GFDyWMKyvMox5J9Tvi7sY+QkY/fRNpDnyUbcLh9vn4dvj+A+83/wPMNjmSam8fH6/oY6U20gufqYj939P9fd+P+wb7/N3K/mcuzxMOl15BaeqB+H/SzVr0Rb6vtNmboNo35dG/sl8rHZ/ngutr6Cvq7rfludldujNlcOtrQHsCMXPFSHzC+21tJJwJbtFqPJ9PjEvlT5DYNJiQe2VRlw+TJLdaH3VT4uKVemKC+qY/0YM1npx+tjsYu9fHzx+SfqLNfGaqIbJfqOqoel/QUHMG2c6HNR29T6tLw/7jd7Bg+970QfPaHo+Vty7G6rs3J7xPNKtP2G9gD2NASPsMPGHVhZ2nmL2yf2pSbD+mCyi6wKNokJqnLM8YD2ynUxTxpmu/aJMTlByWOMFgR3HPO+wuesn3d6ApxV6ywXFlK3q7ot11eVLUse14J+hgKzQCXaZVXw8OVsW0TL4n5U69NnkJ5HZD1tq7Nye8R1Fm2/uj2Aff0TT/ZC6+JTUuzsiYVKlV8eTPZvVXY8sK3KgEtPGEZlIfXHaspfUCfJ/cnnHdWxPI7KMQ1Kk3RTneXa2Nwe1qO6rX5seAa5QAlRO+u+EPdTeX/cb3YLHrk5acEYe4rUuFF1sK3Oyu1Rniutte0B7Ex/q8UqLx7JRbOk0tnNwJvK8xPONHjdsUwD0y5y8/b2WMRAt2UFA9uqHEPpOanji4zH9/XnssV2fJ7zY8wEIv4PJjB7fOL4w/9D0WQmNNWZPb5EPY7HOZcdtE+l73ju+FPl4xhB//IWBg/bV6btdZmuTcN+l9lvTXYBP3ufqY2PbXVWbo/yXOmsbA9gZwuDR9vCovgwochF0w2G6fZw0pGPH25/V4NPPtYMuo/h/2DiFPc7ft/uuUT3RyEj3IecJPw+8iEgK6gXVad+0pjE5UfPTdRZKXjU6szT5efaa6Dqq61/uLIJHscL2mo0tU9L8JCPVdsOZD8d+kGy36m+3Nbm6f4bLKynVZ4vttRZtT2Kc+VoRXsAe0sEjwLTacPOvrce+9iRnQyisLLRxeoAr+mQvo3VaA+8ivbg0etU55UW3aPqhOCBE2ChOxfaA6+iOXiYU4KL3mJZ6wqLrjileUidEDxwAix050J74FUse6sFAABgA4IHAADohuABAAC6IXgAAIBuCB4AAKAbggdwc/bbEgd9Q+vIsq/G10WEb7DhZggewG35q4Gaq9fuHQ6OLPvq3NVNqRPcFcEDuCnzCtwtfvsvhEeWfX2ZOrHXBzI/TyAuuy7OhtgzJvI6HtP24//hz0BwzQ+cFMEDuL0jwwHBI1YKHiY0+Ksh6+1qwcNc5HG+/yq/bYM7IngAt5deCO1CZhdCaVwUxdV7lehVNsEjVg4e8nb5I3Ll4GHKlGc/BlwBGSdF8ABu78hwQPCIlYJHEB6EYvDIBUGCB06I4AHcXnoh5IzHUY4KHvnHAmdC8ABu78hwQPCIbQge0xkMV8Y/0/bjB0uj4AecD8EDuCvzGQC7eGm7hIQjy768dcFDf2vl5+PH73D74FstAz5cijMieAAAgG4IHgAAoBuCBwAA6IbgAQAAuiF4AACAbggeAACgG4IHAADohuABAFdgr/Phr9HBVUpxXQQP4ObsFTGHxWzvi3upS67zmyFW6jL0i+udy6Pj4ggewG35n07/2P+y5ubKpdPlu7mctyd/bXY1ggcujuAB3JQ50+HCxvG/p6J/Z+S+qsEjuNR8sk2ywSO8ZHqwjSp7/LE/eT/QCcEDuD2CRy/l4DG0gzwrZINCImBkgoet49xZJfsYETZyZQMdEDyA20sHj9TnEZb/LP687ZHB5iriOi2deTDtkri/FDwyYcLcpwOPOztCm+AZCB7A7R15xsOVza+kOrW3WpqCSSZ4GPLxcj/pEEnwwHMQPIDbO+qMhyuXD5XOSsEjPmOx7IyHpgNfab9AbwQP4PbSwWMbQkdKNXiIz8G44Lc2ePhvLI37sp/pSJQFPAHBA7ir4BsU3h4BxL16P6bsKyufeRjD2sh9zXkOC+k69QEk/EbLIAx9UXvXwgtwDIIHAADohuABAAC6IXgAAIBuCB4AAKAbggcAAOiG4AEAALoheAAAgG4IHgAAoBuCBwAA6IbgAQAAuiF4AACAbggeAACgG4IHAADohuABAAC6IXgAAIBuCB4AAKAbggcAAOiG4AEAALoheAAAgG4IHgAAoBuCBwAA6IbgAQAAuiF4AACAbggeAACgm+bg8f79v8e33+n7XpV5zv/863x5+0xu8/ftp73/bnUDAMAaY/D48/g2LrCTrx+Pv3Ljz4/Hl39/Pn58itta/P6ly7V+Pd5T256UCSBrgkfpcVv5/Tor2uUwn48fXwli55AY14NubWPnjA1j3T5+OOZwLjo11/+n+l567FvrrOTIsoEFRPBo6JAmRKydBGwAuWanXxsgjgoeNnSIdnAh5Cx1S/A4HxdAurfJxoXO9Osvb3+G/nSmYF3i+v485scQ8v2P2KaC4IEbWBY8tiwqmeDhJpdP9baGLj94BREO4uiMyrwPuyDL7aOBF5SdCVXpACFfTeqJ0QUBUa43Hou9P9hX6rY0s99wIpbtYv4298vjC+pd1VlQlg+Xtq7GbVSd5+tMtqEk6y6sG9nWvp7lNlFfG48rbg/kZYKHaeuhbWV9h21l/k+PzbgfzuNE9j0p7Lclc5/2x5He7kT82JG3qTlnW52V20POAfP2buzu0R7AfhYGD9mZ0/dn2cUu3octbxgEfmKx/4eL2bQ/N7imScgOajF4gmARHWt0/y8x8IKyhXly0Lc78WTiZR8XHndh35HgOXhzPbmy5KSi6jDcd9gu9n/z+PG2YPt6nbnbokXOSO4rOE6z7/FYw75g2eNprCuM3MITtYlva983gvYJx6a+P+73UX/P9NUm8rFmv2E/OKFovrFk3W+rs3J7xOOuNv8Bz5L5jIceHMraSSCY1Lzy4DDHFTxG7L82aJcOvPTEkdiPEk8mXulx6r4lE0Km/udjTyz84jFmO31Mwfa2neTzKQSJQVxnue3d7WF9yHowf6vnxkS5E7n4CVFf0n05blt5f9zvo/6+of30vvNj7EzS412Oh211Vm6PeNxF2zOecBJj8AhEi4+wtvPaMuPHFQeH/VsGotFewSNVvhrYTnpC8fKTYvFxxTBQED6H0byvxMIv6t5sp57vaNo+WowC1TorB4/wdllH5XquC5/blrJei+mjiTaJ2lr35fRC58uJ+33Ufpm+Whf3la19o4e4vgxZT9vqrNweBA9cRzp4JAbIpLYw5YjFT95eHByVgVIbtOWB5watfHx64qhNevm6anucmTAydZ2U2p+cdBILvGiz6gRebN+WOkvsX9yu961vqx4bVnLtFrXJquDh74/7YW08NrOP0yHSWjPv9JQaO9Gcs77Oyu0Rj7vy/Ac8TzJ4mMGQG+S5xblqTfAYB1Nuf/ax03GaQWgmqHkf5fvd/9NA9ZNdYl/lBTGeTDy9/9z9Px9fFtZn2D56P+EE5J7ndPy2HdLHO92fPea2OrPHl3hO9jhlHwj6RLmeR+M+q9tBCNrNi9pa92XbXqIddb/TZbq2Ddsls9+aVB+07V7ot6fgnu9cB2HY3lZn5fYI9mXHVjgOV7YHsDMXPHwn9RKLhhOn6qqwbCsIB3J/KngYY/gQjw8Htrt9mJR+lx4b3+8HvvPr8UMdixuk8/1ONLCVcGIMjj2s13ERXTMR2EnHl6sm6VJ9jaJjF3Vm7gsnfaFcZ56uO7l//XhdXwSPvaX78NTforY2289tottqEPYL2Y+GPpBsP9XXwvGRlu4Hrl+fv93zfd/aUGfV9hjHhr/vPTU2V7QHsLfMWy0ZptMWFqWni0LLyR1yvG6C5lUNtrILXRQq8Sy0B15Fe/Cwi+TJE/KlgsdRr+AIHtgHC9250B54Fc3Bw5wSPP1idongId4KOWQSIXhgHyx050J74FUse6sFAABgA4IHAADohuABAAC6IXgAAIBuCB4AiuyHGs/8Nfq7sB+e99fguNBlA4AAwQO4ORsshsUs902oLcGjVvbdmG8HuuAwW1w3l7psABAjeAC35a8l82Gvtrlv8Ggr+27SV2VdiOCBiyN4ADdlAoULBO4y38XgsfD6Ea1l3001eKhLmmfqLRs8xDWCrGAbLpeOkyB4ALdXCQdmwVp94SqCh1QOHkNdyXq2QSERMDLBoxgQ7WNE2MiVDXRA8ABub0XwsAuZfHU9ihY+gocUf8ajdObB1F3i/lLwyIQJc58OPFzhGM9D8ABub0XwaEbwkGpvtTQFk+xbLfrxcj9xuQ7tgmcgeAC3tyIccMZjlVLwiM9YLDvjobl69/uqBR6gJ4IHcHvlcOBeLdcWuhyCh1QNHuLbQ67e1wYP/62icV/2Mx2lt3WAfggewF3ZxUicrRiFIWFV8Ggs+27KZx5cSPN15b6KPIcFd0ZE1+fcLuE3Wgbh2aeoTdaGSWAbggcAAOiG4AEAALoheAAAgG4IHgAAoBuCBwAA6IbgAQAAuiF4AACAbggeAIrCC1sBwBYED+Dm/IWpchf3Whs83IXHRgSXzAXAqBvcD8EDuC1/WW1zhcydg4f6Ybnxqpqrf2ju1XAZedwbwQO4KRMo3OJXXght8NgYGtaeNXlNmfqefoNFXDpd1FnUDtFvtgSXTSfo4aQIHsDtVV6Bq7MX6xA8pFLwMKHB/z6L3q4WPOxbW9P9wY/EASdC8ABub0XwmBbJQCqgjNtmy7+dcvCQt8sflSsHD1Nm8KNvpt0IezghggdweyuCRzNXNq+8pVLwCMKDUAweY2iJgiDBAydE8ABurxI8UnILnQoortz1oeVVHRU88o8FzoTgAdxeOXi4r8UuXdQIHXkbgsd0BmOs32l7vjmE6yB4AHdl3kKxi5cWLohrgoddJBvKvqd1wUN/a+Xn48fvcPvgWy0D3uLCGRE8AABANwQPAADQDcEDAAB0Q/AAAADdEDwAAEA3BA8AANANwQMAAHRD8AAAAN0QPAAAQDcEDwAA0A3BAwAAdEPwAAAA3RA8AABANwQPAADQDcEDAAB0Q/AAAADdEDwAAEA3BA8AANANwQMAAHRD8AAAAN0QPAAAQDcEDwAA0A3BAwAAdEPwAAAA3TQHj/fv/z2+/U7f15M5ji9vn8n7AADAuang8fft5+Off/9zvn48/or7/vf58fjy78/Hj09xW6vfv+ZyB1sCTN/g8efxTRz3P9//JLY5JwIaov476vYCws4Zvx7vqfta2McPxxzORZe2cU4xc+lR9XFk2YAwBQ+zUFU73ZqOaUOHmHzs/ysDzKDfguomiHmSdv9fZTEneGAW9uVONgYP80Loy9ufx4+v6+eLc9lhTiF44AW44GEmiKYO9zlMAksmsPT2alH0nd2/ujHUqwBXxvQKIRyoNsj4+4IJqlp2nj37E24rB6b5e7hfniXSE0hw3NF+3aSTvH+asMU2Qfuos1PieevbBVF+uI1qn6Y6G48ruh3nFC54o0ofNreb/+2LkvF+vWjq8TaP66BvT5YEiHnu8MeR3u46bD2HYyacU9Q4F3Usx6Pig52pL7OtrPvgBd/qsoF92eDhBsSHWihzAz05eLLiycmwZcjBJju5HQTzY+ykJ/anQkuwrSsrGGyFskvUfjz5eF+2P7bicbtJVJb3/l0OajdZTJO6Lcscty8vvv+bKEvV5yh5/EayjsI6rNXZOLk19wM8V9B/vLAPB33D9qvh/qkfqfvjsR31Odt3ZD9fQD7W7Dfo31fUNKfkwoG/LVsX/oXOvL2agzaVDezLBg/bQWUntIMhMVEZSzpnbuKRZZi/1QCYX+mkHi8Hr5kY9UAWjzX/l8qeHpOS204M1qge5GPMdsHzrtSbmpQS9Z+ctLxKPc3cMYa3q21X1xnOy/THRBtGfVIvRvGLDHm/3taI+lxu/DfQ+473dT1r5pTE887OI4ny5babygb2NQWP4mIkLZpM0hOGmlRKnb2yoJq/3atzbRp8GwZS8vnL44nKFou63S5xbHJ78/jg/ml/1Tp2+9KPz9dT+Lhw8lPbbp18wue1pSzsxIzDvYKHLyce21GfWzRXSHE/Tffna1k+pyTmz+z4zASPXcoG9iXeapETTGGgL+qcGxe6xMQlH1udjDYMpFSdqPKissVzrU249v7CxFp5vNlW7btSTzN3jPr24LYNdYazkoFBiNpaL0bp4OHvjxeuqM/VxkHOOD5UgDUu3i+XzylLwkEmeOxSNrCv+cOlshOG/wvJwVNgt5eTj+nc4f/Zzm4GxzyYXFnBIpk5zun+tQNpnPzmgayPJSxbP083CWTrKaxf+zzE87L35ydsGzymssd9Bdvb40k8923t4bm6WNIP8ExB3/WittaLke0roo114K2MzcQ2zVJ9sDAnXUbLnBLOIeFzztZDGDxc2XquXFs2sC8XPAzbMU1nTHTISdi52/hJydELZHKSkeRxDZOgKUtNbuq4g/JrZdeME4UvWz3v0n4tP7hn8rjtJO7vG47xh3y1aPcblieEx/WW2j7Yv1hAdHsEbd1UZ25SI3ic3dhOAbXQqbY228/9QfeTQdgv5BgY+kLyLJsaJ22LWrKcsT/Ht19MaU4ZyHnh22/dHl56Pi3PN8b6soF9zcGjRdOidBPUBV6cXYQIlxex7kUh8AztwYPTcBrBAy+O4HElBA9cR3PwMKfp6NQCwQMvjuBxJQQPXMeyt1oAAAA2IHgAAIBuCB4AAKAbggcAAOiG4AEAALoheAA35y8adb5vRIwXQLvFt8fiC4B5l79oGhAgeAC35Ra7L28fdoHfFDxqV9tdyl7x9NfjhwlFd/va+vjcuWooXhXBA7gpc6bDhQ13ZmF18LAL5Z5nTIbjGcOGPRtD8JhvN3UhL7s+XWclvo5HdB2WsZ0cLgaJ5yF4ALe3Pni4t2mOW8QIHuHtJjSM96mrSVeCR3jl6dw+gA4IHsDtrQse7kfH0ouXCyT+1fVs6T4IHuHtMuTJsFEOHuZv/VmReHugF4IHcHtrgod7zNGvmgkewe3ZuigHD/nLtFuCILAHggdwe/u/1eJu377QETyC2zcED74dg7MgeAC3tz54WHahPObVM8EjuL0SPKZwMbbJ9BkP+/9xn8UBliB4AHflF6fAqgCx69dp3SIaHdtdAsiq4DGQ33YZtnsXZzysqL33ai9gGYIHAADohuABAAC6IXgAAIBuCB4AAKAbggcAAOiG4AEAALoheAAAgG4IHgDwAtTVYuX1O4CTIXgAN+cXrCOuPFrjfkOEK2o6/vdvpOUX+ZKXSgfOiOAB3Ja/zPbHtkumG4uvXDpepn3Yt/q59lszdbK9LggeODuCB3BTZoFyYaP/b7W8fx8XWBtYCB5OPXiot1My22aDR3DJ9PBH43TZXE4dxyF4ALe3Pni4xWpDcCB4CJXgMdTVNxEWbN0nfrslHTwqZQe/D5MrG9gDwQO4vXXBw30+Y+MrY4KH4NpBnpWo/yhcXP/54JH/aXzTlrr9K0EF2IDgAdzemuDhF0mCx35qi33qV3tbg8fA1nXqcZlfA6ZdcBCCB3B7a4KHYxe5LQsUwUMoBw97hkmeAVl0xkNz7eYf64LHmvYH1iB4ALe3PnhYKz5cOiF4CA3BYwoU/izFuuCR/ExHoizgCAQP4K6Cbzl46wNE+8LlFrpw33cPIJW3WtRbJUM72a8i67MWuj4HPoBEbR3vJ2oTPlyKgxA8AABANwQPAADQDcEDAAB0Q/AAAADdEDwAAEA3BA8AANANwQMAAHRD8ACAF6Cuw1G7gBjwRAQP4MbcD7094YJR4QWtWCgH7gqyql5WXE206cqlwBMRPIC7Mov/tECNV75csGCZBS73a6fLuH3vU9aVVa5c2ojggbMjeACw7IK16KzH+Ap9h0XOnHkheNSDh3o7JbNtNngEZ5nC+tZl87stOA7BA4C1PHgY45mSTW/T7PNK//oq9fD58fgmwkKuvdLBo1K2DSVz2FjXF4A2BA8A0w+Qrf2FWvdZkWWvktUrbN4aGIxnkKTS4p/5Yb588MifVTLtp9ueMIjjEDyA2ysvSi38h1TXlsErbKO22Kd+gbY1eAzUr9vKx2V+2ZbggYMQPIBbG19lrz7jsMdbLYPMq/d7KQcPG+5kPS8646G5s03+sa4N157tApYieAC3tVPoWP34mV1Udyjn2hqCx1RH/izFuuCR/EzH7YMfeiF4ADflFhuzeGmtr3zN4ze9tSL3e/vQYVTealFvlQzt9CbPeGTeLvH1Gl43JbGfqE34cCkOQvAAAADdEDwAAEA3BA8AANANwQMAAHRD8AAAAN0QPAAAQDcEDwAA0A3BAwAAdEPwAG7M/8bK6S4YFV4s6+Uv5525ANhgy2/oAGdE8ADuylzNMrwE94IriG65cmmZORZxZU171c3CFT1fTXA5c+DVEDwAWPaS2YvOemz9rZdWbj+3+RGzXPAwt5v2kWeDguAo68i2p2wbW+74uDsFOZwOwQOAtTx4GOOZkkPfpiF4zLeb0DDeZwOIDxCV4KG2HeT2AXRA8AAwfaZi7eLuPisyL2R20ZteXc/WlB/9HPyrKwYPeaZCho1y8DB/67fF4u2BXggewO25MwpbPq/hP6S692c+XIC52SvzUvDIBrBy8FAfIhYIHngGggdwa1s/p+EWvHBB3OOMhyvjhp9FOCh48O0YnAXBA7itnULH6sfn3TZ0GBuCxxQubBmibez/N61PnA7BA7iprWclzOOPeRU9BqLQXT7nsSp4DOS3XYbt3sUZD8uHkcnN3sLCaRA8AABANwQPAADQDcEDAAB0Q/AAAADdEDwAAEA3BA8AANDJ/x7/ByExJWjlq7FpAAAAAElFTkSuQmCC)"
      ]
    },
    {
      "cell_type": "markdown",
      "metadata": {
        "id": "hXe267t6WHI6"
      },
      "source": [
        "**4. What are the values of the following expressions?**\r\n",
        "\r\n",
        "**Solution:-**  \r\n",
        "                \r\n",
        "                1) (5 > 4) and (3 == 5) ---> False\r\n",
        "\r\n",
        "                2) not (5 > 4) ---> False\r\n",
        "\r\n",
        "                3) (5 > 4) or (3 == 5) ---> True\r\n",
        "                \r\n",
        "                4) not ((5 > 4) or (3 == 5)) ---> False\r\n",
        "                \r\n",
        "                5) (True and True) and (True == False) ---> False\r\n",
        "                \r\n",
        "                6) (not False) or (not True) ---> True\r\n"
      ]
    },
    {
      "cell_type": "code",
      "metadata": {
        "colab": {
          "base_uri": "https://localhost:8080/"
        },
        "id": "p7j5QC5cTdS6",
        "outputId": "f78c1c64-a1d7-4a3f-b452-186cf1d61f87"
      },
      "source": [
        "print((5 > 4) and (3 == 5))\r\n",
        "print(not (5 > 4))\r\n",
        "print((5 > 4) or (3 == 5))\r\n",
        "print(not ((5 > 4) or (3 == 5)))\r\n",
        "print((True and True) and (True == False))\r\n",
        "print((not False) or (not True))\r\n"
      ],
      "execution_count": null,
      "outputs": [
        {
          "output_type": "stream",
          "text": [
            "False\n",
            "False\n",
            "True\n",
            "False\n",
            "False\n",
            "True\n"
          ],
          "name": "stdout"
        }
      ]
    },
    {
      "cell_type": "markdown",
      "metadata": {
        "id": "yAgdRNflXY-y"
      },
      "source": [
        "**5. What are the six different types of reference operators?**\r\n",
        "\r\n",
        "**Solution:-**\r\n",
        "\r\n",
        "1) Assignment Operators: **'+=',  '-=',  '*=',  '/=',  '%=',  '**=',  '//='**  \r\n",
        "\r\n",
        "2) Arithmetic Operators: **'+',  '-',  '*',  '/',  '%',  '//'**\r\n",
        "\r\n",
        "3) Logical Operators: **'AND',  'OR',  'NOT'**\r\n",
        "\r\n",
        "4) Comparison Operators: **'==',  '!+',  '>',  '>=',  '<',  '<='**\r\n",
        "\r\n",
        "5) Bitwise Operators: **'&',  '|',  '^',  '~',  '<<',  '>>'**"
      ]
    },
    {
      "cell_type": "markdown",
      "metadata": {
        "id": "7iLop3g_bSly"
      },
      "source": [
        "**6. How do you tell the difference between the equal to and assignment operators?** \r\n",
        "\r\n",
        "**Solution:-**\r\n",
        "\r\n",
        "1) Assigment Opearator (=):- The = is a simple assignment operator. It assigns values from right side operands to the left side operand.\r\n",
        "\r\n",
        "2) Equal To Operator (==):- The == checks if the values of two operands are equal or not. If yes, the condition becomes true and it returns a non zero value.\r\n",
        "\r\n",
        "Example:- a) a=10 #The value 10 will be stored in the integer variable a.\r\n",
        "\r\n",
        "b) if(a==10): #This will check if the value stored in variable a is equal to 10. If yes it will return a boolean value."
      ]
    },
    {
      "cell_type": "code",
      "metadata": {
        "id": "3I32V1ReWhQ2",
        "colab": {
          "base_uri": "https://localhost:8080/"
        },
        "outputId": "626af514-723a-4155-971e-37bfa5ffc8bf"
      },
      "source": [
        "a=10\r\n",
        "a"
      ],
      "execution_count": 1,
      "outputs": [
        {
          "output_type": "execute_result",
          "data": {
            "text/plain": [
              "10"
            ]
          },
          "metadata": {
            "tags": []
          },
          "execution_count": 1
        }
      ]
    },
    {
      "cell_type": "code",
      "metadata": {
        "colab": {
          "base_uri": "https://localhost:8080/"
        },
        "id": "wyoPi5wMY0Oe",
        "outputId": "8af16fa2-df68-40a6-dba6-3033ea0d126c"
      },
      "source": [
        "(a==10)"
      ],
      "execution_count": 2,
      "outputs": [
        {
          "output_type": "execute_result",
          "data": {
            "text/plain": [
              "True"
            ]
          },
          "metadata": {
            "tags": []
          },
          "execution_count": 2
        }
      ]
    },
    {
      "cell_type": "markdown",
      "metadata": {
        "id": "gScHU4MCmYab"
      },
      "source": [
        "**7. Describe a condition and when you would use one.**\r\n",
        "\r\n",
        "\r\n",
        "**Solution:-** A condition is an expression used in a flow control statement that evaluates to a Boolean value."
      ]
    },
    {
      "cell_type": "markdown",
      "metadata": {
        "id": "PjhorXF1msAr"
      },
      "source": [
        "**8. Recognize the following three blocks in this code:**\r\n",
        "\r\n",
        "\r\n",
        "spam = 0\r\n",
        "\r\n",
        "if spam == 10:\r\n",
        "\r\n",
        "    print('eggs')\r\n",
        "    if spam > 5:\r\n",
        "        print('bacon')\r\n",
        "    else:\r\n",
        "        print('ham')\r\n",
        "    print('spam')\r\n",
        "print('spam')\r\n",
        "\r\n",
        "**Solution:-** The three blocks are everything inside the if statement and the lines print('bacon') and print('ham').\r\n",
        "\r\n",
        "print('eggs')\r\n",
        "\r\n",
        "if spam > 5:\r\n",
        "\r\n",
        "print('bacon')\r\n",
        "\r\n",
        "else:\r\n",
        "\r\n",
        "print('ham')\r\n",
        "\r\n",
        "print('spam')"
      ]
    },
    {
      "cell_type": "markdown",
      "metadata": {
        "id": "yVhX2v_ucxoj"
      },
      "source": [
        "**9. Create a programme that prints. If 1 is stored in spam, prints Hello; if 2 is stored in spam, prints Howdy; and if 3 is stored in spam, prints Salutations! if there's something else in spam.**\r\n",
        "\r\n",
        "**Solution:-**"
      ]
    },
    {
      "cell_type": "code",
      "metadata": {
        "colab": {
          "base_uri": "https://localhost:8080/"
        },
        "id": "f5KV-bAtY3Oq",
        "outputId": "ac720a19-cf56-47de-811f-2b4a153d6029"
      },
      "source": [
        "spam=int(input('Enter A Number: '))\r\n",
        "if spam==1:\r\n",
        "    print('Hello')\r\n",
        "elif spam==2:\r\n",
        "    print('Howdy')\r\n",
        "elif spam==3:\r\n",
        "    print('Salutations!')\r\n",
        "else:\r\n",
        "    print('There Is Something Else In Spam')"
      ],
      "execution_count": 3,
      "outputs": [
        {
          "output_type": "stream",
          "text": [
            "Enter A Number: 5\n",
            "There Is Something Else In Spam\n"
          ],
          "name": "stdout"
        }
      ]
    },
    {
      "cell_type": "markdown",
      "metadata": {
        "id": "v88ixHjHettE"
      },
      "source": [
        "**10.If your programme is stuck in an endless loop, what keys can you press?**\r\n",
        "\r\n",
        "**Solution:-** An infinite loop occurs when a program keeps executing within one loop, never leaving it. To exit out of infinite loops on the command line, press CTRL + C or you can interut kernel by CLICKING ON RUNTIME, if you are using GOOGLE COLAB notebook andd if you are using CONDA JUPYTER notebook then press INTERUPT KERNEL button which is SQUARE in shape."
      ]
    },
    {
      "cell_type": "markdown",
      "metadata": {
        "id": "tidInRwQf4qT"
      },
      "source": [
        "**11. How can you tell the difference between break and continue?**\r\n",
        "\r\n",
        "**Solution:-** Break statements exist in Python to exit or “break” a for or while conditional loop. The continue statement is used to skip code within a loop for certain iterations of the loop. After the code is skipped, the loop continues where it left off.\r\n"
      ]
    },
    {
      "cell_type": "markdown",
      "metadata": {
        "id": "27sNcMdcgqfK"
      },
      "source": [
        "**12. In a for loop, what is the difference between range(10), range(0, 10), and range(0, 10, 1)?**\r\n",
        "\r\n",
        "**Solution:-** 1)range(10)--> Here we are just provide the ending number, so that the range can reach upto 10 element.\r\n",
        "\r\n",
        "2)range(0,10)-->Here we are just provide the starting & ending number, so that the range can reach upto 10 element, from 0 to 9.\r\n",
        "\r\n",
        "3)range(0,10,1)-->Here we are provide the starting number, ending number and step size. So that the range can reach upto 10 element from 0 to 9 having gap of 1 digit."
      ]
    },
    {
      "cell_type": "code",
      "metadata": {
        "colab": {
          "base_uri": "https://localhost:8080/"
        },
        "id": "oX8cK4TmeVE1",
        "outputId": "4b7c0801-bdd5-4af0-e80a-f1aef727354b"
      },
      "source": [
        "for i in range(10):\r\n",
        "  print(i)"
      ],
      "execution_count": 4,
      "outputs": [
        {
          "output_type": "stream",
          "text": [
            "0\n",
            "1\n",
            "2\n",
            "3\n",
            "4\n",
            "5\n",
            "6\n",
            "7\n",
            "8\n",
            "9\n"
          ],
          "name": "stdout"
        }
      ]
    },
    {
      "cell_type": "code",
      "metadata": {
        "colab": {
          "base_uri": "https://localhost:8080/"
        },
        "id": "moYEUEqGhyfl",
        "outputId": "4396dc5a-87e8-4bc3-f5ad-4e0f35f882dd"
      },
      "source": [
        "for i in range(0,10):\r\n",
        "  print(i)"
      ],
      "execution_count": 5,
      "outputs": [
        {
          "output_type": "stream",
          "text": [
            "0\n",
            "1\n",
            "2\n",
            "3\n",
            "4\n",
            "5\n",
            "6\n",
            "7\n",
            "8\n",
            "9\n"
          ],
          "name": "stdout"
        }
      ]
    },
    {
      "cell_type": "code",
      "metadata": {
        "colab": {
          "base_uri": "https://localhost:8080/"
        },
        "id": "MDKwt5DAh1Px",
        "outputId": "101e7240-9819-41ef-f432-5bddba1e9cb9"
      },
      "source": [
        "for i in range(0,10,1):\r\n",
        "  print(i)"
      ],
      "execution_count": 6,
      "outputs": [
        {
          "output_type": "stream",
          "text": [
            "0\n",
            "1\n",
            "2\n",
            "3\n",
            "4\n",
            "5\n",
            "6\n",
            "7\n",
            "8\n",
            "9\n"
          ],
          "name": "stdout"
        }
      ]
    },
    {
      "cell_type": "markdown",
      "metadata": {
        "id": "1GYzpRjGiCEy"
      },
      "source": [
        "**13. Using a for loop, write a short programme that prints the numbers 1 to 10 Then, using a while loop, create an identical programme that prints the numbers 1 to 10.**\r\n",
        "\r\n",
        "**Solution:-**"
      ]
    },
    {
      "cell_type": "code",
      "metadata": {
        "colab": {
          "base_uri": "https://localhost:8080/"
        },
        "id": "McHJ5Pcjh3zw",
        "outputId": "4f6fc25e-f9a0-4c71-9ec3-6ba58d161b28"
      },
      "source": [
        "for i in range(1,11):\r\n",
        "  print(i)"
      ],
      "execution_count": 7,
      "outputs": [
        {
          "output_type": "stream",
          "text": [
            "1\n",
            "2\n",
            "3\n",
            "4\n",
            "5\n",
            "6\n",
            "7\n",
            "8\n",
            "9\n",
            "10\n"
          ],
          "name": "stdout"
        }
      ]
    },
    {
      "cell_type": "code",
      "metadata": {
        "colab": {
          "base_uri": "https://localhost:8080/"
        },
        "id": "K-QTLawxiPpp",
        "outputId": "0ef76b5b-a815-4a91-a861-228cc9341408"
      },
      "source": [
        "i=1\r\n",
        "while (i<=10):\r\n",
        "    print(i)\r\n",
        "    i=i+1"
      ],
      "execution_count": 8,
      "outputs": [
        {
          "output_type": "stream",
          "text": [
            "1\n",
            "2\n",
            "3\n",
            "4\n",
            "5\n",
            "6\n",
            "7\n",
            "8\n",
            "9\n",
            "10\n"
          ],
          "name": "stdout"
        }
      ]
    },
    {
      "cell_type": "markdown",
      "metadata": {
        "id": "YOCbBVMlkqhF"
      },
      "source": [
        "**14. If you had a bacon() function within a spam module, what would you call it after importing spam?**\r\n",
        "\r\n",
        "**Solution:-** This function can be called with spam.bacon()."
      ]
    },
    {
      "cell_type": "code",
      "metadata": {
        "id": "_Kk_Wf9kkFoN"
      },
      "source": [
        ""
      ],
      "execution_count": null,
      "outputs": []
    }
  ]
}