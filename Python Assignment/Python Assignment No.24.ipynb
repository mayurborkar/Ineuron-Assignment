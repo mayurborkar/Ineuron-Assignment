{
 "cells": [
  {
   "cell_type": "markdown",
   "metadata": {},
   "source": [
    "**1. What is the relationship between def statements and lambda expressions ?**"
   ]
  },
  {
   "cell_type": "markdown",
   "metadata": {},
   "source": [
    "**Solution:-**\n",
    "\n",
    "We used the **def** keyword to define this function. We named this function square. This function has one parameter, num, and it returns that number squared using the ** operator.\n",
    "\n",
    "**Lambda expressions** are used to create anonymous functions, or functions without a name. They are useful when we need to create a function that will only need to be used once (a throw-away function) and can be written in one line. Lambda functions can have any number of parameters but can only have one expression."
   ]
  },
  {
   "cell_type": "code",
   "execution_count": 1,
   "metadata": {},
   "outputs": [],
   "source": [
    "def square(num):\n",
    "       return num**2"
   ]
  },
  {
   "cell_type": "code",
   "execution_count": 2,
   "metadata": {},
   "outputs": [
    {
     "data": {
      "text/plain": [
       "2500"
      ]
     },
     "execution_count": 2,
     "metadata": {},
     "output_type": "execute_result"
    }
   ],
   "source": [
    "square(50)"
   ]
  },
  {
   "cell_type": "code",
   "execution_count": 4,
   "metadata": {},
   "outputs": [
    {
     "data": {
      "text/plain": [
       "2500"
      ]
     },
     "execution_count": 4,
     "metadata": {},
     "output_type": "execute_result"
    }
   ],
   "source": [
    "square=lambda num: num**2\n",
    "square(50)"
   ]
  },
  {
   "cell_type": "markdown",
   "metadata": {},
   "source": [
    "**2. What is the benefit of lambda?**"
   ]
  },
  {
   "cell_type": "markdown",
   "metadata": {},
   "source": [
    "**Solution:-** \n",
    "\n",
    "The lambda keyword in Python provides a shortcut for declaring small anonymous functions. \n",
    "\n",
    "Lambda functions behave just like regular functions declared with the def keyword. \n",
    "\n",
    "They can be used whenever function objects are required."
   ]
  },
  {
   "cell_type": "markdown",
   "metadata": {},
   "source": [
    "**3. Compare and contrast map, filter, and reduce.**"
   ]
  },
  {
   "cell_type": "markdown",
   "metadata": {},
   "source": [
    "**Solution:-**\n",
    "\n",
    "The **map()** function iterates through all items in the given iterable and executes the function we passed as an argument on each of them.The syntax is:\n",
    "\n",
    "**map(function, iterable(s))**\n",
    "\n",
    "As the name suggests, **filter()** forms a new list that contains only elements that satisfy a certain condition, i.e. the function we passed returns True.The syntax is:\n",
    "\n",
    "**filter(function, iterable(s))**\n",
    "\n",
    "In Python 3 **reduce()** isn't a built-in function anymore, and it can be found in the functools module.The syntax is:\n",
    "\n",
    "**reduce(function, sequence[, initial])**"
   ]
  },
  {
   "cell_type": "code",
   "execution_count": 5,
   "metadata": {},
   "outputs": [
    {
     "name": "stdout",
     "output_type": "stream",
     "text": [
      "[True, False, False, True, False]\n"
     ]
    }
   ],
   "source": [
    "def starts_with_A(s):\n",
    "    return s[0] == \"A\"\n",
    "\n",
    "fruit = [\"Apple\", \"Banana\", \"Pear\", \"Apricot\", \"Orange\"]\n",
    "map_object = map(starts_with_A, fruit)\n",
    "\n",
    "print(list(map_object))"
   ]
  },
  {
   "cell_type": "code",
   "execution_count": 6,
   "metadata": {},
   "outputs": [
    {
     "name": "stdout",
     "output_type": "stream",
     "text": [
      "['Apple', 'Apricot']\n"
     ]
    }
   ],
   "source": [
    "def starts_with_A(s):\n",
    "    return s[0] == \"A\"\n",
    "\n",
    "fruit = [\"Apple\", \"Banana\", \"Pear\", \"Apricot\", \"Orange\"]\n",
    "filter_object = filter(starts_with_A, fruit)\n",
    "\n",
    "print(list(filter_object))"
   ]
  },
  {
   "cell_type": "code",
   "execution_count": 7,
   "metadata": {},
   "outputs": [
    {
     "name": "stdout",
     "output_type": "stream",
     "text": [
      "16\n"
     ]
    }
   ],
   "source": [
    "from functools import reduce\n",
    "\n",
    "def add(x, y):\n",
    "    return x + y\n",
    "\n",
    "list = [2, 4, 7, 3]\n",
    "print(reduce(add, list))"
   ]
  },
  {
   "cell_type": "markdown",
   "metadata": {},
   "source": [
    "**4. What are function annotations, and how are they used?**"
   ]
  },
  {
   "cell_type": "markdown",
   "metadata": {},
   "source": [
    "**Solution:-** The primary purpose was to have a standard way to link metadata to function parameters and return value.\n",
    "\n",
    "Function annotations are completely optional both for parameters and return value.\n",
    "\n",
    "Function annotations provide a way of associating various parts of a function with arbitrary python expressions at compile time."
   ]
  },
  {
   "cell_type": "markdown",
   "metadata": {},
   "source": [
    "**5. What are recursive functions, and how are they used?**"
   ]
  },
  {
   "cell_type": "markdown",
   "metadata": {},
   "source": [
    "**Solution:-** A recursive function is a function that calls itself during its execution. The process may repeat several times, outputting the result and the end of each iteration. "
   ]
  },
  {
   "cell_type": "code",
   "execution_count": 8,
   "metadata": {},
   "outputs": [],
   "source": [
    "def tower(n, sourcePole, destinationPole, auxiliaryPole):\n",
    " \n",
    "    if(0 == n):\n",
    "        return\n",
    "     \n",
    "    tower(n-1, sourcePole, auxiliaryPole, destinationPole)\n",
    "        \n",
    "    print(\"Move the disk\",sourcePole,\"from\",sourcePole,\"to\",destinationPole)\n",
    "         \n",
    "    tower(n-1, auxiliaryPole, destinationPole,sourcePole)\n",
    "  "
   ]
  },
  {
   "cell_type": "code",
   "execution_count": 9,
   "metadata": {},
   "outputs": [
    {
     "name": "stdout",
     "output_type": "stream",
     "text": [
      "Move the disk S from S to D\n",
      "Move the disk S from S to A\n",
      "Move the disk D from D to A\n",
      "Move the disk S from S to D\n",
      "Move the disk A from A to S\n",
      "Move the disk A from A to D\n",
      "Move the disk S from S to D\n"
     ]
    }
   ],
   "source": [
    "tower(3, 'S', 'D', 'A')"
   ]
  },
  {
   "cell_type": "markdown",
   "metadata": {},
   "source": [
    "**6. What are some general design guidelines for coding functions?**"
   ]
  },
  {
   "cell_type": "markdown",
   "metadata": {},
   "source": [
    "**Solution:-** \n",
    "\n",
    "A coding standard gives a uniform appearance to the codes written by different engineers.\n",
    "\n",
    "It improves readability, and maintainability of the code and it reduces complexity also.\n",
    "\n",
    "It helps in code reuse and helps to detect error easily.\n",
    "\n",
    "It promotes sound programming practices and increases efficiency of the programmers."
   ]
  },
  {
   "cell_type": "markdown",
   "metadata": {},
   "source": [
    "**7. Name three or more ways that functions can communicate results to a caller.**"
   ]
  },
  {
   "cell_type": "markdown",
   "metadata": {},
   "source": [
    "**Solution:-**\n",
    "\n",
    "Once we have defined a function, we can call it from another function.\n",
    "\n",
    "We can call function through the Python prompt. \n",
    "\n",
    "To call a function we simply type the function name with appropriate parameters."
   ]
  },
  {
   "cell_type": "code",
   "execution_count": null,
   "metadata": {},
   "outputs": [],
   "source": []
  }
 ],
 "metadata": {
  "kernelspec": {
   "display_name": "Python 3",
   "language": "python",
   "name": "python3"
  },
  "language_info": {
   "codemirror_mode": {
    "name": "ipython",
    "version": 3
   },
   "file_extension": ".py",
   "mimetype": "text/x-python",
   "name": "python",
   "nbconvert_exporter": "python",
   "pygments_lexer": "ipython3",
   "version": "3.8.5"
  }
 },
 "nbformat": 4,
 "nbformat_minor": 4
}
