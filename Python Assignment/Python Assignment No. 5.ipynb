{
  "nbformat": 4,
  "nbformat_minor": 0,
  "metadata": {
    "colab": {
      "name": "Python Assignment No. 5.ipynb",
      "provenance": [],
      "collapsed_sections": []
    },
    "kernelspec": {
      "name": "python3",
      "display_name": "Python 3"
    }
  },
  "cells": [
    {
      "cell_type": "markdown",
      "metadata": {
        "id": "3pPWx2DVmPIO"
      },
      "source": [
        "**1. What does an empty dictionary's code look like?**\r\n",
        "\r\n",
        "**Solution:-** { }"
      ]
    },
    {
      "cell_type": "markdown",
      "metadata": {
        "id": "iwAEHsxKuR4N"
      },
      "source": [
        "**2. What is the value of a dictionary value with the key 'foo' and the value 42?**\r\n",
        "\r\n",
        "**Solutionn:-** {'foo' : 42}"
      ]
    },
    {
      "cell_type": "markdown",
      "metadata": {
        "id": "_Wg_xW-uwzHW"
      },
      "source": [
        "**3. What is the most significant distinction between a dictionary and a list?**\r\n",
        "\r\n",
        "**Solution:-** The items stored in a dictionary are unordered, while the items in a list are ordered. In dictionary duplicate not allowed but in list duplicate are allowed."
      ]
    },
    {
      "cell_type": "markdown",
      "metadata": {
        "id": "U3bkuYx0xhhs"
      },
      "source": [
        "**4. What happens if spam['foo'] is 'bar': 100 and you try to access it?**\r\n",
        "\r\n",
        "**Solution:-** You get a KeyError error."
      ]
    },
    {
      "cell_type": "markdown",
      "metadata": {
        "id": "1Gm734180m_e"
      },
      "source": [
        "**5. What is the difference between the terms 'cat' in spam and 'cat' in spam.keys() if a dictionary is contained in spam?**\r\n",
        "\r\n",
        "**Solution:-** There is no difference in that, but the in operator checks whether a value exists as a key in the dictionary."
      ]
    },
    {
      "cell_type": "markdown",
      "metadata": {
        "id": "ePJKBMtr93Ku"
      },
      "source": [
        "**6. What is the difference between the terms 'cat' in spam and 'cat' in spam.values() when a dictionary is contained in spam?**\r\n",
        "\r\n",
        "**Solution:-** There is no difference. The in operator checks whether a value exists as a key in the dictionary"
      ]
    },
    {
      "cell_type": "markdown",
      "metadata": {
        "id": "rB3f0r_X_6_u"
      },
      "source": [
        "**6. What is the difference between the terms 'cat' in spam and 'cat' in spam.values() when a dictionary is contained in spam?**\r\n",
        "\r\n",
        "**Solution:-** 'cat' in spam checks whether there is a 'cat' key in the dictionary, while 'cat' in spam.values() checks whether there is a value 'cat' for one of the keys in spam."
      ]
    },
    {
      "cell_type": "markdown",
      "metadata": {
        "id": "MIw5rUnKBRAk"
      },
      "source": [
        "**7. What is the quickest way to type the following code?**\r\n",
        "\r\n",
        "**if the word 'colour' isn't in spam:**\r\n",
        "\r\n",
        "**'black' for spam['color']**\r\n",
        "\r\n",
        "**Solution:-** spam.setdefault('color', 'black')\r\n",
        "\r\n"
      ]
    },
    {
      "cell_type": "markdown",
      "metadata": {
        "id": "cbyjfKzWB-TN"
      },
      "source": [
        "**8. How do you \"pretty print\" dictionary values using which module and function?**\r\n",
        "\r\n",
        "**Solution:-** pprint.pprint()"
      ]
    },
    {
      "cell_type": "code",
      "metadata": {
        "id": "PZcLCWWU0Rl9"
      },
      "source": [
        ""
      ],
      "execution_count": null,
      "outputs": []
    }
  ]
}