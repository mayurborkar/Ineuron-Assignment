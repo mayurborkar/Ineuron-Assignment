{
 "cells": [
  {
   "cell_type": "markdown",
   "metadata": {},
   "source": [
    "**1. What are the differences between operators and values in the following?**\n",
    "\n",
    "**Solution:-** a) Operator:-Operator is noething but a sign from that we can perform different mathematical opeartion.\n",
    "\n",
    "          b) Value:- Values are noething but providing some sort of information to an assign variable.\n",
    "           \n",
    "**Example:-** a) * :- It is operator, use for multiplication purpose.\n",
    "\n",
    "          b) 'hello' :- It is sting data type value assign to variable.\n",
    "          \n",
    "          c) -87.8 :- It is float data type value assign to variable.\n",
    "          \n",
    "          d) - :- It is operator, use for subtraction purpose.\n",
    "          \n",
    "          e) / :- It is operator, use for division purpose.\n",
    "          \n",
    "          f) + :- It is operator, use for addition purpose.\n",
    "          \n",
    "          g) 6 :- It is integer data type value assign to variable.\n"
   ]
  },
  {
   "cell_type": "markdown",
   "metadata": {},
   "source": [
    "**2. What is the difference between string and variable?**\n",
    "\n",
    "**Solution:-** a) Variable:- It is noething but an information store, where we can store information.\n",
    "           b) String:- It is information that are stored in an information.\n",
    "           \n",
    "**Example:-** a) spam :- It is variable.\n",
    "          b)'spam':- It is string data type information stored in variable.\n",
    "           "
   ]
  },
  {
   "cell_type": "markdown",
   "metadata": {},
   "source": [
    "**3. Describe three different data forms.**\n",
    "\n",
    "**Solution:-** There are 3 type of data forms a) Qualitative and Quantitative Data.\n",
    "                                          b) Continuous and Discrete Data. \n",
    "                                          c) Primary and Secondary Data.\n",
    "                                          \n",
    "**a) Qualitative and Quantitative Data :-** In Qulaitative data we are looking for an quality of data and in Quantitative data  we                                           are looking for an quantity.\n",
    "\n",
    "**Example:-** 1)Arrange the schools in our area on the basis of their eduaction quaility i.e. Qualitative Data\n",
    "\n",
    "          2)Arrange the schools in our area on the basis of student's quantity i.e. Quantitative Data\n",
    "          \n",
    "**b) Continuous and Discrete Data :-**Continuous data involves complex numbers that are measured across a specific time interval                                     and Discrete data involves round, concrete numbers that are determined by counting.\n",
    "\n",
    "**Example:-** 1) The weight of newborn babies i.e. Continuous Data\n",
    "\n",
    "          2) The number of items you buy at the grocery store each week i.e. Discrete Data\n",
    "          \n",
    "**c) Primary and Secondary Data :-** The data which can be collected by 1st hand or by yourself that is called primary data and the                                  data which can be collected from different sources such as internet, magzine, books, article                                    etc. is called Secondary data.\n",
    "\n",
    "**Example :-** 1) The data collected by taking interview is Primary data\n",
    "\n",
    "           2) The data collected from internet and other source is Secondary data"
   ]
  },
  {
   "cell_type": "markdown",
   "metadata": {},
   "source": [
    "**4. What makes up an expression? What are the functions of all expressions?**\n",
    "\n",
    "**Solution:-** An expression is a combination of operators, constants and variables. An expression may consist of one or more \n",
    "           operands, and zero or more operators to produce a value.\n",
    "        \n",
    "**Function:-** An expression represents a function whose inputs are the values assigned to the free variables and whose output \n",
    "           is the resulting value of the expression."
   ]
  },
  {
   "cell_type": "markdown",
   "metadata": {},
   "source": [
    "**5. In this chapter, assignment statements such as spam = 10 were added. What's the difference between a declaration \n",
    "   and an expression?**\n",
    "    \n",
    "**Solution:-** Declarations load before any code is executed while Expressions load only when the interpreter reaches that line of \n",
    "           code.\n",
    "        \n",
    "**Example:-** spam=10, In these case **spam** is variable and 10 is the value assign to variable, also = sign is noething but an \n",
    "          assignment operator. So spam=10 that means we are only declare the value after that we perform some opeartion such as \n",
    "        addition i.e. 10+10 is an expression"
   ]
  },
  {
   "cell_type": "markdown",
   "metadata": {},
   "source": [
    "**6. After running the following code, what does the variable bacon contain?\n",
    "   bacon = 22\n",
    "   bacon + 1**\n",
    "\n",
    "**Solution:-** After runnig following code the variable bacon contain 22 value beacz becon = 22 we decalre that value and below                that we perform expression to increase value by one, but not store that value in an variable."
   ]
  },
  {
   "cell_type": "code",
   "execution_count": 7,
   "metadata": {},
   "outputs": [
    {
     "data": {
      "text/plain": [
       "23"
      ]
     },
     "execution_count": 7,
     "metadata": {},
     "output_type": "execute_result"
    }
   ],
   "source": [
    "bacon = 22\n",
    "bacon + 1"
   ]
  },
  {
   "cell_type": "code",
   "execution_count": 8,
   "metadata": {},
   "outputs": [
    {
     "data": {
      "text/plain": [
       "22"
      ]
     },
     "execution_count": 8,
     "metadata": {},
     "output_type": "execute_result"
    }
   ],
   "source": [
    "bacon"
   ]
  },
  {
   "cell_type": "markdown",
   "metadata": {},
   "source": [
    "**7. What should the values of the following two terms be?**\n",
    "\n",
    "'spam' + 'spamspam' & 'spam' * 3\n",
    " \n",
    "**Solution:-** In 1st case just adding two string value we get output of addtion of two string.\n",
    "           \n",
    "           In 2nd case we multiply string with 3 so we get repitative term 3 times."
   ]
  },
  {
   "cell_type": "code",
   "execution_count": 9,
   "metadata": {},
   "outputs": [
    {
     "data": {
      "text/plain": [
       "'spamspamspam'"
      ]
     },
     "execution_count": 9,
     "metadata": {},
     "output_type": "execute_result"
    }
   ],
   "source": [
    "'spam' + 'spamspam'"
   ]
  },
  {
   "cell_type": "code",
   "execution_count": 10,
   "metadata": {},
   "outputs": [
    {
     "data": {
      "text/plain": [
       "'spamspamspam'"
      ]
     },
     "execution_count": 10,
     "metadata": {},
     "output_type": "execute_result"
    }
   ],
   "source": [
    "'spam' * 3"
   ]
  },
  {
   "cell_type": "markdown",
   "metadata": {},
   "source": [
    "**8. Why is it that eggs is a true variable name but 100 is not?**\n",
    "\n",
    "**Solution:-** Beacz their are some rule of in python while declaring vaariable\n",
    "    \n",
    "          1)A variable name must start with a letter or the underscore character\n",
    "          \n",
    "          2) A variable name cannot start with a number\n",
    "          \n",
    "          3) A variable name can only contain alpha-numeric characters and underscores (A-z, 0-9, and _ )\n",
    "          \n",
    "          4) Variable names are case-sensitive (age, Age and AGE are three different variables)"
   ]
  },
  {
   "cell_type": "code",
   "execution_count": 13,
   "metadata": {},
   "outputs": [],
   "source": [
    "eggs = 'Mayur'"
   ]
  },
  {
   "cell_type": "code",
   "execution_count": 14,
   "metadata": {},
   "outputs": [
    {
     "ename": "SyntaxError",
     "evalue": "cannot assign to literal (<ipython-input-14-38ae62a95d58>, line 1)",
     "output_type": "error",
     "traceback": [
      "\u001b[1;36m  File \u001b[1;32m\"<ipython-input-14-38ae62a95d58>\"\u001b[1;36m, line \u001b[1;32m1\u001b[0m\n\u001b[1;33m    100 = 'Mayur'\u001b[0m\n\u001b[1;37m    ^\u001b[0m\n\u001b[1;31mSyntaxError\u001b[0m\u001b[1;31m:\u001b[0m cannot assign to literal\n"
     ]
    }
   ],
   "source": [
    "100 = 'Mayur'"
   ]
  },
  {
   "cell_type": "markdown",
   "metadata": {},
   "source": [
    "**9. Which of the following three functions may be used to convert a value to an integer, a floating-point number, or a string?**\n",
    "\n",
    "**Solution:-** 1) Declare the data type at starting such as int(), float() and str()\n",
    "\n",
    "         2) Change the variable data type with help of Variable Name.astype('Write the format to you want to convert') "
   ]
  },
  {
   "cell_type": "markdown",
   "metadata": {},
   "source": [
    "**10. What is the error caused by this expression? What would you do about it?**\n",
    "\n",
    "'I have eaten ' + 99 + ' burritos.'\n",
    "\n",
    "**Solution:-** We have to convert 99 into string beacuse concatination operation happen only when in that expression all the \n",
    "           data type are same"
   ]
  },
  {
   "cell_type": "code",
   "execution_count": 15,
   "metadata": {},
   "outputs": [
    {
     "ename": "TypeError",
     "evalue": "can only concatenate str (not \"int\") to str",
     "output_type": "error",
     "traceback": [
      "\u001b[1;31m---------------------------------------------------------------------------\u001b[0m",
      "\u001b[1;31mTypeError\u001b[0m                                 Traceback (most recent call last)",
      "\u001b[1;32m<ipython-input-15-d24137131a5c>\u001b[0m in \u001b[0;36m<module>\u001b[1;34m\u001b[0m\n\u001b[1;32m----> 1\u001b[1;33m \u001b[1;34m'I have eaten '\u001b[0m \u001b[1;33m+\u001b[0m \u001b[1;36m99\u001b[0m \u001b[1;33m+\u001b[0m \u001b[1;34m' burritos.'\u001b[0m\u001b[1;33m\u001b[0m\u001b[1;33m\u001b[0m\u001b[0m\n\u001b[0m",
      "\u001b[1;31mTypeError\u001b[0m: can only concatenate str (not \"int\") to str"
     ]
    }
   ],
   "source": [
    "'I have eaten ' + 99 + ' burritos.'"
   ]
  },
  {
   "cell_type": "code",
   "execution_count": 16,
   "metadata": {},
   "outputs": [
    {
     "data": {
      "text/plain": [
       "'I have eaten 99 burritos.'"
      ]
     },
     "execution_count": 16,
     "metadata": {},
     "output_type": "execute_result"
    }
   ],
   "source": [
    "'I have eaten ' + str(99) + ' burritos.'"
   ]
  },
  {
   "cell_type": "code",
   "execution_count": null,
   "metadata": {},
   "outputs": [],
   "source": []
  }
 ],
 "metadata": {
  "kernelspec": {
   "display_name": "Python 3",
   "language": "python",
   "name": "python3"
  },
  "language_info": {
   "codemirror_mode": {
    "name": "ipython",
    "version": 3
   },
   "file_extension": ".py",
   "mimetype": "text/x-python",
   "name": "python",
   "nbconvert_exporter": "python",
   "pygments_lexer": "ipython3",
   "version": "3.8.5"
  }
 },
 "nbformat": 4,
 "nbformat_minor": 4
}
