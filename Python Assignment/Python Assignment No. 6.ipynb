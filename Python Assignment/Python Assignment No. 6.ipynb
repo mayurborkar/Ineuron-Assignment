{
  "nbformat": 4,
  "nbformat_minor": 0,
  "metadata": {
    "colab": {
      "name": "Python Assignment No. 5.ipynb",
      "provenance": [],
      "collapsed_sections": []
    },
    "kernelspec": {
      "name": "python3",
      "display_name": "Python 3"
    },
    "language_info": {
      "name": "python"
    }
  },
  "cells": [
    {
      "cell_type": "markdown",
      "metadata": {
        "id": "pRnwj_uorTjg"
      },
      "source": [
        "**1. What are escape characters, and how do you use them?t**\n",
        "\n",
        "**Solution:-** To insert characters that are illegal in a string, use an escape character. An escape character is a backslash **\\**  followed by the character you want to insert.\n",
        "\n",
        "**Example:-**"
      ]
    },
    {
      "cell_type": "code",
      "metadata": {
        "colab": {
          "base_uri": "https://localhost:8080/",
          "height": 35
        },
        "id": "bHk4p90YrQH1",
        "outputId": "e007f79a-a551-48a6-fc67-1f6d6f736f35"
      },
      "source": [
        "\"We are the so-called \\\"Vikings\\\" from the north.\""
      ],
      "execution_count": 1,
      "outputs": [
        {
          "output_type": "execute_result",
          "data": {
            "application/vnd.google.colaboratory.intrinsic+json": {
              "type": "string"
            },
            "text/plain": [
              "'We are the so-called \"Vikings\" from the north.'"
            ]
          },
          "metadata": {
            "tags": []
          },
          "execution_count": 1
        }
      ]
    },
    {
      "cell_type": "markdown",
      "metadata": {
        "id": "_tRwLCDHsizH"
      },
      "source": [
        "**2. What do the escape characters n and t stand for?**\n",
        "\n",
        "**Solution:-** The escape character \\n stand for New Line & \\t stand for Tab.\n",
        "\n",
        "**Example:-**"
      ]
    },
    {
      "cell_type": "code",
      "metadata": {
        "colab": {
          "base_uri": "https://localhost:8080/"
        },
        "id": "GkQRqbZLsgvg",
        "outputId": "0687ea57-fdfd-4ec0-b63e-379ae11e119e"
      },
      "source": [
        "## \\n Character\n",
        "txt = \"Mayur\\nBorkar!\"\n",
        "print(txt) "
      ],
      "execution_count": 2,
      "outputs": [
        {
          "output_type": "stream",
          "text": [
            "Mayur\n",
            "Borkar!\n"
          ],
          "name": "stdout"
        }
      ]
    },
    {
      "cell_type": "code",
      "metadata": {
        "colab": {
          "base_uri": "https://localhost:8080/"
        },
        "id": "qoO1lSHJtelz",
        "outputId": "52800c76-79ff-44b5-bc82-e2fdb474395e"
      },
      "source": [
        "txt = \"Mayur\\tBorkar!\"\n",
        "print(txt) "
      ],
      "execution_count": 3,
      "outputs": [
        {
          "output_type": "stream",
          "text": [
            "Mayur\tBorkar!\n"
          ],
          "name": "stdout"
        }
      ]
    },
    {
      "cell_type": "markdown",
      "metadata": {
        "id": "a89n_xI6tmb2"
      },
      "source": [
        "**3. What is the way to include backslash characters in a string?**\n",
        "\n",
        "**Solution:-** The best way to insert backlash by the sign **\\** **\\**\n",
        "\n",
        "**Example:-**"
      ]
    },
    {
      "cell_type": "code",
      "metadata": {
        "colab": {
          "base_uri": "https://localhost:8080/"
        },
        "id": "NVqE_YTrtlSh",
        "outputId": "7ac79079-a9fe-4a9b-855e-215b2d1215c1"
      },
      "source": [
        "txt = \"This will insert one \\\\ (backslash).\"\n",
        "print(txt) "
      ],
      "execution_count": 4,
      "outputs": [
        {
          "output_type": "stream",
          "text": [
            "This will insert one \\ (backslash).\n"
          ],
          "name": "stdout"
        }
      ]
    },
    {
      "cell_type": "markdown",
      "metadata": {
        "id": "L-V5jw_dut_3"
      },
      "source": [
        "**4. The string \"Howl's Moving Castle\" is a correct value. Why isn't the single quote character in the word Howl's not escaped a problem?**\n",
        "\n",
        "**Solution:-** The single quote in Howl's is fine because you've used double quotes to mark the beginning and end of the string.\n",
        "\n",
        "**Example:-**"
      ]
    },
    {
      "cell_type": "code",
      "metadata": {
        "colab": {
          "base_uri": "https://localhost:8080/"
        },
        "id": "qFC32-uruskX",
        "outputId": "69bb227b-a908-4465-948d-2a7a84a01c42"
      },
      "source": [
        "#We are using double quote\n",
        "txt=\"Howl's Moving Castle\"\n",
        "print(txt)"
      ],
      "execution_count": 5,
      "outputs": [
        {
          "output_type": "stream",
          "text": [
            "Howl's Moving Castle\n"
          ],
          "name": "stdout"
        }
      ]
    },
    {
      "cell_type": "code",
      "metadata": {
        "colab": {
          "base_uri": "https://localhost:8080/",
          "height": 129
        },
        "id": "3KutUgxzvuIw",
        "outputId": "5ee731a1-95d4-4ad4-f916-8ab9c7e8c6c9"
      },
      "source": [
        "# we are using single quote\n",
        "txt='Howl's Moving Castle'\n",
        "print(txt)"
      ],
      "execution_count": 6,
      "outputs": [
        {
          "output_type": "error",
          "ename": "SyntaxError",
          "evalue": "ignored",
          "traceback": [
            "\u001b[0;36m  File \u001b[0;32m\"<ipython-input-6-00baab387ed5>\"\u001b[0;36m, line \u001b[0;32m2\u001b[0m\n\u001b[0;31m    txt='Howl's Moving Castle'\u001b[0m\n\u001b[0m              ^\u001b[0m\n\u001b[0;31mSyntaxError\u001b[0m\u001b[0;31m:\u001b[0m invalid syntax\n"
          ]
        }
      ]
    },
    {
      "cell_type": "markdown",
      "metadata": {
        "id": "hDE4xrkLv76-"
      },
      "source": [
        "**5. How do you write a string of newlines if you don't want to use the n character?**\n",
        "\n",
        "**Solution:-** Multiline strings allow you to use newlines in strings without the \\n escape character or use can use print statement.\n",
        "\n",
        "**Example:-**\n"
      ]
    },
    {
      "cell_type": "code",
      "metadata": {
        "colab": {
          "base_uri": "https://localhost:8080/"
        },
        "id": "zhCj4T1tv5u4",
        "outputId": "7b976bb2-919d-4892-9a0e-5f1d21e1528c"
      },
      "source": [
        "print('My Name Is Mayur Borkar.')\n",
        "print('I Am Student of Ineuron Institute.')"
      ],
      "execution_count": 8,
      "outputs": [
        {
          "output_type": "stream",
          "text": [
            "My Name Is Mayur Borkar.\n",
            "I Am Student of Ineuron Institute.\n"
          ],
          "name": "stdout"
        }
      ]
    },
    {
      "cell_type": "markdown",
      "metadata": {
        "id": "b55ealCfyDFH"
      },
      "source": [
        "**6. What are the values of the given expressions?**\n",
        "\n",
        "'Hello, world!'[1]\n",
        "\n",
        "'Hello, world!'[0:5]\n",
        "\n",
        "'Hello, world!'[:5]\n",
        "\n",
        "'Hello, world!'[3:]\n",
        "\n",
        "**Solution:-** "
      ]
    },
    {
      "cell_type": "code",
      "metadata": {
        "colab": {
          "base_uri": "https://localhost:8080/"
        },
        "id": "LywXPbTkxTvc",
        "outputId": "473df79d-7d2a-4222-9b00-834ae782215b"
      },
      "source": [
        "print('Hello, world!'[1])\n",
        "print('Hello, world!'[0:5])\n",
        "print('Hello, world!'[:5])\n",
        "print('Hello, world!'[3:])"
      ],
      "execution_count": 9,
      "outputs": [
        {
          "output_type": "stream",
          "text": [
            "e\n",
            "Hello\n",
            "Hello\n",
            "lo, world!\n"
          ],
          "name": "stdout"
        }
      ]
    },
    {
      "cell_type": "markdown",
      "metadata": {
        "id": "e2yF74pW0N5-"
      },
      "source": [
        "**7. What are the values of the following expressions?**\n",
        "\n",
        "**'Hello'.upper()**\n",
        "\n",
        "**'Hello'.upper().isupper()**\n",
        "\n",
        "**'Hello'.upper().lower()**\n",
        "\n",
        "**Solution:-**"
      ]
    },
    {
      "cell_type": "code",
      "metadata": {
        "colab": {
          "base_uri": "https://localhost:8080/"
        },
        "id": "oucXSKcH0L9Z",
        "outputId": "fe89feac-1017-4900-bfc7-e47fdf627851"
      },
      "source": [
        "print('Hello'.upper())\n",
        "print('Hello'.upper().isupper())\n",
        "print('Hello'.upper().lower())"
      ],
      "execution_count": 10,
      "outputs": [
        {
          "output_type": "stream",
          "text": [
            "HELLO\n",
            "True\n",
            "hello\n"
          ],
          "name": "stdout"
        }
      ]
    },
    {
      "cell_type": "markdown",
      "metadata": {
        "id": "jvfKtoyx1YGu"
      },
      "source": [
        "**8. What are the values of the following expressions?**\n",
        "\n",
        "**'Remember, remember, the fifth of July.'.split()**\n",
        "\n",
        "**'-'.join('There can only one.'.split())**\n",
        "\n",
        "**Solution:-**"
      ]
    },
    {
      "cell_type": "code",
      "metadata": {
        "colab": {
          "base_uri": "https://localhost:8080/"
        },
        "id": "mJHb3g4B1P4N",
        "outputId": "ecd7fa47-7d0f-4637-b1cd-2e26bb6fb971"
      },
      "source": [
        "#The Following Statement Will Split The Sentence & Gives Output in List Format\n",
        "'Remember, remember, the fifth of July.'.split()"
      ],
      "execution_count": 11,
      "outputs": [
        {
          "output_type": "execute_result",
          "data": {
            "text/plain": [
              "['Remember,', 'remember,', 'the', 'fifth', 'of', 'July.']"
            ]
          },
          "metadata": {
            "tags": []
          },
          "execution_count": 11
        }
      ]
    },
    {
      "cell_type": "code",
      "metadata": {
        "colab": {
          "base_uri": "https://localhost:8080/",
          "height": 35
        },
        "id": "k2PfvajV2cwj",
        "outputId": "4bfef32f-9699-4ddd-8a38-409319c3ab2f"
      },
      "source": [
        "#The Following Statement Will Split The Sentence & Again join Sentence By '-'\n",
        "'-'.join('There can only one.'.split())"
      ],
      "execution_count": 12,
      "outputs": [
        {
          "output_type": "execute_result",
          "data": {
            "application/vnd.google.colaboratory.intrinsic+json": {
              "type": "string"
            },
            "text/plain": [
              "'There-can-only-one.'"
            ]
          },
          "metadata": {
            "tags": []
          },
          "execution_count": 12
        }
      ]
    },
    {
      "cell_type": "markdown",
      "metadata": {
        "id": "jaS9-JpV3N8P"
      },
      "source": [
        "**9. What are the methods for right-justifying, left-justifying, and centering a string?**\n",
        "\n",
        "**Solution:-** The rjust(), ljust(), and center() string methods, respectively\n",
        "\n",
        "**Example:-**"
      ]
    },
    {
      "cell_type": "code",
      "metadata": {
        "colab": {
          "base_uri": "https://localhost:8080/"
        },
        "id": "wuAfKEHW3I80",
        "outputId": "9c21f16f-8b40-4651-c7ad-f9fc1773767e"
      },
      "source": [
        "#rjust() string methods\n",
        "txt='Mayur Borkar'\n",
        "x = txt.rjust(20)\n",
        "print('My Name Is',x)\n",
        "\n",
        "#ljust() string methods\n",
        "txt='Mayur Borkar'\n",
        "x = txt.ljust(20)\n",
        "print(x, 'Is My Name')\n",
        "\n",
        "#center() string methods\n",
        "txt='Mayur Borkar'\n",
        "x = txt.center(20)\n",
        "print(x)"
      ],
      "execution_count": 15,
      "outputs": [
        {
          "output_type": "stream",
          "text": [
            "My Name Is         Mayur Borkar\n",
            "Mayur Borkar         Is My Name\n",
            "    Mayur Borkar    \n"
          ],
          "name": "stdout"
        }
      ]
    },
    {
      "cell_type": "markdown",
      "metadata": {
        "id": "ko543tMp5lq3"
      },
      "source": [
        "**10. What is the best way to remove whitespace characters from the start or end?**\n",
        "\n",
        "**Solution:-** The lstrip() and rstrip() methods remove whitespace from the left and right ends of a string, respectively."
      ]
    },
    {
      "cell_type": "code",
      "metadata": {
        "id": "5ZilkU0O4_65"
      },
      "source": [
        ""
      ],
      "execution_count": null,
      "outputs": []
    }
  ]
}