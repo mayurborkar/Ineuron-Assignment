{
  "nbformat": 4,
  "nbformat_minor": 0,
  "metadata": {
    "colab": {
      "name": "Python Assignment No. 4.ipynb",
      "provenance": [],
      "collapsed_sections": []
    },
    "kernelspec": {
      "name": "python3",
      "display_name": "Python 3"
    }
  },
  "cells": [
    {
      "cell_type": "markdown",
      "metadata": {
        "id": "YffY6RsLKFEV"
      },
      "source": [
        "**1. What exactly is [ ]?**\r\n",
        "\r\n",
        "**Solution:-** It is basically list which contain no item so you can it as empty list."
      ]
    },
    {
      "cell_type": "markdown",
      "metadata": {
        "id": "x5oiXsn0KhMt"
      },
      "source": [
        "**2. In a list of values stored in a variable called spam, how would you assign the value 'hello' as the third value? (Assume [2, 4, 6, 8, 10] are in spam.)**\r\n",
        "\r\n",
        "**Solution:-** See here it is talking about the 3rd value so it is 6, but if he is asking for 3rd index then it is 8."
      ]
    },
    {
      "cell_type": "code",
      "metadata": {
        "colab": {
          "base_uri": "https://localhost:8080/"
        },
        "id": "DOedA-VZKDcb",
        "outputId": "d3dda79e-cdbf-427f-b5c6-7b344a75cdb4"
      },
      "source": [
        "spam=[2, 4, 6, 8, 10] \r\n",
        "spam[2]='Hello'\r\n",
        "spam"
      ],
      "execution_count": null,
      "outputs": [
        {
          "output_type": "execute_result",
          "data": {
            "text/plain": [
              "[2, 4, 'Hello', 8, 10]"
            ]
          },
          "metadata": {
            "tags": []
          },
          "execution_count": 1
        }
      ]
    },
    {
      "cell_type": "markdown",
      "metadata": {
        "id": "o164O1iXMXHr"
      },
      "source": [
        "**Let's pretend the spam includes the list ['a', 'b', 'c', 'd'] for the next three queries.**\r\n",
        "\r\n",
        "**3. What is the value of spam[int(int('3' * 2) / 11)]?**\r\n",
        "\r\n",
        "**Solution:-**"
      ]
    },
    {
      "cell_type": "code",
      "metadata": {
        "colab": {
          "base_uri": "https://localhost:8080/",
          "height": 35
        },
        "id": "jNLdm07WMRvI",
        "outputId": "b08c393f-cd6f-45c5-b27c-56fe0c9be81d"
      },
      "source": [
        "spam=['a', 'b', 'c', 'd']\r\n",
        "\r\n",
        "spam[int(int('3' * 2) / 11)]"
      ],
      "execution_count": null,
      "outputs": [
        {
          "output_type": "execute_result",
          "data": {
            "application/vnd.google.colaboratory.intrinsic+json": {
              "type": "string"
            },
            "text/plain": [
              "'d'"
            ]
          },
          "metadata": {
            "tags": []
          },
          "execution_count": 2
        }
      ]
    },
    {
      "cell_type": "markdown",
      "metadata": {
        "id": "2hWRELUPM6zq"
      },
      "source": [
        "**4. What is the value of spam[-1]?**\r\n",
        "\r\n",
        "**Solution:-**"
      ]
    },
    {
      "cell_type": "code",
      "metadata": {
        "colab": {
          "base_uri": "https://localhost:8080/",
          "height": 35
        },
        "id": "nm7h0emYM38U",
        "outputId": "4909629a-e54c-496d-8666-d1e47720b3c0"
      },
      "source": [
        "spam=['a', 'b', 'c', 'd'] # Here Index no are (-1=d, -2=c, -3=b, -4=a) \r\n",
        "\r\n",
        "spam[-1]"
      ],
      "execution_count": null,
      "outputs": [
        {
          "output_type": "execute_result",
          "data": {
            "application/vnd.google.colaboratory.intrinsic+json": {
              "type": "string"
            },
            "text/plain": [
              "'d'"
            ]
          },
          "metadata": {
            "tags": []
          },
          "execution_count": 3
        }
      ]
    },
    {
      "cell_type": "markdown",
      "metadata": {
        "id": "86CBw906NLKy"
      },
      "source": [
        "**5. What is the value of spam[:2]?**\r\n",
        "\r\n",
        "**Solution:-**"
      ]
    },
    {
      "cell_type": "code",
      "metadata": {
        "colab": {
          "base_uri": "https://localhost:8080/"
        },
        "id": "4kxaC1gYNINo",
        "outputId": "6a721670-717c-4d25-8add-19d1c149462a"
      },
      "source": [
        "spam=['a', 'b', 'c', 'd'] # Here Index no are (0=a, 1=b, 2=c, 3=d) \r\n",
        "\r\n",
        "spam[:2] # Always rember [Starting Index : Ending Index(always excluded) : Step Size]"
      ],
      "execution_count": null,
      "outputs": [
        {
          "output_type": "execute_result",
          "data": {
            "text/plain": [
              "['a', 'b']"
            ]
          },
          "metadata": {
            "tags": []
          },
          "execution_count": 4
        }
      ]
    },
    {
      "cell_type": "markdown",
      "metadata": {
        "id": "TcphnYmaOM2D"
      },
      "source": [
        "**Let's pretend bacon has the list [3.14, 'cat,' 11, 'cat,' True] for the next three questions.**\r\n",
        "\r\n",
        "**6. What is the value of bacon.index('cat')?**\r\n",
        "\r\n",
        "**Solution:-** Here in list we are given double string name cat but main promblem is that the seperated comma give inside **'cat,'** So it gives you SyntaxError"
      ]
    },
    {
      "cell_type": "code",
      "metadata": {
        "colab": {
          "base_uri": "https://localhost:8080/",
          "height": 129
        },
        "id": "4RW4Ow5KNdxZ",
        "outputId": "fef5a681-d01a-4999-e7b8-2ded4ac7c55c"
      },
      "source": [
        "bacon=[3.14, 'cat,' 11, 'cat,' True]\r\n",
        "bacon.index('cat')"
      ],
      "execution_count": null,
      "outputs": [
        {
          "output_type": "error",
          "ename": "SyntaxError",
          "evalue": "ignored",
          "traceback": [
            "\u001b[0;36m  File \u001b[0;32m\"<ipython-input-5-7c8d016aac31>\"\u001b[0;36m, line \u001b[0;32m1\u001b[0m\n\u001b[0;31m    bacon=[3.14, 'cat,' 11, 'cat,' True]\u001b[0m\n\u001b[0m                         ^\u001b[0m\n\u001b[0;31mSyntaxError\u001b[0m\u001b[0;31m:\u001b[0m invalid syntax\n"
          ]
        }
      ]
    },
    {
      "cell_type": "markdown",
      "metadata": {
        "id": "Q9SsEdZhQpD7"
      },
      "source": [
        "**7. How does bacon.append(99) change the look of the list value in bacon?**\r\n",
        "\r\n",
        "**Solution:-** No because of the above error it will no append that value in list. For append that value we have arrange list in proper format. If we are arrange list in proper format then list will change. \r\n",
        "\r\n",
        "bacon=[3.14, 'cat', 11, 'cat', True]\r\n",
        "\r\n",
        "bacon.append(99)\r\n",
        "\r\n",
        "bacon\r\n",
        "\r\n",
        "[3.14, 'cat', 11, 'cat', True, 99]"
      ]
    },
    {
      "cell_type": "code",
      "metadata": {
        "colab": {
          "base_uri": "https://localhost:8080/",
          "height": 129
        },
        "id": "-KYDsVmQPxgr",
        "outputId": "55c4060d-f354-417a-8fe1-efd82b3c8e86"
      },
      "source": [
        "bacon=[3.14, 'cat,' 11, 'cat,' True]\r\n",
        "\r\n",
        "bacon.append(99)"
      ],
      "execution_count": null,
      "outputs": [
        {
          "output_type": "error",
          "ename": "SyntaxError",
          "evalue": "ignored",
          "traceback": [
            "\u001b[0;36m  File \u001b[0;32m\"<ipython-input-6-8cd034f541c8>\"\u001b[0;36m, line \u001b[0;32m1\u001b[0m\n\u001b[0;31m    bacon=[3.14, 'cat,' 11, 'cat,' True]\u001b[0m\n\u001b[0m                         ^\u001b[0m\n\u001b[0;31mSyntaxError\u001b[0m\u001b[0;31m:\u001b[0m invalid syntax\n"
          ]
        }
      ]
    },
    {
      "cell_type": "markdown",
      "metadata": {
        "id": "SZUlODpBR8ts"
      },
      "source": [
        "**8. How does bacon.remove('cat') change the look of the list meaning in bacon?**\r\n",
        "\r\n",
        "**Solution:-**No because of the above error it will no remove that value in list. For remove that value we have arrange list in proper format. If we are arrange list in proper format then list will change.\r\n",
        "\r\n",
        "bacon=[3.14, 'cat', 11, 'cat', True]\r\n",
        "\r\n",
        "bacon.remove('cat')\r\n",
        "\r\n",
        "bacon\r\n",
        "\r\n",
        "[3.14, 11, 'cat', True]\r\n"
      ]
    },
    {
      "cell_type": "code",
      "metadata": {
        "colab": {
          "base_uri": "https://localhost:8080/",
          "height": 129
        },
        "id": "XhAY3IL3R64X",
        "outputId": "f70f24a6-b000-4412-ec2c-ebef0b8cada4"
      },
      "source": [
        "bacon=[3.14, 'cat,' 11, 'cat,' True]\r\n",
        "bacon.remove('cat')"
      ],
      "execution_count": null,
      "outputs": [
        {
          "output_type": "error",
          "ename": "SyntaxError",
          "evalue": "ignored",
          "traceback": [
            "\u001b[0;36m  File \u001b[0;32m\"<ipython-input-7-c4c8c0b95054>\"\u001b[0;36m, line \u001b[0;32m1\u001b[0m\n\u001b[0;31m    bacon=[3.14, 'cat,' 11, 'cat,' True]\u001b[0m\n\u001b[0m                         ^\u001b[0m\n\u001b[0;31mSyntaxError\u001b[0m\u001b[0;31m:\u001b[0m invalid syntax\n"
          ]
        }
      ]
    },
    {
      "cell_type": "markdown",
      "metadata": {
        "id": "sWdrJzqiUlh-"
      },
      "source": [
        "**9. What are the list concatenation and list replication operators?**\r\n",
        "\r\n",
        "**Solution:-**The operator for list concatenation(adding) is +, while the operator for replication(repeated) is *"
      ]
    },
    {
      "cell_type": "markdown",
      "metadata": {
        "id": "P1RaQr4FU-Za"
      },
      "source": [
        "**10. What is difference between the list methods append() and insert()?**\r\n",
        "\r\n",
        "**Solution:-** While append() will add values only to the end of a list, insert() can add them anywhere in the list with help of index no."
      ]
    },
    {
      "cell_type": "markdown",
      "metadata": {
        "id": "hCzShDs5VjxT"
      },
      "source": [
        "**11. What are the two methods for removing items from a list?**\r\n",
        "\r\n",
        "**Solution:-** The del statement and the remove() list method are two ways to remove items from a list."
      ]
    },
    {
      "cell_type": "markdown",
      "metadata": {
        "id": "odvnlI6Qgq_y"
      },
      "source": [
        "**12. Describe how list values and string values are identical.**\r\n",
        "\r\n",
        "**Solution:-** Both lists and strings can be passed to len(). In list and string we can gives indexing and slicing two both the method. It can be used in for loops, also we can concatenated or replicated list and string. "
      ]
    },
    {
      "cell_type": "markdown",
      "metadata": {
        "id": "LkG3iemziJ99"
      },
      "source": [
        "**13. What's the difference between tuples and lists?**\r\n",
        "\r\n",
        "**Solution:-**Lists are mutable; they can have values added, removed, order,or changed.List Allows duplicate number. Talking about tuples, tuples are immutable; they cannot be changed at all.Tuples are also allows duplicate number and tuples are written using parentheses, (1,2,3), while lists use the square brackets, [1,2,3]\r\n"
      ]
    },
    {
      "cell_type": "markdown",
      "metadata": {
        "id": "g1ZzPklkjeFQ"
      },
      "source": [
        "**14. How do you type a tuple value that only contains the integer 42?**\r\n",
        "\r\n",
        "**Solution:-**(42,) (The trailing comma is mandatory.)"
      ]
    },
    {
      "cell_type": "markdown",
      "metadata": {
        "id": "TwyMFlc9mTrP"
      },
      "source": [
        "**15. How do you get a list value's tuple form? How do you get a tuple value's list form?**\r\n",
        "\r\n",
        "**Solution:-**The tuple() and list() functions, respectively."
      ]
    },
    {
      "cell_type": "markdown",
      "metadata": {
        "id": "60clGT7Hp3L3"
      },
      "source": [
        "**16. Variables that \"contain\" list values are not necessarily lists themselves. Instead, what do they contain?**\r\n",
        "\r\n",
        "**Solution:-** They contain references to list values."
      ]
    },
    {
      "cell_type": "markdown",
      "metadata": {
        "id": "sedI_VA1qpQ_"
      },
      "source": [
        "**17. How do you distinguish between copy.copy() and copy.deepcopy()?**\r\n",
        "\r\n",
        "**Solution:-** \r\n",
        "\r\n",
        "**1.copy.copy()=** \r\n",
        "\r\n",
        "a.They copy.copy() function will do a shallow copy of a list. If you are changing one element in 1st list it will no change in 2nd list. For that refer the line no. 8 example. \r\n",
        "\r\n",
        "b.But if we taked about nested list, when we change some value in list it will affect on 2nd list also, see line no 12 example\r\n",
        "\r\n",
        "c.If we do append opeartion on 1st list it will only affect the 1st list not on the 2nd list."
      ]
    },
    {
      "cell_type": "code",
      "metadata": {
        "id": "7v5aqK5_RaNy"
      },
      "source": [
        "# Shallow Copy For List\r\n",
        "lst1=[1,2,3,4]\r\n",
        "lst2=lst1.copy()"
      ],
      "execution_count": 8,
      "outputs": []
    },
    {
      "cell_type": "code",
      "metadata": {
        "colab": {
          "base_uri": "https://localhost:8080/"
        },
        "id": "iCDbDV_EtfFj",
        "outputId": "d978128a-ef9a-4303-fb37-4c27ce25b32b"
      },
      "source": [
        "lst1,lst2"
      ],
      "execution_count": 9,
      "outputs": [
        {
          "output_type": "execute_result",
          "data": {
            "text/plain": [
              "([1, 2, 3, 4], [1, 2, 3, 4])"
            ]
          },
          "metadata": {
            "tags": []
          },
          "execution_count": 9
        }
      ]
    },
    {
      "cell_type": "code",
      "metadata": {
        "colab": {
          "base_uri": "https://localhost:8080/"
        },
        "id": "StFc0TNOtiTW",
        "outputId": "97788664-64f8-4407-865f-1e979a7cdecc"
      },
      "source": [
        "lst1[2]=100\r\n",
        "lst1"
      ],
      "execution_count": 10,
      "outputs": [
        {
          "output_type": "execute_result",
          "data": {
            "text/plain": [
              "[1, 2, 100, 4]"
            ]
          },
          "metadata": {
            "tags": []
          },
          "execution_count": 10
        }
      ]
    },
    {
      "cell_type": "code",
      "metadata": {
        "colab": {
          "base_uri": "https://localhost:8080/"
        },
        "id": "UvOaIsy1tpCO",
        "outputId": "3a3126df-db89-4237-bbff-c702ba19dc86"
      },
      "source": [
        "lst2"
      ],
      "execution_count": 11,
      "outputs": [
        {
          "output_type": "execute_result",
          "data": {
            "text/plain": [
              "[1, 2, 3, 4]"
            ]
          },
          "metadata": {
            "tags": []
          },
          "execution_count": 11
        }
      ]
    },
    {
      "cell_type": "code",
      "metadata": {
        "id": "RL0y7jO1uYJJ"
      },
      "source": [
        "# Shallo Copy For Nested List\r\n",
        "lst1=[[4,5,6],[7,8,9]]\r\n",
        "lst2=lst1.copy()"
      ],
      "execution_count": 12,
      "outputs": []
    },
    {
      "cell_type": "code",
      "metadata": {
        "colab": {
          "base_uri": "https://localhost:8080/"
        },
        "id": "heDHArmmumWA",
        "outputId": "08fc5f00-7730-47dd-e565-03f504c2aafd"
      },
      "source": [
        "lst1,lst2"
      ],
      "execution_count": 13,
      "outputs": [
        {
          "output_type": "execute_result",
          "data": {
            "text/plain": [
              "([[4, 5, 6], [7, 8, 9]], [[4, 5, 6], [7, 8, 9]])"
            ]
          },
          "metadata": {
            "tags": []
          },
          "execution_count": 13
        }
      ]
    },
    {
      "cell_type": "code",
      "metadata": {
        "colab": {
          "base_uri": "https://localhost:8080/"
        },
        "id": "vwl9nuZgumIH",
        "outputId": "3bde2ac5-d5ec-4ee4-df44-b9348cd25f1b"
      },
      "source": [
        "lst1[1][0]=500\r\n",
        "lst1"
      ],
      "execution_count": 14,
      "outputs": [
        {
          "output_type": "execute_result",
          "data": {
            "text/plain": [
              "[[4, 5, 6], [500, 8, 9]]"
            ]
          },
          "metadata": {
            "tags": []
          },
          "execution_count": 14
        }
      ]
    },
    {
      "cell_type": "code",
      "metadata": {
        "colab": {
          "base_uri": "https://localhost:8080/"
        },
        "id": "140M-sAuuxGW",
        "outputId": "b48bbb9f-3809-4d61-ae53-3cbc639fe457"
      },
      "source": [
        "lst2"
      ],
      "execution_count": 15,
      "outputs": [
        {
          "output_type": "execute_result",
          "data": {
            "text/plain": [
              "[[4, 5, 6], [500, 8, 9]]"
            ]
          },
          "metadata": {
            "tags": []
          },
          "execution_count": 15
        }
      ]
    },
    {
      "cell_type": "markdown",
      "metadata": {
        "id": "jxuuWBa8t3kA"
      },
      "source": [
        "**2.Deep.copy():** \r\n",
        "\r\n",
        "a.while the copy.deepcopy() function will do a deep copy of a list. Only copy.deepcopy() will duplicate any lists inside the list.\r\n",
        "\r\n",
        "b.If you are changing one element in 1st list it will not change the elememt in 2nd list. For that refer the line no. 21 example. \r\n",
        "\r\n",
        "b.But if we taked about nested list, when we change some value in 1st list it will not affect on 2nd list also, see line no 16 example\r\n",
        "\r\n",
        "c.If we do append opeartion on 1st list it will only affect the 1st list not on the 2nd list."
      ]
    },
    {
      "cell_type": "code",
      "metadata": {
        "id": "AVd9v2c_yMK3"
      },
      "source": [
        "# Deep Copy For List\r\n",
        "import copy\r\n",
        "lst1=[1,2,3,4,5,6]\r\n",
        "lst2=copy.deepcopy(lst1)"
      ],
      "execution_count": 21,
      "outputs": []
    },
    {
      "cell_type": "code",
      "metadata": {
        "colab": {
          "base_uri": "https://localhost:8080/"
        },
        "id": "nnhpiZQUyj01",
        "outputId": "da237583-ecbd-4858-c5ad-b222bba320ab"
      },
      "source": [
        "lst1,lst2"
      ],
      "execution_count": 22,
      "outputs": [
        {
          "output_type": "execute_result",
          "data": {
            "text/plain": [
              "([1, 2, 3, 4, 5, 6], [1, 2, 3, 4, 5, 6])"
            ]
          },
          "metadata": {
            "tags": []
          },
          "execution_count": 22
        }
      ]
    },
    {
      "cell_type": "code",
      "metadata": {
        "colab": {
          "base_uri": "https://localhost:8080/"
        },
        "id": "jXKDSfsjyjhR",
        "outputId": "f9f82092-8aca-4813-b768-82f2738d6381"
      },
      "source": [
        "lst1[4]=100\r\n",
        "lst1"
      ],
      "execution_count": 23,
      "outputs": [
        {
          "output_type": "execute_result",
          "data": {
            "text/plain": [
              "[1, 2, 3, 4, 100, 6]"
            ]
          },
          "metadata": {
            "tags": []
          },
          "execution_count": 23
        }
      ]
    },
    {
      "cell_type": "code",
      "metadata": {
        "colab": {
          "base_uri": "https://localhost:8080/"
        },
        "id": "O8ytH_kxytYH",
        "outputId": "1fb8be8b-2342-43d2-fcce-3f7301fe9b89"
      },
      "source": [
        "lst2"
      ],
      "execution_count": 24,
      "outputs": [
        {
          "output_type": "execute_result",
          "data": {
            "text/plain": [
              "[1, 2, 3, 4, 5, 6]"
            ]
          },
          "metadata": {
            "tags": []
          },
          "execution_count": 24
        }
      ]
    },
    {
      "cell_type": "code",
      "metadata": {
        "id": "q0Ia-VNDtqIU"
      },
      "source": [
        "# Deep Copy for Nested List\r\n",
        "import copy\r\n",
        "lst1=[[1,2,3],[4,5,6],[7,8,9]]\r\n",
        "lst2=copy.deepcopy(lst1)"
      ],
      "execution_count": 16,
      "outputs": []
    },
    {
      "cell_type": "code",
      "metadata": {
        "colab": {
          "base_uri": "https://localhost:8080/"
        },
        "id": "gkCmbMmhx_hm",
        "outputId": "0b6bd1d6-41cc-4704-bab6-3dd061d23766"
      },
      "source": [
        "lst1,lst2 "
      ],
      "execution_count": 17,
      "outputs": [
        {
          "output_type": "execute_result",
          "data": {
            "text/plain": [
              "([[1, 2, 3], [4, 5, 6], [7, 8, 9]], [[1, 2, 3], [4, 5, 6], [7, 8, 9]])"
            ]
          },
          "metadata": {
            "tags": []
          },
          "execution_count": 17
        }
      ]
    },
    {
      "cell_type": "code",
      "metadata": {
        "colab": {
          "base_uri": "https://localhost:8080/"
        },
        "id": "BMD0CALryDB3",
        "outputId": "c4d6ce3d-c17c-4447-f191-ad1c5b8b53d3"
      },
      "source": [
        "lst1[2][2]=25\r\n",
        "lst1"
      ],
      "execution_count": 19,
      "outputs": [
        {
          "output_type": "execute_result",
          "data": {
            "text/plain": [
              "[[1, 2, 3], [4, 5, 6], [7, 8, 25]]"
            ]
          },
          "metadata": {
            "tags": []
          },
          "execution_count": 19
        }
      ]
    },
    {
      "cell_type": "code",
      "metadata": {
        "colab": {
          "base_uri": "https://localhost:8080/"
        },
        "id": "rE83L2X9yY1o",
        "outputId": "0b03d6ef-dae9-4c7c-f7dc-59a7202e1cdb"
      },
      "source": [
        "lst2"
      ],
      "execution_count": 20,
      "outputs": [
        {
          "output_type": "execute_result",
          "data": {
            "text/plain": [
              "[[1, 2, 3], [4, 5, 6], [7, 8, 9]]"
            ]
          },
          "metadata": {
            "tags": []
          },
          "execution_count": 20
        }
      ]
    },
    {
      "cell_type": "code",
      "metadata": {
        "id": "mXROB1NAybXk"
      },
      "source": [
        ""
      ],
      "execution_count": null,
      "outputs": []
    }
  ]
}