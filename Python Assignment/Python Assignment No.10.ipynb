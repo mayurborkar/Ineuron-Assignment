{
 "cells": [
  {
   "cell_type": "markdown",
   "metadata": {},
   "source": [
    "**1. How do you distinguish between shutil.copy() and shutil.copytree()?**"
   ]
  },
  {
   "cell_type": "markdown",
   "metadata": {},
   "source": [
    "**Solution:-**\n",
    "\n",
    "**shutil.copy()** method in Python is used to copy the content of source file to destination file or directory. It also preserves the file’s permission mode but other metadata of the file like the file’s creation and modification times is not preserved.\n",
    "\n",
    "**shutil.copytree()** method recursively copies an entire directory tree rooted at source (src) to the destination directory. The destination directory, named by (dst) must not already exist. It will be created during copying. Permissions and times of directories are copied with copystat() and individual files are copied using shutil.copy2()."
   ]
  },
  {
   "cell_type": "markdown",
   "metadata": {},
   "source": [
    "**Example:-**\n",
    "\n",
    "**1. shutil.copy()**"
   ]
  },
  {
   "cell_type": "code",
   "execution_count": null,
   "metadata": {},
   "outputs": [],
   "source": [
    "# Importing os & shutil module \n",
    "import os\n",
    "import shutil\n",
    "  \n",
    "# path\n",
    "path = '/home/User/Documents'\n",
    "  \n",
    "# List files and directories\n",
    "print(\"Before copying file:\")\n",
    "print(os.listdir(path))\n",
    "  \n",
    "#Source path\n",
    "source = \"\"\n",
    "  \n",
    "# Print file permission of the source\n",
    "perm = os.stat(source).st_mode\n",
    "print(\"File Permission mode:\", perm, \"\\n\")\n",
    "  \n",
    "# Destination path\n",
    "destination = \"\"\n",
    "  \n",
    "# Copy the content of source to destination\n",
    "dest = shutil.copy(source, destination)\n",
    "  \n",
    "# List files and directories\n",
    "print(\"After copying file:\")\n",
    "print(os.listdir(path))\n",
    "  \n",
    "# Print file permission of the destination\n",
    "perm = os.stat(destination).st_mode\n",
    "print(\"File Permission mode:\", perm)\n",
    "  \n",
    "# Print path of newly created file\n",
    "print(\"Destination path:\", dest)"
   ]
  },
  {
   "cell_type": "markdown",
   "metadata": {},
   "source": [
    "**2. shutil.copytree()**"
   ]
  },
  {
   "cell_type": "code",
   "execution_count": null,
   "metadata": {},
   "outputs": [],
   "source": [
    "# importing os & shutil module \n",
    "import os \n",
    "import shutil \n",
    "   \n",
    "#path \n",
    "path = \" \"\n",
    "   \n",
    "# List files and directories  \n",
    "print(\"Before copying file:\") \n",
    "print(os.listdir(path)) \n",
    "      \n",
    "#Source path \n",
    "src = \" \"\n",
    "   \n",
    "#Destination path \n",
    "dest = \" \"\n",
    "   \n",
    "# Copy the content of source to destination \n",
    "destination = shutil.copytree(src, dest) \n",
    "   \n",
    "# List files and directories \n",
    "print(\"After copying file:\") \n",
    "print(os.listdir(path)) \n",
    "   \n",
    "# Print path of newly created file \n",
    "print(\"Destination path:\", destination)"
   ]
  },
  {
   "cell_type": "markdown",
   "metadata": {},
   "source": [
    "**2. What function is used to rename files??**"
   ]
  },
  {
   "cell_type": "markdown",
   "metadata": {},
   "source": [
    "**Solution:-** The shutil.move() function is used for renaming files, as well as moving them."
   ]
  },
  {
   "cell_type": "markdown",
   "metadata": {},
   "source": [
    "**3. What is the difference between the delete functions in the send2trash and shutil modules?**"
   ]
  },
  {
   "cell_type": "markdown",
   "metadata": {},
   "source": [
    "**Solution:-** \n",
    "\n",
    "**send2trash** : Send2Trash is a small package that sends files to the Trash (or Recycle Bin) natively and on all platforms. The file will not permanently deleted.  \n",
    "\n",
    "**shutil module** : By using shutil function, you may delete the entire directory (files and sub-directories).\n",
    "The file will be permanently deleted."
   ]
  },
  {
   "cell_type": "markdown",
   "metadata": {},
   "source": [
    "**Example:-**"
   ]
  },
  {
   "cell_type": "code",
   "execution_count": null,
   "metadata": {},
   "outputs": [],
   "source": [
    "import os\n",
    "import send2trash\n",
    "  \n",
    "# walking through the directory\n",
    "for folder, subfolders, files in os.walk(''):\n",
    "      \n",
    "    for file in files:\n",
    "        \n",
    "        # checking if file is of .txt type\n",
    "        if file.endswith('.txt'):\n",
    "            path = os.path.join(folder, file)\n",
    "              \n",
    "            # printing the path of the file to be deleted\n",
    "            print('deleted : ', path )\n",
    "              \n",
    "            # deleting the file\n",
    "            send2trash.send2trash(path)"
   ]
  },
  {
   "cell_type": "code",
   "execution_count": null,
   "metadata": {},
   "outputs": [],
   "source": [
    "import shutil\n",
    "shutil.rmtree(path, ignore_errors=False, onerror=None)"
   ]
  },
  {
   "cell_type": "markdown",
   "metadata": {},
   "source": [
    "**4.ZipFile objects have a close() method just like File objects’ close() method. What ZipFile method is equivalent to File objects’ open() method?**"
   ]
  },
  {
   "cell_type": "markdown",
   "metadata": {},
   "source": [
    "**Solution:-**  The zipfile.ZipFile() function is equivalent to the open() function; the first argument is the filename, and the second argument is the mode to open the ZIP file in (read, write, or append)."
   ]
  },
  {
   "cell_type": "markdown",
   "metadata": {},
   "source": [
    "**5. Create a programme that searches a folder tree for files with a certain file extension (such as .pdf or .jpg). Copy these files from whatever location they are in to a new folder.**"
   ]
  },
  {
   "cell_type": "code",
   "execution_count": 7,
   "metadata": {},
   "outputs": [
    {
     "name": "stdout",
     "output_type": "stream",
     "text": [
      "Looking For C:\\Users\\Lenovo\\Desktop\\Python\\Ineuron Assignment\\Python Basic Assignment for files with extension .docx\n"
     ]
    }
   ],
   "source": [
    "import os,shutil\n",
    "\n",
    "def foldertree(folder,desti_Folder,extension):\n",
    "    folder = os.path.abspath(folder)\n",
    "    desti_Folder = os.path.abspath(desti_Folder)\n",
    "    print('Looking For',folder,'for files with extension',','.join(extension))\n",
    "    \n",
    "    for folder, subfolder, filename in os.walk(folder):\n",
    "        \n",
    "        if filename in filename:\n",
    "            name, extension = os.path.splitext(filename)\n",
    "            \n",
    "            if extension in extension:\n",
    "                fileAbspath = folder + os.path.sep + filename\n",
    "                print('Copying From', fileAbspath, 'To Destination', desti_Folder)\n",
    "                shutil.copy(fileAbspath,desti_Folder)\n",
    "            \n",
    "extension = ['.docx']\n",
    "folder = r'C:\\Users\\Lenovo\\Desktop\\Python\\Ineuron Assignment\\Python Basic Assignment'\n",
    "desti_Folder = r'C:\\Users\\Lenovo\\Desktop\\Python\\Ineuron Assignment\\Python Basic Assignment\\Docx Assignment'\n",
    "\n",
    "foldertree(folder,desti_Folder,extension)\n",
    "            "
   ]
  },
  {
   "cell_type": "code",
   "execution_count": null,
   "metadata": {},
   "outputs": [],
   "source": []
  }
 ],
 "metadata": {
  "kernelspec": {
   "display_name": "Python 3",
   "language": "python",
   "name": "python3"
  },
  "language_info": {
   "codemirror_mode": {
    "name": "ipython",
    "version": 3
   },
   "file_extension": ".py",
   "mimetype": "text/x-python",
   "name": "python",
   "nbconvert_exporter": "python",
   "pygments_lexer": "ipython3",
   "version": "3.8.5"
  }
 },
 "nbformat": 4,
 "nbformat_minor": 4
}
