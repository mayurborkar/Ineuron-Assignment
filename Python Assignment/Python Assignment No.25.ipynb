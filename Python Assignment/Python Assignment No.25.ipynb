{
 "cells": [
  {
   "cell_type": "markdown",
   "metadata": {},
   "source": [
    "**1) What is the difference between enclosing a list comprehension in square brackets and parentheses?**"
   ]
  },
  {
   "cell_type": "markdown",
   "metadata": {},
   "source": [
    "**Solution:-** A List Comprehension, just like the plain range function, executes immediately and returns a list. The difference between the two kinds of expressions is that the **List comprehension is enclosed in square brackets []** while the **Generator expression is enclosed in plain parentheses ()**."
   ]
  },
  {
   "cell_type": "markdown",
   "metadata": {},
   "source": [
    "**2) What is the relationship between generators and iterators?**"
   ]
  },
  {
   "cell_type": "markdown",
   "metadata": {},
   "source": [
    "**Solution:-**\n",
    "\n",
    "**Iterator**\n",
    "\n",
    "1.An iterator is an object which contains a countable number of values and it is used to iterate over iterable objects like list, tuples, sets, etc.\n",
    "\n",
    "2.Class is used to implement an iterator & Local Variables aren’t used here.   \n",
    "\n",
    "3.Iterator uses iter() and next() functions \n",
    "\n",
    "4.Every iterator is not a generator\n",
    "\n",
    "**Generator**\n",
    "\n",
    "1.It is another way of creating iterators in a simple way where it uses the keyword “yield” instead of returning it in a defined function.\n",
    "\n",
    "2.Function is used to implement a generator & All the local variables before the yield function are stored. \n",
    "\n",
    "3.Generator uses yield keyword\n",
    "\n",
    "4.Every generator is an iterator"
   ]
  },
  {
   "cell_type": "code",
   "execution_count": 1,
   "metadata": {},
   "outputs": [
    {
     "name": "stdout",
     "output_type": "stream",
     "text": [
      "Geeks\n",
      "For\n",
      "Geeks\n"
     ]
    }
   ],
   "source": [
    "#Iterator\n",
    "iter_list = iter(['Mayur', 'Ravindra', 'Borkar'])\n",
    "print(next(iter_list))\n",
    "print(next(iter_list))\n",
    "print(next(iter_list))"
   ]
  },
  {
   "cell_type": "code",
   "execution_count": 3,
   "metadata": {},
   "outputs": [
    {
     "name": "stdout",
     "output_type": "stream",
     "text": [
      "The square of numbers 1,2,3 are : \n",
      "1\n",
      "4\n",
      "9\n"
     ]
    }
   ],
   "source": [
    "#Generator\n",
    "def sq_numbers(n):\n",
    "    for i in range(1, n+1):\n",
    "        yield i*i\n",
    "  \n",
    "  \n",
    "a = sq_numbers(3)\n",
    "  \n",
    "print(\"The square of numbers 1,2,3 are : \")\n",
    "print(next(a))\n",
    "print(next(a))\n",
    "print(next(a))"
   ]
  },
  {
   "cell_type": "markdown",
   "metadata": {},
   "source": [
    "**3) What are the signs that a function is a generator function?**"
   ]
  },
  {
   "cell_type": "markdown",
   "metadata": {},
   "source": [
    "**Solution:-** Python generators are a simple way of creating iterators. Simply speaking, a generator is a function that returns an object (iterator) which we can iterate over (one value at a time) with help of **yield.**"
   ]
  },
  {
   "cell_type": "markdown",
   "metadata": {},
   "source": [
    "**4) What is the purpose of a yield statement?**"
   ]
  },
  {
   "cell_type": "markdown",
   "metadata": {},
   "source": [
    "**Solution:-** A yield statement looks much like a return statement, except that instead of stopping execution of the function and returning, yield instead provides a value to the code looping over the generator and pauses execution of the generator function."
   ]
  },
  {
   "cell_type": "markdown",
   "metadata": {},
   "source": [
    "**5) What is the relationship between map calls and list comprehensions? Make a comparison and contrast between the two.**"
   ]
  },
  {
   "cell_type": "markdown",
   "metadata": {},
   "source": [
    "**Solution:-**\n",
    "\n",
    "1.List comprehension is more concise and easier to read as compared to map.\n",
    "\n",
    "2.List comprehension allows filtering. In map, we have no such facility.\n",
    "\n",
    "3.List comprehension are used when a list of results is required as map only returns a map object and does not return any list.\n",
    "\n",
    "4.List comprehension is faster than map when we need to evaluate expressions that are too long or complicated to express\n",
    "\n",
    "5.Map is faster in case of calling an already defined function (as no lambda is required)."
   ]
  },
  {
   "cell_type": "code",
   "execution_count": 5,
   "metadata": {},
   "outputs": [
    {
     "name": "stdout",
     "output_type": "stream",
     "text": [
      "3.2272139000001516\n",
      "0.3398160000001553\n"
     ]
    }
   ],
   "source": [
    "import timeit\n",
    "\n",
    "#LC\n",
    "x=timeit.timeit('[x for x in range(100)]',number = 999999)\n",
    "print(x)\n",
    "\n",
    "#map\n",
    "s = 'def fun() : print(i)'\n",
    "y=timeit.timeit('map(fun,range(100))',number = 999999, setup = s)\n",
    "print(y)"
   ]
  },
  {
   "cell_type": "code",
   "execution_count": null,
   "metadata": {},
   "outputs": [],
   "source": []
  }
 ],
 "metadata": {
  "kernelspec": {
   "display_name": "Python 3",
   "language": "python",
   "name": "python3"
  },
  "language_info": {
   "codemirror_mode": {
    "name": "ipython",
    "version": 3
   },
   "file_extension": ".py",
   "mimetype": "text/x-python",
   "name": "python",
   "nbconvert_exporter": "python",
   "pygments_lexer": "ipython3",
   "version": "3.8.5"
  }
 },
 "nbformat": 4,
 "nbformat_minor": 4
}
