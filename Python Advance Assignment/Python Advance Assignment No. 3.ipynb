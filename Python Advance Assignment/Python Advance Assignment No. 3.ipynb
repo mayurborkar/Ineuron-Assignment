{
 "cells": [
  {
   "cell_type": "markdown",
   "metadata": {},
   "source": [
    "**1. What is the concept of an abstract superclass?**"
   ]
  },
  {
   "cell_type": "markdown",
   "metadata": {},
   "source": [
    "**Solution:-** It allows you to create a set of methods that must be created within any child classes built from the abstract class. A class which contains one or more abstract methods is called an abstract class. An abstract method is a method that has a declaration but does not have an implementation."
   ]
  },
  {
   "cell_type": "code",
   "execution_count": 2,
   "metadata": {},
   "outputs": [
    {
     "name": "stdout",
     "output_type": "stream",
     "text": [
      "I Have 3 Sides\n",
      "I Have 4 Sides\n",
      "I Have 5 Sides\n",
      "I have 6 sides\n"
     ]
    }
   ],
   "source": [
    "from abc import ABC, abstractmethod\n",
    " \n",
    "class Polygon(ABC):\n",
    " \n",
    "    @abstractmethod\n",
    "    def noofsides(self):\n",
    "        pass\n",
    "    \n",
    "class Triangle(Polygon):\n",
    "    \n",
    "    def noofsides(self):\n",
    "        print('I Have 3 Sides')\n",
    "        \n",
    "class Quadrilateral(Polygon):\n",
    "    \n",
    "    def noofsides(self):\n",
    "        print('I Have 4 Sides')\n",
    "        \n",
    "class Pentagon(Polygon):\n",
    "    \n",
    "    def noofsides(self):\n",
    "        print(\"I Have 5 Sides\")\n",
    "        \n",
    "class Hexagon(Polygon):\n",
    "    \n",
    "    def noofsides(self):\n",
    "        print(\"I have 6 sides\")\n",
    "\n",
    "#Driver Code\n",
    "R = Triangle()\n",
    "R.noofsides()\n",
    " \n",
    "K = Quadrilateral()\n",
    "K.noofsides()\n",
    " \n",
    "R = Pentagon()\n",
    "R.noofsides()\n",
    " \n",
    "K = Hexagon()\n",
    "K.noofsides()"
   ]
  },
  {
   "cell_type": "markdown",
   "metadata": {},
   "source": [
    "**2. What happens when a class statement's top level contains a basic assignment statement?**"
   ]
  },
  {
   "cell_type": "markdown",
   "metadata": {},
   "source": [
    "**Solution:-**"
   ]
  },
  {
   "cell_type": "markdown",
   "metadata": {},
   "source": [
    "**3. Why does a class need to manually call a superclass's __init__ method?**"
   ]
  },
  {
   "cell_type": "markdown",
   "metadata": {},
   "source": [
    "**Solution:-** A subclass derives from a superclass and inherits its fields and methods. Invoking the super constructor of a subclass invokes the constructor of its superclass. Call __init__() on super() inside the constructor of the subclass to invoke the constructor of the superclass."
   ]
  },
  {
   "cell_type": "code",
   "execution_count": 4,
   "metadata": {},
   "outputs": [
    {
     "name": "stdout",
     "output_type": "stream",
     "text": [
      "Super Constructor\n",
      "Subclass Constructor\n",
      "<__main__.SubClass object at 0x0000016967ABA280>\n"
     ]
    }
   ],
   "source": [
    "class SuperClass():\n",
    "    def __init__(self):\n",
    "        print(\"Super Constructor\")\n",
    "\n",
    "class SubClass(SuperClass):\n",
    "    def __init__(self):\n",
    "        super().__init__()\n",
    "        print(\"Subclass Constructor\")\n",
    "\n",
    "print(SubClass())"
   ]
  },
  {
   "cell_type": "markdown",
   "metadata": {},
   "source": [
    "**4. How can you augment, instead of completely replacing, an inherited method?**"
   ]
  },
  {
   "cell_type": "markdown",
   "metadata": {},
   "source": [
    "**Solution:-**"
   ]
  },
  {
   "cell_type": "code",
   "execution_count": 10,
   "metadata": {},
   "outputs": [
    {
     "name": "stdout",
     "output_type": "stream",
     "text": [
      "['blah1']\n",
      "['blah1', 'blah2']\n",
      "['blah1']\n",
      "['blah1', 'oops']\n"
     ]
    }
   ],
   "source": [
    "class A(object):\n",
    "    PARAM_NMAE = ['blah1']\n",
    "    \n",
    "class B(A):\n",
    "    PARAM_NAME = A.PARAM_NMAE + ['blah2']\n",
    "    \n",
    "class C(A):\n",
    "    pass\n",
    "\n",
    "print(A.PARAM_NMAE)\n",
    "print(B.PARAM_NAME)\n",
    "print(C.PARAM_NMAE)\n",
    "A.PARAM_NMAE.append('oops')\n",
    "print(C.PARAM_NMAE)"
   ]
  },
  {
   "cell_type": "markdown",
   "metadata": {},
   "source": [
    "**5. How is the local scope of a class different from that of a function?**"
   ]
  },
  {
   "cell_type": "markdown",
   "metadata": {},
   "source": [
    "**Solution:-** At the beginning, **a and b** are only variables defined for the class itself - accessible via **Test.a and Test.b** and not specific to any instance.\n",
    "\n",
    "When creating an instance of that class (which results in **__init__** being executed):\n",
    "\n",
    "1. **print(self.a)** doesn't find an instance variable and thus returns the class variable\n",
    "\n",
    "2. **self.a = a**: a new instance variable **a** is created. This shadows the class variable so **self.a** will now reference the instance variable; to access the class variable you now have to use **Test.a.**\n",
    "\n",
    "3. The assignment to **self._x** creates a new instance variable. It's considered \"not part of the public API\" (aka protected) but technically it has no different behaviour.\n",
    "\n",
    "4. The assignment to **self.__y** creates a new instance variable named **_Test__y**, i.e. its name is mangled so unless you use the mangled name it cannot be accessed from outside the class. This could be used for \"private\" variables.\n",
    "\n",
    "5. The assignment to **b** creates a local variable. It is not available from anywhere but the **__init__** function as it's not saved in the instance, class or global scope."
   ]
  },
  {
   "cell_type": "code",
   "execution_count": 2,
   "metadata": {},
   "outputs": [],
   "source": [
    "class Test:\n",
    "    a = None\n",
    "    b = None\n",
    "\n",
    "    def __init__(self, a):\n",
    "        print(self.a)\n",
    "        self.a = a\n",
    "        self._x = 123\n",
    "        self.__y = 123\n",
    "        b = 'meow'"
   ]
  },
  {
   "cell_type": "code",
   "execution_count": 3,
   "metadata": {},
   "outputs": [
    {
     "name": "stdout",
     "output_type": "stream",
     "text": [
      "None\n"
     ]
    }
   ],
   "source": [
    "t = Test(5)"
   ]
  },
  {
   "cell_type": "code",
   "execution_count": 4,
   "metadata": {},
   "outputs": [
    {
     "data": {
      "text/plain": [
       "5"
      ]
     },
     "execution_count": 4,
     "metadata": {},
     "output_type": "execute_result"
    }
   ],
   "source": [
    "t.a"
   ]
  },
  {
   "cell_type": "code",
   "execution_count": 7,
   "metadata": {},
   "outputs": [
    {
     "ename": "NameError",
     "evalue": "name 'b' is not defined",
     "output_type": "error",
     "traceback": [
      "\u001b[1;31m---------------------------------------------------------------------------\u001b[0m",
      "\u001b[1;31mNameError\u001b[0m                                 Traceback (most recent call last)",
      "\u001b[1;32m<ipython-input-7-89e6c98d9288>\u001b[0m in \u001b[0;36m<module>\u001b[1;34m\u001b[0m\n\u001b[1;32m----> 1\u001b[1;33m \u001b[0mb\u001b[0m\u001b[1;33m\u001b[0m\u001b[1;33m\u001b[0m\u001b[0m\n\u001b[0m",
      "\u001b[1;31mNameError\u001b[0m: name 'b' is not defined"
     ]
    }
   ],
   "source": [
    "b"
   ]
  },
  {
   "cell_type": "code",
   "execution_count": 8,
   "metadata": {},
   "outputs": [
    {
     "data": {
      "text/plain": [
       "123"
      ]
     },
     "execution_count": 8,
     "metadata": {},
     "output_type": "execute_result"
    }
   ],
   "source": [
    "t._x"
   ]
  },
  {
   "cell_type": "code",
   "execution_count": 9,
   "metadata": {},
   "outputs": [
    {
     "data": {
      "text/plain": [
       "123"
      ]
     },
     "execution_count": 9,
     "metadata": {},
     "output_type": "execute_result"
    }
   ],
   "source": [
    "t._Test__y"
   ]
  },
  {
   "cell_type": "code",
   "execution_count": null,
   "metadata": {},
   "outputs": [],
   "source": []
  }
 ],
 "metadata": {
  "kernelspec": {
   "display_name": "Python 3",
   "language": "python",
   "name": "python3"
  },
  "language_info": {
   "codemirror_mode": {
    "name": "ipython",
    "version": 3
   },
   "file_extension": ".py",
   "mimetype": "text/x-python",
   "name": "python",
   "nbconvert_exporter": "python",
   "pygments_lexer": "ipython3",
   "version": "3.8.5"
  }
 },
 "nbformat": 4,
 "nbformat_minor": 4
}
