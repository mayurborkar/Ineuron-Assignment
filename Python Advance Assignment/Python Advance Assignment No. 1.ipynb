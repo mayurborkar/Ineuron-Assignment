{
 "cells": [
  {
   "cell_type": "markdown",
   "metadata": {},
   "source": [
    "**Q1. What is the purpose of Python's OOP?**"
   ]
  },
  {
   "cell_type": "markdown",
   "metadata": {},
   "source": [
    "**Solutioon:-** OOPs in Python is a programming approach that focuses on using objects and classes as same as other general programming languages. The objects can be any real-world entities. Python allows developers to develop applications using the OOPs approach with the **major focus on code reusability.**"
   ]
  },
  {
   "cell_type": "markdown",
   "metadata": {},
   "source": [
    "**Q2. Where does an inheritance search look for an attribute?**"
   ]
  },
  {
   "cell_type": "markdown",
   "metadata": {},
   "source": [
    "**Solution:-** In Python, inheritance happens when an object is qualified, and involves searching an attribute definition tree (one or more namespaces) attribute where object is an instance or class object, Python searches the namespace tree at and above object , for the first attribute it can find."
   ]
  },
  {
   "cell_type": "markdown",
   "metadata": {},
   "source": [
    "**Q3. How do you distinguish between a class object and an instance object?**"
   ]
  },
  {
   "cell_type": "markdown",
   "metadata": {},
   "source": [
    "**Solution:-** The **class = the blue print**. The **Object** is an actual thing that is built based on the **'blue print'** (like the house). An **instance** is a **virtual copy** (but not a real copy) of the object."
   ]
  },
  {
   "cell_type": "markdown",
   "metadata": {},
   "source": [
    "**Q4. What makes the first argument in a class’s method function special?**"
   ]
  },
  {
   "cell_type": "markdown",
   "metadata": {},
   "source": [
    "**Solution:-** The first method __init__() is a special method, which is called class constructor or initialization method that Python calls when you create a new instance of this class. It contain all the attributes of the whole function."
   ]
  },
  {
   "cell_type": "markdown",
   "metadata": {},
   "source": [
    "**Q5. What is the purpose of the (__init__) method?**"
   ]
  },
  {
   "cell_type": "markdown",
   "metadata": {},
   "source": [
    "**Solution:-** \"__init__\" is a reseved method in python classes. It is called as a constructor in object oriented terminology. This method is called when an object is created from a class and it allows the class to initialize the attributes of the class."
   ]
  },
  {
   "cell_type": "code",
   "execution_count": 6,
   "metadata": {},
   "outputs": [],
   "source": [
    "class Purpose:\n",
    "    \n",
    "    #Creating The init method\n",
    "    def __init__(self,Student,Course,Batch,Specilization):\n",
    "        self.Student = Student\n",
    "        self.Course = Course\n",
    "        self.Batch = Batch\n",
    "        self.Specilization = Specilization"
   ]
  },
  {
   "cell_type": "markdown",
   "metadata": {},
   "source": [
    "**Q6. What is the process for creating a class instance?**"
   ]
  },
  {
   "cell_type": "markdown",
   "metadata": {},
   "source": [
    "**Solutioon:-** To create instances of a class, you call the class using class name and pass in whatever arguments its __init__ method accepts."
   ]
  },
  {
   "cell_type": "code",
   "execution_count": 4,
   "metadata": {},
   "outputs": [],
   "source": [
    "class Employee:\n",
    "    empCount = 0\n",
    "\n",
    "    def __init__(self, name, salary):\n",
    "            self.name = name\n",
    "            self.salary = salary\n",
    "        \n",
    "            Employee.empCount += 1\n",
    "   \n",
    "    def displayCount(self):\n",
    "         print (\"Total Employee %d\" % Employee.empCount)"
   ]
  },
  {
   "cell_type": "code",
   "execution_count": 5,
   "metadata": {},
   "outputs": [],
   "source": [
    "#Creating The Class Instance\n",
    "emp1 = Employee(\"Zara\", 2000)"
   ]
  },
  {
   "cell_type": "markdown",
   "metadata": {},
   "source": [
    "**Q7. What is the process for creating a class?**"
   ]
  },
  {
   "cell_type": "markdown",
   "metadata": {},
   "source": [
    "**Solution:-** The class statement creates a new class definition."
   ]
  },
  {
   "cell_type": "code",
   "execution_count": 1,
   "metadata": {},
   "outputs": [],
   "source": [
    "class Creating:\n",
    "    pass"
   ]
  },
  {
   "cell_type": "markdown",
   "metadata": {},
   "source": [
    "**Q8. How would you define the superclasses of a class?**"
   ]
  },
  {
   "cell_type": "markdown",
   "metadata": {},
   "source": [
    "**Solution:-** A superclass is the class from which many subclasses can be created. The subclasses inherit the characteristics of a superclass. The superclass is also known as the parent class or base class. The **super() function** is used to give access to methods and properties of a **parent or sibling** class.The **super() function** returns an object that represents the **parent class.**\n",
    "\n"
   ]
  },
  {
   "cell_type": "code",
   "execution_count": 7,
   "metadata": {},
   "outputs": [
    {
     "name": "stdout",
     "output_type": "stream",
     "text": [
      "Hello, and welcome!\n"
     ]
    }
   ],
   "source": [
    "class Parent:\n",
    "    \n",
    "    def __init__(self, txt):\n",
    "        self.message = txt\n",
    "\n",
    "    def printmessage(self):\n",
    "         print(self.message)\n",
    "\n",
    "class Child(Parent):\n",
    "    \n",
    "    def __init__(self, txt):\n",
    "        super().__init__(txt)\n",
    "\n",
    "x = Child(\"Hello, and welcome!\")\n",
    "\n",
    "x.printmessage()"
   ]
  },
  {
   "cell_type": "code",
   "execution_count": null,
   "metadata": {},
   "outputs": [],
   "source": []
  }
 ],
 "metadata": {
  "kernelspec": {
   "display_name": "Python 3",
   "language": "python",
   "name": "python3"
  },
  "language_info": {
   "codemirror_mode": {
    "name": "ipython",
    "version": 3
   },
   "file_extension": ".py",
   "mimetype": "text/x-python",
   "name": "python",
   "nbconvert_exporter": "python",
   "pygments_lexer": "ipython3",
   "version": "3.8.5"
  }
 },
 "nbformat": 4,
 "nbformat_minor": 4
}
