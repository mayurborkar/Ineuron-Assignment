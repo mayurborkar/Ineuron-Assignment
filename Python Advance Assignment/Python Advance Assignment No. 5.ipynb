{
 "cells": [
  {
   "cell_type": "markdown",
   "metadata": {},
   "source": [
    "**Q1. What is the meaning of multiple inheritance?**"
   ]
  },
  {
   "cell_type": "markdown",
   "metadata": {},
   "source": [
    "**Solution:-** Inheritance is the mechanism to achieve the re-usability of code as one class(child class) can derive the properties of another class(parent class). When a class is derived from more than one base class it is called multiple Inheritance."
   ]
  },
  {
   "cell_type": "code",
   "execution_count": 1,
   "metadata": {},
   "outputs": [
    {
     "name": "stdout",
     "output_type": "stream",
     "text": [
      "In Class2\n"
     ]
    }
   ],
   "source": [
    "# When method is overridden in both classes\n",
    "class Class1:\n",
    "    def m(self):\n",
    "        print('In Class1')\n",
    "        \n",
    "class Class2(Class1):\n",
    "    def m(self):\n",
    "        print('In Class2')\n",
    "        \n",
    "class Class3(Class1):\n",
    "    def m(self):\n",
    "        print('In Class3')\n",
    "        \n",
    "class Class4(Class2,Class3):\n",
    "    pass\n",
    "\n",
    "obj = Class4()\n",
    "obj.m()"
   ]
  },
  {
   "cell_type": "code",
   "execution_count": 2,
   "metadata": {},
   "outputs": [
    {
     "name": "stdout",
     "output_type": "stream",
     "text": [
      "In Class3\n"
     ]
    }
   ],
   "source": [
    "# When method is overridden in one of the classes\n",
    "class Class1:\n",
    "    def m(self):\n",
    "        print('In Class1')\n",
    "        \n",
    "class Class2(Class1):\n",
    "    pass\n",
    "        \n",
    "class Class3(Class1):\n",
    "    def m(self):\n",
    "        print('In Class3')\n",
    "        \n",
    "class Class4(Class2,Class3):\n",
    "    pass\n",
    "\n",
    "obj = Class4()\n",
    "obj.m()"
   ]
  },
  {
   "cell_type": "code",
   "execution_count": 4,
   "metadata": {},
   "outputs": [
    {
     "name": "stdout",
     "output_type": "stream",
     "text": [
      "In Class4\n",
      "In Class3\n",
      "In Class2\n",
      "In Class1\n"
     ]
    }
   ],
   "source": [
    "# When every class defines the same method\n",
    "class Class1:\n",
    "    def m(self):\n",
    "        print('In Class1')\n",
    "        \n",
    "class Class2(Class1):\n",
    "    def m(self):\n",
    "        print('In Class2')\n",
    "        \n",
    "class Class3(Class1):\n",
    "    def m(self):\n",
    "        print('In Class3')\n",
    "        \n",
    "class Class4(Class2,Class3):\n",
    "    def m(self):\n",
    "        print('In Class4')\n",
    "\n",
    "obj = Class4()\n",
    "obj.m()\n",
    "\n",
    "Class3.m(obj)\n",
    "Class2.m(obj)\n",
    "Class1.m(obj)"
   ]
  },
  {
   "cell_type": "code",
   "execution_count": 5,
   "metadata": {},
   "outputs": [
    {
     "name": "stdout",
     "output_type": "stream",
     "text": [
      "In Class4\n",
      "In Class3\n",
      "In Class2\n",
      "In Class1\n"
     ]
    }
   ],
   "source": [
    "# Now Diretly Call 'm' Method From Class4\n",
    "class Class1:\n",
    "    def m(self):\n",
    "        print('In Class1')\n",
    "        \n",
    "class Class2(Class1):\n",
    "    def m(self):\n",
    "        print('In Class2')\n",
    "        \n",
    "class Class3(Class1):\n",
    "    def m(self):\n",
    "        print('In Class3')\n",
    "        \n",
    "class Class4(Class2,Class3):\n",
    "    def m(self):\n",
    "        print('In Class4')\n",
    "        Class3.m(self)\n",
    "        Class2.m(self)\n",
    "        Class1.m(self)\n",
    "\n",
    "obj = Class4()\n",
    "obj.m()"
   ]
  },
  {
   "cell_type": "code",
   "execution_count": 6,
   "metadata": {},
   "outputs": [
    {
     "name": "stdout",
     "output_type": "stream",
     "text": [
      "In Class4\n",
      "In Class2\n",
      "In Class3\n",
      "In Class1\n"
     ]
    }
   ],
   "source": [
    "# Super Function\n",
    "class Class1:\n",
    "    def m(self):\n",
    "        print('In Class1')\n",
    "        \n",
    "class Class2(Class1):\n",
    "    def m(self):\n",
    "        print('In Class2')\n",
    "        super().m()\n",
    "        \n",
    "class Class3(Class1):\n",
    "    def m(self):\n",
    "        print('In Class3')\n",
    "        super().m()\n",
    "        \n",
    "class Class4(Class2,Class3):\n",
    "    def m(self):\n",
    "        print('In Class4')\n",
    "        super().m()\n",
    "        \n",
    "obj = Class4()\n",
    "obj.m()"
   ]
  },
  {
   "cell_type": "markdown",
   "metadata": {},
   "source": [
    "**Q2. What is the concept of delegation?**"
   ]
  },
  {
   "cell_type": "markdown",
   "metadata": {},
   "source": [
    "**Solution:-** Once the Delegator class is mixed in and the DELEGATED_METHODS dict is populated, it is very easy to delegate methods to any related classes. If the delegate class also does not have a particular method/attribute defined, then the standard AttributeError is raised - just as if you never mixed in the Delegator class."
   ]
  },
  {
   "cell_type": "markdown",
   "metadata": {},
   "source": [
    "**Q3. What is the concept of composition?**"
   ]
  },
  {
   "cell_type": "markdown",
   "metadata": {},
   "source": [
    "**Solution:-** Composition is a concept that models a has a relationship. It enables creating complex types by combining objects of other types. This means that a class Composite can contain an object of another class Component. This relationship means that a Composite has a Component."
   ]
  },
  {
   "cell_type": "code",
   "execution_count": 7,
   "metadata": {},
   "outputs": [
    {
     "name": "stdout",
     "output_type": "stream",
     "text": [
      "Component Class Created\n",
      "Composite Class Object Created\n",
      "The Method2 Is Created In Composite Class\n",
      "The Method Is Created In Component Class\n"
     ]
    }
   ],
   "source": [
    "class Component:\n",
    "    def __init__(self):\n",
    "        print('Component Class Created')\n",
    "        \n",
    "    def method(self):\n",
    "        print('The Method Is Created In Component Class')\n",
    "        \n",
    "class Composite:\n",
    "    def __init__(self):\n",
    "        self.obj1 = Component()\n",
    "        print('Composite Class Object Created')\n",
    "        \n",
    "    def method2(self):\n",
    "        print('The Method2 Is Created In Composite Class')\n",
    "        \n",
    "        self.obj1.method()\n",
    "        \n",
    "obj2 = Composite()\n",
    "obj2.method2()"
   ]
  },
  {
   "cell_type": "markdown",
   "metadata": {},
   "source": [
    "**Q4. What are bound methods and how do we use them?**"
   ]
  },
  {
   "cell_type": "markdown",
   "metadata": {},
   "source": [
    "**Solution:-** A bound method is the one which is dependent on the instance of the class as the first argument. It passes the instance as the first argument which is used to access the variables and functions. In Python 3 and newer versions of python, all functions in the class are by default bound methods."
   ]
  },
  {
   "cell_type": "code",
   "execution_count": 1,
   "metadata": {},
   "outputs": [
    {
     "name": "stdout",
     "output_type": "stream",
     "text": [
      "<bound method A.func of <__main__.A object at 0x00000202A23DDB80>>\n"
     ]
    }
   ],
   "source": [
    "class A:\n",
    "  \n",
    "    def func(self, arg):\n",
    "        self.arg = arg\n",
    "        print(\"Value of arg = \", arg)\n",
    "        \n",
    "obj = A()  \n",
    "  \n",
    "print(obj.func)"
   ]
  },
  {
   "cell_type": "code",
   "execution_count": 2,
   "metadata": {},
   "outputs": [
    {
     "name": "stdout",
     "output_type": "stream",
     "text": [
      "Car1 gears before calling change_gears() =  5\n",
      "Gears after calling change_gears() =  6\n",
      "<bound method Car.change_gears of <class '__main__.Car'>>\n"
     ]
    }
   ],
   "source": [
    "class Car:\n",
    "    gears = 5\n",
    "   \n",
    "    @classmethod\n",
    "    def change_gears(cls, gears):\n",
    "        cls.gears = gears\n",
    "        \n",
    "Car1 = Car()\n",
    "  \n",
    "print(\"Car1 gears before calling change_gears() = \", Car1.gears)\n",
    "\n",
    "Car1.change_gears(6)\n",
    "print(\"Gears after calling change_gears() = \", Car1.gears)\n",
    "  \n",
    "print(Car1.change_gears)"
   ]
  },
  {
   "cell_type": "markdown",
   "metadata": {},
   "source": [
    "**Q5. What is the purpose of pseudoprivate attributes?**"
   ]
  },
  {
   "cell_type": "markdown",
   "metadata": {},
   "source": [
    "**Solution:-**  It's just a way to localize a name to the class that created it, and does not prevent access by code outside the class. That is, this feature is mostly intended to avoid namespace collisions in instances, not to restrict access to names in general."
   ]
  },
  {
   "cell_type": "code",
   "execution_count": null,
   "metadata": {},
   "outputs": [],
   "source": []
  }
 ],
 "metadata": {
  "kernelspec": {
   "display_name": "Python 3",
   "language": "python",
   "name": "python3"
  },
  "language_info": {
   "codemirror_mode": {
    "name": "ipython",
    "version": 3
   },
   "file_extension": ".py",
   "mimetype": "text/x-python",
   "name": "python",
   "nbconvert_exporter": "python",
   "pygments_lexer": "ipython3",
   "version": "3.8.5"
  }
 },
 "nbformat": 4,
 "nbformat_minor": 4
}
