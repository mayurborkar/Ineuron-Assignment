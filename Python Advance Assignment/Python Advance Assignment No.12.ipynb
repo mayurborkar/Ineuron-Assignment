{
 "cells": [
  {
   "cell_type": "markdown",
   "metadata": {},
   "source": [
    "**Q1. Does assigning a value to a string's indexed character violate Python's string immutability?**"
   ]
  },
  {
   "cell_type": "markdown",
   "metadata": {},
   "source": [
    "**Solution:-** Yes. It is beacause of string immutability that means we can not change the characters in string by assigning new values to indexes."
   ]
  },
  {
   "cell_type": "markdown",
   "metadata": {},
   "source": [
    "**Q2. Does using the += operator to concatenate strings violate Python's string immutability? Why or why not?**"
   ]
  },
  {
   "cell_type": "markdown",
   "metadata": {},
   "source": [
    "**Solution:-** No. When we concatenate string, we assign new value to the same string variable. We are not altering string based on the indexes, so it won't violate Python's string immutability"
   ]
  },
  {
   "cell_type": "markdown",
   "metadata": {},
   "source": [
    "**Q3. In Python, how many different ways are there to index a character?**"
   ]
  },
  {
   "cell_type": "markdown",
   "metadata": {},
   "source": [
    "**Solution:-** There are two methods for this, find() and index() both will return the lowest index at which char is found."
   ]
  },
  {
   "cell_type": "markdown",
   "metadata": {},
   "source": [
    "**Q4. What is the relationship between indexing and slicing?**"
   ]
  },
  {
   "cell_type": "markdown",
   "metadata": {},
   "source": [
    "**Solution:-** Indexing is a way to access an element of a string by its position or index. Slicing is accessing only part od a string and not a full string. String slicing is done by using index."
   ]
  },
  {
   "cell_type": "code",
   "execution_count": 9,
   "metadata": {},
   "outputs": [
    {
     "name": "stdout",
     "output_type": "stream",
     "text": [
      "neuro\n",
      "etutitsnInoru\n"
     ]
    }
   ],
   "source": [
    "s = 'IneuronInstitute'\n",
    "\n",
    "print(s[1:6])\n",
    "print(s[-1:2:-1])"
   ]
  },
  {
   "cell_type": "markdown",
   "metadata": {},
   "source": [
    "**Q5. What is an indexed character's exact data type? What is the data form of a slicing-generated substring?**"
   ]
  },
  {
   "cell_type": "markdown",
   "metadata": {},
   "source": [
    "**Solution:-** for both cases, it is 'str' type."
   ]
  },
  {
   "cell_type": "markdown",
   "metadata": {},
   "source": [
    "**Q6. What is the relationship between string and character \"types\" in Python?**"
   ]
  },
  {
   "cell_type": "markdown",
   "metadata": {},
   "source": [
    "**Solution:-** In Python, There is no char data type, even a single character enclosed in doubble quotes is considered as str."
   ]
  },
  {
   "cell_type": "markdown",
   "metadata": {},
   "source": [
    "**Q7. Identify at least two operators and one method that allow you to combine one or more smaller strings to create a larger string.**"
   ]
  },
  {
   "cell_type": "markdown",
   "metadata": {},
   "source": [
    "**Solution:-** \"+\" will concatenate two strings and \"*\" will repeat the string number of times mentioned. We can also use join() method for getting a larger string."
   ]
  },
  {
   "cell_type": "code",
   "execution_count": 8,
   "metadata": {},
   "outputs": [
    {
     "name": "stdout",
     "output_type": "stream",
     "text": [
      "Mayur Is Doing Intership At Ineuron Company\n",
      "MayurMayurMayurMayur\n",
      "How are you?\n"
     ]
    }
   ],
   "source": [
    "print(\"Mayur Is Doing Intership At\"+\" \"+ 'Ineuron Company')\n",
    "\n",
    "print(\"Mayur\" * 4)\n",
    "\n",
    "l = ['How', 'are', 'you?']\n",
    "\n",
    "s = ' '.join(l)\n",
    "\n",
    "print(s)"
   ]
  },
  {
   "cell_type": "markdown",
   "metadata": {},
   "source": [
    "**Q8. What is the benefit of first checking the target string with in or not in before using the index method to find a substring?**"
   ]
  },
  {
   "cell_type": "markdown",
   "metadata": {},
   "source": [
    "**Solution:-** Normally, when we use index() method it will return the starting index of a substring, if substring is present in a string. But the major concern is if a substring is not present in a string, index() will return a ValueError. To avoid this, we can first check the target string with in or not in before using the index method to find a substring."
   ]
  },
  {
   "cell_type": "code",
   "execution_count": 2,
   "metadata": {},
   "outputs": [
    {
     "name": "stdout",
     "output_type": "stream",
     "text": [
      "5\n"
     ]
    }
   ],
   "source": [
    "s = 'mayurisatineuron'\n",
    "\n",
    "s1 = 'isat'\n",
    "\n",
    "if s1 in s:\n",
    "    print(s.index(s1))"
   ]
  },
  {
   "cell_type": "code",
   "execution_count": 5,
   "metadata": {},
   "outputs": [
    {
     "ename": "ValueError",
     "evalue": "substring not found",
     "output_type": "error",
     "traceback": [
      "\u001b[1;31m---------------------------------------------------------------------------\u001b[0m",
      "\u001b[1;31mValueError\u001b[0m                                Traceback (most recent call last)",
      "\u001b[1;32m<ipython-input-5-b3dd5f93b569>\u001b[0m in \u001b[0;36m<module>\u001b[1;34m\u001b[0m\n\u001b[0;32m      6\u001b[0m     \u001b[0mprint\u001b[0m\u001b[1;33m(\u001b[0m\u001b[0ms\u001b[0m\u001b[1;33m.\u001b[0m\u001b[0mindex\u001b[0m\u001b[1;33m(\u001b[0m\u001b[0ms1\u001b[0m\u001b[1;33m)\u001b[0m\u001b[1;33m)\u001b[0m\u001b[1;33m\u001b[0m\u001b[1;33m\u001b[0m\u001b[0m\n\u001b[0;32m      7\u001b[0m \u001b[1;33m\u001b[0m\u001b[0m\n\u001b[1;32m----> 8\u001b[1;33m \u001b[0ms\u001b[0m\u001b[1;33m.\u001b[0m\u001b[0mindex\u001b[0m\u001b[1;33m(\u001b[0m\u001b[0ms1\u001b[0m\u001b[1;33m)\u001b[0m\u001b[1;33m\u001b[0m\u001b[1;33m\u001b[0m\u001b[0m\n\u001b[0m",
      "\u001b[1;31mValueError\u001b[0m: substring not found"
     ]
    }
   ],
   "source": [
    "s = 'mayurisatineuron'\n",
    "\n",
    "s1 = 'xz'\n",
    "\n",
    "if s1 in s:\n",
    "    print(s.index(s1))\n",
    "    \n",
    "s.index(s1)"
   ]
  },
  {
   "cell_type": "markdown",
   "metadata": {},
   "source": [
    "**Q9. Which operators and built-in string methods produce simple Boolean (true/false) results?**"
   ]
  },
  {
   "cell_type": "markdown",
   "metadata": {},
   "source": [
    "**Solution:-**"
   ]
  },
  {
   "cell_type": "markdown",
   "metadata": {},
   "source": [
    "Operators:\n",
    "\n",
    "    1. Comparison operators : (== ,!= ,< ,> ,<=, >=) \n",
    "    2. Logical Operators : (and, or, not)\n",
    "    3. Identity Operators : (is , is not)\n",
    "    4. Membership Operators : (in, not in)\n",
    "\n",
    "String methods:\n",
    "\n",
    "    1. endswith() : Returns true if the string ends with the specified value \n",
    "    2. isalnum()    Returns True if all characters in the string are alphanumeric        \n",
    "    3. isalpha()    Returns True if all characters in the string are in the alphabet        \n",
    "    4. isdecimal()  Returns True if all characters in the string are decimals       \n",
    "    5. isdigit()    Returns True if all characters in the string are digits        \n",
    "    6. isidentifier()   Returns True if the string is an identifier        \n",
    "    7. islower()    Returns True if all characters in the string are lower case        \n",
    "    8. isnumeric()  Returns True if all characters in the string are numeric        \n",
    "    9. isprintable()    Returns True if all characters in the string are printable        \n",
    "    10. isspace()   Returns True if all characters in the string are whitespaces        \n",
    "    11. istitle()   Returns True if the string follows the rules of a title        \n",
    "    12. isupper()   Returns True if all characters in the string are upper case"
   ]
  },
  {
   "cell_type": "code",
   "execution_count": null,
   "metadata": {},
   "outputs": [],
   "source": []
  }
 ],
 "metadata": {
  "kernelspec": {
   "display_name": "Python 3",
   "language": "python",
   "name": "python3"
  },
  "language_info": {
   "codemirror_mode": {
    "name": "ipython",
    "version": 3
   },
   "file_extension": ".py",
   "mimetype": "text/x-python",
   "name": "python",
   "nbconvert_exporter": "python",
   "pygments_lexer": "ipython3",
   "version": "3.8.5"
  }
 },
 "nbformat": 4,
 "nbformat_minor": 4
}
