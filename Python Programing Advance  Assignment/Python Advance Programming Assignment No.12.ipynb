{
 "cells": [
  {
   "cell_type": "markdown",
   "metadata": {},
   "source": [
    "**1. For this challenge, forget how to add two numbers together. The best explanation on what to do for this function is this meme:**\n",
    "\n",
    "Examples\n",
    "\n",
    "meme_sum(26, 39) ➞ 515\n",
    "\n",
    "#2+3 = 5, 6+9 = 15\n",
    "\n",
    "#26 + 39 = 515\n",
    "\n",
    "meme_sum(122, 81) ➞ 1103\n",
    "\n",
    "#1+0 = 1, 2+8 = 10, 2+1 = 3\n",
    "\n",
    "#122 + 81 = 1103\n",
    "\n",
    "meme_sum(1222, 30277) ➞ 31499\n"
   ]
  },
  {
   "cell_type": "code",
   "execution_count": 16,
   "metadata": {},
   "outputs": [
    {
     "name": "stdout",
     "output_type": "stream",
     "text": [
      "515\n",
      "------------------------------\n",
      "1103\n",
      "------------------------------\n",
      "31499\n",
      "------------------------------\n"
     ]
    }
   ],
   "source": [
    "def meme_sum(a,b):\n",
    "    a = str(a)\n",
    "    b = str(b)\n",
    "    sum1=''\n",
    "    \n",
    "    while True:\n",
    "        if len(a) < len(b):\n",
    "            a = '0'+a\n",
    "        elif len(b) < len(a):\n",
    "            b = '0'+b\n",
    "        else:\n",
    "            break\n",
    "    \n",
    "    for i in range(len(a)):\n",
    "        sum1 = sum1 + str(int(a[i]) + int(b[i]))\n",
    "        \n",
    "    return int(sum1)\n",
    "\n",
    "print(meme_sum(26,39))\n",
    "print('---'*10)\n",
    "print(meme_sum(122,81))\n",
    "print('---'*10)\n",
    "print(meme_sum(1222,30277))\n",
    "print('---'*10)"
   ]
  },
  {
   "cell_type": "markdown",
   "metadata": {},
   "source": [
    "**2. Given an integer, create a function that returns the next prime. If the number is prime, return the number itself.**\n",
    "\n",
    "Examples\n",
    "\n",
    "next_prime(12) ➞ 13\n",
    "\n",
    "next_prime(24) ➞ 29\n",
    "\n",
    "next_prime(11) ➞ 11 #11 is a prime, so we return the number itself."
   ]
  },
  {
   "cell_type": "code",
   "execution_count": 26,
   "metadata": {},
   "outputs": [
    {
     "name": "stdout",
     "output_type": "stream",
     "text": [
      "13\n",
      "------------------------------\n",
      "25\n",
      "------------------------------\n",
      "11\n",
      "------------------------------\n"
     ]
    }
   ],
   "source": [
    "def prime(n):\n",
    "    for i in range(2,n):\n",
    "        if n % i == 0:\n",
    "            break\n",
    "        else:\n",
    "            return n\n",
    "        \n",
    "def next_prime(n):\n",
    "    while True:\n",
    "        if prime(n) != None:\n",
    "            break\n",
    "        n = n+1\n",
    "        prime(n)\n",
    "        \n",
    "    return prime(n)\n",
    "\n",
    "print(next_prime(12))\n",
    "print('---'*10)\n",
    "print(next_prime(24))\n",
    "print('---'*10)\n",
    "print(next_prime(11))\n",
    "print('---'*10)"
   ]
  },
  {
   "cell_type": "markdown",
   "metadata": {},
   "source": [
    "**3. If a person traveled up a hill for 18mins at 20mph and then traveled back down the same path at 60mph then their average speed traveled was 30mph. Write a function that returns the average speed traveled given an uphill time, uphill rate and a downhill rate. Uphill time is given in minutes. Return the rate as an integer (mph). No rounding is necessary.**\n",
    "\n",
    "Examples\n",
    "\n",
    "ave_spd(18, 20, 60) ➞ 30\n",
    "\n",
    "ave_spd(30, 10, 30) ➞ 15\n",
    "\n",
    "ave_spd(30, 8, 24) ➞ 12"
   ]
  },
  {
   "cell_type": "code",
   "execution_count": null,
   "metadata": {},
   "outputs": [],
   "source": []
  }
 ],
 "metadata": {
  "kernelspec": {
   "display_name": "Python 3",
   "language": "python",
   "name": "python3"
  },
  "language_info": {
   "codemirror_mode": {
    "name": "ipython",
    "version": 3
   },
   "file_extension": ".py",
   "mimetype": "text/x-python",
   "name": "python",
   "nbconvert_exporter": "python",
   "pygments_lexer": "ipython3",
   "version": "3.8.5"
  }
 },
 "nbformat": 4,
 "nbformat_minor": 4
}
