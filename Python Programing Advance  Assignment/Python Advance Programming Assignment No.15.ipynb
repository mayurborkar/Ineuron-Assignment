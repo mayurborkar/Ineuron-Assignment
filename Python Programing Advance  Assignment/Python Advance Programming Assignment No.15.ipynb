{
 "cells": [
  {
   "cell_type": "markdown",
   "metadata": {},
   "source": [
    "**1. Write a function that returns True if a given name can generate an array of words.**\n",
    "\n",
    "Examples\n",
    "\n",
    "anagram(\"Justin Bieber\", [\"injures\", \"ebb\", \"it\"]) ➞ True\n",
    "\n",
    "anagram(\"Natalie Portman\", [\"ornamental\", \"pita\"]) ➞ True\n",
    "\n",
    "anagram(\"Chris Pratt\", [\"chirps\", \"rat\"]) ➞ False #Not all letters are used\n",
    "\n",
    "anagram(\"Jeff Goldblum\", [\"jog\", \"meld\", \"bluffs\"]) ➞ False #\"s\" does not exist in the original name"
   ]
  },
  {
   "cell_type": "code",
   "execution_count": 4,
   "metadata": {},
   "outputs": [
    {
     "name": "stdout",
     "output_type": "stream",
     "text": [
      "True\n",
      "------------------------------\n",
      "True\n",
      "------------------------------\n",
      "False\n",
      "------------------------------\n",
      "False\n",
      "------------------------------\n"
     ]
    }
   ],
   "source": [
    "def anagram(letter, word):\n",
    "    for word_ in word:\n",
    "        for letter_ in word_:\n",
    "            if letter_ not in letter:\n",
    "                return False\n",
    "            return True\n",
    "\n",
    "print(anagram(\"Justin Bieber\", [\"injures\", \"ebb\", \"it\"]))\n",
    "print('---'*10)\n",
    "print(anagram(\"Natalie Portman\", [\"ornamental\", \"pita\"]))\n",
    "print('---'*10)\n",
    "print(anagram(\"Chris Pratt\", [\"chirps\", \"rat\"]))\n",
    "print('---'*10)\n",
    "print(anagram(\"Jeff Goldblum\", [\"jog\", \"meld\", \"bluffs\"]))\n",
    "print('---'*10)"
   ]
  },
  {
   "cell_type": "markdown",
   "metadata": {},
   "source": [
    "**2. Given an array of users, each defined by an object with the following properties: name, score, reputation create a function that sorts the array to form the correct leaderboard. The leaderboard takes into consideration the score of each user of course, but an emphasis is put on their reputation in the community, so to get the trueScore, you should add the reputation multiplied by 2 to the score.**\n",
    "\n",
    "**Once you know the trueScore of each user, sort the array according to it in descending order.**\n",
    "\n",
    "Examples\n",
    "\n",
    "leaderboards(\n",
    "\n",
    "[{\"name\": \"a\", \"score\": 100, \"reputation\": 20 }, {\"name\": \"b\", \"score\": 90, \"reputation\": 40 }, {\"name\": \n",
    "\n",
    "\"c\", \"score\": 115, \"reputation\": 30 }]) ➞ [ { \"name\": \"c\", \"score\": 115, \"reputation\": 30 }, # trueScore = 175 { \"name\": \n",
    "\n",
    "\"b\", \"score\": 90, \"reputation\": 40 }, # trueScore = 170 { \"name\": \"a\", \"score\": 100, \"reputation\": 20 } # trueScore = 140 ]"
   ]
  },
  {
   "cell_type": "markdown",
   "metadata": {},
   "source": [
    "**Solution:-**"
   ]
  },
  {
   "cell_type": "code",
   "execution_count": 11,
   "metadata": {},
   "outputs": [],
   "source": [
    "def leaderboards(l):\n",
    "    \n",
    "    return sorted(l, reverse=True, key= lambda k: k['score'] + k['reputation']*2)"
   ]
  },
  {
   "cell_type": "code",
   "execution_count": 12,
   "metadata": {},
   "outputs": [
    {
     "data": {
      "text/plain": [
       "[{'name': 'b', 'score': 90, 'reputation': 40},\n",
       " {'name': 'c', 'score': 115, 'reputation': 30},\n",
       " {'name': 'a', 'score': 100, 'reputation': 20}]"
      ]
     },
     "execution_count": 12,
     "metadata": {},
     "output_type": "execute_result"
    }
   ],
   "source": [
    "leaderboards([{\"name\": \"a\", \"score\": 100, \"reputation\": 20 }, {\"name\": \"b\", \"score\": 90, \"reputation\": 40 }, {\"name\":\n",
    "\n",
    "\"c\", \"score\": 115, \"reputation\": 30 }])"
   ]
  },
  {
   "cell_type": "markdown",
   "metadata": {},
   "source": [
    "**3. Create a function that, given a phrase and a number of letters guessed, returns a string with hyphens - for every letter of the phrase not guessed, and each letter guessed in place.**\n",
    "\n",
    "Examples\n",
    "\n",
    "hangman(\"helicopter\", [\"o\", \"e\", \"s\"]) ➞ \"-e---o--e-\"\n",
    "\n",
    "hangman(\"tree\", [\"r\", \"t\", \"e\"]) ➞ \"tree\"\n",
    "\n",
    "hangman(\"Python rules\", [\"a\", \"n\", \"p\", \"r\", \"z\"]) ➞ \"P----n r----\"\n",
    "\n",
    "hangman(\"He\"s a very naughty boy!\", [\"e\", \"a\", \"y\"]) ➞ \"-e\"- a -e-y -a----y –y!\""
   ]
  },
  {
   "cell_type": "markdown",
   "metadata": {},
   "source": [
    "**Solution:-**"
   ]
  },
  {
   "cell_type": "code",
   "execution_count": 32,
   "metadata": {},
   "outputs": [
    {
     "name": "stdout",
     "output_type": "stream",
     "text": [
      "-e---o--e-\n",
      "------------------------------\n",
      "tree\n",
      "------------------------------\n",
      "P----n-r----\n",
      "------------------------------\n",
      "-e\"--a--e-y--a----y---y-\n",
      "------------------------------\n"
     ]
    }
   ],
   "source": [
    "def hangman(s,l):\n",
    "    for letter in s:\n",
    "        if letter.lower() not in l and letter != '\"':\n",
    "            s=s.replace(letter, '-')\n",
    "    return s\n",
    "\n",
    "print(hangman(\"helicopter\", [\"o\", \"e\", \"s\"]))\n",
    "print('---'*10)\n",
    "print(hangman(\"tree\", [\"r\", \"t\", \"e\"]))\n",
    "print('---'*10)\n",
    "print(hangman(\"Python rules\", [\"a\", \"n\", \"p\", \"r\", \"z\"]))\n",
    "print('---'*10)\n",
    "print(hangman('He\"s a very naughty boy!', [\"e\", \"a\", \"y\"]))\n",
    "print('---'*10)"
   ]
  },
  {
   "cell_type": "markdown",
   "metadata": {},
   "source": [
    "**4. The Collatz sequence is as follows:**\n",
    "\n",
    " + Start with some given integer n.\n",
    " + If it is even, the next number will be n divided by 2.\n",
    " + If it is odd, multiply it by 3 and add 1 to make the next number.\n",
    " + The sequence stops when it reaches 1.\n",
    " \n",
    "**According to the Collatz conjecture, it will always reach 1. If that's true, you can construct a finite sequence following the aforementioned method for any given integer. Write a function that takes in an integer n and returns the highest integer in the corresponding Collatz sequence.**\n",
    "\n",
    "Examples\n",
    "\n",
    "max_collatz(10) ➞ 16 #Collatz sequence: 10, 5, 16, 8, 4, 2, 1\n",
    "\n",
    "max_collatz(32) ➞ 32 #Collatz sequence: 32, 16, 8, 4, 2, 1\n",
    "\n",
    "max_collatz(85) ➞ 256 #Collatz sequence: 85, 256, 128, 64, 32, 16, 8, 4, 2, 1"
   ]
  },
  {
   "cell_type": "markdown",
   "metadata": {},
   "source": [
    "**Solution:-**"
   ]
  },
  {
   "cell_type": "code",
   "execution_count": 34,
   "metadata": {},
   "outputs": [
    {
     "name": "stdout",
     "output_type": "stream",
     "text": [
      "16\n",
      "------------------------------\n",
      "32\n",
      "------------------------------\n",
      "256\n",
      "------------------------------\n"
     ]
    }
   ],
   "source": [
    "def max_collatz(n):\n",
    "    l = [n]\n",
    "    i = 0\n",
    "    while l[-1] != 1:\n",
    "        if l[i] % 2 ==0:\n",
    "            l.append(l[i] / 2)\n",
    "        else:\n",
    "            l.append(l[i] * 3 + 1)\n",
    "        i += 1    \n",
    "    return max(list(map(int,l)))\n",
    "\n",
    "print(max_collatz(10))\n",
    "print('---'*10)\n",
    "print(max_collatz(32))\n",
    "print('---'*10)\n",
    "print(max_collatz(85))\n",
    "print('---'*10)"
   ]
  },
  {
   "cell_type": "markdown",
   "metadata": {},
   "source": [
    "**5. Write a function that sorts a list of integers by their digit length in descending order, then settles ties by sorting numbers with the same digit length in ascending order.**\n",
    "\n",
    "Examples\n",
    "\n",
    "digit_sort([77, 23, 5, 7, 101]) ➞ [101, 23, 77, 5, 7]\n",
    "\n",
    "digit_sort([1, 5, 9, 2, 789, 563, 444]) ➞ [444, 563, 789, 1, 2, 5, 9]\n",
    "\n",
    "digit_sort([53219, 3772, 564, 32, 1]) ➞ [53219, 3772, 564, 32, 1]"
   ]
  },
  {
   "cell_type": "code",
   "execution_count": 52,
   "metadata": {},
   "outputs": [
    {
     "name": "stdout",
     "output_type": "stream",
     "text": [
      "[101, 23, 77, 5, 7]\n",
      "------------------------------\n",
      "[444, 563, 789, 1, 2, 5, 9]\n",
      "------------------------------\n",
      "[53219, 3772, 564, 32, 1]\n",
      "------------------------------\n"
     ]
    }
   ],
   "source": [
    "def digit_sort(l):\n",
    "    l = list(map(str, l))\n",
    "    l = sorted(l, key=len, reverse=True)\n",
    "    for i in range(len(l)):\n",
    "        for j in range(i, len(l)):\n",
    "            if len(l[i]) == len(l[j]):\n",
    "                if l[j] < l[i]:\n",
    "                    temp = l[i]\n",
    "                    l[i] = l[j]\n",
    "                    l[j] = temp\n",
    "    return list(map(int, l))\n",
    "\n",
    "print(digit_sort([77, 23, 5, 7, 101]))\n",
    "print('---'*10)\n",
    "print(digit_sort([1, 5, 9, 2, 789, 563, 444]))\n",
    "print('---'*10)\n",
    "print(digit_sort([53219, 3772, 564, 32, 1]))\n",
    "print('---'*10)"
   ]
  },
  {
   "cell_type": "code",
   "execution_count": null,
   "metadata": {},
   "outputs": [],
   "source": []
  }
 ],
 "metadata": {
  "kernelspec": {
   "display_name": "Python 3",
   "language": "python",
   "name": "python3"
  },
  "language_info": {
   "codemirror_mode": {
    "name": "ipython",
    "version": 3
   },
   "file_extension": ".py",
   "mimetype": "text/x-python",
   "name": "python",
   "nbconvert_exporter": "python",
   "pygments_lexer": "ipython3",
   "version": "3.8.5"
  }
 },
 "nbformat": 4,
 "nbformat_minor": 4
}
