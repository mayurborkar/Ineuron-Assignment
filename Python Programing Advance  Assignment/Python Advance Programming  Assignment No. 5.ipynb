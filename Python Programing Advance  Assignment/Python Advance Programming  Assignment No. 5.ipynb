{
 "cells": [
  {
   "cell_type": "markdown",
   "metadata": {},
   "source": [
    "**1. Create a function that takes a number n (integer greater than zero) as an argument, and returns 2 if n is odd and 8 if n is even.**\n",
    "\n",
    "**You can only use the following arithmetic operators: addition of numbers +, subtraction of numbers -, multiplication of number *, division of number /, and exponentiation **.**\n",
    "\n",
    "**You are not allowed to use any other methods in this challenge (i.e. no if statements, comparison operators, etc).**\n",
    "\n",
    "Examples\n",
    "\n",
    "f(1) ➞ **2**\n",
    "\n",
    "f(2) ➞ **8**\n",
    "\n",
    "f(3) ➞ **2**\n"
   ]
  },
  {
   "cell_type": "code",
   "execution_count": 1,
   "metadata": {},
   "outputs": [],
   "source": [
    "class Even_Odd:\n",
    "        \n",
    "    def __init__(self):\n",
    "        self = self\n",
    "    \n",
    "    \n",
    "    def f(self):\n",
    "        \"\"\"\n",
    "        Create a function that takes a number n (integer greater than zero) as an argument, and returns 2 if n is odd and  \n",
    "        8 if n is even. You are not allowed to use any other methods in this challenge \n",
    "        (i.e. no if statements, comparison operators, etc).\n",
    "        \"\"\"\n",
    "        try:\n",
    "            num = int(input('Enter The Number : '))\n",
    "            \n",
    "            while num < 0:\n",
    "                 return 'Enter The Number Greater Than Zero'\n",
    "            else:\n",
    "                arr = [\"8\", \"2\"]\n",
    "\n",
    "                return int(arr[num % 2])\n",
    "\n",
    "        except Exception as e:\n",
    "            print(e)\n",
    "            \n",
    "    def __str__(self):\n",
    "        \n",
    "        return 'The Given Function Is Written Inside The Class & Can Be Used For Identifying The Even & Odd Number.'"
   ]
  },
  {
   "cell_type": "code",
   "execution_count": 2,
   "metadata": {},
   "outputs": [],
   "source": [
    "d = Even_Odd()"
   ]
  },
  {
   "cell_type": "code",
   "execution_count": 3,
   "metadata": {},
   "outputs": [
    {
     "name": "stdout",
     "output_type": "stream",
     "text": [
      "Enter The Number : 1\n"
     ]
    },
    {
     "data": {
      "text/plain": [
       "2"
      ]
     },
     "execution_count": 3,
     "metadata": {},
     "output_type": "execute_result"
    }
   ],
   "source": [
    "d.f()"
   ]
  },
  {
   "cell_type": "code",
   "execution_count": 4,
   "metadata": {},
   "outputs": [
    {
     "name": "stdout",
     "output_type": "stream",
     "text": [
      "Enter The Number : 2\n"
     ]
    },
    {
     "data": {
      "text/plain": [
       "8"
      ]
     },
     "execution_count": 4,
     "metadata": {},
     "output_type": "execute_result"
    }
   ],
   "source": [
    "d.f()"
   ]
  },
  {
   "cell_type": "code",
   "execution_count": 5,
   "metadata": {},
   "outputs": [
    {
     "name": "stdout",
     "output_type": "stream",
     "text": [
      "Enter The Number : 3\n"
     ]
    },
    {
     "data": {
      "text/plain": [
       "2"
      ]
     },
     "execution_count": 5,
     "metadata": {},
     "output_type": "execute_result"
    }
   ],
   "source": [
    "d.f()"
   ]
  },
  {
   "cell_type": "markdown",
   "metadata": {},
   "source": [
    "**2. Create a function that returns the majority vote in a list. A majority vote is an element that occurs > N/2 times in a list (where N is the length of the list).**\n",
    "\n",
    "Examples\n",
    "\n",
    "majority_vote([\"A\", \"A\", \"B\"]) ➞ **\"A\"**\n",
    "\n",
    "majority_vote([\"A\", \"A\", \"A\", \"B\", \"C\", \"A\"]) ➞ **\"A\"**\n",
    "\n",
    "majority_vote([\"A\", \"B\", \"B\", \"A\", \"C\", \"C\"]) ➞ **None**\n"
   ]
  },
  {
   "cell_type": "code",
   "execution_count": 6,
   "metadata": {},
   "outputs": [],
   "source": [
    "from collections import Counter\n",
    "\n",
    "class Majority:\n",
    "    \n",
    "    def __init__(self,lis):\n",
    "        self.lis = lis\n",
    "\n",
    "    def majority_vote(self):\n",
    "        \"\"\"\n",
    "        The Given function that returns the majority vote in a list. A majority vote is an element that occurs > N/2 times \n",
    "        in a list (where N is the length of the list).\n",
    "        \"\"\"\n",
    "        try :\n",
    "            empty = ''\n",
    "            dic = Counter(self.lis)\n",
    "            N = len(self.lis)\n",
    "            for (key,value) in dic.items():\n",
    "\n",
    "                if (value > (N/2)):\n",
    "                    a = empty.join(key)\n",
    "                    return a\n",
    "                    return\n",
    "            print('None')\n",
    "\n",
    "        except Exception as e:\n",
    "            print(e)\n",
    "\n",
    "    def __str__(self):\n",
    "\n",
    "        return 'The Given Function Is Written Inside The Class & Can Be Used For Identifying The Majority of Item In List .'"
   ]
  },
  {
   "cell_type": "code",
   "execution_count": 7,
   "metadata": {},
   "outputs": [
    {
     "data": {
      "text/plain": [
       "'A'"
      ]
     },
     "execution_count": 7,
     "metadata": {},
     "output_type": "execute_result"
    }
   ],
   "source": [
    "#Calling Class\n",
    "m = Majority([\"A\",\"A\",\"B\"])\n",
    "m.majority_vote()"
   ]
  },
  {
   "cell_type": "code",
   "execution_count": 8,
   "metadata": {},
   "outputs": [
    {
     "data": {
      "text/plain": [
       "'A'"
      ]
     },
     "execution_count": 8,
     "metadata": {},
     "output_type": "execute_result"
    }
   ],
   "source": [
    "m = Majority([\"A\",\"A\",\"A\",\"B\",\"C\",\"A\"])\n",
    "m.majority_vote()"
   ]
  },
  {
   "cell_type": "code",
   "execution_count": 9,
   "metadata": {},
   "outputs": [
    {
     "name": "stdout",
     "output_type": "stream",
     "text": [
      "None\n"
     ]
    }
   ],
   "source": [
    "m = Majority([\"A\",\"B\",\"B\",\"A\",\"C\",\"C\"])\n",
    "m.majority_vote()"
   ]
  },
  {
   "cell_type": "markdown",
   "metadata": {},
   "source": [
    "**3. Create a function that takes a string txt and censors any word from a given list lst. The text removed must be replaced by the given character char.**\n",
    "\n",
    "Examples\n",
    "\n",
    "censor_string(\"Today is a Wednesday!\", [\"Today\", \"a\"], \"-\") ➞ \"----- is - Wednesday!\"\n",
    "\n",
    "censor_string(\"The cow jumped over the moon.\", [\"cow\", \"over\"], \"*\") ➞ \"The *** jumped **** the moon.\"\n",
    "\n",
    "censor_string(\"Why did the chicken cross the road?\", [\"Did\", \"chicken\", \"road\"], \"*\") ➞ \"Why *** the ******* cross the ****?\"\n"
   ]
  },
  {
   "cell_type": "code",
   "execution_count": 10,
   "metadata": {},
   "outputs": [],
   "source": [
    "class Censor:\n",
    "    \n",
    "    def __init__(self,text, banned_words, replacer):\n",
    "        self.text         = text  \n",
    "        self.replacer     = replacer\n",
    "        self.banned_words = banned_words\n",
    "\n",
    "    def censor_string(self):\n",
    "        \"\"\"\n",
    "        The Given function that takes a string txt and censors any word from a given list lst. \n",
    "        The text removed must be replaced by the given character char.\n",
    "        Text         = The String which Are We Providing\n",
    "        Replacer     = The Replacer Is That Sign Which We are Replacing With The String\n",
    "        Banned_Words = The Word Which We Replace With The Replacer\n",
    "        \"\"\"\n",
    "        return \"\".join([i + \" \" if i not in self.banned_words else self.replacer*len(i) + \" \" for i in self.text.split()])\n",
    "    \n",
    "    def __str__(self):\n",
    "        \n",
    "        return 'The Given Function Is Written Inside The Class & Can Be Used For Replacing The Banned Word With Replacer.'"
   ]
  },
  {
   "cell_type": "code",
   "execution_count": 11,
   "metadata": {},
   "outputs": [],
   "source": [
    "c  = Censor(\"Today is a Wednesday!\", [\"Today\", \"a\"], \"-\")"
   ]
  },
  {
   "cell_type": "code",
   "execution_count": 12,
   "metadata": {},
   "outputs": [
    {
     "data": {
      "text/plain": [
       "'----- is - Wednesday! '"
      ]
     },
     "execution_count": 12,
     "metadata": {},
     "output_type": "execute_result"
    }
   ],
   "source": [
    "c.censor_string()"
   ]
  },
  {
   "cell_type": "code",
   "execution_count": 13,
   "metadata": {},
   "outputs": [],
   "source": [
    "c  = Censor(\"The cow jumped over the moon.\", [\"cow\", \"over\"], \"*\")"
   ]
  },
  {
   "cell_type": "code",
   "execution_count": 14,
   "metadata": {},
   "outputs": [
    {
     "data": {
      "text/plain": [
       "'The *** jumped **** the moon. '"
      ]
     },
     "execution_count": 14,
     "metadata": {},
     "output_type": "execute_result"
    }
   ],
   "source": [
    "c.censor_string()"
   ]
  },
  {
   "cell_type": "code",
   "execution_count": 15,
   "metadata": {},
   "outputs": [],
   "source": [
    "c  = Censor(\"Why did the chicken cross the road?\", [\"Did\", \"chicken\", \"road\"], \"*\")"
   ]
  },
  {
   "cell_type": "code",
   "execution_count": 16,
   "metadata": {},
   "outputs": [
    {
     "data": {
      "text/plain": [
       "'Why did the ******* cross the road? '"
      ]
     },
     "execution_count": 16,
     "metadata": {},
     "output_type": "execute_result"
    }
   ],
   "source": [
    "c.censor_string()"
   ]
  },
  {
   "cell_type": "markdown",
   "metadata": {},
   "source": [
    "**4. In mathematics a Polydivisible Number (or magic number) is a number in a given number base with digits abcde... that has the following properties:**\n",
    "\n",
    "- Its first digit a is not 0.\n",
    "\n",
    "- The number formed by its first two digits ab is a multiple of 2.\n",
    "\n",
    "- The number formed by its first three digits abc is a multiple of 3.\n",
    "\n",
    "- The number formed by its first four digits abcd is a multiple of 4.\n",
    "\n",
    "**Create a function which takes an integer n and returns True if the given number is a Polydivisible Number and False otherwise.**\n",
    "\n",
    "Examples\n",
    "\n",
    "is_polydivisible(1232) ➞ **True**\n",
    "\n",
    "**1     / 1 = 1**\n",
    "\n",
    "**12    / 2 = 6**\n",
    "\n",
    "**123   / 3 = 41**\n",
    "\n",
    "**1232  / 4 = 308**\n",
    "\n",
    "is_polydivisible(123220 ) ➞ **False**\n",
    "\n",
    "**1   / 1 = 1**\n",
    "\n",
    "**12   / 2 = 6**\n",
    "\n",
    "**123   / 3 = 41**\n",
    "\n",
    "**1232   / 4 = 308**\n",
    "\n",
    "**12322   / 5 = 2464.4**  # Not a Whole Number\n",
    "\n",
    "**123220   /6 = 220536.333...**  # Not a Whole Number\n"
   ]
  },
  {
   "cell_type": "code",
   "execution_count": 17,
   "metadata": {},
   "outputs": [
    {
     "name": "stdout",
     "output_type": "stream",
     "text": [
      "True\n",
      "------------------------------\n",
      "False\n",
      "------------------------------\n"
     ]
    }
   ],
   "source": [
    "class Ploydivisible:\n",
    "    \n",
    "    def __init__(self,num):\n",
    "        self.num = num\n",
    "\n",
    "    def is_ploydivisible(self):\n",
    "        \"\"\"\n",
    "        The Given function which takes an integer n and returns True if the given number is a Polydivisible Number or False.\n",
    "        What Is Ploydivisible Number?\n",
    "        The Number Is Said To Be Polydivisible, If Below Condition Satisfy\n",
    "        Its first digit a is not 0.\n",
    "        The number formed by its first two digits ab is a multiple of 2.\n",
    "        The number formed by its first three digits abc is a multiple of 3.\n",
    "        The number formed by its first four digits abcd is a multiple of 4.    \n",
    "        \"\"\"\n",
    "        try:\n",
    "            n = str(self.num)\n",
    "            for i in range(len(n)):\n",
    "                if int(n[:i+1]) % (i+1) != 0:\n",
    "                    return False\n",
    "            return True\n",
    "\n",
    "        except Exception as e:\n",
    "            print(e)\n",
    "\n",
    "    def __str__(self):\n",
    "\n",
    "        return 'The Given Function Is Written Inside The Class & Can Be Used For Checking The Given Number Is Polydivisible or Not.'\n",
    "    \n",
    "#Calling Class\n",
    "p = Ploydivisible(1232)\n",
    "print(p.is_ploydivisible())\n",
    "print('---'*10)\n",
    "\n",
    "p = Ploydivisible(123220)\n",
    "print(p.is_ploydivisible())\n",
    "print('---'*10)"
   ]
  },
  {
   "cell_type": "markdown",
   "metadata": {},
   "source": [
    "**5. Create a function that takes a list of numbers and returns the sum of all prime numbers in the list.**\n",
    "\n",
    "Examples\n",
    "\n",
    "sum_primes([1, 2, 3, 4, 5, 6, 7, 8, 9, 10]) ➞ **17**\n",
    "\n",
    "sum_primes([2, 3, 4, 11, 20, 50, 71]) ➞ **87**\n",
    "\n",
    "sum_primes([]) ➞ **None**\n"
   ]
  },
  {
   "cell_type": "code",
   "execution_count": 18,
   "metadata": {},
   "outputs": [
    {
     "name": "stdout",
     "output_type": "stream",
     "text": [
      "17\n",
      "------------------------------\n",
      "87\n",
      "------------------------------\n",
      "0\n",
      "------------------------------\n"
     ]
    }
   ],
   "source": [
    "def prime(n):\n",
    "    \"\"\"\n",
    "    The Given Function Can Be Used To Whether The Given Number Is Prime or Not. The Function Can Be Used In Below Function.\n",
    "    n = The Number\n",
    "    \"\"\"\n",
    "    if n <= 0: \n",
    "        return \"Not defined\" \n",
    "    elif n == 1: \n",
    "        return \"Not prime\" \n",
    "    for i in range(2, n): \n",
    "        if n%i == 0: \n",
    "            return \"not prime\" \n",
    "    return \"prime\"\n",
    "    \n",
    "\n",
    "def list_prime(lst):\n",
    "    \"\"\"\n",
    "    The Given Function Can Be Used For To Find Out The Sum of The Prime Number From The Given List.\n",
    "    lst = The List From User\n",
    "    \"\"\"\n",
    "    try:\n",
    "        prime_list =[ ]\n",
    "        sum = 0\n",
    "        for i in lst: \n",
    "            x = prime(i) \n",
    "            if x == \"prime\": \n",
    "                prime_list.append(i) \n",
    "        for i in prime_list:  \n",
    "                sum += i  \n",
    "        return sum \n",
    "    \n",
    "    except Exception as e:\n",
    "        print(e)\n",
    "        \n",
    "print(list_prime([1,2,3,4,5,6,7,8,9,10])) \n",
    "print('---'*10)\n",
    "\n",
    "print(list_prime([2, 3, 4, 11, 20, 50, 71]))\n",
    "print('---'*10)\n",
    "\n",
    "print(list_prime([]))\n",
    "print('---'*10)"
   ]
  },
  {
   "cell_type": "code",
   "execution_count": null,
   "metadata": {},
   "outputs": [],
   "source": []
  }
 ],
 "metadata": {
  "kernelspec": {
   "display_name": "Python 3",
   "language": "python",
   "name": "python3"
  },
  "language_info": {
   "codemirror_mode": {
    "name": "ipython",
    "version": 3
   },
   "file_extension": ".py",
   "mimetype": "text/x-python",
   "name": "python",
   "nbconvert_exporter": "python",
   "pygments_lexer": "ipython3",
   "version": "3.8.5"
  }
 },
 "nbformat": 4,
 "nbformat_minor": 4
}
