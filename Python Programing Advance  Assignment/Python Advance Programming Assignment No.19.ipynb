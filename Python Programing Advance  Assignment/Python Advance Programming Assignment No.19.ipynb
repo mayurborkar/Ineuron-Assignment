{
 "cells": [
  {
   "cell_type": "markdown",
   "metadata": {},
   "source": [
    "**1. Create a checker board generator, which takes as inputs n and 2 elements to generate an n x n checkerboard with those two elements as alternating squares.**\n",
    "\n",
    "Examples\n",
    "\n",
    "checker_board(2, 7, 6) ➞ [ [7, 6], [6, 7] ]\n",
    "\n",
    "checker_board(3, \"A\", \"B\") ➞ [ [\"A\", \"B\", \"A\"], [\"B\", \"A\", \"B\"], [\"A\", \"B\", \"A\"] ]\n",
    "\n",
    "checker_board(4, \"c\", \"d\") ➞ [ [\"c\", \"d\", \"c\", \"d\"], [\"d\", \"c\", \"d\", \"c\"], [\"c\", \"d\", \"c\", \"d\"], [\"d\", \"c\", \"d\", \"c\"] ]\n",
    "\n",
    "checker_board(4, \"c\", \"c\") ➞ \"invalid\""
   ]
  },
  {
   "cell_type": "code",
   "execution_count": 2,
   "metadata": {},
   "outputs": [
    {
     "name": "stdout",
     "output_type": "stream",
     "text": [
      "[[7, 6], [6, 7]]\n",
      "------------------------------\n",
      "[['A', 'B', 'A'], ['B', 'A', 'B'], ['A', 'B', 'A']]\n",
      "------------------------------\n",
      "[['c', 'd', 'c', 'd'], ['d', 'c', 'd', 'c'], ['c', 'd', 'c', 'd'], ['d', 'c', 'd', 'c']]\n",
      "------------------------------\n",
      "invalid\n",
      "------------------------------\n"
     ]
    }
   ],
   "source": [
    "def checker_board(n, e1, e2):\n",
    "    if e1 != e2:\n",
    "        l = []\n",
    "        for i in range(n):\n",
    "            l1 = []\n",
    "            for j in range(n):\n",
    "                if i % 2 ==0:\n",
    "                    if j % 2==0:\n",
    "                        l1.append(e1)\n",
    "                    else:\n",
    "                        l1.append(e2)\n",
    "                else:\n",
    "                    if j % 2==0:\n",
    "                        l1.append(e2)\n",
    "                    else:\n",
    "                        l1.append(e1)\n",
    "                        \n",
    "            l.append(l1)\n",
    "        return l\n",
    "    else:\n",
    "        return 'invalid'\n",
    "    \n",
    "print(checker_board(2,7,6))\n",
    "print('---'*10)\n",
    "print(checker_board(3, \"A\", \"B\"))\n",
    "print('---'*10)\n",
    "print(checker_board(4, \"c\", \"d\"))\n",
    "print('---'*10)\n",
    "print(checker_board(4, \"c\", \"c\"))\n",
    "print('---'*10)"
   ]
  },
  {
   "cell_type": "code",
   "execution_count": null,
   "metadata": {},
   "outputs": [],
   "source": []
  }
 ],
 "metadata": {
  "kernelspec": {
   "display_name": "Python 3",
   "language": "python",
   "name": "python3"
  },
  "language_info": {
   "codemirror_mode": {
    "name": "ipython",
    "version": 3
   },
   "file_extension": ".py",
   "mimetype": "text/x-python",
   "name": "python",
   "nbconvert_exporter": "python",
   "pygments_lexer": "ipython3",
   "version": "3.8.5"
  }
 },
 "nbformat": 4,
 "nbformat_minor": 4
}
