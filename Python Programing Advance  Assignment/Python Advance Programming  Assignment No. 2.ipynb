{
 "cells": [
  {
   "cell_type": "markdown",
   "metadata": {},
   "source": [
    "**1. Write a function that takes a positive integer num and calculates how many dots exist in a pentagonal shape around the center dot on the Nth iteration.**\n",
    "\n",
    "**In the image below you can see the first iteration is only a single dot. On the second, there are 6 dots. On the third, there are 16 dots, and on the fourth there are 31 dots.**\n",
    "\n",
    "Return the number of dots that exist in the whole pentagon on the Nth iteration.\n",
    "\n",
    "Examples\n",
    "\n",
    "pentagonal(1) ➞ **1**\n",
    "\n",
    "pentagonal(2) ➞ **6**\n",
    "\n",
    "pentagonal(3) ➞ **16**\n",
    "\n",
    "pentagonal(8) ➞ **141**\n"
   ]
  },
  {
   "cell_type": "code",
   "execution_count": 17,
   "metadata": {},
   "outputs": [
    {
     "name": "stdout",
     "output_type": "stream",
     "text": [
      "1\n",
      "------------------------------\n",
      "6\n",
      "------------------------------\n",
      "16\n",
      "------------------------------\n",
      "141\n",
      "------------------------------\n"
     ]
    }
   ],
   "source": [
    "class Pentagon:\n",
    "    \n",
    "    def __init__(self,iteration):\n",
    "        self.iteration = iteration\n",
    "\n",
    "    def pentagonal(self):\n",
    "        \"\"\"\n",
    "        Given function that takes a positive integer num and calculates how many dots exist in a pentagonal shape around \n",
    "        the center dot on the Nth iteration.\n",
    "        \"\"\"\n",
    "        try:\n",
    "            self.iteration = self.iteration - 1\n",
    "\n",
    "            dot = ((5*(self.iteration**2)) + (5*self.iteration) + 2) // 2\n",
    "\n",
    "            return dot\n",
    "\n",
    "        except Exception as e:\n",
    "            print(e)\n",
    "\n",
    "    def __str__(self):\n",
    "\n",
    "        return 'The Gievn Function Is Written Inside The Class & Can Be Used For Defininng the Dot of Pentagaon Based On Iteration.'\n",
    "     \n",
    "#Calling Class\n",
    "p = Pentagon(1)\n",
    "print(p.pentagonal())\n",
    "print('---'*10)\n",
    "\n",
    "p = Pentagon(2)\n",
    "print(p.pentagonal())\n",
    "print('---'*10)\n",
    "\n",
    "p = Pentagon(3)\n",
    "print(p.pentagonal())\n",
    "print('---'*10)\n",
    "\n",
    "p = Pentagon(8)\n",
    "print(p.pentagonal())\n",
    "print('---'*10)"
   ]
  },
  {
   "cell_type": "markdown",
   "metadata": {},
   "source": [
    "**2.  Make a function that encrypts a given input with these steps:**\n",
    "\n",
    "Input: \"apple\"\n",
    "\n",
    "Step 1: Reverse the input: **\"elppa\"**\n",
    "\n",
    "Step 2: Replace all vowels using the following chart:\n",
    "\n",
    "**a => 0, e => 1, i => 2, o => 2, u => 3**\n",
    "\n",
    "**\"1lpp0\"**\n",
    "\n",
    "Step 3: Add \"aca\" to the end of the word: **\"1lpp0aca\"**\n",
    "\n",
    "Output: **\"1lpp0aca\"**\n",
    "\n",
    "Examples\n",
    "\n",
    "encrypt(\"banana\") ➞ **\"0n0n0baca\"**\n",
    "\n",
    "encrypt(\"karaca\") ➞ **\"0c0r0kaca\"**\n",
    "\n",
    "encrypt(\"burak\") ➞ **\"k0r3baca\"**\n",
    "\n",
    "encrypt(\"alpaca\") ➞ **\"0c0pl0aca\"**\n"
   ]
  },
  {
   "cell_type": "code",
   "execution_count": 71,
   "metadata": {},
   "outputs": [
    {
     "name": "stdout",
     "output_type": "stream",
     "text": [
      "1lpp0aca\n",
      "------------------------------\n",
      "0n0n0baca\n",
      "------------------------------\n",
      "0c0r0kaca\n",
      "------------------------------\n",
      "k0r3baca\n",
      "------------------------------\n",
      "0c0pl0aca\n",
      "------------------------------\n"
     ]
    }
   ],
   "source": [
    "class Encrypt:\n",
    "    \n",
    "    def __init__(self,string):\n",
    "        self.string = string\n",
    "\n",
    "    def encrypt(self):\n",
    "        \"\"\"\n",
    "        Given function that encrypts a given input with these steps:\n",
    "        Step 1: Reverse the input\n",
    "        Step 2: Replace all vowels using the following chart:\n",
    "        Step 3: Add \"aca\" to the end of the word\n",
    "        \"\"\"\n",
    "        try:\n",
    "            step1 = self.string[::-1]\n",
    "\n",
    "            vowels = {'a' : '0', 'e' : '1', 'i' : '2', 'o' : '2', 'u' : '3'}\n",
    "\n",
    "            step2 = ''.join(vowels.get(i,i) for i in step1)\n",
    "\n",
    "            step3 = step2 + 'aca'\n",
    "\n",
    "            return step3\n",
    "\n",
    "        except Exception as e:\n",
    "            print(e)\n",
    "\n",
    "    def __str__(self):\n",
    "\n",
    "        return 'The Given Function Is Written Inside The Class & Can Be Used For Encrypt The String According To Steps.'\n",
    "    \n",
    "#Calling Class\n",
    "e = Encrypt('apple')\n",
    "print(e.encrypt())\n",
    "print('---'*10)\n",
    "\n",
    "e = Encrypt(\"banana\")\n",
    "print(e.encrypt())\n",
    "print('---'*10)\n",
    "\n",
    "e = Encrypt(\"karaca\")\n",
    "print(e.encrypt())\n",
    "print('---'*10)\n",
    "\n",
    "e = Encrypt(\"burak\")\n",
    "print(e.encrypt())\n",
    "print('---'*10)\n",
    "\n",
    "e = Encrypt(\"alpaca\")\n",
    "print(e.encrypt())\n",
    "print('---'*10)"
   ]
  },
  {
   "cell_type": "markdown",
   "metadata": {},
   "source": [
    "**3. Given the month and year as numbers, return whether that month contains a Friday 13th.(i.e You can check Python's datetime module)**\n",
    "\n",
    "Examples\n",
    "\n",
    "has_friday_13(3, 2020) ➞ **True**\n",
    "\n",
    "has_friday_13(10, 2017) ➞ **True**\n",
    "\n",
    "has_friday_13(1, 1985) ➞ **False**\n"
   ]
  },
  {
   "cell_type": "code",
   "execution_count": 111,
   "metadata": {},
   "outputs": [],
   "source": [
    "import datetime\n",
    "\n",
    "class Friday:\n",
    "    \n",
    "    def __init__(self,month,year):\n",
    "        self.month = month\n",
    "        self.year = year\n",
    "        \n",
    "    @classmethod\n",
    "    def from_input(cls):\n",
    "        return cls(input('Enter The Month : '), \n",
    "                   input('Enter The Year : '),)\n",
    "\n",
    "    def has_friday_13(self):\n",
    "        try:\n",
    "            a = datetime.datetime.strptime('13 '+' '+self.month+' '+self.year, '%d %m %Y').weekday()\n",
    "            if a==4:\n",
    "                return True\n",
    "            else:\n",
    "                return False\n",
    "                \n",
    "        except Exception as e:\n",
    "            print(e)"
   ]
  },
  {
   "cell_type": "code",
   "execution_count": 112,
   "metadata": {},
   "outputs": [
    {
     "name": "stdout",
     "output_type": "stream",
     "text": [
      "Enter The Month : 3\n",
      "Enter The Year : 2020\n"
     ]
    }
   ],
   "source": [
    "f = Friday.from_input()"
   ]
  },
  {
   "cell_type": "code",
   "execution_count": 113,
   "metadata": {},
   "outputs": [
    {
     "data": {
      "text/plain": [
       "True"
      ]
     },
     "execution_count": 113,
     "metadata": {},
     "output_type": "execute_result"
    }
   ],
   "source": [
    "f.has_friday_13()"
   ]
  },
  {
   "cell_type": "code",
   "execution_count": 114,
   "metadata": {},
   "outputs": [
    {
     "name": "stdout",
     "output_type": "stream",
     "text": [
      "Enter The Month : 10\n",
      "Enter The Year : 2017\n"
     ]
    }
   ],
   "source": [
    "f = Friday.from_input()"
   ]
  },
  {
   "cell_type": "code",
   "execution_count": 115,
   "metadata": {},
   "outputs": [
    {
     "data": {
      "text/plain": [
       "True"
      ]
     },
     "execution_count": 115,
     "metadata": {},
     "output_type": "execute_result"
    }
   ],
   "source": [
    "f.has_friday_13()"
   ]
  },
  {
   "cell_type": "code",
   "execution_count": 116,
   "metadata": {},
   "outputs": [
    {
     "name": "stdout",
     "output_type": "stream",
     "text": [
      "Enter The Month : 1\n",
      "Enter The Year : 1985\n"
     ]
    }
   ],
   "source": [
    "f = Friday.from_input()"
   ]
  },
  {
   "cell_type": "code",
   "execution_count": 117,
   "metadata": {},
   "outputs": [
    {
     "data": {
      "text/plain": [
       "False"
      ]
     },
     "execution_count": 117,
     "metadata": {},
     "output_type": "execute_result"
    }
   ],
   "source": [
    "f.has_friday_13()"
   ]
  },
  {
   "cell_type": "markdown",
   "metadata": {},
   "source": [
    "**4. Write a regular expression that will help us count how many bad cookies are produced every day. You must use RegEx negative look behind.**\n",
    "\n",
    "Example\n",
    "\n",
    "lst = [\"bad cookie\", \"good cookie\", \"bad cookie\", \"good cookie\", \"good cookie\"]\n",
    "\n",
    "pattern = \"yourregularexpressionhere\"\n",
    "\n",
    "len(re.findall(pattern, \", \".join(lst))) ➞ **2**\n"
   ]
  },
  {
   "cell_type": "code",
   "execution_count": null,
   "metadata": {},
   "outputs": [],
   "source": []
  },
  {
   "cell_type": "markdown",
   "metadata": {},
   "source": [
    "**5. Given a list of words in the singular form, return a set of those words in the plural form if they appear more than once in the list.**\n",
    "\n",
    "Examples\n",
    "\n",
    "pluralize([\"cow\", \"pig\", \"cow\", \"cow\"]) ➞ **{ \"cows\", \"pig\" }**\n",
    "\n",
    "pluralize([\"table\", \"table\", \"table\"]) ➞  **{ \"tables\" }**\n",
    "\n",
    "pluralize([\"chair\", \"pencil\", \"arm\"]) ➞  **{ \"chair\", \"pencil\", \"arm\" }**\n"
   ]
  },
  {
   "cell_type": "code",
   "execution_count": 67,
   "metadata": {},
   "outputs": [
    {
     "name": "stdout",
     "output_type": "stream",
     "text": [
      "{'pig', 'cows'}\n",
      "------------------------------\n",
      "{'tables'}\n",
      "------------------------------\n",
      "{'pencil', 'arm', 'chair'}\n",
      "------------------------------\n"
     ]
    }
   ],
   "source": [
    "class Pluralize:\n",
    "    \n",
    "    def __init__(self,lis):\n",
    "        self.lis = lis\n",
    "        \n",
    "    def pluralize(self):\n",
    "        \"\"\"\n",
    "        Given a list of words in the singular form, return a set of those words in the plural form, \n",
    "        if they appear more than once in the list.\n",
    "        \"\"\"\n",
    "        try:\n",
    "            empty = set()\n",
    "            for i in self.lis:\n",
    "                if self.lis.count(i)>1:\n",
    "                    empty.add(i+'s')\n",
    "                else:\n",
    "                    empty.add(i)\n",
    "\n",
    "            return empty\n",
    "        \n",
    "        except Exception as e:\n",
    "            print(e)\n",
    "            \n",
    "    def __str__(self):\n",
    "        \n",
    "        return 'The Given Function Is Written Inside The Class & Can Be Used For Pluralize The String Which May Be Repeated.'\n",
    "    \n",
    "#Driver Code\n",
    "p = Pluralize(['cow','pig','cow','cow'])\n",
    "print(p.pluralize())\n",
    "print('---'*10)\n",
    "\n",
    "p = Pluralize(['table','table','table'])\n",
    "print(p.pluralize())\n",
    "print('---'*10)\n",
    "\n",
    "p = Pluralize(['chair','pencil','arm'])\n",
    "print(p.pluralize())\n",
    "print('---'*10)"
   ]
  },
  {
   "cell_type": "code",
   "execution_count": null,
   "metadata": {},
   "outputs": [],
   "source": []
  }
 ],
 "metadata": {
  "kernelspec": {
   "display_name": "Python 3",
   "language": "python",
   "name": "python3"
  },
  "language_info": {
   "codemirror_mode": {
    "name": "ipython",
    "version": 3
   },
   "file_extension": ".py",
   "mimetype": "text/x-python",
   "name": "python",
   "nbconvert_exporter": "python",
   "pygments_lexer": "ipython3",
   "version": "3.8.5"
  }
 },
 "nbformat": 4,
 "nbformat_minor": 4
}
