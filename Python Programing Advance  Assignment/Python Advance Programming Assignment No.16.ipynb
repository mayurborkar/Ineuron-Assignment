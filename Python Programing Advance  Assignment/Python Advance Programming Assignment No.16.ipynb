{
 "cells": [
  {
   "cell_type": "markdown",
   "metadata": {},
   "source": [
    "**1. Rondo Form is a type of musical structure, in which there is a recurring theme/refrain, notated as A. Here are the rules for valid rondo forms:**\n",
    " + Rondo forms always start and end with an A section.\n",
    " + In between the A sections, there should be contrasting sections notated as B, then C, then D, etc... No letter should be skipped.\n",
    " + There shouldn't be any repeats in the sequence (such as ABBACCA).\n",
    " \n",
    "**Create a function which validates whether a given string is a valid Rondo Form.**\n",
    "\n",
    "Examples\n",
    "\n",
    "valid_rondo(\"ABACADAEAFAGAHAIAJA\") ➞ True\n",
    "\n",
    "valid_rondo(\"ABA\") ➞ True\n",
    "\n",
    "valid_rondo(\"ABBACCA\") ➞ False\n",
    "\n",
    "valid_rondo(\"ACAC\") ➞ False\n",
    "\n",
    "valid_rondo(\"A\") ➞ False"
   ]
  },
  {
   "cell_type": "markdown",
   "metadata": {},
   "source": [
    "**Solution:-**"
   ]
  },
  {
   "cell_type": "code",
   "execution_count": 1,
   "metadata": {},
   "outputs": [
    {
     "name": "stdout",
     "output_type": "stream",
     "text": [
      "True\n",
      "------------------------------\n",
      "True\n",
      "------------------------------\n",
      "False\n",
      "------------------------------\n",
      "False\n",
      "------------------------------\n",
      "False\n",
      "------------------------------\n"
     ]
    }
   ],
   "source": [
    "def valid_rondo(l):\n",
    "    if l[0] == l[-1] == 'A' and len(l) >1:\n",
    "        for i in range(1, len(l)-1):\n",
    "            if l[i] != 'A' and l.count(l[i]) > 1:\n",
    "                return False   \n",
    "            return True   \n",
    "    else:\n",
    "        return False\n",
    "    \n",
    "print(valid_rondo(\"ABACADAEAFAGAHAIAJA\"))\n",
    "print('---'*10)\n",
    "print(valid_rondo(\"ABA\"))\n",
    "print('---'*10)\n",
    "print(valid_rondo(\"ABBACCA\"))\n",
    "print('---'*10)\n",
    "print(valid_rondo(\"ACAC\"))\n",
    "print('---'*10)\n",
    "print(valid_rondo(\"A\"))\n",
    "print('---'*10)"
   ]
  },
  {
   "cell_type": "code",
   "execution_count": null,
   "metadata": {},
   "outputs": [],
   "source": []
  },
  {
   "cell_type": "code",
   "execution_count": null,
   "metadata": {},
   "outputs": [],
   "source": []
  },
  {
   "cell_type": "code",
   "execution_count": null,
   "metadata": {},
   "outputs": [],
   "source": []
  },
  {
   "cell_type": "code",
   "execution_count": null,
   "metadata": {},
   "outputs": [],
   "source": []
  },
  {
   "cell_type": "code",
   "execution_count": null,
   "metadata": {},
   "outputs": [],
   "source": []
  },
  {
   "cell_type": "code",
   "execution_count": null,
   "metadata": {},
   "outputs": [],
   "source": []
  }
 ],
 "metadata": {
  "kernelspec": {
   "display_name": "Python 3",
   "language": "python",
   "name": "python3"
  },
  "language_info": {
   "codemirror_mode": {
    "name": "ipython",
    "version": 3
   },
   "file_extension": ".py",
   "mimetype": "text/x-python",
   "name": "python",
   "nbconvert_exporter": "python",
   "pygments_lexer": "ipython3",
   "version": "3.8.5"
  }
 },
 "nbformat": 4,
 "nbformat_minor": 4
}
