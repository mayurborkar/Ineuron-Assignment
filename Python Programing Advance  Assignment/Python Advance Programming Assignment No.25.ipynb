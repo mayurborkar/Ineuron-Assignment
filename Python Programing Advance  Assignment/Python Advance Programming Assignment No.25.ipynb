{
 "cells": [
  {
   "cell_type": "markdown",
   "metadata": {},
   "source": [
    "**1. Write four functions that directly mutate a list:**\n",
    "\n",
    "    1. repeat(lst, n): Repeat lst n times.\n",
    "    2. add(lst, x): Adds x to the end of the lst.\n",
    "    3. remove(lst, m, n): Removes all elements between indices m and n inclusive in lst.\n",
    "    4. concat(lst, x): concatenates lst with x (another list).\n",
    "\n",
    "Examples\n",
    "\n",
    "lst = [1, 2, 3, 4]\n",
    "\n",
    "repeat(lst, 3) ➞ [1, 2, 3, 4, 1, 2, 3, 4, 1, 2, 3, 4] \n",
    "\n",
    "add(lst, 1) ➞ [1, 2, 3, 4, 1, 2, 3, 4, 1, 2, 3, 4, 1]\n",
    "\n",
    "remove(lst, 1, 12) ➞ [1]\n",
    "\n",
    "concat(lst, [3, 4]) ➞ [1, 3, 4]\n"
   ]
  },
  {
   "cell_type": "code",
   "execution_count": 3,
   "metadata": {},
   "outputs": [
    {
     "name": "stdout",
     "output_type": "stream",
     "text": [
      "Repeating list [1, 2, 3, 4, 1, 2, 3, 4, 1, 2, 3, 4]\n",
      "adding at the end of list [1, 2, 3, 4, 1, 2, 3, 4, 1, 2, 3, 4, 8]\n",
      "Removing some elements form list [1, 2, 3, 4, 8]\n",
      "concating list [1, 2, 3, 4, 8, 6, 8]\n"
     ]
    }
   ],
   "source": [
    "def repeat(lst, n):\n",
    "    return lst * n\n",
    "\n",
    "def add(lst, x):\n",
    "    lst.append(x)\n",
    "    return lst\n",
    "\n",
    "def remove(lst, m, n):\n",
    "    del lst[m:n+1]\n",
    "    return lst\n",
    "\n",
    "def concat(lst, x):\n",
    "    return lst + x\n",
    "\n",
    "lst = [1,2,3,4]\n",
    "lst = repeat(lst,3)\n",
    "print('Repeating list', lst)\n",
    "lst = add(lst,8)\n",
    "print(\"adding at the end of list\",lst)\n",
    "lst = remove(lst,1,8)\n",
    "print('Removing some elements form list',lst)\n",
    "lst = concat(lst,[6,8])\n",
    "print('concating list',lst)"
   ]
  },
  {
   "cell_type": "markdown",
   "metadata": {},
   "source": [
    "**2. The classic game of Mastermind is played on a tray on which the Mastermind conceals a code and the Guesser has 10 tries to guess it. The code is a sequence of 4 (or 6, sometimes more) pegs of different colors. Each guess is a corresponding sequence of 4 (or more) pegs of different colors. A guess is \"correct\" when the color of every peg in the guess exactly matches the corresponding peg in the Mastermind's code.**\n",
    "\n",
    "**After each guess by the Guesser, the Mastermind will give a score comprising black & white pegs, not arranged in any order:**\n",
    "\n",
    "   - Black peg == guess peg matches the color of a code peg in the same position.\n",
    "   - White peg == guess peg matches the color of a code peg in another position.\n",
    "\n",
    "**Create a function that takes two strings, code and guess as arguments, and returns the score in a dictionary.**\n",
    "\n",
    "   - The code and guess are strings of numeric digits\n",
    "   - The color of the pegs are represented by numeric digits\n",
    "   - no \"peg\" may be double-scored\n",
    "\n",
    "Examples\n",
    "\n",
    "guess_score(\"1423\", \"5678\") ➞ {\"black\": 0, \"white\": 0}\n",
    "\n",
    "guess_score(\"1423\", \"2222\") ➞ {\"black\": 1, \"white\": 0}\n",
    "\n",
    "guess_score(\"1423\", \"1234\") ➞ {\"black\": 1, \"white\": 3}\n",
    "\n",
    "guess_score(\"1423\", \"2211\") ➞ {\"black\": 0, \"white\": 2}\n"
   ]
  },
  {
   "cell_type": "code",
   "execution_count": 8,
   "metadata": {},
   "outputs": [
    {
     "name": "stdout",
     "output_type": "stream",
     "text": [
      "1423\n",
      "5678\n",
      "{'black': 0, 'white': 0}\n"
     ]
    }
   ],
   "source": [
    "def guess_score(code, guesser):\n",
    "    dict = {'black':0, 'white':0}\n",
    "    Blackcnt = 0\n",
    "    Whitecnt = 0\n",
    "    \n",
    "    if len(code) != len(guesser):\n",
    "        print('code and guesser are of not of equal lenth')\n",
    "        return False\n",
    "    \n",
    "    code = [code[i] for i in range(len(code))]\n",
    "    \n",
    "    for i in range(len(guesser)):\n",
    "        if code[i] == guesser[i]:\n",
    "            code[i] = '-'\n",
    "            Blackcnt += 1\n",
    "            dict['black'] = Blackcnt\n",
    "            \n",
    "    for i in range(len(guesser)):\n",
    "        for j in range(len(code)):\n",
    "            if guesser[i] == code[j]:\n",
    "                code[j] = '-'\n",
    "                Whitecnt += 1\n",
    "                dict['white'] = Whitecnt\n",
    "                \n",
    "    return dict\n",
    "\n",
    "if __name__ == \"__main__\":\n",
    "    code = str(input())\n",
    "    guesser = str(input())\n",
    "    print(guess_score(code, guesser))"
   ]
  },
  {
   "cell_type": "markdown",
   "metadata": {},
   "source": [
    "**3. Create a function that takes a list lst and a number N and returns a list of two integers from lst whose product equals N.**\n",
    "\n",
    "Examples\n",
    "\n",
    "two_product([1, 2, -1, 4, 5], 20) ➞ [4, 5]\n",
    "\n",
    "two_product([1, 2, 3, 4, 5], 10) ➞ [2, 5]\n",
    "\n",
    "two_product([100, 12, 4, 1, 2], 15) ➞ None\n"
   ]
  },
  {
   "cell_type": "code",
   "execution_count": 12,
   "metadata": {},
   "outputs": [
    {
     "name": "stdout",
     "output_type": "stream",
     "text": [
      "1,2,-1,4,5\n",
      "20\n",
      "[4, 5]\n"
     ]
    }
   ],
   "source": [
    "def two_product(array, n):\n",
    "    lst = sorted(array, reverse=True)\n",
    "    divisor = []\n",
    "    for i in range(len(lst)):\n",
    "        for j in range(i+1, len(lst)):\n",
    "            if lst[i]*lst[j] == n:\n",
    "                divisor.append(lst[i])\n",
    "                divisor.append(lst[j])\n",
    "                break\n",
    "    return sorted(divisor)\n",
    "\n",
    "if __name__ == \"__main__\":\n",
    "    array = list(map(int, input().split(',')))\n",
    "    n = int(input())\n",
    "    print(two_product(array, n))"
   ]
  },
  {
   "cell_type": "markdown",
   "metadata": {},
   "source": [
    "**4. In this challenge, sort a list containing a series of dates given as strings. Each date is given in the format DD-MM-YYYY_HH:MM:**\n",
    "\n",
    "\"12-02-2012_13:44\"\n",
    "\n",
    "**The priority of criteria used for sorting will be:**\n",
    "\n",
    "  - Year\n",
    "  - Month\n",
    "  - Day\n",
    "  - Hours\n",
    "  - Minutes\n",
    "\n",
    "**Given a list lst and a string mode, implement a function that returns:**\n",
    "\n",
    "   - if mode is equal to \"ASC\", the list lst sorted in ascending order.\n",
    "   - if mode is equal to \"DSC\", the list lst sorted in descending order.\n",
    "\n",
    "Examples\n",
    "\n",
    "sort_dates([\"10-02-2018_12:30\", \"10-02-2016_12:30\", \"10-02-2018_12:15\"], \"ASC\") ➞ [\"10-02-2016_12:30\", \"10-02-2018_12:15\", \"10-02-2018_12:30\"]\n",
    "\n",
    "sort_dates([\"10-02-2018_12:30\", \"10-02-2016_12:30\", \"10-02-2018_12:15\"], \"DSC\") ➞ [\"10-02-2018_12:30\", \"10-02-2018_12:15\", \"10-02-2016_12:30\"]\n",
    "\n",
    "sort_dates([\"09-02-2000_10:03\", \"10-02-2000_18:29\", \"01-01-1999_00:55\"], \"ASC\") ➞ [\"01-01-1999_00:55\", \"09-02-2000_10:03\", \"10-02-2000_18:29\"]\n"
   ]
  },
  {
   "cell_type": "code",
   "execution_count": 26,
   "metadata": {},
   "outputs": [],
   "source": [
    "import datetime\n",
    "def sort_dates(lst, sort):\n",
    "    if sort == 'ASC':\n",
    "        print('Ascending order')\n",
    "        return sorted(lst, key=lambda x: datetime.datetime.strptime(x, '%d-%m-%Y_%H:%M'), reverse=False)\n",
    "    elif sort == 'DSC':\n",
    "        print('Descending Order')\n",
    "        return sorted(lst, key=lambda x: datetime.datetime.strptime(x, '%d-%m-%Y_%H:%M'), reverse=True)\n",
    "    else:\n",
    "        print('Enter The Right Sorting Order')"
   ]
  },
  {
   "cell_type": "code",
   "execution_count": 27,
   "metadata": {},
   "outputs": [
    {
     "name": "stdout",
     "output_type": "stream",
     "text": [
      "Ascending order\n"
     ]
    },
    {
     "data": {
      "text/plain": [
       "['10-02-2016_12:30', '10-02-2018_12:15', '10-02-2018_12:30']"
      ]
     },
     "execution_count": 27,
     "metadata": {},
     "output_type": "execute_result"
    }
   ],
   "source": [
    "sort_dates([\"10-02-2018_12:30\", \"10-02-2016_12:30\", \"10-02-2018_12:15\"], 'ASC')"
   ]
  },
  {
   "cell_type": "markdown",
   "metadata": {},
   "source": [
    "**5. Write a function that selects all words that have all the same vowels (in any order and/or number) as the first word, including the first word.**\n",
    "\n",
    "Examples\n",
    "\n",
    "same_vowel_group([\"toe\", \"ocelot\", \"maniac\"]) ➞ [\"toe\", \"ocelot\"]\n",
    "\n",
    "same_vowel_group([\"many\", \"carriage\", \"emit\", \"apricot\", \"animal\"]) ➞ [\"many\"]\n",
    "\n",
    "same_vowel_group([\"hoops\", \"chuff\", \"bot\", \"bottom\"]) ➞ [\"hoops\", \"bot\", \"bottom\"]\n"
   ]
  },
  {
   "cell_type": "code",
   "execution_count": 30,
   "metadata": {},
   "outputs": [
    {
     "name": "stdout",
     "output_type": "stream",
     "text": [
      "\"toe\", \"ocelot\", \"maniac\"\n",
      "['\"toe\"', ' \"ocelot\"']\n"
     ]
    }
   ],
   "source": [
    "def find_vowel(word):\n",
    "    vowel = 'aeiou'\n",
    "    lst_vowel = ''\n",
    "    for i in range(len(word)):\n",
    "        if word[i] in vowel:\n",
    "            lst_vowel = lst_vowel + word[i]\n",
    "    return ''.join(set(lst_vowel))\n",
    "\n",
    "def same_vowel_group(lst):\n",
    "    vowel = \"aeiou\"\n",
    "    result_lst = []\n",
    "    test = find_vowel(lst[0])\n",
    "    result_lst.append(lst[0])\n",
    "    for i in range(1, len(lst)):\n",
    "        vow_word = find_vowel(lst[i])\n",
    "        if test == vow_word:\n",
    "            result_lst.append(lst[i])\n",
    "    return result_lst\n",
    "\n",
    "if __name__ == \"__main__\":\n",
    "    lst = list(map(str, input().split(',')))\n",
    "    print(same_vowel_group(lst))"
   ]
  },
  {
   "cell_type": "markdown",
   "metadata": {},
   "source": [
    "**6. Create a function that takes a list of more than three numbers and returns the Least Common Multiple (LCM).**\n",
    "\n",
    "Examples\n",
    "\n",
    "lcm_of_list([1, 2, 3, 4, 5, 6, 7, 8, 9, 10]) ➞ 2520\n",
    "\n",
    "lcm_of_list([13, 6, 17, 18, 19, 20, 37]) ➞ 27965340\n",
    "\n",
    "lcm_of_list([44, 64, 12, 17, 65]) ➞ 2333760\n"
   ]
  },
  {
   "cell_type": "code",
   "execution_count": 31,
   "metadata": {},
   "outputs": [
    {
     "name": "stdout",
     "output_type": "stream",
     "text": [
      "1, 2, 3, 4, 5, 6, 7, 8, 9, 10\n",
      "2520\n"
     ]
    }
   ],
   "source": [
    "from math import gcd\n",
    "def lcm_of_list(lst):\n",
    "    lcm = 1\n",
    "    for i in lst:\n",
    "        lcm = lcm*i//gcd(lcm, i)\n",
    "    return lcm\n",
    "\n",
    "if __name__ == \"__main__\":\n",
    "    lst = list(map(int, input().split(',')))\n",
    "    print(lcm_of_list(lst))"
   ]
  },
  {
   "cell_type": "code",
   "execution_count": null,
   "metadata": {},
   "outputs": [],
   "source": []
  }
 ],
 "metadata": {
  "kernelspec": {
   "display_name": "Python 3",
   "language": "python",
   "name": "python3"
  },
  "language_info": {
   "codemirror_mode": {
    "name": "ipython",
    "version": 3
   },
   "file_extension": ".py",
   "mimetype": "text/x-python",
   "name": "python",
   "nbconvert_exporter": "python",
   "pygments_lexer": "ipython3",
   "version": "3.8.5"
  }
 },
 "nbformat": 4,
 "nbformat_minor": 4
}
