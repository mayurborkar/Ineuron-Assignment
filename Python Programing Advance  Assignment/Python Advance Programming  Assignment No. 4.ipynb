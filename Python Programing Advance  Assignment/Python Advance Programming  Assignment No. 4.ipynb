{
 "cells": [
  {
   "cell_type": "markdown",
   "metadata": {},
   "source": [
    "**1. In mathematics, the Fibonacci numbers, commonly denoted Fn, form a sequence, called the Fibonacci sequence, such that each number is the sum of the two preceding ones, starting from 0 and 1:**\n",
    "\n",
    "The beginning of the sequence is this:\n",
    "\n",
    "0, 1, 1, 2, 3, 5, 8, 13, 21, 34, 55, 89, 144, ...\n",
    "\n",
    "**The function fastFib(num) returns the fibonacci number Fn, of the given num as an argument.**\n",
    "\n",
    "Examples\n",
    "\n",
    "fib_fast(5) ➞ **5**\n",
    "\n",
    "fib_fast(10) ➞ **55**\n",
    "\n",
    "fib_fast(20) ➞**6765**\n",
    "\n",
    "fib_fast(50) ➞ **12586269025**\n"
   ]
  },
  {
   "cell_type": "code",
   "execution_count": 37,
   "metadata": {},
   "outputs": [
    {
     "name": "stdout",
     "output_type": "stream",
     "text": [
      "5\n",
      "------------------------------\n",
      "55\n",
      "------------------------------\n",
      "6765\n",
      "------------------------------\n",
      "12586269025\n",
      "------------------------------\n"
     ]
    }
   ],
   "source": [
    "class Fibonacci:\n",
    "    \n",
    "    def __init__(self,num):\n",
    "        self.num = num\n",
    "\n",
    "    def fib_fast(self):\n",
    "        \"\"\"\n",
    "        The function fastFib(num) returns the fibonacci number Fn, of the given num as an argument\n",
    "        \"\"\"\n",
    "        try:\n",
    "            a = 0\n",
    "            b = 1\n",
    "            for i in range(1,self.num):\n",
    "                a ,b = b, a+b\n",
    "            return b\n",
    "        \n",
    "        except Exception as e:\n",
    "            print(e)\n",
    "            \n",
    "    def __str__(self):\n",
    "        \n",
    "        return 'The Given Function Is Written Inside The Class & Can Be Used For Generating Fibonacci Squence Last Element.'\n",
    "    \n",
    "#Calling Class\n",
    "f = Fibonacci(5)\n",
    "print(f.fib_fast())\n",
    "print('---'*10)\n",
    "\n",
    "f = Fibonacci(10)\n",
    "print(f.fib_fast())\n",
    "print('---'*10)\n",
    "\n",
    "f = Fibonacci(20)\n",
    "print(f.fib_fast())\n",
    "print('---'*10)\n",
    "\n",
    "f = Fibonacci(50)\n",
    "print(f.fib_fast())\n",
    "print('---'*10)"
   ]
  },
  {
   "cell_type": "markdown",
   "metadata": {},
   "source": [
    "**2. Create a function that takes a strings characters as ASCII and returns each characters hexadecimal value as a string.**\n",
    "\n",
    "Examples\n",
    "\n",
    "convert_to_hex(\"hello world\") ➞ **\"68 65 6c 6c 6f 20 77 6f 72 6c 64\"**\n",
    "\n",
    "convert_to_hex(\"Big Boi\") ➞ **\"42 69 67 20 42 6f 69\"**\n",
    "\n",
    "convert_to_hex(\"Marty Poppinson\") ➞ **\"4d 61 72 74 79 20 50 6f 70 70 69 6e 73 6f 6e\"**\n"
   ]
  },
  {
   "cell_type": "code",
   "execution_count": 74,
   "metadata": {},
   "outputs": [
    {
     "name": "stdout",
     "output_type": "stream",
     "text": [
      "68656c6c6f20776f726c64\n",
      "------------------------------\n",
      "42696720426f69\n",
      "------------------------------\n",
      "4d6172747920506f7070696e736f6e\n",
      "------------------------------\n"
     ]
    }
   ],
   "source": [
    "class Hexadecimal:\n",
    "    \n",
    "    def __init__(self,string):\n",
    "        self.string = string\n",
    "\n",
    "    def convert_to_hex(self):\n",
    "        \"\"\"\n",
    "        The Given Function That Takes a Strings Characters As ASCII And Returns Each Characters Hexadecimal Value As a String.\n",
    "        \"\"\"\n",
    "        try:\n",
    "            empty_str = \"\"\n",
    "\n",
    "            for i in range(len(self.string)):\n",
    "\n",
    "                part = hex(ord(self.string[i])).rstrip('L').lstrip('0x')\n",
    "\n",
    "                empty_str += part\n",
    "\n",
    "            return empty_str\n",
    "\n",
    "        except Exception as e:\n",
    "            print(e)\n",
    "\n",
    "    def __str__(self):\n",
    "\n",
    "        return 'The Given Function Is Written Inside The Class & Can Be Used For Converting The String Into Hexadecimal Number.'\n",
    "\n",
    "#Calling Class\n",
    "h = Hexadecimal('hello world')\n",
    "print(h.convert_to_hex())\n",
    "print('---'*10)\n",
    "\n",
    "h = Hexadecimal('Big Boi')\n",
    "print(h.convert_to_hex())\n",
    "print('---'*10)\n",
    "\n",
    "h = Hexadecimal('Marty Poppinson')\n",
    "print(h.convert_to_hex())\n",
    "print('---'*10)\n",
    "\n"
   ]
  },
  {
   "cell_type": "markdown",
   "metadata": {},
   "source": [
    "**3. Someone has attempted to censor my strings by replacing every vowel with a *, l*k* th*s. Luckily, I've been able to find the vowels that were removed.**\n",
    "\n",
    "**Given a censored string and a string of the censored vowels, return the original uncensored string.**\n",
    "\n",
    "Example\n",
    "\n",
    "uncensor(\"Wh*r* d*d my v*w*ls g*?\", \"eeioeo\") ➞ **\"Where did my vowels go?\"**\n",
    "\n",
    "uncensor(\"abcd\", \"\") ➞ **\"abcd\"**\n",
    "\n",
    "uncensor(\"*PP*RC*S*\", \"UEAE\") ➞ **\"UPPERCASE\"**\n"
   ]
  },
  {
   "cell_type": "code",
   "execution_count": 79,
   "metadata": {},
   "outputs": [],
   "source": [
    "def censor_two(email, phrases):\n",
    "    for i in range(len(email)):\n",
    "        for phrase in phrases:\n",
    "            substr = email[i:i + len(phrase)]\n",
    "            if substr.lower() == phrase:\n",
    "                email = email.replace(substr * len(phrase))\n",
    "\n",
    "    return email"
   ]
  },
  {
   "cell_type": "code",
   "execution_count": 80,
   "metadata": {},
   "outputs": [
    {
     "data": {
      "text/plain": [
       "'Whr dd my vwls g?'"
      ]
     },
     "execution_count": 80,
     "metadata": {},
     "output_type": "execute_result"
    }
   ],
   "source": [
    "censor_two(\"Whr dd my vwls g?\", \"eeioeo\")"
   ]
  },
  {
   "cell_type": "code",
   "execution_count": 11,
   "metadata": {},
   "outputs": [],
   "source": [
    "string = \"Whr dd my vwls g?\"\n",
    "vowels = \"eeioeo\"\n",
    "for i in range(len(string)):    \n",
    "    for j in vowels:\n",
    "        sub = string[i:1 + len(vowels)]     "
   ]
  },
  {
   "cell_type": "code",
   "execution_count": 12,
   "metadata": {},
   "outputs": [
    {
     "data": {
      "text/plain": [
       "''"
      ]
     },
     "execution_count": 12,
     "metadata": {},
     "output_type": "execute_result"
    }
   ],
   "source": [
    "sub"
   ]
  },
  {
   "cell_type": "code",
   "execution_count": null,
   "metadata": {},
   "outputs": [],
   "source": []
  },
  {
   "cell_type": "code",
   "execution_count": null,
   "metadata": {},
   "outputs": [],
   "source": []
  },
  {
   "cell_type": "markdown",
   "metadata": {},
   "source": [
    "**4. Write a function that takes an IP address and returns the domain name using PTR DNS records.**\n",
    "\n",
    "Example\n",
    "\n",
    "get_domain(\"8.8.8.8\") ➞ **\"dns.google\"**\n",
    "\n",
    "get_domain(\"8.8.4.4\") ➞ **\"dns.google\"**\n"
   ]
  },
  {
   "cell_type": "code",
   "execution_count": 13,
   "metadata": {},
   "outputs": [],
   "source": [
    "from dns import resolver\n",
    "from dns import reversename\n",
    "\n",
    "class Domain:\n",
    "    \n",
    "    def __init__(self,ip_addr):\n",
    "        self.ip_addr = ip_addr\n",
    "        \n",
    "    @classmethod\n",
    "    def from_input(cls):\n",
    "        \n",
    "        return cls(input('Enter The Ip Adress'))\n",
    "    \n",
    "    def get_domain(self):\n",
    "        \"\"\"\n",
    "         The Given function that takes an IP address and returns the domain name using PTR DNS records.\n",
    "        \"\"\"\n",
    "        try:\n",
    "            addr = reversename.from_address(self.ip_addr)\n",
    "            \n",
    "            answer = dns.resolver.resolve(addr, \"PTR\")[0]\n",
    "            \n",
    "            return answer \n",
    "        \n",
    "        except Exception as e:\n",
    "            print(e)\n",
    "            \n",
    "    def __str__(self):\n",
    "        \n",
    "        return 'The Given Function Is Written Inside The Class & Can Be Used For Identifying The Domain Name From Ip Adress.'\n"
   ]
  },
  {
   "cell_type": "code",
   "execution_count": 19,
   "metadata": {},
   "outputs": [
    {
     "name": "stdout",
     "output_type": "stream",
     "text": [
      "Enter The Ip Adress8.8.8.8\n"
     ]
    },
    {
     "data": {
      "text/plain": [
       "<DNS IN PTR rdata: dns.google.>"
      ]
     },
     "execution_count": 19,
     "metadata": {},
     "output_type": "execute_result"
    }
   ],
   "source": [
    "# Calling Class\n",
    "d = Domain.from_input()\n",
    "d.get_domain()"
   ]
  },
  {
   "cell_type": "code",
   "execution_count": 20,
   "metadata": {},
   "outputs": [
    {
     "name": "stdout",
     "output_type": "stream",
     "text": [
      "Enter The Ip Adress8.8.4.4\n"
     ]
    },
    {
     "data": {
      "text/plain": [
       "<DNS IN PTR rdata: dns.google.>"
      ]
     },
     "execution_count": 20,
     "metadata": {},
     "output_type": "execute_result"
    }
   ],
   "source": [
    "# Calling Class\n",
    "d = Domain.from_input()\n",
    "d.get_domain()"
   ]
  },
  {
   "cell_type": "code",
   "execution_count": 21,
   "metadata": {},
   "outputs": [
    {
     "name": "stdout",
     "output_type": "stream",
     "text": [
      "dns.google\n",
      "dns.google\n"
     ]
    }
   ],
   "source": [
    "import socket\n",
    "\n",
    "an_address1 = \"8.8.8.8\"\n",
    "an_address2 = \"8.8.4.4\"\n",
    "\n",
    "domain_name1 = socket.gethostbyaddr(an_address1)[0]\n",
    "domain_name2 = socket.gethostbyaddr(an_address2)[0]\n",
    "\n",
    "print(domain_name1)\n",
    "print(domain_name2)"
   ]
  },
  {
   "cell_type": "markdown",
   "metadata": {},
   "source": [
    "**5. Create a function that takes an integer n and returns the factorial of factorials. See below examples for a better understanding:**\n",
    "\n",
    "Examples\n",
    "\n",
    "fact_of_fact(4) ➞ **288**\n",
    "\n",
    "#4! * 3! * 2! * 1! = 288\n",
    "\n",
    "fact_of_fact(5) ➞ **34560**\n",
    "\n",
    "fact_of_fact(6) ➞ **24883200**\n"
   ]
  },
  {
   "cell_type": "code",
   "execution_count": 19,
   "metadata": {},
   "outputs": [],
   "source": [
    "def factorial(n):\n",
    "    if n == 0:\n",
    "        return 1\n",
    "    else:\n",
    "        return n * factorial(n-1)\n",
    "    \n",
    "def fact(n):\n",
    "    return factorial(n) * factorial(factorial(n-1))"
   ]
  },
  {
   "cell_type": "code",
   "execution_count": 20,
   "metadata": {},
   "outputs": [
    {
     "data": {
      "text/plain": [
       "17280"
      ]
     },
     "execution_count": 20,
     "metadata": {},
     "output_type": "execute_result"
    }
   ],
   "source": [
    "fact(4)"
   ]
  },
  {
   "cell_type": "code",
   "execution_count": null,
   "metadata": {},
   "outputs": [],
   "source": []
  }
 ],
 "metadata": {
  "kernelspec": {
   "display_name": "Python 3",
   "language": "python",
   "name": "python3"
  },
  "language_info": {
   "codemirror_mode": {
    "name": "ipython",
    "version": 3
   },
   "file_extension": ".py",
   "mimetype": "text/x-python",
   "name": "python",
   "nbconvert_exporter": "python",
   "pygments_lexer": "ipython3",
   "version": "3.8.5"
  }
 },
 "nbformat": 4,
 "nbformat_minor": 4
}
