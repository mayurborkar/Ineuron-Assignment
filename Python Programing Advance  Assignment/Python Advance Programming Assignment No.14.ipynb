{
 "cells": [
  {
   "cell_type": "markdown",
   "metadata": {},
   "source": [
    "**1. Given a list of numbers, create a function that removes 25% from every number in the list except the smallest number, and adds the total amount removed to the smallest number.**\n",
    "\n",
    "Examples\n",
    "\n",
    "show_the_love([4, 1, 4]) ➞ [3, 3, 3]\n",
    "\n",
    "show_the_love([16, 10, 8]) ➞ [12, 7.5, 14.5]\n",
    "\n",
    "show_the_love([2, 100]) ➞ [27, 75]"
   ]
  },
  {
   "cell_type": "markdown",
   "metadata": {},
   "source": [
    "**Solution:-**"
   ]
  },
  {
   "cell_type": "code",
   "execution_count": 7,
   "metadata": {},
   "outputs": [
    {
     "name": "stdout",
     "output_type": "stream",
     "text": [
      "[3, 3, 3]\n",
      "------------------------------\n",
      "[12, 7.5, 14.5]\n",
      "------------------------------\n",
      "[27, 75]\n",
      "------------------------------\n"
     ]
    }
   ],
   "source": [
    "def show_the_love(l):\n",
    "    smallest_no = min(l)\n",
    "    index = l.index(smallest_no)\n",
    "    k = 0\n",
    "    \n",
    "    for i in range(len(l)):\n",
    "        if l[i] != smallest_no:\n",
    "            j =  0.25 * l[i]\n",
    "            l[i] = l[i]- j\n",
    "            k += j\n",
    "            \n",
    "    l[index] = smallest_no + k\n",
    "    l = [int(i) if i == int(i) else i for i in l]\n",
    "    return l\n",
    "\n",
    "print(show_the_love([4,1,4]))\n",
    "print('---'*10)\n",
    "print(show_the_love([16,10,8]))\n",
    "print('---'*10)\n",
    "print(show_the_love([2,100]))\n",
    "print('---'*10)"
   ]
  },
  {
   "cell_type": "markdown",
   "metadata": {},
   "source": [
    "**2. Create a function that takes in two words as input and returns a list of three elements, in the following order:**\n",
    "\n",
    "**1. Shared letters between two words.**\n",
    "\n",
    "**2. Letters unique to word.**\n",
    "\n",
    "**3. Letters unique to word.**\n",
    "\n",
    "**Each element should have unique letters, and have each letter be alphabetically sorted.**\n",
    "\n",
    "Examples\n",
    "\n",
    "letters(\"sharp\", \"soap\") ➞ [\"aps\", \"hr\", \"o\"]\n",
    "\n",
    "letters(\"board\", \"bored\") ➞ [\"bdor\", \"a\", \"e\"]\n",
    "\n",
    "letters(\"happiness\", \"envelope\") ➞ [\"enp\", \"ahis\", \"lov\"]\n",
    "\n",
    "letters(\"kerfuffle\", \"fluffy\") ➞ [\"flu\", \"ekr\", \"y\"] #Even with multiple matching letters (e.g. 3 f's), there should #only exist a single \"f\" in your first element.\n",
    "\n",
    "letters(\"match\", \"ham\") ➞ [\"ahm\", \"ct\", \"\"] #\"ham\" does not contain any letters that are not found already #in \"match\"."
   ]
  },
  {
   "cell_type": "markdown",
   "metadata": {},
   "source": [
    "**Solution:-**"
   ]
  },
  {
   "cell_type": "code",
   "execution_count": 45,
   "metadata": {},
   "outputs": [
    {
     "name": "stdout",
     "output_type": "stream",
     "text": [
      "('sap', 'rh', 'o')\n",
      "------------------------------\n",
      "('bord', 'a', 'e')\n",
      "------------------------------\n",
      "('pen', 'sahi', 'vol')\n",
      "------------------------------\n",
      "('ufl', 'rke', 'y')\n",
      "------------------------------\n",
      "('amh', 'tc', '')\n",
      "------------------------------\n"
     ]
    }
   ],
   "source": [
    "def letters(s1, s2):\n",
    "    common = ''\n",
    "    unique1 = ''\n",
    "    unique2 = ''\n",
    "    \n",
    "    for i in set(s2) & set(s1):\n",
    "        common += (''.join(i))\n",
    "        \n",
    "    for i in set(s1).difference(set(s2)):\n",
    "        unique1 += (''.join(i))\n",
    "        \n",
    "    for i in set(s2).difference(set(s1)):\n",
    "        unique2 += (''.join(i))\n",
    "        \n",
    "    return common, unique1, unique2\n",
    "\n",
    "print(letters(\"sharp\", \"soap\"))\n",
    "print('---'*10)\n",
    "print(letters(\"board\", \"bored\"))\n",
    "print('---'*10)\n",
    "print(letters(\"happiness\", \"envelope\"))\n",
    "print('---'*10)\n",
    "print(letters(\"kerfuffle\", \"fluffy\"))\n",
    "print('---'*10)\n",
    "print(letters(\"match\", \"ham\"))\n",
    "print('---'*10)"
   ]
  },
  {
   "cell_type": "markdown",
   "metadata": {},
   "source": [
    "**3. Write a function that pairs the first number in an array with the last, the second number with the second to last, etc.**\n",
    "\n",
    "Examples\n",
    "\n",
    "pairs([1, 2, 3, 4, 5, 6, 7]) ➞ [[1, 7], [2, 6], [3, 5], [4, 4]]\n",
    "\n",
    "pairs([1, 2, 3, 4, 5, 6]) ➞ [[1, 6], [2, 5], [3, 4]]\n",
    "\n",
    "pairs([5, 9, 8, 1, 2]) ➞ [[5, 2], [9, 1], [8, 8]]\n",
    "\n",
    "pairs([]) ➞ []"
   ]
  },
  {
   "cell_type": "markdown",
   "metadata": {},
   "source": [
    "**Solution:-**"
   ]
  },
  {
   "cell_type": "code",
   "execution_count": 59,
   "metadata": {},
   "outputs": [
    {
     "name": "stdout",
     "output_type": "stream",
     "text": [
      "[[1, 7], [2, 6], [3, 5], [4, 4]]\n",
      "------------------------------\n",
      "[[1, 6], [2, 5], [3, 4]]\n",
      "------------------------------\n",
      "[[5, 2], [9, 1], [8, 8]]\n",
      "------------------------------\n",
      "[]\n",
      "------------------------------\n"
     ]
    }
   ],
   "source": [
    "import math\n",
    "def pairs(l):\n",
    "    l2 = []\n",
    "    for i in range(math.ceil(len(l)/2)):\n",
    "        l1 = []\n",
    "        l1.append(l[i])\n",
    "        l1.append(l[len(l)-i-1])\n",
    "        l2.append(l1)\n",
    "    return l2\n",
    "\n",
    "print(pairs([1,2,3,4,5,6,7]))\n",
    "print('---'*10)\n",
    "print(pairs([1,2,3,4,5,6]))\n",
    "print('---'*10)\n",
    "print(pairs([5, 9, 8, 1, 2]))\n",
    "print('---'*10)\n",
    "print(pairs([]))\n",
    "print('---'*10)"
   ]
  },
  {
   "cell_type": "markdown",
   "metadata": {},
   "source": [
    "**4. Write a function that adds two numbers. The catch, however, is that the numbers will be strings.**\n",
    "\n",
    "Examples\n",
    "\n",
    "add_str_nums(\"4\", \"5\") ➞ \"9\"\n",
    "\n",
    "add_str_nums(\"abcdefg\", \"3\") ➞ \"-1\"\n",
    "\n",
    "add_str_nums(\"1\", \"\") ➞ \"1\"\n",
    "\n",
    "add_str_nums(\"1874682736267235927359283579235789257\", \"32652983572985729\") ➞ \"1874682736267235927391936562808774986\""
   ]
  },
  {
   "cell_type": "markdown",
   "metadata": {},
   "source": [
    "**Solution:-**"
   ]
  },
  {
   "cell_type": "code",
   "execution_count": 64,
   "metadata": {},
   "outputs": [
    {
     "name": "stdout",
     "output_type": "stream",
     "text": [
      "9\n",
      "------------------------------\n",
      "-1\n",
      "------------------------------\n",
      "1\n",
      "------------------------------\n",
      "1874682736267235927391936562808774986\n",
      "------------------------------\n"
     ]
    }
   ],
   "source": [
    "def add_str_nums(s1, s2):\n",
    "    if s1 != '' and s2 != '':\n",
    "        if s1.isnumeric() and s2.isnumeric():\n",
    "            return str(int(s1) + int(s2))\n",
    "        else:\n",
    "            return -1\n",
    "    else:\n",
    "        return s1 + s2\n",
    "    \n",
    "print(add_str_nums('4', '5'))\n",
    "print('---'*10)\n",
    "print(add_str_nums(\"abcdefg\", \"3\"))\n",
    "print('---'*10)\n",
    "print(add_str_nums('1',''))\n",
    "print('---'*10)\n",
    "print(add_str_nums(\"1874682736267235927359283579235789257\", \"32652983572985729\"))\n",
    "print('---'*10)"
   ]
  },
  {
   "cell_type": "markdown",
   "metadata": {},
   "source": [
    "**5. lPaeesh le pemu mnxit ehess rtnisg! Oh, sorry, that was supposed to say: Please help me unmix these strings!\n",
    "Somehow my strings have all become mixed up; every pair of characters has been swapped. Help me undo this so I can understand my strings again.**\n",
    "\n",
    "Examples\n",
    "\n",
    "unmix(\"123456\") ➞ \"214365\"\n",
    "\n",
    "unmix(\"hTsii s aimex dpus rtni.g\") ➞ \"This is a mixed up string.\"\n",
    "\n",
    "unmix(\"badce\") ➞ \"abcde\""
   ]
  },
  {
   "cell_type": "markdown",
   "metadata": {},
   "source": [
    "**Solution:-**"
   ]
  },
  {
   "cell_type": "code",
   "execution_count": 30,
   "metadata": {},
   "outputs": [
    {
     "name": "stdout",
     "output_type": "stream",
     "text": [
      "214365\n",
      "------------------------------\n",
      "This is a mixed up string.\n",
      "------------------------------\n",
      "abcde\n",
      "------------------------------\n"
     ]
    }
   ],
   "source": [
    "def unmix(s):\n",
    "    length = len(s)\n",
    "\n",
    "    if length % 2 != 0 :\n",
    "        length = length - 1\n",
    "\n",
    "    l = list(s)\n",
    "    i = 0\n",
    "    while True:\n",
    "        if i == length:\n",
    "            break\n",
    "        else:\n",
    "            l[i], l[i+1] = l[i+1],l[i]\n",
    "            i += 2\n",
    "\n",
    "    s = ''\n",
    "    for i in l:\n",
    "        s += ''.join(i)\n",
    "\n",
    "    return s    \n",
    "\n",
    "print(unmix(\"123456\"))\n",
    "print('---'*10)\n",
    "print(unmix(\"hTsii  s aimex dpus rtni.g\"))\n",
    "print('---'*10)\n",
    "print(unmix(\"badce\"))\n",
    "print('---'*10)"
   ]
  },
  {
   "cell_type": "code",
   "execution_count": null,
   "metadata": {},
   "outputs": [],
   "source": []
  }
 ],
 "metadata": {
  "kernelspec": {
   "display_name": "Python 3",
   "language": "python",
   "name": "python3"
  },
  "language_info": {
   "codemirror_mode": {
    "name": "ipython",
    "version": 3
   },
   "file_extension": ".py",
   "mimetype": "text/x-python",
   "name": "python",
   "nbconvert_exporter": "python",
   "pygments_lexer": "ipython3",
   "version": "3.8.5"
  }
 },
 "nbformat": 4,
 "nbformat_minor": 4
}
