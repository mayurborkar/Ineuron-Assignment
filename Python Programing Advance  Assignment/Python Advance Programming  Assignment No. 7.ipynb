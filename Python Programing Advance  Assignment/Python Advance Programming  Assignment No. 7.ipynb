{
 "cells": [
  {
   "cell_type": "markdown",
   "metadata": {},
   "source": [
    "**3. Create a function that finds a target number in a list of prime numbers. Implement a binary search algorithm in your function. The target number will be from 2 through 97. If the target is prime then return \"yes\" else return \"no\".**\n",
    "\n",
    "Examples\n",
    "\n",
    "**primes = [2, 3, 5, 7, 11, 13, 17, 19, 23, 29, 31, 37, 41, 43, 47, 53, 59, 61, 67, 71, 73, 79, 83, 89, 97]**\n",
    "\n",
    "\n",
    "is_prime(primes, 3) ➞ **\"yes\"**\n",
    "\n",
    "is_prime(primes, 4) ➞ **\"no\"**\n",
    "\n",
    "is_prime(primes, 67) ➞ **\"yes\"**\n",
    "\n",
    "is_prime(primes, 36) ➞ **\"no\"**\n"
   ]
  },
  {
   "cell_type": "code",
   "execution_count": null,
   "metadata": {},
   "outputs": [],
   "source": []
  },
  {
   "cell_type": "code",
   "execution_count": null,
   "metadata": {},
   "outputs": [],
   "source": []
  },
  {
   "cell_type": "code",
   "execution_count": null,
   "metadata": {},
   "outputs": [],
   "source": []
  },
  {
   "cell_type": "markdown",
   "metadata": {},
   "source": [
    "**4. Create a function that takes in n, a, b and returns the number of positive values raised to the nth power that lie in the range [a, b], inclusive.**\n",
    "\n",
    "Examples\n",
    "\n",
    "power_ranger(2, 49, 65) ➞ **2**\n",
    "\n",
    "**squares (n^2) lie between 49 and 65, 49 (7^2) and 64 (8^2)**\n",
    "\n",
    "power_ranger(3, 1, 27) ➞ **3**\n",
    "\n",
    "**cubes (n^3) lie between 1 and 27, 1 (1^3), 8 (2^3) and 27 (3^3)**\n",
    "\n",
    "power_ranger(10, 1, 5) ➞ **1**\n",
    "\n",
    "**value raised to the 10th power lies between 1 and 5, 1 (1^10)**\n",
    "\n",
    "power_ranger(5, 31, 33) ➞ **1**\n",
    "\n",
    "power_ranger(4, 250, 1300) ➞ **3**\n"
   ]
  },
  {
   "cell_type": "code",
   "execution_count": 28,
   "metadata": {},
   "outputs": [],
   "source": [
    "class Ranger:\n",
    "    \n",
    "    def __init__(self,n,a,b):\n",
    "        self.n = n\n",
    "        self.a = a\n",
    "        self.b = b\n",
    "        \n",
    "    @classmethod\n",
    "    def from_input(cls):\n",
    "        return cls(input('Enter number n values: '),\n",
    "                   input('Enter number a values: '),\n",
    "                   input('Enter number b values: '),)\n",
    "\n",
    "    def power_ranger(self):\n",
    "        \"\"\"\n",
    "         Given function that takes in n, a, b and returns the number of positive values raised to the nth power \n",
    "         That lie in the range [a, b], inclusive.\n",
    "        \"\"\"\n",
    "        try:\n",
    "            count = 0\n",
    "\n",
    "            for i in range(int(self.b)): \n",
    "\n",
    "                    if i**int(self.n) in range(int(self.a),int(self.b)):\n",
    "\n",
    "                        count += 1 \n",
    "\n",
    "            return count\n",
    "        \n",
    "        except Exception as e:\n",
    "            print(e)\n",
    "            \n",
    "    def __str__(self):\n",
    "        \n",
    "        return 'The Given Function Is Written Inside The Class & Can Be Used For Returning The Number of Positive Values Raised To The nth Power That Lie In The Range [a, b].'"
   ]
  },
  {
   "cell_type": "code",
   "execution_count": 29,
   "metadata": {},
   "outputs": [
    {
     "name": "stdout",
     "output_type": "stream",
     "text": [
      "Enter number n values: 2\n",
      "Enter number a values: 49\n",
      "Enter number b values: 64\n"
     ]
    },
    {
     "data": {
      "text/plain": [
       "1"
      ]
     },
     "execution_count": 29,
     "metadata": {},
     "output_type": "execute_result"
    }
   ],
   "source": [
    "r = Ranger.from_input()\n",
    "r.power_ranger()"
   ]
  },
  {
   "cell_type": "code",
   "execution_count": 30,
   "metadata": {},
   "outputs": [
    {
     "name": "stdout",
     "output_type": "stream",
     "text": [
      "Enter number n values: 3\n",
      "Enter number a values: 1\n",
      "Enter number b values: 27\n"
     ]
    },
    {
     "data": {
      "text/plain": [
       "2"
      ]
     },
     "execution_count": 30,
     "metadata": {},
     "output_type": "execute_result"
    }
   ],
   "source": [
    "r = Ranger.from_input()\n",
    "r.power_ranger()"
   ]
  },
  {
   "cell_type": "code",
   "execution_count": 31,
   "metadata": {},
   "outputs": [
    {
     "name": "stdout",
     "output_type": "stream",
     "text": [
      "Enter number n values: 10\n",
      "Enter number a values: 1\n",
      "Enter number b values: 5\n"
     ]
    },
    {
     "data": {
      "text/plain": [
       "1"
      ]
     },
     "execution_count": 31,
     "metadata": {},
     "output_type": "execute_result"
    }
   ],
   "source": [
    "r = Ranger.from_input()\n",
    "r.power_ranger()"
   ]
  },
  {
   "cell_type": "code",
   "execution_count": 32,
   "metadata": {},
   "outputs": [
    {
     "name": "stdout",
     "output_type": "stream",
     "text": [
      "Enter number n values: 5\n",
      "Enter number a values: 31\n",
      "Enter number b values: 33\n"
     ]
    },
    {
     "data": {
      "text/plain": [
       "1"
      ]
     },
     "execution_count": 32,
     "metadata": {},
     "output_type": "execute_result"
    }
   ],
   "source": [
    "r = Ranger.from_input()\n",
    "r.power_ranger()"
   ]
  },
  {
   "cell_type": "code",
   "execution_count": 33,
   "metadata": {},
   "outputs": [
    {
     "name": "stdout",
     "output_type": "stream",
     "text": [
      "Enter number n values: 4\n",
      "Enter number a values: 250\n",
      "Enter number b values: 1300\n"
     ]
    },
    {
     "data": {
      "text/plain": [
       "3"
      ]
     },
     "execution_count": 33,
     "metadata": {},
     "output_type": "execute_result"
    }
   ],
   "source": [
    "r = Ranger.from_input()\n",
    "r.power_ranger()"
   ]
  },
  {
   "cell_type": "markdown",
   "metadata": {},
   "source": [
    "**5. Given a number, return the difference between the maximum and minimum numbers that can be formed when the digits are rearranged.**\n",
    "\n",
    "Examples\n",
    "\n",
    "rearranged_difference(972882) ➞ **760833**\n",
    "\n",
    "#988722 - 227889 = 760833\n",
    "\n",
    "rearranged_difference(3320707) ➞ **7709823**\n",
    "\n",
    "#7733200 - 23377 = 7709823\n",
    "\n",
    "rearranged_difference(90010) ➞ **90981**\n",
    "\n",
    "#91000 - 19 = 90981\n"
   ]
  },
  {
   "cell_type": "code",
   "execution_count": 47,
   "metadata": {},
   "outputs": [
    {
     "ename": "TypeError",
     "evalue": "'module' object is not callable",
     "output_type": "error",
     "traceback": [
      "\u001b[1;31m---------------------------------------------------------------------------\u001b[0m",
      "\u001b[1;31mTypeError\u001b[0m                                 Traceback (most recent call last)",
      "\u001b[1;32m<ipython-input-47-23a58c53a7f3>\u001b[0m in \u001b[0;36m<module>\u001b[1;34m\u001b[0m\n\u001b[0;32m      2\u001b[0m \u001b[0mnum\u001b[0m \u001b[1;33m=\u001b[0m \u001b[1;36m972882\u001b[0m\u001b[1;33m\u001b[0m\u001b[1;33m\u001b[0m\u001b[0m\n\u001b[0;32m      3\u001b[0m \u001b[1;32mfor\u001b[0m \u001b[0mi\u001b[0m \u001b[1;32min\u001b[0m \u001b[0mstr\u001b[0m\u001b[1;33m(\u001b[0m\u001b[0mnum\u001b[0m\u001b[1;33m)\u001b[0m\u001b[1;33m:\u001b[0m\u001b[1;33m\u001b[0m\u001b[1;33m\u001b[0m\u001b[0m\n\u001b[1;32m----> 4\u001b[1;33m     \u001b[0ma\u001b[0m \u001b[1;33m=\u001b[0m \u001b[0mmin\u001b[0m\u001b[1;33m(\u001b[0m\u001b[0mrandom\u001b[0m\u001b[1;33m(\u001b[0m\u001b[0mi\u001b[0m\u001b[1;33m)\u001b[0m\u001b[1;33m)\u001b[0m\u001b[1;33m\u001b[0m\u001b[1;33m\u001b[0m\u001b[0m\n\u001b[0m",
      "\u001b[1;31mTypeError\u001b[0m: 'module' object is not callable"
     ]
    }
   ],
   "source": [
    "num = 972882\n",
    "for i in str(num):\n",
    "    a = "
   ]
  },
  {
   "cell_type": "code",
   "execution_count": 45,
   "metadata": {},
   "outputs": [
    {
     "data": {
      "text/plain": [
       "'2'"
      ]
     },
     "execution_count": 45,
     "metadata": {},
     "output_type": "execute_result"
    }
   ],
   "source": []
  },
  {
   "cell_type": "code",
   "execution_count": null,
   "metadata": {},
   "outputs": [],
   "source": []
  }
 ],
 "metadata": {
  "kernelspec": {
   "display_name": "Python 3",
   "language": "python",
   "name": "python3"
  },
  "language_info": {
   "codemirror_mode": {
    "name": "ipython",
    "version": 3
   },
   "file_extension": ".py",
   "mimetype": "text/x-python",
   "name": "python",
   "nbconvert_exporter": "python",
   "pygments_lexer": "ipython3",
   "version": "3.8.5"
  }
 },
 "nbformat": 4,
 "nbformat_minor": 4
}
