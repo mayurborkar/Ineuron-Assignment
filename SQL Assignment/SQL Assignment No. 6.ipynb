{
 "cells": [
  {
   "cell_type": "markdown",
   "metadata": {},
   "source": [
    "**Q-1. Write an SQL query to print details of the Workers who have joined in Feb’2014.**"
   ]
  },
  {
   "cell_type": "code",
   "execution_count": 2,
   "metadata": {},
   "outputs": [
    {
     "name": "stdout",
     "output_type": "stream",
     "text": [
      "   WORKER_ID FIRST_NAME LAST_NAME  SALARY        JOINING_DATE DEPARTMENT\n",
      "0          1     Monika     Arora  100000 2014-02-20 09:00:00         HR\n",
      "1          3     Vishal   Singhal  300000 2014-02-20 09:00:00         HR\n",
      "2          4    Amitabh     Singh  500000 2014-02-20 09:00:00      Admin\n"
     ]
    }
   ],
   "source": [
    "import pandas as pd\n",
    "import mysql.connector as connection\n",
    "try:\n",
    "    my_db = connection.connect(host='localhost', user='root', passwd='root', database='mayur', use_pure=True)\n",
    "    cursor = my_db.cursor()\n",
    "    query = 'SELECT * FROM mayur.worker2 WHERE year(joining_date) = 2014 and month(joining_date) = 2;'\n",
    "    result = pd.read_sql(query, my_db)\n",
    "    print(result)\n",
    "    my_db.close()\n",
    "    \n",
    "except Exception as e:\n",
    "    print(str(e))"
   ]
  },
  {
   "cell_type": "markdown",
   "metadata": {},
   "source": [
    "<img src = 'Images/Screenshot (33).png'>"
   ]
  },
  {
   "cell_type": "markdown",
   "metadata": {},
   "source": [
    "**Q-2. Write an SQL query to fetch duplicate records having matching data in some fields of a table.**"
   ]
  },
  {
   "cell_type": "code",
   "execution_count": 3,
   "metadata": {},
   "outputs": [
    {
     "name": "stdout",
     "output_type": "stream",
     "text": [
      "  WORKER_TITLE AFFECTED_FROM  COUNT(*)\n",
      "0    Executive    2016-06-11         3\n",
      "1         Lead    2016-06-11         2\n"
     ]
    }
   ],
   "source": [
    "import pandas as pd\n",
    "import mysql.connector as connection\n",
    "try:\n",
    "    my_db = connection.connect(host='localhost', user='root', passwd='root', database='mayur', use_pure=True)\n",
    "    cursor = my_db.cursor()\n",
    "    query = 'SELECT WORKER_TITLE, AFFECTED_FROM, COUNT(*) FROM mayur.Title GROUP BY WORKER_TITLE, AFFECTED_FROM HAVING COUNT(*) > 1;'\n",
    "    result = pd.read_sql(query, my_db)\n",
    "    print(result)\n",
    "    my_db.close()\n",
    "    \n",
    "except Exception as e:\n",
    "    print(str(e))"
   ]
  },
  {
   "cell_type": "markdown",
   "metadata": {},
   "source": [
    "<img src = 'Images/Screenshot (34).png'>"
   ]
  },
  {
   "cell_type": "markdown",
   "metadata": {},
   "source": [
    "**Q-3. How to remove duplicate rows from Employees table.**"
   ]
  },
  {
   "cell_type": "markdown",
   "metadata": {},
   "source": [
    "<img src = 'Images/Screenshot (41).png'>"
   ]
  },
  {
   "cell_type": "code",
   "execution_count": null,
   "metadata": {},
   "outputs": [],
   "source": []
  }
 ],
 "metadata": {
  "kernelspec": {
   "display_name": "Python 3",
   "language": "python",
   "name": "python3"
  },
  "language_info": {
   "codemirror_mode": {
    "name": "ipython",
    "version": 3
   },
   "file_extension": ".py",
   "mimetype": "text/x-python",
   "name": "python",
   "nbconvert_exporter": "python",
   "pygments_lexer": "ipython3",
   "version": "3.8.5"
  }
 },
 "nbformat": 4,
 "nbformat_minor": 4
}
