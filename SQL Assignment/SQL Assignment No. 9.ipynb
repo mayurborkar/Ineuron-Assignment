{
 "cells": [
  {
   "cell_type": "markdown",
   "metadata": {},
   "source": [
    "**Q-17.  Write an SQL query to show the top n (say 10) records of a table.**"
   ]
  },
  {
   "cell_type": "code",
   "execution_count": 1,
   "metadata": {},
   "outputs": [
    {
     "name": "stdout",
     "output_type": "stream",
     "text": [
      "   ID  SALARY      NAME                DEPT_ID\n",
      "0   9   48000  NIVIDITA          UI DEVELOPERS\n",
      "1   6   40000     MAYUR          UI DEVELOPERS\n",
      "2   5   37000       KAE          UI DEVELOPERS\n",
      "3   3   36000     SUMIT     BACKEND DEVELOPERS\n",
      "4   8   35000  SHRADDHA  FULL STACK DEVELOPERS\n",
      "5   1   34000    ANURAG          UI DEVELOPERS\n",
      "6   2   33000     HARSH     BACKEND DEVELOPERS\n",
      "7  10   31000      GOPI          UI DEVELOPERS\n",
      "8   4   26000      RUHI          UI DEVELOPERS\n",
      "9   7   22000   VAIBHAO  FULL STACK DEVELOPERS\n"
     ]
    }
   ],
   "source": [
    "import pandas as pd\n",
    "import mysql.connector as connection\n",
    "try:\n",
    "    my_db = connection.connect(host='localhost', user='root', passwd='root', database='mayur', use_pure=True)\n",
    "    cursor = my_db.cursor()\n",
    "    query = 'SELECT * FROM mayur.worker ORDER BY Salary DESC LIMIT 10;'\n",
    "    result = pd.read_sql(query, my_db)\n",
    "    print(result)\n",
    "    my_db.close()\n",
    "    \n",
    "except Exception as e:\n",
    "    print(str(e))"
   ]
  },
  {
   "cell_type": "markdown",
   "metadata": {},
   "source": [
    "<img src = 'Images/Screenshot (37).png'>"
   ]
  },
  {
   "cell_type": "markdown",
   "metadata": {},
   "source": [
    "**Q-18. Write an SQL query to determine the nth (say n=5) highest salary from a table.**"
   ]
  },
  {
   "cell_type": "code",
   "execution_count": 2,
   "metadata": {},
   "outputs": [
    {
     "name": "stdout",
     "output_type": "stream",
     "text": [
      "   Salary\n",
      "0   35000\n"
     ]
    }
   ],
   "source": [
    "import pandas as pd\n",
    "import mysql.connector as connection\n",
    "try:\n",
    "    my_db = connection.connect(host='localhost', user='root', passwd='root', database='mayur', use_pure=True)\n",
    "    cursor = my_db.cursor()\n",
    "    query = 'SELECT Salary FROM mayur.worker ORDER BY Salary DESC LIMIT 4,1;'\n",
    "    result = pd.read_sql(query, my_db)\n",
    "    print(result)\n",
    "    my_db.close()\n",
    "    \n",
    "except Exception as e:\n",
    "    print(str(e))"
   ]
  },
  {
   "cell_type": "markdown",
   "metadata": {},
   "source": [
    "<img src = 'Images/Screenshot (38).png'>"
   ]
  },
  {
   "cell_type": "code",
   "execution_count": null,
   "metadata": {},
   "outputs": [],
   "source": []
  }
 ],
 "metadata": {
  "kernelspec": {
   "display_name": "Python 3",
   "language": "python",
   "name": "python3"
  },
  "language_info": {
   "codemirror_mode": {
    "name": "ipython",
    "version": 3
   },
   "file_extension": ".py",
   "mimetype": "text/x-python",
   "name": "python",
   "nbconvert_exporter": "python",
   "pygments_lexer": "ipython3",
   "version": "3.8.5"
  }
 },
 "nbformat": 4,
 "nbformat_minor": 4
}
