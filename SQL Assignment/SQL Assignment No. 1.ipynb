{
 "cells": [
  {
   "cell_type": "markdown",
   "metadata": {},
   "source": [
    "**Q-1. Write an SQL query to fetch “FIRST_NAME” from Worker table using the alias name as WORKER_NAME.**"
   ]
  },
  {
   "cell_type": "code",
   "execution_count": 3,
   "metadata": {},
   "outputs": [
    {
     "name": "stdout",
     "output_type": "stream",
     "text": [
      "       NAME\n",
      "0    ANURAG\n",
      "1     HARSH\n",
      "2     SUMIT\n",
      "3      RUHI\n",
      "4       KAE\n",
      "5     MAYUR\n",
      "6   VAIBHAO\n",
      "7  SHRADDHA\n",
      "8  NIVIDITA\n",
      "9      GOPI\n"
     ]
    }
   ],
   "source": [
    "import pandas as pd\n",
    "import mysql.connector as connection\n",
    "try:\n",
    "    my_db = connection.connect(host='localhost', user='root', passwd='root', database='mayur', use_pure=True)\n",
    "    cursor = my_db.cursor()\n",
    "    query = 'SELECT NAME FROM mayur.Worker;'\n",
    "    result = pd.read_sql(query, my_db)\n",
    "    print(result)\n",
    "    \n",
    "except Exception as e:\n",
    "    print(str(e))"
   ]
  },
  {
   "cell_type": "markdown",
   "metadata": {},
   "source": [
    "<img src = 'Images/Screenshot (18).png'>"
   ]
  },
  {
   "cell_type": "markdown",
   "metadata": {},
   "source": [
    "**Q-2. Write an SQL query to fetch unique values of DEPARTMENT from Worker table.**"
   ]
  },
  {
   "cell_type": "code",
   "execution_count": 5,
   "metadata": {},
   "outputs": [
    {
     "name": "stdout",
     "output_type": "stream",
     "text": [
      "                 DEPT_ID\n",
      "0          UI DEVELOPERS\n",
      "1     BACKEND DEVELOPERS\n",
      "2  FULL STACK DEVELOPERS\n"
     ]
    }
   ],
   "source": [
    "import pandas as pd\n",
    "import mysql.connector as connection\n",
    "try:\n",
    "    my_db = connection.connect(host='localhost', user='root', passwd='root', database='mayur', use_pure=True)\n",
    "    cursor = my_db.cursor()\n",
    "    query = 'SELECT DISTINCT DEPT_ID  FROM mayur.Worker;'\n",
    "    result = pd.read_sql(query, my_db)\n",
    "    print(result)\n",
    "    \n",
    "except Exception as e:\n",
    "    print(str(e))"
   ]
  },
  {
   "cell_type": "markdown",
   "metadata": {},
   "source": [
    "<img src = 'Images/Screenshot (19).png'>"
   ]
  },
  {
   "cell_type": "markdown",
   "metadata": {},
   "source": [
    "**Q-3. Write an SQL query to show the last 5 record from a table.**"
   ]
  },
  {
   "cell_type": "code",
   "execution_count": 6,
   "metadata": {},
   "outputs": [
    {
     "name": "stdout",
     "output_type": "stream",
     "text": [
      "   ID  SALARY      NAME                DEPT_ID\n",
      "0   6   40000     MAYUR          UI DEVELOPERS\n",
      "1   7   22000   VAIBHAO  FULL STACK DEVELOPERS\n",
      "2   8   35000  SHRADDHA  FULL STACK DEVELOPERS\n",
      "3   9   48000  NIVIDITA          UI DEVELOPERS\n",
      "4  10   31000      GOPI          UI DEVELOPERS\n"
     ]
    }
   ],
   "source": [
    "import pandas as pd\n",
    "import mysql.connector as connection\n",
    "try:\n",
    "    my_db = connection.connect(host='localhost', user='root', passwd='root', database='mayur', use_pure=True)\n",
    "    cursor = my_db.cursor()\n",
    "    query = '(SELECT * FROM mayur.Worker ORDER BY ID DESC LIMIT 5) order by ID ASC;'\n",
    "    result = pd.read_sql(query, my_db)\n",
    "    print(result)\n",
    "    \n",
    "except Exception as e:\n",
    "    print(str(e))"
   ]
  },
  {
   "cell_type": "markdown",
   "metadata": {},
   "source": [
    "<img src = 'Images/Screenshot (20).png'>"
   ]
  },
  {
   "cell_type": "code",
   "execution_count": null,
   "metadata": {},
   "outputs": [],
   "source": []
  }
 ],
 "metadata": {
  "kernelspec": {
   "display_name": "Python 3",
   "language": "python",
   "name": "python3"
  },
  "language_info": {
   "codemirror_mode": {
    "name": "ipython",
    "version": 3
   },
   "file_extension": ".py",
   "mimetype": "text/x-python",
   "name": "python",
   "nbconvert_exporter": "python",
   "pygments_lexer": "ipython3",
   "version": "3.8.5"
  }
 },
 "nbformat": 4,
 "nbformat_minor": 4
}
