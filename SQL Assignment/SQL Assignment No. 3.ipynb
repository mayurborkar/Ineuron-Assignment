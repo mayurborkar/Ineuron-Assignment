{
 "cells": [
  {
   "cell_type": "markdown",
   "metadata": {},
   "source": [
    "**Q-1. Write an SQL query to print the FIRST_NAME from Worker table after removing white spaces from the right side.**"
   ]
  },
  {
   "cell_type": "code",
   "execution_count": 3,
   "metadata": {},
   "outputs": [
    {
     "name": "stdout",
     "output_type": "stream",
     "text": [
      "  RTRIM(name)\n",
      "0      ANURAG\n",
      "1       HARSH\n",
      "2       SUMIT\n",
      "3        RUHI\n",
      "4         KAE\n",
      "5       MAYUR\n",
      "6     VAIBHAO\n",
      "7    SHRADDHA\n",
      "8    NIVIDITA\n",
      "9        GOPI\n"
     ]
    }
   ],
   "source": [
    "import pandas as pd\n",
    "import mysql.connector as connection\n",
    "try:\n",
    "    my_db = connection.connect(host='localhost', user='root', passwd='root', database='mayur', use_pure=True)\n",
    "    cursor = my_db.cursor()\n",
    "    query = 'SELECT RTRIM(name) FROM mayur.worker;'\n",
    "    result = pd.read_sql(query, my_db)\n",
    "    print(result)\n",
    "    my_db.close()\n",
    "    \n",
    "except Exception as e:\n",
    "    print(str(e))"
   ]
  },
  {
   "cell_type": "markdown",
   "metadata": {},
   "source": [
    "<img src = 'Images/Screenshot (25).png'>"
   ]
  },
  {
   "cell_type": "markdown",
   "metadata": {},
   "source": [
    "**Q-2. Write an SQL query that fetches the unique values of DEPARTMENT from Worker table and prints its length.**"
   ]
  },
  {
   "cell_type": "code",
   "execution_count": 2,
   "metadata": {},
   "outputs": [
    {
     "name": "stdout",
     "output_type": "stream",
     "text": [
      "   length(DEPT_ID)\n",
      "0               13\n",
      "1               18\n",
      "2               21\n"
     ]
    }
   ],
   "source": [
    "import pandas as pd\n",
    "import mysql.connector as connection\n",
    "try:\n",
    "    my_db = connection.connect(host='localhost', user='root', passwd='root', database='mayur', use_pure=True)\n",
    "    cursor = my_db.cursor()\n",
    "    query = 'SELECT DISTINCT length(DEPT_ID) FROM mayur.worker;'\n",
    "    result = pd.read_sql(query, my_db)\n",
    "    print(result)\n",
    "    my_db.close()\n",
    "except Exception as e:\n",
    "    print(str(e))"
   ]
  },
  {
   "cell_type": "markdown",
   "metadata": {},
   "source": [
    "<img src = 'Images/Screenshot (27).png'>"
   ]
  },
  {
   "cell_type": "markdown",
   "metadata": {},
   "source": [
    "**Q-3. Write an SQL query to fetch nth max salaries from a table.**"
   ]
  },
  {
   "cell_type": "code",
   "execution_count": 1,
   "metadata": {},
   "outputs": [
    {
     "name": "stdout",
     "output_type": "stream",
     "text": [
      "   Salary\n",
      "0   35000\n"
     ]
    }
   ],
   "source": [
    "import pandas as pd\n",
    "import mysql.connector as connection\n",
    "try:\n",
    "    my_db = connection.connect(host='localhost', user='root', passwd='root', database='mayur', use_pure=True)\n",
    "    cursor = my_db.cursor()\n",
    "    query = 'SELECT Salary FROM mayur.worker ORDER BY Salary DESC LIMIT 4,1;'\n",
    "    result = pd.read_sql(query, my_db)\n",
    "    print(result)\n",
    "    my_db.close()\n",
    "    \n",
    "except Exception as e:\n",
    "    print(str(e))"
   ]
  },
  {
   "cell_type": "markdown",
   "metadata": {},
   "source": [
    "<img src = 'Images/Screenshot (38).png'>"
   ]
  },
  {
   "cell_type": "code",
   "execution_count": null,
   "metadata": {},
   "outputs": [],
   "source": []
  }
 ],
 "metadata": {
  "kernelspec": {
   "display_name": "Python 3",
   "language": "python",
   "name": "python3"
  },
  "language_info": {
   "codemirror_mode": {
    "name": "ipython",
    "version": 3
   },
   "file_extension": ".py",
   "mimetype": "text/x-python",
   "name": "python",
   "nbconvert_exporter": "python",
   "pygments_lexer": "ipython3",
   "version": "3.8.5"
  }
 },
 "nbformat": 4,
 "nbformat_minor": 4
}
