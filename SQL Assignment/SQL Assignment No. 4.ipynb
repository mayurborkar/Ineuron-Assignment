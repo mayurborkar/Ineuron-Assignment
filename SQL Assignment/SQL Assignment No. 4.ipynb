{
 "cells": [
  {
   "cell_type": "markdown",
   "metadata": {},
   "source": [
    "**Q-1. Write an SQL query to print the FIRST_NAME from Worker table after replacing ‘a’ with ‘A’.**"
   ]
  },
  {
   "cell_type": "markdown",
   "metadata": {},
   "source": [
    "<img src = 'Images/Screenshot (28).png'>"
   ]
  },
  {
   "cell_type": "markdown",
   "metadata": {},
   "source": [
    "**Q-2. Write an SQL query to print all Worker details from the Worker table order by FIRST_NAME Ascending and DEPARTMENT Descending.**"
   ]
  },
  {
   "cell_type": "code",
   "execution_count": 9,
   "metadata": {},
   "outputs": [
    {
     "name": "stdout",
     "output_type": "stream",
     "text": [
      "   ID  SALARY      NAME                DEPT_ID\n",
      "0   1   34000    ANURAG          UI DEVELOPERS\n",
      "1  10   31000      GOPI          UI DEVELOPERS\n",
      "2   2   33000     HARSH     BACKEND DEVELOPERS\n",
      "3   5   37000       KAE          UI DEVELOPERS\n",
      "4   6   40000     MAYUR          UI DEVELOPERS\n",
      "5   9   48000  NIVIDITA          UI DEVELOPERS\n",
      "6   4   26000      RUHI          UI DEVELOPERS\n",
      "7   8   35000  SHRADDHA  FULL STACK DEVELOPERS\n",
      "8   3   36000     SUMIT     BACKEND DEVELOPERS\n",
      "9   7   22000   VAIBHAO  FULL STACK DEVELOPERS\n"
     ]
    }
   ],
   "source": [
    "import pandas as pd\n",
    "import mysql.connector as connection\n",
    "try:\n",
    "    my_db = connection.connect(host='localhost', user='root', passwd='root', database='mayur', use_pure=True)\n",
    "    cursor = my_db.cursor()\n",
    "    query = 'SELECT * FROM mayur.worker ORDER BY name ASC, dept_id DESC;'\n",
    "    result = pd.read_sql(query, my_db)\n",
    "    print(result)\n",
    "    my_db.close()\n",
    "    \n",
    "except Exception as e:\n",
    "    print(str(e))"
   ]
  },
  {
   "cell_type": "markdown",
   "metadata": {},
   "source": [
    "<img src = 'Images/Screenshot (29).png'>"
   ]
  },
  {
   "cell_type": "markdown",
   "metadata": {},
   "source": [
    "**Q-3. Write an SQL query to fetch the names of workers who earn the highest salary.**"
   ]
  },
  {
   "cell_type": "code",
   "execution_count": 11,
   "metadata": {},
   "outputs": [
    {
     "name": "stdout",
     "output_type": "stream",
     "text": [
      "   ID  SALARY      NAME        DEPT_ID\n",
      "0   9   48000  NIVIDITA  UI DEVELOPERS\n"
     ]
    }
   ],
   "source": [
    "import pandas as pd\n",
    "import mysql.connector as connection\n",
    "try:\n",
    "    my_db = connection.connect(host='localhost', user='root', passwd='root', database='mayur', use_pure=True)\n",
    "    cursor = my_db.cursor()\n",
    "    query = 'select *from mayur.worker where salary=(select Max(salary) from mayur.worker);'\n",
    "    result = pd.read_sql(query, my_db)\n",
    "    print(result)\n",
    "    my_db.close()\n",
    "    \n",
    "except Exception as e:\n",
    "    print(str(e))"
   ]
  },
  {
   "cell_type": "markdown",
   "metadata": {},
   "source": [
    "<img src = 'Images/Screenshot (30).png'>"
   ]
  },
  {
   "cell_type": "code",
   "execution_count": null,
   "metadata": {},
   "outputs": [],
   "source": []
  }
 ],
 "metadata": {
  "kernelspec": {
   "display_name": "Python 3",
   "language": "python",
   "name": "python3"
  },
  "language_info": {
   "codemirror_mode": {
    "name": "ipython",
    "version": 3
   },
   "file_extension": ".py",
   "mimetype": "text/x-python",
   "name": "python",
   "nbconvert_exporter": "python",
   "pygments_lexer": "ipython3",
   "version": "3.8.5"
  }
 },
 "nbformat": 4,
 "nbformat_minor": 4
}
