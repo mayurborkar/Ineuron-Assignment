{
 "cells": [
  {
   "cell_type": "markdown",
   "metadata": {},
   "source": [
    "**Question1. Create a function that takes three arguments a, b, c and returns the sum of the numbers that are evenly divided by c from the range a, b inclusive.**\n",
    "\n",
    "Examples\n",
    "\n",
    "evenly_divisible(1, 10, 20) ➞**0**\n",
    "\n",
    "No number between 1 and 10 can be evenly divided by 20.\n",
    "\n",
    "evenly_divisible(1, 10, 2) ➞ **30**\n",
    "\n",
    "2 + 4 + 6 + 8 + 10 = 30\n",
    "\n",
    "evenly_divisible(1, 10, 3) ➞ **18**\n",
    "\n",
    "3 + 6 + 9 = 18\n"
   ]
  },
  {
   "cell_type": "code",
   "execution_count": 1,
   "metadata": {},
   "outputs": [
    {
     "name": "stdout",
     "output_type": "stream",
     "text": [
      "evenly_divisible ( 1 , 10 , 20 ) ➞ 0\n",
      "No Number Between 1 and 10 Can Be Evenly Divided By 20\n",
      "Their Is No Error In Try Block\n",
      "Code Is Exicuted Below\n",
      "------------------------------------------------------------\n",
      "evenly_divisible ( 1 , 10 , 2 ) ➞ 30\n",
      "Their Is No Error In Try Block\n",
      "Code Is Exicuted Below\n",
      "------------------------------------------------------------\n",
      "evenly_divisible ( 1 , 10 , 3 ) ➞ 18\n",
      "Their Is No Error In Try Block\n",
      "Code Is Exicuted Below\n",
      "------------------------------------------------------------\n"
     ]
    }
   ],
   "source": [
    "def evenly_divisible(a,b,c):\n",
    "    \"\"\"\n",
    "    The Given Function Which Is Written To Check That Whether, All The \n",
    "    Number Between Strating & Ending Range Are Divisible By Gap Number\n",
    "    a = a Is Staring Number\n",
    "    b = b Is Ending Number\n",
    "    c = c Is Gap Number\n",
    "    \"\"\"\n",
    "    try:\n",
    "        sum = 0  #Initiliaze The Sum Variable\n",
    "        \n",
    "        for i in range(a,b+1): #Iterating Through Particular Range\n",
    "            \n",
    "            if(i % c == 0): #Checking The Number Which Is Divisible By C value\n",
    "                \n",
    "                sum = sum + i #calculating The Sum\n",
    "                \n",
    "        if (sum != 0): #Checking The Condition\n",
    "            \n",
    "            print('evenly_divisible','(',a,',',b,',',c,')','➞', sum)\n",
    "        else:\n",
    "            \n",
    "            print('evenly_divisible','(',a,',',b,',',c,')','➞', sum)\n",
    "            print('No Number Between', a, 'and', b, 'Can Be Evenly Divided By', c)\n",
    "            \n",
    "    except Exception as e: #Except Block Will Exicuted Only When Their Is Error In Try Block\n",
    "        print(e)\n",
    "    \n",
    "    else:  #Thse Will Exicuted When Try Block Exicuted\n",
    "        print('Their Is No Error In Try Block')\n",
    "\n",
    "    finally: #Finally Block Exicuted Whether It Is Error Or Not\n",
    "        print('Code Is Exicuted Below')\n",
    "        print('---'*20)\n",
    "        \n",
    "#Driver Code\n",
    "if __name__ =='__main__':\n",
    "    \n",
    "    a = 1 \n",
    "    b = 10\n",
    "    c = 20    \n",
    "    evenly_divisible(a,b,c)\n",
    "\n",
    "    a = 1 \n",
    "    b = 10\n",
    "    c = 2    \n",
    "    evenly_divisible(a,b,c)\n",
    "\n",
    "    a = 1 \n",
    "    b = 10\n",
    "    c = 3    \n",
    "    evenly_divisible(a,b,c)\n",
    "    "
   ]
  },
  {
   "cell_type": "markdown",
   "metadata": {},
   "source": [
    "**Question2. Create a function that returns True if a given inequality expression is correct and False otherwise.**\n",
    "\n",
    "Examples\n",
    "\n",
    "correct_signs(\"3 < 7 < 11\") ➞ **True**\n",
    "\n",
    "correct_signs(\"13 > 44 > 33 > 1\") ➞ **False**\n",
    "\n",
    "correct_signs(\"1 < 2 < 6 < 9 > 3\") ➞ **True**\n"
   ]
  },
  {
   "cell_type": "code",
   "execution_count": null,
   "metadata": {},
   "outputs": [],
   "source": []
  },
  {
   "cell_type": "markdown",
   "metadata": {},
   "source": [
    "**Question3. Create a function that replaces all the vowels in a string with a specified character.**\n",
    "\n",
    "Examples\n",
    "\n",
    "replace_vowels(\"the aardvark\", \"#\") ➞ **\"th# ##rdv#rk\"**\n",
    "\n",
    "replace_vowels(\"minnie mouse\", \"?\") ➞ **\"m?nn?? m??s?\"**\n",
    "\n",
    "replace_vowels(\"shakespeare\", \"!\") ➞ **\"sh!k!sp!!r!**\n"
   ]
  },
  {
   "cell_type": "code",
   "execution_count": 2,
   "metadata": {},
   "outputs": [
    {
     "name": "stdout",
     "output_type": "stream",
     "text": [
      "Code Is Exicuted Below\n",
      "the aardvark Afer Replacing Vowels From The Phrase That Become th# ##rdv#rk\n",
      "------------------------------------------------------------\n",
      "Code Is Exicuted Below\n",
      "minnie mouse Afer Replacing Vowels From The Phrase That Become m?nn?? m??s?\n",
      "------------------------------------------------------------\n",
      "Code Is Exicuted Below\n",
      "shakespeare Afer Replacing Vowels From The Phrase That Become sh*k*sp**r*\n",
      "------------------------------------------------------------\n"
     ]
    }
   ],
   "source": [
    "def replaceVowels(user, K): #Defining The Function\n",
    "    \"\"\"\n",
    "    The Given Function Which Is Written To Replace All Vowels With The Special Character \n",
    "    user = user Is String\n",
    "    k = k Special Character\n",
    "    \"\"\"    \n",
    "    try:\n",
    "  \n",
    "        vowels = 'AEIOUaeiou' #String of Vowels\n",
    "\n",
    "        for i in vowels: #Iterating To Check Vowels In String\n",
    "\n",
    "\n",
    "            user = user.replace(i, K) #Replacing Vowel With The Specified Character\n",
    "\n",
    "        return user\n",
    "    \n",
    "    except Exception as e: #Except Block Will Exicuted Only When Their Is Error In Try Block\n",
    "        print(e)\n",
    "    \n",
    "    else:  #Thse Will Exicuted When Try Block Exicuted\n",
    "        print('Their Is No Error In Try Block')\n",
    "\n",
    "    finally: #Finally Block Exicuted Whether It Is Error Or Not\n",
    "        print('Code Is Exicuted Below')\n",
    "\n",
    "#Driver Code        \n",
    "if __name__ == '__main__':\n",
    "      \n",
    "    user = \"the aardvark\"\n",
    "    K = \"#\" \n",
    "    print(\"{} Afer Replacing Vowels From The Phrase That Become {}\".format(user,replaceVowels(user, K)))\n",
    "    print('---'*20)\n",
    "    \n",
    "    user = \"minnie mouse\"\n",
    "    K = \"?\" \n",
    "    print(\"{} Afer Replacing Vowels From The Phrase That Become {}\".format(user,replaceVowels(user, K)))   \n",
    "    print('---'*20)\n",
    "    \n",
    "    user = \"shakespeare\"\n",
    "    K = \"*\" \n",
    "    print(\"{} Afer Replacing Vowels From The Phrase That Become {}\".format(user,replaceVowels(user, K)))\n",
    "    print('---'*20)"
   ]
  },
  {
   "cell_type": "markdown",
   "metadata": {},
   "source": [
    "**Question4. Write a function that calculates the factorial of a number recursively.**\n",
    "\n",
    "Examples\n",
    "\n",
    "factorial(5) ➞ **120**\n",
    "\n",
    "factorial(3) ➞ **6**\n",
    "\n",
    "factorial(1) ➞ **1**\n",
    "\n",
    "factorial(0) ➞ **1**\n",
    "\n"
   ]
  },
  {
   "cell_type": "code",
   "execution_count": 3,
   "metadata": {},
   "outputs": [
    {
     "name": "stdout",
     "output_type": "stream",
     "text": [
      "Factorial ( 5 ) ➞ 120\n",
      "Factorial ( 3 ) ➞ 6\n",
      "Factorial ( 1 ) ➞ 1\n",
      "Factorial ( 0 ) ➞ 1\n"
     ]
    }
   ],
   "source": [
    "def factorial(n):\n",
    "    \"\"\"\n",
    "    The Given Function Which Is Written To Find Out The Factorial Of Given Number \n",
    "    n = n Stands For Number\n",
    "    \"\"\"    \n",
    "    try:\n",
    "    \n",
    "        if n < 1:  # Base Case: if `n` is 0 or 1\n",
    "            return 1\n",
    "\n",
    "\n",
    "        return n * factorial(n - 1) # Use The Recurrence Relation\n",
    "    \n",
    "    except Exception as e: #Except Block Will Exicuted Only When Their Is Error In Try Block\n",
    "        print(e)\n",
    "    \n",
    "    else:  #Thse Will Exicuted When Try Block Exicuted\n",
    "        print('Their Is No Error In Try Block')\n",
    "\n",
    "if __name__ == '__main__':\n",
    " \n",
    "        n = 5\n",
    "        print('Factorial','(',n,')', '➞',factorial(n))\n",
    "\n",
    "        n=3\n",
    "        print('Factorial','(',n,')', '➞',factorial(n))\n",
    "\n",
    "        n=1\n",
    "        print('Factorial','(',n,')', '➞',factorial(n))\n",
    "\n",
    "        n=0\n",
    "        print('Factorial','(',n,')', '➞',factorial(n))"
   ]
  },
  {
   "cell_type": "markdown",
   "metadata": {},
   "source": [
    "**Question 5. Hamming distance is the number of characters that differ between two strings.Create a function that computes the hamming distance between two strings.**\n",
    "\n",
    "To illustrate:\n",
    "\n",
    "String1: \"abcbba\"\n",
    "\n",
    "String2: \"abcbda\"\n",
    "\n",
    "Hamming Distance: 1 - \"b\" vs. \"d\" is the only difference.\n",
    "\n",
    "\n",
    "Examples\n",
    "\n",
    "hamming_distance(\"abcde\", \"bcdef\") ➞ 5\n",
    "\n",
    "hamming_distance(\"abcde\", \"abcde\") ➞ 0\n",
    "\n",
    "hamming_distance(\"strong\", \"strung\") ➞ 1\n"
   ]
  },
  {
   "cell_type": "code",
   "execution_count": 4,
   "metadata": {},
   "outputs": [
    {
     "name": "stdout",
     "output_type": "stream",
     "text": [
      "hamming_distance ( abcde , bcdef ) ➞ 5\n",
      "hamming_distance ( abcde , abcde ) ➞ 0\n",
      "hamming_distance ( strong , strung ) ➞ 1\n"
     ]
    }
   ],
   "source": [
    "class Distance:\n",
    "    def __init__(self,String1,String2):\n",
    "        self.String1 = String1\n",
    "        self.String2 = String2\n",
    "        \n",
    "    def hamming_distance(self):\n",
    "        try:\n",
    "            i = 0\n",
    "            count = 0\n",
    "            while(i < len(self.String1)):\n",
    "                if(self.String1[i] != self.String2[i]):\n",
    "                    count += 1\n",
    "                i += 1\n",
    "            return count\n",
    "        except Exception as e:\n",
    "            print(e)\n",
    "    \n",
    "String1=\"abcde\"\n",
    "String2=\"bcdef\"    \n",
    "d=Distance(String1,String2) \n",
    "print('hamming_distance','(',String1,',',String2,')','➞', d.hamming_distance())\n",
    "\n",
    "\n",
    "String1=\"abcde\"\n",
    "String2=\"abcde\"    \n",
    "d=Distance(String1,String2) \n",
    "print('hamming_distance','(',String1,',',String2,')','➞', d.hamming_distance())\n",
    "\n",
    "String1=\"strong\"\n",
    "String2=\"strung\"    \n",
    "d=Distance(String1,String2) \n",
    "print('hamming_distance','(',String1,',',String2,')','➞', d.hamming_distance())"
   ]
  }
 ],
 "metadata": {
  "kernelspec": {
   "display_name": "Python 3",
   "language": "python",
   "name": "python3"
  },
  "language_info": {
   "codemirror_mode": {
    "name": "ipython",
    "version": 3
   },
   "file_extension": ".py",
   "mimetype": "text/x-python",
   "name": "python",
   "nbconvert_exporter": "python",
   "pygments_lexer": "ipython3",
   "version": "3.8.5"
  }
 },
 "nbformat": 4,
 "nbformat_minor": 4
}
