{
 "cells": [
  {
   "cell_type": "markdown",
   "metadata": {},
   "source": [
    "**1.\tWrite a Python program to find sum of elements in list?**"
   ]
  },
  {
   "cell_type": "code",
   "execution_count": 8,
   "metadata": {},
   "outputs": [
    {
     "name": "stdout",
     "output_type": "stream",
     "text": [
      "55\n"
     ]
    }
   ],
   "source": [
    "#Deciding The variable\n",
    "sum=0\n",
    "\n",
    "#Creating The List\n",
    "lst=[1,2,3,4,5,6,7,8,9,10]\n",
    "\n",
    "#iterating Each Element From The List\n",
    "for i in range(0,len(lst)):\n",
    "    \n",
    "    sum=sum + lst[i]#Adding Element From The list\n",
    "    \n",
    "    \n",
    "print(sum)"
   ]
  },
  {
   "cell_type": "markdown",
   "metadata": {},
   "source": [
    "**2.\tWrite a Python program to  Multiply all numbers in the list?**"
   ]
  },
  {
   "cell_type": "code",
   "execution_count": 9,
   "metadata": {},
   "outputs": [],
   "source": [
    "def multiply(lst):\n",
    "    \"\"\"\n",
    "    These Function Can Be Used For The Multiplication of All The Element From The List\n",
    "    lst = lst Stands For The List\n",
    "    \"\"\"\n",
    "    result=1#Deciding The Result Variable\n",
    "    \n",
    "    for i in lst:#Iterating From Ecah Element From The List\n",
    "        \n",
    "        result = result * i#Multiplying The Element From List\n",
    "        \n",
    "    return result"
   ]
  },
  {
   "cell_type": "code",
   "execution_count": 10,
   "metadata": {},
   "outputs": [
    {
     "data": {
      "text/plain": [
       "3628800"
      ]
     },
     "execution_count": 10,
     "metadata": {},
     "output_type": "execute_result"
    }
   ],
   "source": [
    "lst=[1,2,3,4,5,6,7,8,9,10]\n",
    "multiply(lst)"
   ]
  },
  {
   "cell_type": "markdown",
   "metadata": {},
   "source": [
    "**3.\tWrite a Python program to find smallest number in a list?**"
   ]
  },
  {
   "cell_type": "code",
   "execution_count": 1,
   "metadata": {},
   "outputs": [
    {
     "name": "stdout",
     "output_type": "stream",
     "text": [
      "Enter number of elements in list: 10\n",
      "Enter The Element : 12\n",
      "Enter The Element : 22\n",
      "Enter The Element : 45\n",
      "Enter The Element : 56\n",
      "Enter The Element : 79\n",
      "Enter The Element : 75\n",
      "Enter The Element : 65\n",
      "Enter The Element : 35\n",
      "Enter The Element : 64\n",
      "Enter The Element : 68\n",
      "Smallest Number Fro The Given User Input List 12\n"
     ]
    }
   ],
   "source": [
    "#Taking The Input From User & Then Find The Smallest Number\n",
    "#Create Empty List\n",
    "lst=[]\n",
    "\n",
    "#Taking User Input\n",
    "num = int(input(\"Enter number of elements in list: \"))\n",
    "\n",
    "#Iterating Each Element\n",
    "for i in range(1, num+1):\n",
    "    element=int(input(\"Enter The Element : \")) # Entering The Element In list\n",
    "    lst.append(element)#Adding The Element In list\n",
    "    \n",
    "print('Smallest Number From The Given User Input List', min(lst))"
   ]
  },
  {
   "cell_type": "markdown",
   "metadata": {},
   "source": [
    "**4.\tWrite a Python program to find largest number in a list?**"
   ]
  },
  {
   "cell_type": "code",
   "execution_count": 5,
   "metadata": {},
   "outputs": [
    {
     "name": "stdout",
     "output_type": "stream",
     "text": [
      "Enter number of elements in list: 10\n",
      "Enter The Element : 45\n",
      "Enter The Element : 76\n",
      "Enter The Element : 78\n",
      "Enter The Element : 89\n",
      "Enter The Element : 12\n",
      "Enter The Element : 35\n",
      "Enter The Element : 6\n",
      "Enter The Element : 68\n",
      "Enter The Element : 135\n",
      "Enter The Element : 65\n",
      "Greatest Number From The Given User Input List 135\n"
     ]
    }
   ],
   "source": [
    "#Taking The Input From User & Then Find The Greatest Number\n",
    "#Create Empty List\n",
    "lst=[]\n",
    "\n",
    "#Taking User Input\n",
    "num = int(input(\"Enter number of elements in list: \"))\n",
    "\n",
    "#Iterating Each Element\n",
    "for i in range(1, num+1):\n",
    "    element=int(input(\"Enter The Element : \")) # Entering The Element In list\n",
    "    lst.append(element)#Adding The Element In list\n",
    "    \n",
    "print('Greatest Number From The Given User Input List', max(lst))"
   ]
  },
  {
   "cell_type": "markdown",
   "metadata": {},
   "source": [
    "**5.\tWrite a Python program to find second largest number in a list?**"
   ]
  },
  {
   "cell_type": "code",
   "execution_count": 7,
   "metadata": {},
   "outputs": [
    {
     "name": "stdout",
     "output_type": "stream",
     "text": [
      "Enter number of elements in list: 10\n",
      "Enter The Element : 78\n",
      "Enter The Element : 89\n",
      "Enter The Element : 45\n",
      "Enter The Element : 56\n",
      "Enter The Element : 12\n",
      "Enter The Element : 23\n",
      "Enter The Element : 19\n",
      "Enter The Element : 37\n",
      "Enter The Element : 43\n",
      "Enter The Element : 16\n",
      "2nd Greatest Number From The Given User Input List 78\n"
     ]
    }
   ],
   "source": [
    "#Taking The Input From User & Then Find The 2nd Greatest Number\n",
    "#Create Empty List\n",
    "lst=[]\n",
    "\n",
    "#Taking User Input\n",
    "num = int(input(\"Enter number of elements in list: \"))\n",
    "\n",
    "#Iterating Each Element\n",
    "for i in range(1, num+1):\n",
    "    element=int(input(\"Enter The Element : \")) # Entering The Element In list\n",
    "    lst.append(element)#Adding The Element In list\n",
    "    \n",
    "lst.sort()#Sorted The Element In List\n",
    "\n",
    "print('2nd Greatest Number From The Given User Input List', lst[num-2])"
   ]
  },
  {
   "cell_type": "markdown",
   "metadata": {},
   "source": [
    "**6.\tWrite a Python program to find N largest elements from a list?**"
   ]
  },
  {
   "cell_type": "code",
   "execution_count": 15,
   "metadata": {},
   "outputs": [
    {
     "name": "stdout",
     "output_type": "stream",
     "text": [
      "[89, 78, 56]\n"
     ]
    }
   ],
   "source": [
    "def Nlargest(list1,N):\n",
    "    \"\"\"\n",
    "    These Function Can Be Used For Find out N Number of Largest Element\n",
    "    lst = lst Stands For The List\n",
    "    N   = The N Stands For How Many Largest Number You Want\n",
    "    \"\"\"\n",
    "    empty_list=[]#Creating The Empty List\n",
    "    \n",
    "    for i in range(0,N):#Iterating Through N Number\n",
    "        max1 = 0#Deciding The Variable\n",
    "        \n",
    "        for j in range(len(list1)):#Iterating Through The List\n",
    "            if list1[j] > max1:#Checking The Condition \n",
    "                max1 = list1[j]#Stroing The Max Element\n",
    "                \n",
    "        list1.remove(max1)#Then Remove That Element So That Next Time IT Can Other Element\n",
    "        empty_list.append(max1)#Adding The N Number of Element In The Empty List\n",
    "        \n",
    "    print(empty_list)\n",
    "                \n",
    "#Driver Code\n",
    "lst=[78,89,45,56,12,23,19,37,43,16]\n",
    "N = 3\n",
    "\n",
    "Nlargest(lst,N)"
   ]
  },
  {
   "cell_type": "markdown",
   "metadata": {},
   "source": [
    "**7.\tWrite a Python program to print even numbers in a list?**"
   ]
  },
  {
   "cell_type": "code",
   "execution_count": 20,
   "metadata": {},
   "outputs": [
    {
     "name": "stdout",
     "output_type": "stream",
     "text": [
      "[12, 14, 16, 18, 20, 22, 24, 26, 28, 30]\n"
     ]
    }
   ],
   "source": [
    "#Defininng The List\n",
    "list2=[11,12,13,14,15,16,17,18,19,20,21,22,23,24,25,26,27,28,29,30]\n",
    "\n",
    "#Creating The Empty list\n",
    "Even_list=[]\n",
    "\n",
    "for i in list2:#Iterating Through Each  Element From The List\n",
    "    \n",
    "    if i % 2 ==0:#Checking The Condition\n",
    "        \n",
    "        Even_list.append(i)#Adding In The Empty List\n",
    "        \n",
    "print(Even_list)"
   ]
  },
  {
   "cell_type": "markdown",
   "metadata": {},
   "source": [
    "**8. Write a Python program to print odd numbers in a list?**"
   ]
  },
  {
   "cell_type": "code",
   "execution_count": 21,
   "metadata": {},
   "outputs": [
    {
     "name": "stdout",
     "output_type": "stream",
     "text": [
      "[11, 13, 15, 17, 19, 21, 23, 25, 27, 29]\n"
     ]
    }
   ],
   "source": [
    "#Defininng The List\n",
    "list2=[11,12,13,14,15,16,17,18,19,20,21,22,23,24,25,26,27,28,29,30]\n",
    "\n",
    "#Creating The Empty list\n",
    "odd_list=[]\n",
    "\n",
    "for i in list2:#Iterating Through Each  Element From The List\n",
    "    \n",
    "    if i % 2 !=0:#Checking The Condition\n",
    "        \n",
    "        odd_list.append(i)#Adding In The Empty List\n",
    "        \n",
    "print(odd_list)"
   ]
  },
  {
   "cell_type": "markdown",
   "metadata": {},
   "source": [
    "**9.\tWrite a Python program to Remove empty List from List?**"
   ]
  },
  {
   "cell_type": "code",
   "execution_count": 30,
   "metadata": {},
   "outputs": [
    {
     "name": "stdout",
     "output_type": "stream",
     "text": [
      "[[1, 2, 3], [4, 5, 6], [7, 8, 9]]\n",
      "[[], [], [], []]\n"
     ]
    }
   ],
   "source": [
    "Nested_List=[[],[1,2,3],[],[4,5,6],[],[7,8,9],[]]\n",
    "\n",
    "Nest_List=[]\n",
    "Empty_List=[]\n",
    "\n",
    "for i in Nested_List:\n",
    "    if len(i) != 0:\n",
    "        Nest_List.append(i)\n",
    "    else:\n",
    "        Empty_List.append(i)\n",
    "        \n",
    "print(Nest_List)        \n",
    "print(Empty_List)"
   ]
  },
  {
   "cell_type": "markdown",
   "metadata": {},
   "source": [
    "**10.\tWrite a Python program to Cloning or Copying a list?**"
   ]
  },
  {
   "cell_type": "code",
   "execution_count": 3,
   "metadata": {},
   "outputs": [
    {
     "name": "stdout",
     "output_type": "stream",
     "text": [
      "[11, 12, 13, 14, 15, 16, 17, 18, 19, 20, 21, 22, 23, 24, 25, 26, 27, 28, 29, 30]\n"
     ]
    }
   ],
   "source": [
    "def cloning(list1):\n",
    "    new_list=list1\n",
    "    return new_list\n",
    "\n",
    "#Driver Code\n",
    "list1=[11,12,13,14,15,16,17,18,19,20,21,22,23,24,25,26,27,28,29,30]\n",
    "\n",
    "new_list=cloning(list1)\n",
    "print(new_list)"
   ]
  },
  {
   "cell_type": "markdown",
   "metadata": {},
   "source": [
    "**11.\tWrite a Python program to Count occurrences of an element in a list?**"
   ]
  },
  {
   "cell_type": "code",
   "execution_count": 4,
   "metadata": {},
   "outputs": [
    {
     "name": "stdout",
     "output_type": "stream",
     "text": [
      "[9] has occurred 9 times\n"
     ]
    }
   ],
   "source": [
    "from collections import Counter\n",
    "\n",
    "def countX(list1, number):\n",
    "    count = 0\n",
    "    for i in list1:\n",
    "        if i in number:\n",
    "            count = count + 1\n",
    "    return count\n",
    "  \n",
    "# Driver Code\n",
    "list1=[1,2,3,4,5,6,7,8,9,9,9,9,9,9,9,9,9]\n",
    "\n",
    "number=[9]\n",
    "print('{} has occurred {} times'.format(number, countX(list1, number)))"
   ]
  },
  {
   "cell_type": "code",
   "execution_count": null,
   "metadata": {},
   "outputs": [],
   "source": []
  }
 ],
 "metadata": {
  "kernelspec": {
   "display_name": "Python 3",
   "language": "python",
   "name": "python3"
  },
  "language_info": {
   "codemirror_mode": {
    "name": "ipython",
    "version": 3
   },
   "file_extension": ".py",
   "mimetype": "text/x-python",
   "name": "python",
   "nbconvert_exporter": "python",
   "pygments_lexer": "ipython3",
   "version": "3.8.5"
  }
 },
 "nbformat": 4,
 "nbformat_minor": 4
}
