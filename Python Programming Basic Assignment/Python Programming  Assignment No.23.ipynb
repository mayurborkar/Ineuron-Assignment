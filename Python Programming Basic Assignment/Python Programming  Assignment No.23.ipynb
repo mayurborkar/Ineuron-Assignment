{
 "cells": [
  {
   "cell_type": "markdown",
   "metadata": {},
   "source": [
    "**Question 1. Create a function that takes a number as an argument and returns True or False depending on whether the number is symmetrical or not. A number is symmetrical when it is the same as its reverse.**\n",
    "\n",
    "Examples\n",
    "\n",
    "is_symmetrical(7227) ➞ **True**\n",
    "\n",
    "is_symmetrical(12567) ➞ **False**\n",
    "\n",
    "is_symmetrical(44444444) ➞ **True**\n",
    "\n",
    "is_symmetrical(9939) ➞ **False**\n",
    "\n",
    "is_symmetrical(1112111) ➞ **True**\n"
   ]
  },
  {
   "cell_type": "code",
   "execution_count": 1,
   "metadata": {},
   "outputs": [
    {
     "name": "stdout",
     "output_type": "stream",
     "text": [
      "True\n",
      "------------------------------\n",
      "False\n",
      "------------------------------\n",
      "True\n",
      "------------------------------\n",
      "False\n",
      "------------------------------\n",
      "True\n",
      "------------------------------\n"
     ]
    }
   ],
   "source": [
    "class Symmetrical:\n",
    "    \n",
    "    def __init__(self,num):\n",
    "        self.num = num\n",
    "\n",
    "    def Is_Symmetrical(self):\n",
    "        try:\n",
    "            divisor = 1\n",
    "\n",
    "            while (self.num / divisor >= 10):\n",
    "                divisor *= 10\n",
    "\n",
    "            while (self.num != 0):\n",
    "                leading = self.num // divisor\n",
    "                trailing = self.num % 10\n",
    "\n",
    "                if (leading != trailing):\n",
    "                    return False\n",
    "\n",
    "                self.num = (self.num % divisor)//10\n",
    "\n",
    "                divisor = divisor/100\n",
    "\n",
    "            return True\n",
    "\n",
    "        except Exception as e:\n",
    "            print(e)\n",
    "\n",
    "    def __str__(self):\n",
    "\n",
    "        return 'The Given Function Is Written Inside Class & Can Be Used For Checking The Given Number Is Symmetrical or Not.'\n",
    "    \n",
    "#Calling Function\n",
    "\n",
    "s =Symmetrical(7227)\n",
    "print(s.Is_Symmetrical())\n",
    "print('---'*10)\n",
    "\n",
    "s =Symmetrical(12567)\n",
    "print(s.Is_Symmetrical())\n",
    "print('---'*10)\n",
    "\n",
    "s =Symmetrical(44444444)\n",
    "print(s.Is_Symmetrical())\n",
    "print('---'*10)\n",
    "\n",
    "s =Symmetrical(9939)\n",
    "print(s.Is_Symmetrical())\n",
    "print('---'*10)\n",
    "\n",
    "s =Symmetrical(1112111)\n",
    "print(s.Is_Symmetrical())\n",
    "print('---'*10)    \n"
   ]
  },
  {
   "cell_type": "markdown",
   "metadata": {},
   "source": [
    "**Question 2. Given a string of numbers separated by a comma and space, return the product of the numbers.**\n",
    "\n",
    "Examples\n",
    "\n",
    "multiply_nums(\"2, 3\") ➞ **6**\n",
    "\n",
    "multiply_nums(\"1, 2, 3, 4\") ➞ **24**\n",
    "\n",
    "multiply_nums(\"54, 75, 453, 0\") ➞ **0**\n",
    "\n",
    "multiply_nums(\"10, -2\") ➞ **-20**\n"
   ]
  },
  {
   "cell_type": "code",
   "execution_count": 2,
   "metadata": {},
   "outputs": [
    {
     "name": "stdout",
     "output_type": "stream",
     "text": [
      "6\n",
      "------------------------------\n",
      "24\n",
      "------------------------------\n",
      "0\n",
      "------------------------------\n",
      "-20\n",
      "------------------------------\n"
     ]
    }
   ],
   "source": [
    "class Multiply:\n",
    "    \n",
    "    def __init__(self,string):\n",
    "        self.string = string\n",
    "\n",
    "    def multiply_nums(self):\n",
    "        try:\n",
    "            l = []\n",
    "            result = 1\n",
    "            for i in self.string.split(','):\n",
    "                l.append(int(i))\n",
    "            for i in l:\n",
    "                result = result*i\n",
    "\n",
    "            return result\n",
    "        \n",
    "        except Exception as e:\n",
    "            print(e)\n",
    "            \n",
    "    def __str__(self):\n",
    "        \n",
    "        return 'The Given Function Is Written Inside Class & Can Be Used For To Multiply String Number.'\n",
    "    \n",
    "#Calling Class\n",
    "m = Multiply(\"2,3\")\n",
    "print(m.multiply_nums())\n",
    "print('---'*10)\n",
    "\n",
    "m = Multiply(\"1, 2, 3, 4\")\n",
    "print(m.multiply_nums())\n",
    "print('---'*10)\n",
    "\n",
    "m = Multiply(\"54, 75, 453, 0\")\n",
    "print(m.multiply_nums())\n",
    "print('---'*10)\n",
    "\n",
    "m = Multiply(\"10, -2\")\n",
    "print(m.multiply_nums())\n",
    "print('---'*10)"
   ]
  },
  {
   "cell_type": "markdown",
   "metadata": {},
   "source": [
    "**Question 3. Create a function that squares every digit of a number.**\n",
    "\n",
    "Examples\n",
    "\n",
    "square_digits(9119) ➞ **811181**\n",
    "\n",
    "square_digits(2483) ➞ **416649**\n",
    "\n",
    "square_digits(3212) ➞ **9414**\n",
    "\n",
    "Notes\n",
    "\n",
    "**The function receives an integer and must return an integer.**\n"
   ]
  },
  {
   "cell_type": "code",
   "execution_count": 3,
   "metadata": {},
   "outputs": [
    {
     "name": "stdout",
     "output_type": "stream",
     "text": [
      "811181\n",
      "------------------------------\n",
      "416649\n",
      "------------------------------\n",
      "9414\n",
      "------------------------------\n"
     ]
    }
   ],
   "source": [
    "class Square:\n",
    "    \n",
    "    def __init__(self,num):\n",
    "        self.num = num\n",
    "\n",
    "    def square_digit(self):\n",
    "        try:\n",
    "            z = ''.join(str(int(i)**2) for i in str(self.num))\n",
    "            \n",
    "            return int(z)\n",
    "            \n",
    "        except Exception as e:\n",
    "            print(e)\n",
    "\n",
    "    def __str__(self):\n",
    "\n",
    "        return 'The Given Function Is Written Inside Class & Can Be Used To Square Every Number From The Given Num.'\n",
    "    \n",
    "#Calling Class\n",
    "s = Square(9119)\n",
    "print(s.square_digit())\n",
    "print('---'*10)\n",
    "\n",
    "s = Square(2483)\n",
    "print(s.square_digit())\n",
    "print('---'*10)\n",
    "\n",
    "s = Square(3212)\n",
    "print(s.square_digit())\n",
    "print('---'*10)\n"
   ]
  },
  {
   "cell_type": "markdown",
   "metadata": {},
   "source": [
    "**Question 4. Create a function that sorts a list and removes all duplicate items from it.**\n",
    "\n",
    "Examples\n",
    "\n",
    "setify([1, 3, 3, 5, 5]) ➞ **[1, 3, 5]**\n",
    "\n",
    "setify([4, 4, 4, 4]) ➞ **[4]**\n",
    "\n",
    "setify([5, 7, 8, 9, 10, 15]) ➞ **[5, 7, 8, 9, 10, 15]**\n",
    "\n",
    "setify([3, 3, 3, 2, 1]) ➞ **[1, 2, 3]**\n"
   ]
  },
  {
   "cell_type": "code",
   "execution_count": 4,
   "metadata": {},
   "outputs": [
    {
     "name": "stdout",
     "output_type": "stream",
     "text": [
      "[1, 3, 5]\n",
      "------------------------------\n",
      "[4]\n",
      "------------------------------\n",
      "[5, 7, 8, 9, 10, 15]\n",
      "------------------------------\n",
      "[3, 2, 1]\n",
      "------------------------------\n"
     ]
    }
   ],
   "source": [
    "class Set:\n",
    "\n",
    "    def __init__(self,lis):\n",
    "        self.lis = lis\n",
    "\n",
    "    def setify(self):\n",
    "        try:\n",
    "            empty = []\n",
    "            for i in self.lis:\n",
    "                if i not in empty:\n",
    "                    empty.append(i)\n",
    "            return empty\n",
    "\n",
    "        except Exception as e:\n",
    "            print(e)\n",
    "\n",
    "    def __str__(self):\n",
    "\n",
    "        return 'The Given Function Is Written Inside Class & Can Be Used To Remove All Duplicate Number.'\n",
    "    \n",
    "#Calling Class\n",
    "s = Set([1,3,3,5,5])\n",
    "print(s.setify())\n",
    "print('---'*10)\n",
    "\n",
    "s = Set([4, 4, 4, 4])\n",
    "print(s.setify())\n",
    "print('---'*10)\n",
    "\n",
    "s = Set([5, 7, 8, 9, 10, 15])\n",
    "print(s.setify())\n",
    "print('---'*10)\n",
    "\n",
    "s = Set([3, 3, 3, 2, 1])\n",
    "print(s.setify())\n",
    "print('---'*10)"
   ]
  },
  {
   "cell_type": "markdown",
   "metadata": {},
   "source": [
    "**Question 5. Create a function that returns the mean of all digits.**\n",
    "\n",
    "Examples\n",
    "\n",
    "mean(42) ➞ **3**\n",
    "\n",
    "mean(12345) ➞ **3**\n",
    "\n",
    "mean(666) ➞ **6**\n",
    "\n",
    "**Notes**\n",
    "\n",
    "•\tThe mean of all digits is the sum of digits / how many digits there are (e.g. mean of digits in 512 is (5+1+2)/3(number     of digits) = 8/3=2).\n",
    "\n",
    "•\tThe mean will always be an integer.\n"
   ]
  },
  {
   "cell_type": "code",
   "execution_count": 5,
   "metadata": {},
   "outputs": [
    {
     "name": "stdout",
     "output_type": "stream",
     "text": [
      "3\n",
      "------------------------------\n",
      "3\n",
      "------------------------------\n",
      "6\n",
      "------------------------------\n"
     ]
    }
   ],
   "source": [
    "class Mean_of_Digit:\n",
    "    \n",
    "    def __init__(self,num):\n",
    "        self.num = num\n",
    "\n",
    "    def mean(self):\n",
    "        try:\n",
    "            sum = 0\n",
    "            for i in str(self.num):\n",
    "                sum = sum + int(i)\n",
    "                div = sum // len(str(self.num))\n",
    "\n",
    "            return div\n",
    "\n",
    "        except Exception as e:\n",
    "            print(e)\n",
    "\n",
    "    def __str__(self):\n",
    "\n",
    "        return 'The Given Function Is Written Inside Class & Can Be Used To Find out Mean of All Number.'\n",
    "    \n",
    "#Calling Class\n",
    "m =Mean_of_Digit(42)\n",
    "print(m.mean())\n",
    "print('---'*10)\n",
    "\n",
    "m =Mean_of_Digit(12345)\n",
    "print(m.mean())\n",
    "print('---'*10)\n",
    "\n",
    "m =Mean_of_Digit(666)\n",
    "print(m.mean())\n",
    "print('---'*10)\n"
   ]
  },
  {
   "cell_type": "code",
   "execution_count": null,
   "metadata": {},
   "outputs": [],
   "source": []
  }
 ],
 "metadata": {
  "kernelspec": {
   "display_name": "Python 3",
   "language": "python",
   "name": "python3"
  },
  "language_info": {
   "codemirror_mode": {
    "name": "ipython",
    "version": 3
   },
   "file_extension": ".py",
   "mimetype": "text/x-python",
   "name": "python",
   "nbconvert_exporter": "python",
   "pygments_lexer": "ipython3",
   "version": "3.8.5"
  }
 },
 "nbformat": 4,
 "nbformat_minor": 4
}
