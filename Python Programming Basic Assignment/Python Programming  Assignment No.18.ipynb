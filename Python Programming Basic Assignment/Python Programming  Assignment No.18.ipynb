{
 "cells": [
  {
   "cell_type": "markdown",
   "metadata": {},
   "source": [
    "**Question 1. Create a function that takes a list of non-negative integers and strings and return a new list without the strings.**\n",
    "\n",
    "Examples\n",
    "\n",
    "filter_list([1, 2, \"a\", \"b\"]) ➞ **[1, 2]**\n",
    "\n",
    "filter_list([1, \"a\", \"b\", 0, 15]) ➞ **[1, 0, 15]**\n",
    "\n",
    "filter_list([1, 2, \"aasf\", \"1\", \"123\", 123]) ➞ **[1, 2, 123]**\n"
   ]
  },
  {
   "cell_type": "code",
   "execution_count": 1,
   "metadata": {},
   "outputs": [
    {
     "name": "stdout",
     "output_type": "stream",
     "text": [
      "[1, 2]\n",
      "------------------------------\n",
      "[1, 0, 15]\n",
      "------------------------------\n",
      "[1, 2, 123]\n",
      "------------------------------\n"
     ]
    }
   ],
   "source": [
    "class Notstring:\n",
    "    def __init__(self,lis=[]):\n",
    "        self.lis = lis\n",
    "    def filter_list(self):\n",
    "        try:\n",
    "            a = []\n",
    "            for i in self.lis:\n",
    "                if (type(i) == int):\n",
    "                        a.append(i)                \n",
    "            return a\n",
    "        \n",
    "        except Exception as e:\n",
    "            print(e)\n",
    "            \n",
    "    def __str__(self):\n",
    "        return 'The Given Function Written Inside Class & Can Be Used To Filter List'\n",
    "        \n",
    "#Calling The Class\n",
    "b = Notstring([1, 2, \"a\", \"b\"])\n",
    "print(b.filter_list())\n",
    "print('---'*10)\n",
    "\n",
    "b = Notstring([1, \"a\", \"b\", 0, 15])\n",
    "print(b.filter_list())\n",
    "print('---'*10)\n",
    "\n",
    "b = Notstring([1, 2, \"aasf\", \"1\", \"123\", 123])\n",
    "print(b.filter_list())\n",
    "print('---'*10)"
   ]
  },
  {
   "cell_type": "markdown",
   "metadata": {},
   "source": [
    "**Question 2. The \"Reverser\" takes a string as input and returns that string in reverse order, with the opposite case.**\n",
    "\n",
    "Examples\n",
    "\n",
    "reverse(\"Hello World\") ➞ **\"DLROw OLLEh\"**\n",
    "\n",
    "reverse(\"ReVeRsE\") ➞ **\"eSrEvEr\"**\n",
    "\n",
    "reverse(\"Radar\") ➞ **\"RADAr\"**\n"
   ]
  },
  {
   "cell_type": "code",
   "execution_count": 2,
   "metadata": {},
   "outputs": [
    {
     "name": "stdout",
     "output_type": "stream",
     "text": [
      "DLROw OLLEh\n",
      "eSrEvEr\n",
      "RADAr\n"
     ]
    }
   ],
   "source": [
    "class Reverser:\n",
    "    def __init__(self, string):\n",
    "        self.string = string\n",
    "        \n",
    "    def reverser(self):\n",
    "        try:\n",
    "            updated_str = ''\n",
    "            for i in self.string[::-1]:\n",
    "                updated_str = i.swapcase() + updated_str\n",
    "\n",
    "            print(''.join(reversed(updated_str)))\n",
    "        \n",
    "        except Exception as e:\n",
    "            print(e)\n",
    "            \n",
    "    def __str__(self):\n",
    "        return 'The Given Function Written Inside Class & Can Be Used To Reverse The String With Opposite Case'\n",
    "    \n",
    "#Calling The Class\n",
    "    \n",
    "string ='Hello World'\n",
    "r = Reverser(string)\n",
    "r.reverser()\n",
    "    \n",
    "string =\"ReVeRsE\"\n",
    "r = Reverser(string)\n",
    "r.reverser()\n",
    "    \n",
    "string ='Radar'\n",
    "r = Reverser(string)\n",
    "r.reverser()"
   ]
  },
  {
   "cell_type": "markdown",
   "metadata": {},
   "source": [
    "**Question 3. You can assign variables from lists like this:**\n",
    "\n",
    "lst = [1, 2, 3, 4, 5, 6]\n",
    "\n",
    "first = lst[0]\n",
    "\n",
    "middle = lst[1:-1]\n",
    "\n",
    "last = lst[-1]\n",
    "\n",
    "print(first) ➞ outputs 1\n",
    "\n",
    "print(middle) ➞ outputs [2, 3, 4, 5]\n",
    "\n",
    "print(last) ➞ outputs 6\n",
    "\n",
    "**With Python 3, you can assign variables from lists in a much more succinct way. Create variables first, middle and last from the given list using destructuring assignment (check the Resources tab for some examples), where:**\n",
    "\n",
    "first  ➞ 1\n",
    "\n",
    "middle ➞ [2, 3, 4, 5]\n",
    "\n",
    "last ➞ 6\n",
    "\n",
    "**Your task is to unpack the list write your code here into three variables, being first, middle, and last, with middle being everything in between the first and last element. Then print all three variables.**"
   ]
  },
  {
   "cell_type": "code",
   "execution_count": 3,
   "metadata": {},
   "outputs": [
    {
     "name": "stdout",
     "output_type": "stream",
     "text": [
      "Frist  : 1\n",
      "Middle : [2, 3, 4, 5]\n",
      "Last   : 6\n",
      "------------------------------\n",
      "Frist  : 7\n",
      "Middle : [8, 9, 10, 11]\n",
      "Last   : 12\n",
      "------------------------------\n",
      "Frist  : 13\n",
      "Middle : [14, 15, 16, 17]\n",
      "Last   : 18\n",
      "------------------------------\n"
     ]
    }
   ],
   "source": [
    "class Destructuring:\n",
    "    def __init__(self,list1=[]):\n",
    "        self.list1 = list1\n",
    "        \n",
    "    def unpack(self):\n",
    "        try:\n",
    "            self.list1 = []\n",
    "            first = list1[0]\n",
    "            middle =list1[1:-1]\n",
    "            last =list1[-1]\n",
    "            print(f'Frist  : {first}')\n",
    "            print(f'Middle : {middle}')\n",
    "            print(f'Last   : {last}')\n",
    "            \n",
    "        except Exception as e:\n",
    "            print(e)\n",
    "        \n",
    "    def __str__(self):\n",
    "        return 'The Given Function Written Inside Class & Can Be Used To Unpack The List & Give Output In Three Variabl'\n",
    "\n",
    "#Calling Class\n",
    "    \n",
    "list1=[1,2,3,4,5,6]\n",
    "d=Destructuring(list1)\n",
    "d.unpack()\n",
    "print('---'*10)\n",
    "    \n",
    "list1=[7,8,9,10,11,12]\n",
    "d=Destructuring(list1)\n",
    "d.unpack()\n",
    "print('---'*10)\n",
    "    \n",
    "list1=[13,14,15,16,17,18]\n",
    "d=Destructuring(list1)\n",
    "d.unpack()\n",
    "print('---'*10)  "
   ]
  },
  {
   "cell_type": "markdown",
   "metadata": {},
   "source": [
    "**Question 4. Write a function that calculates the factorial of a number recursively.**\n",
    "\n",
    "Examples\n",
    "\n",
    "factorial(5) ➞ **120**\n",
    "\n",
    "factorial(3) ➞ **6**\n",
    "\n",
    "factorial(1) ➞ **1**\n",
    "\n",
    "factorial(0) ➞ **1**\n"
   ]
  },
  {
   "cell_type": "code",
   "execution_count": 4,
   "metadata": {},
   "outputs": [
    {
     "name": "stdout",
     "output_type": "stream",
     "text": [
      "Factorial ( 5 ) ➞ 120\n",
      "Factorial ( 3 ) ➞ 6\n",
      "Factorial ( 1 ) ➞ 1\n",
      "Factorial ( 0 ) ➞ 1\n"
     ]
    }
   ],
   "source": [
    "def factorial(n):\n",
    "    \"\"\"\n",
    "    The Given Function Which Is Written To Find Out The Factorial Of Given Number \n",
    "    n = n Stands For Number\n",
    "    \"\"\"    \n",
    "    try:   \n",
    "        if n < 1:  # Base Case: if `n` is 0 or 1\n",
    "            return 1\n",
    "\n",
    "        return n * factorial(n - 1) # Use The Recurrence Relation\n",
    "    \n",
    "    except Exception as e: #Except Block Will Exicuted Only When Their Is Error In Try Block\n",
    "        print(e)\n",
    " \n",
    "n = 5\n",
    "print('Factorial','(',n,')', '➞',factorial(n))\n",
    "\n",
    "n=3\n",
    "print('Factorial','(',n,')', '➞',factorial(n))\n",
    "\n",
    "n=1\n",
    "print('Factorial','(',n,')', '➞',factorial(n))\n",
    "\n",
    "n=0\n",
    "print('Factorial','(',n,')', '➞',factorial(n))"
   ]
  },
  {
   "cell_type": "markdown",
   "metadata": {},
   "source": [
    "**Question 5. Write a function that moves all elements of one type to the end of the list.**\n",
    "\n",
    "Examples\n",
    "\n",
    "move_to_end([1, 3, 2, 4, 4, 1], 1) ➞ **[3, 2, 4, 4, 1, 1]**\n",
    "\n",
    "**Move all the 1s to the end of the array.**\n",
    "\n",
    "move_to_end([7, 8, 9, 1, 2, 3, 4], 9) ➞ **[7, 8, 1, 2, 3, 4, 9]**\n",
    "\n",
    "move_to_end([\"a\", \"a\", \"a\", \"b\"], \"a\") ➞ **[\"b\", \"a\", \"a\", \"a\"]**\n",
    "\n"
   ]
  },
  {
   "cell_type": "code",
   "execution_count": 5,
   "metadata": {},
   "outputs": [],
   "source": [
    "class Moving:\n",
    "    def __init__(self,list1,num):\n",
    "        self.list1 = list1\n",
    "        self.num = num\n",
    "        \n",
    "    def move_to_end(self):\n",
    "        try:\n",
    "            if self.num in self.list1:\n",
    "                self.list1.sort(key=self.num.__eq__)\n",
    "                return self.list1\n",
    "\n",
    "            else:\n",
    "                print('Their Is No Given Element Present List')\n",
    "                \n",
    "        except Exception as e:\n",
    "            print(e)\n",
    "            \n",
    "    def __str__(self):\n",
    "        return 'The Given Function Written Inside Class & Can Be Used To Move Similar Element In The List To One Side'"
   ]
  },
  {
   "cell_type": "code",
   "execution_count": 6,
   "metadata": {},
   "outputs": [
    {
     "name": "stdout",
     "output_type": "stream",
     "text": [
      "[3, 2, 4, 4, 1, 1]\n",
      "------------------------------\n",
      "[7, 8, 1, 2, 3, 4, 9]\n",
      "------------------------------\n",
      "['b', 'a', 'a', 'a']\n",
      "------------------------------\n"
     ]
    }
   ],
   "source": [
    "list1=[1, 3, 2, 4, 4, 1]\n",
    "num =1\n",
    "m=Moving(list1,num)\n",
    "print(m.move_to_end())\n",
    "print('---'*10)\n",
    "\n",
    "list1=[7, 8, 9, 1, 2, 3, 4]\n",
    "num =9\n",
    "m=Moving(list1,num)\n",
    "print(m.move_to_end())\n",
    "print('---'*10)\n",
    "\n",
    "list1=['a','a','a','b']\n",
    "num ='a'\n",
    "m=Moving(list1,num)\n",
    "print(m.move_to_end())\n",
    "print('---'*10)"
   ]
  },
  {
   "cell_type": "code",
   "execution_count": null,
   "metadata": {},
   "outputs": [],
   "source": []
  }
 ],
 "metadata": {
  "kernelspec": {
   "display_name": "Python 3",
   "language": "python",
   "name": "python3"
  },
  "language_info": {
   "codemirror_mode": {
    "name": "ipython",
    "version": 3
   },
   "file_extension": ".py",
   "mimetype": "text/x-python",
   "name": "python",
   "nbconvert_exporter": "python",
   "pygments_lexer": "ipython3",
   "version": "3.8.5"
  }
 },
 "nbformat": 4,
 "nbformat_minor": 4
}
