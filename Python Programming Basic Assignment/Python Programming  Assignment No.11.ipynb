{
 "cells": [
  {
   "cell_type": "markdown",
   "metadata": {},
   "source": [
    "**1.\tWrite a Python program to find words which are greater than given length k?**"
   ]
  },
  {
   "cell_type": "code",
   "execution_count": 1,
   "metadata": {},
   "outputs": [
    {
     "data": {
      "text/plain": [
       "['Mayur',\n",
       " 'Ravindra',\n",
       " 'Borkar.',\n",
       " 'Student',\n",
       " 'Ineuron',\n",
       " 'Institute',\n",
       " 'Stack',\n",
       " 'Science',\n",
       " 'Course.']"
      ]
     },
     "execution_count": 1,
     "metadata": {},
     "output_type": "execute_result"
    }
   ],
   "source": [
    "#Creating The Function\n",
    "def string(str, length):\n",
    "    \"\"\"\n",
    "    Thses Function Can Be Used To Identify The Words Which are Greater Than Specific Number\n",
    "    str = str Stands For String\n",
    "    length = length Stands For Number of Word Length\n",
    "    \"\"\"\n",
    "    new_string = []#Creating The Empty string\n",
    "   \n",
    "    text = str.split(\" \")#Now Splitting The String\n",
    "    \n",
    "    for i in text:#Iterating The String\n",
    "        \n",
    "        if len(i) > length:#Checking The length\n",
    "            \n",
    "            new_string.append(i)#Now Adding The String In The Created String\n",
    "            \n",
    "    return new_string\n",
    "\n",
    "#Driver Code\n",
    "str ='MY Name Is Mayur Ravindra Borkar. I Am Student of Ineuron Institute From The Full Stack Data Science Course.'\n",
    "number=4\n",
    "\n",
    "#Calling Function  \n",
    "string(str,number)"
   ]
  },
  {
   "cell_type": "markdown",
   "metadata": {},
   "source": [
    "**2.\tWrite a Python program for removing i-th character from a string?**"
   ]
  },
  {
   "cell_type": "code",
   "execution_count": 2,
   "metadata": {},
   "outputs": [
    {
     "name": "stdout",
     "output_type": "stream",
     "text": [
      "The Modified String Will Be :  MY Name Is Myur Ravindra Borkar. I Am Student of Ineuron Institute From The Full Stack Data Science Course.\n"
     ]
    }
   ],
   "source": [
    "str ='MY Name Is Mayur Ravindra Borkar. I Am Student of Ineuron Institute From The Full Stack Data Science Course.'\n",
    "\n",
    "new_str=\"\"#Creating The Empty String\n",
    "\n",
    "for i in range(len(str)):#Itearting Over The Length of String\n",
    "    \n",
    "    if i != 12:#Removig The 12th Index Character\n",
    "        \n",
    "        new_str = new_str + str[i]#Adding The Whole String After Removinng The Character\n",
    "        \n",
    "print('The Modified String Will Be : ',new_str)"
   ]
  },
  {
   "cell_type": "markdown",
   "metadata": {},
   "source": [
    "**3.\tWrite a Python program to split and join a string?**"
   ]
  },
  {
   "cell_type": "code",
   "execution_count": 3,
   "metadata": {},
   "outputs": [
    {
     "name": "stdout",
     "output_type": "stream",
     "text": [
      "['MY', 'Name', 'Is', 'Mayur', 'Ravindra', 'Borkar.', 'I', 'Am', 'Student', 'of', 'Ineuron', 'Institute', 'From', 'The', 'Full', 'Stack', 'Data', 'Science', 'Course.']\n",
      "MY Name Is Mayur Ravindra Borkar. I Am Student of Ineuron Institute From The Full Stack Data Science Course.\n"
     ]
    }
   ],
   "source": [
    "#Creating The Function\n",
    "def split_string(string):\n",
    "    \"\"\"\n",
    "    Thses Function Can Be Used To Splitting The Whole String In Each Word\n",
    "    string = string Stands For Sentenance\n",
    "    \"\"\"  \n",
    "    text = string.split(\" \")\n",
    "    \n",
    "    return text\n",
    "\n",
    "#Creating The Function\n",
    "def join_string(text):\n",
    "    \"\"\"\n",
    "    Thses Function Can Be Used To Joining The Whole String In Each Word\n",
    "    Text = Text Stands For Spliiting Text From The Above Function\n",
    "    \"\"\"    \n",
    "    string = \" \".join(text)\n",
    "    \n",
    "    return string\n",
    "\n",
    "#Driver Code\n",
    "if __name__ == '__main__':\n",
    "    str ='MY Name Is Mayur Ravindra Borkar. I Am Student of Ineuron Institute From The Full Stack Data Science Course.'\n",
    "\n",
    "#Splitting The String & Calling Function    \n",
    "string = split_string(str)\n",
    "print(string)\n",
    "\n",
    "#Joining The String & Calling Function  \n",
    "new_string = join_string(string)\n",
    "print(new_string)"
   ]
  },
  {
   "cell_type": "markdown",
   "metadata": {},
   "source": [
    "**4.\tWrite a Python to check if a given string is binary string or not?**"
   ]
  },
  {
   "cell_type": "code",
   "execution_count": 4,
   "metadata": {},
   "outputs": [
    {
     "name": "stdout",
     "output_type": "stream",
     "text": [
      "No\n"
     ]
    }
   ],
   "source": [
    "#Creating The Function\n",
    "def check_binary(string):\n",
    "    \"\"\"\n",
    "    Thses Function Can Be Used To Checking The Given String Is binary or Not\n",
    "    string = string Stands For Sentenance\n",
    "    \"\"\"  \n",
    "    p=set(string)#It Will Convert Whole String Into An Each Character\n",
    "    \n",
    "    s={'0','1'}#It Can Be Used For Binary Purpose\n",
    "    \n",
    "    if s == p:#Check The Condition \n",
    "        print('Yes')#If Condition Is True Print Thses Statement\n",
    "    else:\n",
    "        print('No')#If Condition Is False Print Thses Statement\n",
    "\n",
    "#Driver Code        \n",
    "if __name__ == '__main__':\n",
    "    \n",
    "    string = 'MY Name Is Mayur Ravindra Borkar. I Am Student of Ineuron Institute From The Full Stack Data Science Course.'\n",
    "\n",
    "#Calling Function\n",
    "check_binary(string)   "
   ]
  },
  {
   "cell_type": "markdown",
   "metadata": {},
   "source": [
    "**5.\tWrite a Python program to find uncommon words from two Strings?**"
   ]
  },
  {
   "cell_type": "code",
   "execution_count": 5,
   "metadata": {},
   "outputs": [
    {
     "data": {
      "text/plain": [
       "{'Company',\n",
       " 'Course',\n",
       " 'From',\n",
       " 'Guidance',\n",
       " 'Institute',\n",
       " 'Intern',\n",
       " 'Is',\n",
       " 'Name',\n",
       " 'Provide',\n",
       " 'Self',\n",
       " 'Student',\n",
       " 'The',\n",
       " 'Which'}"
      ]
     },
     "execution_count": 5,
     "metadata": {},
     "output_type": "execute_result"
    }
   ],
   "source": [
    "#Creating The Function\n",
    "def uncommon(a,b):\n",
    "    \"\"\"\n",
    "    Thses Function Can Be Used To Find Out The Uncommon Word Betwwen Two String\n",
    "    a = a Stands For 1st String\n",
    "    b = b Stands For 2nd String\n",
    "    \"\"\"  \n",
    "    \n",
    "    a=a.split()#Splitting The 1st String\n",
    "    \n",
    "    b=b.split()#Splitting The 2nd String\n",
    "    \n",
    "    k = set(a).symmetric_difference(set(b))#Find Out The Uncommon Word With Help of Symmetric Differance\n",
    "    \n",
    "    return k\n",
    "\n",
    "#Driver Code\n",
    "if __name__ == '__main__':\n",
    "    \n",
    "    a = 'MY Name Is Mayur Ravindra Borkar & I Am Student of Ineuron Institute From The Full Stack Data Science Course' \n",
    "    \n",
    "    b = 'MY Self Mayur Ravindra Borkar & I Am Intern of Ineuron Company Which Provide Guidance of Full Stack Data Science'\n",
    "\n",
    "#Calling Function\n",
    "uncommon(a,b)"
   ]
  },
  {
   "cell_type": "markdown",
   "metadata": {},
   "source": [
    "**6.\tWrite a Python to find all duplicate characters in string?**"
   ]
  },
  {
   "cell_type": "code",
   "execution_count": 18,
   "metadata": {},
   "outputs": [
    {
     "name": "stdout",
     "output_type": "stream",
     "text": [
      "['m', 'y', ' ', 'a', 'r']\n"
     ]
    }
   ],
   "source": [
    "#Initializing String\n",
    "string = 'my self mayur ravindra borkar'\n",
    "\n",
    "#Initializing a list to append all the duplicate characters\n",
    "duplicate = []\n",
    "\n",
    "for i in string:       \n",
    "    if string.count(i) > 1:\n",
    "        if i not in duplicate:\n",
    "            duplicate.append(i)\n",
    "\n",
    "print(duplicate)"
   ]
  },
  {
   "cell_type": "markdown",
   "metadata": {},
   "source": [
    "**7.\tWrite a Python Program to check if a string contains any special character?**"
   ]
  },
  {
   "cell_type": "code",
   "execution_count": 10,
   "metadata": {},
   "outputs": [
    {
     "name": "stdout",
     "output_type": "stream",
     "text": [
      "Valid\n",
      "Invalid\n"
     ]
    }
   ],
   "source": [
    "#Importing package\n",
    "import string\n",
    "special_char = string.punctuation\n",
    "\n",
    "#Mentioning The String\n",
    "string1 = '!My Self Mayur Ravindra Borkar.'\n",
    "string2 = 'I Am Student of Ineuron Company Which Provide Guidance of Full Stack Data Science'\n",
    "\n",
    "#Checking With Lambda Function With 1st String\n",
    "checking1 = list(map(lambda i : i in special_char, string1))\n",
    "print('Valid') if any (checking1) else print('Invalid')#Checking The Condition\n",
    "\n",
    "#Checking With The Lambda Function With 2nd String\n",
    "checking2 = list(map(lambda i : i in special_char, string2))\n",
    "print('Valid') if any (checking2) else print('Invalid')#Checking The Condition"
   ]
  },
  {
   "cell_type": "code",
   "execution_count": null,
   "metadata": {},
   "outputs": [],
   "source": []
  }
 ],
 "metadata": {
  "kernelspec": {
   "display_name": "Python 3",
   "language": "python",
   "name": "python3"
  },
  "language_info": {
   "codemirror_mode": {
    "name": "ipython",
    "version": 3
   },
   "file_extension": ".py",
   "mimetype": "text/x-python",
   "name": "python",
   "nbconvert_exporter": "python",
   "pygments_lexer": "ipython3",
   "version": "3.8.5"
  }
 },
 "nbformat": 4,
 "nbformat_minor": 4
}
