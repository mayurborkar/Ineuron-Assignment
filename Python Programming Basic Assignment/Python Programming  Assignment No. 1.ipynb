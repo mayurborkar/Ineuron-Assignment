{
 "cells": [
  {
   "cell_type": "markdown",
   "metadata": {},
   "source": [
    "**1. Write a Python program to print \"Hello Python\"?**"
   ]
  },
  {
   "cell_type": "code",
   "execution_count": 1,
   "metadata": {},
   "outputs": [
    {
     "name": "stdout",
     "output_type": "stream",
     "text": [
      "Hello Python\n"
     ]
    }
   ],
   "source": [
    "print('Hello Python')"
   ]
  },
  {
   "cell_type": "markdown",
   "metadata": {},
   "source": [
    "**2.\tWrite a Python program to do arithmetical operations addition and division.?**"
   ]
  },
  {
   "cell_type": "code",
   "execution_count": 3,
   "metadata": {},
   "outputs": [
    {
     "name": "stdout",
     "output_type": "stream",
     "text": [
      "Enter 1st Number :10\n",
      "Enter 2nd Number :20\n",
      "Addition : 30\n",
      "Division : 0.5\n"
     ]
    }
   ],
   "source": [
    "# Store The Number\n",
    "a=int(input('Enter 1st Number :'))\n",
    "b=int(input('Enter 2nd Number :'))\n",
    "\n",
    "# Adding of two number\n",
    "addition=a + b\n",
    "\n",
    "# Division of two number\n",
    "division=a / b\n",
    "\n",
    "#Printing The Addition\n",
    "print('Addition :',addition)\n",
    "\n",
    "#Printing The Division\n",
    "print('Division :',division)"
   ]
  },
  {
   "cell_type": "markdown",
   "metadata": {},
   "source": [
    "**3.\tWrite a Python program to find the area of a triangle?**"
   ]
  },
  {
   "cell_type": "code",
   "execution_count": 6,
   "metadata": {},
   "outputs": [
    {
     "name": "stdout",
     "output_type": "stream",
     "text": [
      "Enter 1st Number :20\n",
      "Enter 2nd Number :20\n",
      "Enter 3rd Number :10\n",
      "Area of Triangle:  96.82458365518542\n"
     ]
    }
   ],
   "source": [
    "# Store The Number\n",
    "a=int(input('Enter 1st Number :'))\n",
    "b=int(input('Enter 2nd Number :'))\n",
    "c=int(input('Enter 3rd Number :'))\n",
    "\n",
    "# Applying the Formula For Semi Perimeter\n",
    "semi=(a+b+c)/2\n",
    "\n",
    "#Calculate The Area\n",
    "area=(semi*(semi-a)*(semi-b)*(semi-c))**0.5\n",
    "\n",
    "#Printing The Value\n",
    "print('Area of Triangle: ',area)"
   ]
  },
  {
   "cell_type": "markdown",
   "metadata": {},
   "source": [
    "**4.\tWrite a Python program to swap two variables?**"
   ]
  },
  {
   "cell_type": "code",
   "execution_count": 11,
   "metadata": {},
   "outputs": [
    {
     "name": "stdout",
     "output_type": "stream",
     "text": [
      "Enter 1st Number a :20\n",
      "Enter 2nd Number b :50\n",
      "The Value of a is:  50\n",
      "The Value of b is:  20\n"
     ]
    }
   ],
   "source": [
    "# Store The Number\n",
    "a=input('Enter 1st Number a :')\n",
    "b=input('Enter 2nd Number b :')\n",
    "\n",
    "#Create A Temporary Variable and Swap\n",
    "c = a # Create a variable that value is equal to a\n",
    "a = b\n",
    "b = c # Created variable that is value is equal to b\n",
    "\n",
    "#Print The value\n",
    "print('The Value of a is: ', a)\n",
    "print('The Value of b is: ', b)"
   ]
  },
  {
   "cell_type": "markdown",
   "metadata": {},
   "source": [
    "**5.\tWrite a Python program to generate a random number?**"
   ]
  },
  {
   "cell_type": "code",
   "execution_count": 13,
   "metadata": {},
   "outputs": [
    {
     "name": "stdout",
     "output_type": "stream",
     "text": [
      "32\n"
     ]
    }
   ],
   "source": [
    "import random\n",
    "print(random.randint(1,50))"
   ]
  },
  {
   "cell_type": "code",
   "execution_count": null,
   "metadata": {},
   "outputs": [],
   "source": []
  }
 ],
 "metadata": {
  "kernelspec": {
   "display_name": "Python 3",
   "language": "python",
   "name": "python3"
  },
  "language_info": {
   "codemirror_mode": {
    "name": "ipython",
    "version": 3
   },
   "file_extension": ".py",
   "mimetype": "text/x-python",
   "name": "python",
   "nbconvert_exporter": "python",
   "pygments_lexer": "ipython3",
   "version": "3.8.5"
  }
 },
 "nbformat": 4,
 "nbformat_minor": 4
}
