{
 "cells": [
  {
   "cell_type": "markdown",
   "metadata": {},
   "source": [
    "**Question1. Write a function that takes a list and a number as arguments. Add the number to the end of the list, then remove the first element of the list. The function should then return the updated list.**\n",
    "\n",
    "Examples\n",
    "\n",
    "next_in_line([5, 6, 7, 8, 9], 1) ➞ **[6, 7, 8, 9, 1]**\n",
    "\n",
    "next_in_line([7, 6, 3, 23, 17], 10) ➞ **[6, 3, 23, 17, 10]**\n",
    "\n",
    "next_in_line([1, 10, 20, 42 ], 6) ➞ **[10, 20, 42, 6]**\n",
    "\n",
    "next_in_line([], 6) ➞ **\"No list has been selected\"**\n"
   ]
  },
  {
   "cell_type": "code",
   "execution_count": 46,
   "metadata": {},
   "outputs": [
    {
     "name": "stdout",
     "output_type": "stream",
     "text": [
      "[6, 7, 8, 9, 1]\n",
      "------------------------------\n",
      "[6, 3, 23, 17, 10]\n",
      "------------------------------\n",
      "[10, 20, 42, 6]\n",
      "------------------------------\n",
      "No list has been selected\n",
      "None\n",
      "------------------------------\n"
     ]
    }
   ],
   "source": [
    "class Add_Remove:\n",
    "    def __init__(self,lis,num):\n",
    "        self.lis = lis\n",
    "        self.num = num\n",
    "\n",
    "    def next_in_line(self):\n",
    "        updated_list = []\n",
    "        final_list = []\n",
    "        if len(self.lis) != 0:\n",
    "            self.lis.insert(len(self.lis),self.num)\n",
    "            for i in self.lis:\n",
    "                updated_list.append(i)\n",
    "                final_list = updated_list[1:]\n",
    "\n",
    "            return final_list\n",
    "\n",
    "        else:\n",
    "            print('No list has been selected')\n",
    "            \n",
    "    def __str__(self):\n",
    "        \n",
    "        return 'The Function Is Written Inside The Class. It Can Be Used For To Add Element At Last & Remove Frist Element.'\n",
    "    \n",
    "#Calling Class\n",
    "a = Add_Remove([5, 6, 7, 8, 9], 1)\n",
    "print(a.next_in_line())\n",
    "print('---'*10)\n",
    "\n",
    "a = Add_Remove([7, 6, 3, 23, 17], 10)\n",
    "print(a.next_in_line())\n",
    "print('---'*10)\n",
    "\n",
    "a = Add_Remove([1, 10, 20, 42], 6)\n",
    "print(a.next_in_line())\n",
    "print('---'*10)\n",
    "\n",
    "a = Add_Remove([], 6)\n",
    "print(a.next_in_line())\n",
    "print('---'*10)"
   ]
  },
  {
   "cell_type": "markdown",
   "metadata": {},
   "source": [
    "**Question2. Create the function that takes a list of dictionaries and returns the sum of people's budgets.**\n",
    "\n",
    "Examples\n",
    "\n",
    "get_budgets([\n",
    "  { \"name\": \"John\", \"age\": 21, \"budget\": 23000 },\n",
    "  { \"name\": \"Steve\",  \"age\": 32, \"budget\": 40000 },\n",
    "  { \"name\": \"Martin\",  \"age\": 16, \"budget\": 2700 }\n",
    "]) ➞ 65700\n",
    "\n",
    "get_budgets([\n",
    "  { \"name\": \"John\",  \"age\": 21, \"budget\": 29000 },\n",
    "  { \"name\": \"Steve\",  \"age\": 32, \"budget\": 32000 },\n",
    "  { \"name\": \"Martin\",  \"age\": 16, \"budget\": 1600 }\n",
    "]) ➞ 62600\n"
   ]
  },
  {
   "cell_type": "code",
   "execution_count": 6,
   "metadata": {},
   "outputs": [
    {
     "name": "stdout",
     "output_type": "stream",
     "text": [
      "65700\n",
      "------------------------------\n",
      "62600\n",
      "------------------------------\n"
     ]
    }
   ],
   "source": [
    "class Budget:\n",
    "    def __init__(self,di):\n",
    "        self.di = di\n",
    "\n",
    "    def get_budget(self):\n",
    "        try:\n",
    "            sum = 0\n",
    "            for i in self.di:\n",
    "                sum = sum + i['budget']\n",
    "\n",
    "            return sum\n",
    "        \n",
    "        except Exception as e:\n",
    "            print(e)\n",
    "        \n",
    "    def __str__(self):\n",
    "        \n",
    "        return 'The Given Function Is Written Inside Class & Can Be Used For Returning The Budget Value'\n",
    "    \n",
    "#Calling Function\n",
    "\n",
    "d = [{ \"name\": \"John\", \"age\": 21, \"budget\": 23000 }, \n",
    "      { \"name\": \"Steve\", \"age\": 32, \"budget\": 40000 },\n",
    "      { \"name\": \"Martin\", \"age\": 16, \"budget\": 2700 }]\n",
    "\n",
    "b = Budget(d)\n",
    "print(b.get_budget())\n",
    "print('---'*10)\n",
    "\n",
    "\n",
    "d = [ { \"name\": \"John\", \"age\": 21, \"budget\": 29000 },\n",
    "      { \"name\": \"Steve\", \"age\": 32, \"budget\": 32000 },\n",
    "      { \"name\": \"Martin\", \"age\": 16, \"budget\": 1600 }]\n",
    "\n",
    "b = Budget(d)\n",
    "print(b.get_budget())\n",
    "print('---'*10)"
   ]
  },
  {
   "cell_type": "markdown",
   "metadata": {},
   "source": [
    "**Question3. Create a function that takes a string and returns a string with its letters in alphabetical order.**\n",
    "\n",
    "Examples\n",
    "\n",
    "alphabet_soup(\"hello\") ➞ **\"ehllo\"**\n",
    "\n",
    "alphabet_soup(\"edabit\") ➞ **\"abdeit\"**\n",
    "\n",
    "alphabet_soup(\"hacker\") ➞ **\"acehkr\"**\n",
    "\n",
    "alphabet_soup(\"geek\") ➞ **\"eegk\"**\n",
    "\n",
    "alphabet_soup(\"javascript\") ➞ **\"aacijprstv\"**\n"
   ]
  },
  {
   "cell_type": "code",
   "execution_count": 21,
   "metadata": {},
   "outputs": [
    {
     "name": "stdout",
     "output_type": "stream",
     "text": [
      "ehllo\n",
      "------------------------------\n",
      "abdeit\n",
      "------------------------------\n",
      "acehkr\n",
      "------------------------------\n",
      "eegk\n",
      "------------------------------\n",
      "aacijprstv\n",
      "------------------------------\n"
     ]
    }
   ],
   "source": [
    "class Sorted:\n",
    "    def __init__(self, string):\n",
    "        self.string = string\n",
    "        \n",
    "    def alphabet_soup(self):\n",
    "        try:\n",
    "            updated_str = ''.join(sorted(self.string))\n",
    "            \n",
    "            return updated_str\n",
    "        \n",
    "        except Exception as e:\n",
    "            print(e)\n",
    "            \n",
    "    def __str__(self):\n",
    "        \n",
    "        return 'The Given Function Is written Under The Class & can Be Used For Sorting String Inn Alphabetically Order.'\n",
    "    \n",
    "#Calling Class\n",
    "s =Sorted(\"hello\")\n",
    "print(s.alphabet_soup())\n",
    "print('---'*10)\n",
    "\n",
    "s =Sorted(\"edabit\")\n",
    "print(s.alphabet_soup())\n",
    "print('---'*10)\n",
    "\n",
    "s =Sorted(\"hacker\")\n",
    "print(s.alphabet_soup())\n",
    "print('---'*10)\n",
    "\n",
    "s =Sorted(\"geek\")\n",
    "print(s.alphabet_soup())\n",
    "print('---'*10)\n",
    "\n",
    "s =Sorted(\"javascript\")\n",
    "print(s.alphabet_soup())\n",
    "print('---'*10)\n"
   ]
  },
  {
   "cell_type": "markdown",
   "metadata": {},
   "source": [
    "**Question4**. Suppose that you invest $10,000 for 10 years at an interest rate of 6 Percent compounded monthly\n",
    "What will be the value of your investment at the end of the 10 year period?\n",
    "\n",
    "Create a function that accepts the principal p, the term in years t, the interest rate r, and the number of compounding periods per year n. The function returns the value at the end of term rounded to the nearest cent.\n",
    "\n",
    "For the example above:\n",
    "\n",
    "compound_interest(10000, 10, 0.06, 12) ➞ 18193.97\n",
    "\n",
    "Note that the interest rate is given as a decimal and n=12 because with monthly compounding there are 12 periods per year. Compounding can also be done annually, quarterly, weekly, or daily.\n",
    "\n",
    "Examples\n",
    "\n",
    "compound_interest(100, 1, 0.05, 1) ➞ 105.0\n",
    "\n",
    "compound_interest(3500, 15, 0.1, 4) ➞ 15399.26\n",
    "\n",
    "compound_interest(100000, 20, 0.15, 365) ➞ 2007316.26\n"
   ]
  },
  {
   "cell_type": "code",
   "execution_count": 1,
   "metadata": {},
   "outputs": [
    {
     "name": "stdout",
     "output_type": "stream",
     "text": [
      "Enter The Principle : 10000\n",
      "Enter The Term In year : 10\n",
      "Enter The Intrest Rate : 0.06\n",
      "Enter The Period Per Year : 12\n"
     ]
    }
   ],
   "source": [
    "P = int(input('Enter The Principle : '))\n",
    "T = int(input('Enter The Term In year : '))\n",
    "R = float(input('Enter The Intrest Rate : '))\n",
    "N = int(input('Enter The Period Per Year : '))\n",
    "\n",
    "class Compound:\n",
    "    def __init__(self,P,T,R,N):\n",
    "        self.P = P\n",
    "        self.T = T\n",
    "        self.R = R\n",
    "        self.N = N\n",
    "           \n",
    "    def compound_intrest(self):\n",
    "        try:\n",
    "           \n",
    "            Principle = P * 74.57\n",
    "\n",
    "            C_I = Principle * (pow((1 + R / N), N*T))\n",
    "            \n",
    "            return C_I\n",
    "        \n",
    "        except Exception as e:\n",
    "            print(e)\n",
    "            \n",
    "    def __str__(self):\n",
    "        \n",
    "        return 'The Given Function Is written Under The Class & can Be Used For Calculating The Compound Intrest.'"
   ]
  },
  {
   "cell_type": "code",
   "execution_count": 4,
   "metadata": {},
   "outputs": [
    {
     "data": {
      "text/plain": [
       "1356724.1445678785"
      ]
     },
     "execution_count": 4,
     "metadata": {},
     "output_type": "execute_result"
    }
   ],
   "source": [
    "#Calling The Class\n",
    "c = Compound(P,T,R,N)\n",
    "c.compound_intrest()"
   ]
  },
  {
   "cell_type": "markdown",
   "metadata": {},
   "source": [
    "**Question5. Write a function that takes a list of elements and returns only the integers.**\n",
    "\n",
    "Examples\n",
    "\n",
    "return_only_integer([9, 2, \"space\", \"car\", \"lion\", 16]) ➞ **[9, 2, 16]**\n",
    "\n",
    "return_only_integer([\"hello\", 81, \"basketball\", 123, \"fox\"]) ➞ **[81, 123]**\n",
    "\n",
    "return_only_integer([10, \"121\", 56, 20, \"car\", 3, \"lion\"]) ➞ **[10, 56, 20, 3]**\n",
    "\n",
    "return_only_integer([\"String\",  True,  3.3,  1]) ➞ **[1]**\n"
   ]
  },
  {
   "cell_type": "code",
   "execution_count": 11,
   "metadata": {},
   "outputs": [
    {
     "name": "stdout",
     "output_type": "stream",
     "text": [
      "[9, 2, 16]\n",
      "------------------------------\n",
      "[81, 123]\n",
      "------------------------------\n",
      "[10, 56, 20, 3]\n",
      "------------------------------\n",
      "[1]\n",
      "------------------------------\n"
     ]
    }
   ],
   "source": [
    "class Integer:\n",
    "    def __init__(self,l):\n",
    "        self.l = l\n",
    "\n",
    "    def return_only_integer(self):\n",
    "        try:\n",
    "            new_list = []\n",
    "            for i in self.l:\n",
    "                if (type(i) == int):\n",
    "                    new_list.append(i)\n",
    "            return new_list\n",
    "\n",
    "        except Exception as e:\n",
    "            print(e)\n",
    "\n",
    "    def __str__(self):\n",
    "\n",
    "        return 'The Given Function Is written Under The Class & can Be Used For Segregating The Integer.'\n",
    "    \n",
    "#Calling Class\n",
    "a =Integer([9, 2, \"space\", \"car\", \"lion\", 16])\n",
    "print(a.return_only_integer())\n",
    "print('---'*10)\n",
    "\n",
    "a =Integer([\"hello\", 81, \"basketball\", 123, \"fox\"])\n",
    "print(a.return_only_integer())\n",
    "print('---'*10)\n",
    "\n",
    "a =Integer([10, \"121\", 56, 20, \"car\", 3, \"lion\"])\n",
    "print(a.return_only_integer())\n",
    "print('---'*10)\n",
    "\n",
    "a =Integer([\"String\", True, 3.3, 1])\n",
    "print(a.return_only_integer())\n",
    "print('---'*10)\n"
   ]
  },
  {
   "cell_type": "code",
   "execution_count": null,
   "metadata": {},
   "outputs": [],
   "source": []
  }
 ],
 "metadata": {
  "kernelspec": {
   "display_name": "Python 3",
   "language": "python",
   "name": "python3"
  },
  "language_info": {
   "codemirror_mode": {
    "name": "ipython",
    "version": 3
   },
   "file_extension": ".py",
   "mimetype": "text/x-python",
   "name": "python",
   "nbconvert_exporter": "python",
   "pygments_lexer": "ipython3",
   "version": "3.8.5"
  }
 },
 "nbformat": 4,
 "nbformat_minor": 4
}
