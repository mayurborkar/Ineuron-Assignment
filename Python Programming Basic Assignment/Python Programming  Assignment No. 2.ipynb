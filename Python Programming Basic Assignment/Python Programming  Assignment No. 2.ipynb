{
 "cells": [
  {
   "cell_type": "markdown",
   "metadata": {},
   "source": [
    "**1.\tWrite a Python program to convert kilometers to miles?**"
   ]
  },
  {
   "cell_type": "code",
   "execution_count": 1,
   "metadata": {},
   "outputs": [
    {
     "name": "stdout",
     "output_type": "stream",
     "text": [
      "Enter A Number: 15\n",
      "15.0 Kilometer Convetred In Miles Is 9.320549999999999\n"
     ]
    }
   ],
   "source": [
    "#Tainh User input\n",
    "kilometer=float(input('Enter A Number: '))\n",
    "\n",
    "#Conversion factor for Kl to Miles\n",
    "factor=0.62137\n",
    "\n",
    "#Calculate The Miles\n",
    "miles = kilometer * factor\n",
    "\n",
    "print('{} Kilometer Convetred In Miles Is {}'.format(kilometer,miles))"
   ]
  },
  {
   "cell_type": "markdown",
   "metadata": {},
   "source": [
    "**2.\tWrite a Python program to convert Celsius to Fahrenheit?**"
   ]
  },
  {
   "cell_type": "code",
   "execution_count": 3,
   "metadata": {},
   "outputs": [
    {
     "name": "stdout",
     "output_type": "stream",
     "text": [
      "Enter temperature in Celsius: 100.10\n",
      "100.1 Celsius is equal to 212.18 degree Fahrenheit\n"
     ]
    }
   ],
   "source": [
    "# Collect input from the user  \n",
    "Celsius = float(input('Enter temperature in Celsius: '))  \n",
    "  \n",
    "# calculate temperature in Fahrenheit  \n",
    "Fahrenheit = (Celsius * 9/5) + 32  \n",
    "\n",
    "print('{} Celsius is equal to {} degree Fahrenheit'.format(Celsius,Fahrenheit)) "
   ]
  },
  {
   "cell_type": "markdown",
   "metadata": {},
   "source": [
    "**3.\tWrite a Python program to display calendar?**"
   ]
  },
  {
   "cell_type": "code",
   "execution_count": 6,
   "metadata": {},
   "outputs": [
    {
     "name": "stdout",
     "output_type": "stream",
     "text": [
      "Enter A Year You Wish To See : 1995\n",
      "Enter A Month You Wish To See : 12\n",
      "Enter A Date You Wish To See : 1\n",
      "   December 1995\n",
      "Mo Tu We Th Fr Sa Su\n",
      "             1  2  3\n",
      " 4  5  6  7  8  9 10\n",
      "11 12 13 14 15 16 17\n",
      "18 19 20 21 22 23 24\n",
      "25 26 27 28 29 30 31\n",
      "\n"
     ]
    }
   ],
   "source": [
    "# Import Module\n",
    "import calendar\n",
    "\n",
    "#Taking the User Input\n",
    "Year  =int(input('Enter A Year You Wish To See : '))\n",
    "Month =int(input('Enter A Month You Wish To See : '))\n",
    "Date  =int(input('Enter A Date You Wish To See : '))\n",
    "\n",
    "print(calendar.month(Year,Month))"
   ]
  },
  {
   "cell_type": "markdown",
   "metadata": {},
   "source": [
    "**4.\tWrite a Python program to solve quadratic equation?**\n",
    "\n",
    "**Solution:-** Let's Take The Equation 3x2+7x+4"
   ]
  },
  {
   "cell_type": "code",
   "execution_count": 9,
   "metadata": {},
   "outputs": [
    {
     "name": "stdout",
     "output_type": "stream",
     "text": [
      "Enter 1st Number a: 3\n",
      "Enter 2nd Number b: 7\n",
      "Enter 3rd Number c: 4\n",
      "The solution For 3x2+7x+4 Given Equatio is (-1.3333333333333333+0j) and (-1+0j)\n"
     ]
    }
   ],
   "source": [
    "#Import Module \n",
    "import cmath \n",
    "\n",
    "#Taking The User Input\n",
    "a = float(input('Enter 1st Number a: '))  \n",
    "b = float(input('Enter 2nd Number b: '))  \n",
    "c = float(input('Enter 3rd Number c: '))  \n",
    "  \n",
    "# calculate the discriminant  \n",
    "e = (b**2) - (4*a*c)  \n",
    "  \n",
    "# find two solutions  \n",
    "Frist_Value = (- b - cmath.sqrt(e)) / (2*a)  \n",
    "\n",
    "Second_Value = (- b + cmath.sqrt(e)) / (2*a) \n",
    "\n",
    "print('The solution For 3x2+7x+4 Given Equatio is {} and {}'.format(Frist_Value,Second_Value))   "
   ]
  },
  {
   "cell_type": "markdown",
   "metadata": {},
   "source": [
    "**5.\tWrite a Python program to swap two variables without temp variable?**"
   ]
  },
  {
   "cell_type": "code",
   "execution_count": 11,
   "metadata": {},
   "outputs": [
    {
     "name": "stdout",
     "output_type": "stream",
     "text": [
      "Enter value of a variable: 4\n",
      "Enter value of b variable: 7\n",
      "The Value of a is :  7\n",
      "The Value of b is :  4\n"
     ]
    }
   ],
   "source": [
    "#Taking The User Input\n",
    "a=int(input(\"Enter value of a variable: \"))\n",
    "b=int(input(\"Enter value of b variable: \"))\n",
    "\n",
    "#first element is assigned the sum of the first two elements.\n",
    "a=a+b\n",
    "\n",
    "#Second element is assigned the difference between the sum in the first variable and the second variable, which is basically the first element.\n",
    "b=a-b\n",
    "\n",
    "#Later the first element is assigned the difference between the sum in the variable and the second variable, which is the second element.\n",
    "a=a-b\n",
    "\n",
    "print(\"The Value of a is : \",a)\n",
    "print(\"The Value of b is : \",b)"
   ]
  },
  {
   "cell_type": "code",
   "execution_count": null,
   "metadata": {},
   "outputs": [],
   "source": []
  }
 ],
 "metadata": {
  "kernelspec": {
   "display_name": "Python 3",
   "language": "python",
   "name": "python3"
  },
  "language_info": {
   "codemirror_mode": {
    "name": "ipython",
    "version": 3
   },
   "file_extension": ".py",
   "mimetype": "text/x-python",
   "name": "python",
   "nbconvert_exporter": "python",
   "pygments_lexer": "ipython3",
   "version": "3.8.5"
  }
 },
 "nbformat": 4,
 "nbformat_minor": 4
}
