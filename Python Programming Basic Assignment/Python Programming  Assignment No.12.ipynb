{
 "cells": [
  {
   "cell_type": "markdown",
   "metadata": {},
   "source": [
    "**1.\tWrite a Python program to Extract Unique values dictionary values?**"
   ]
  },
  {
   "cell_type": "code",
   "execution_count": 14,
   "metadata": {},
   "outputs": [
    {
     "name": "stdout",
     "output_type": "stream",
     "text": [
      "[1, 2, 3, 4, 5, 6, 7, 8, 9]\n"
     ]
    }
   ],
   "source": [
    "#Intialize The Dictionary\n",
    "dt = {'M' : [7,8,9,8,7],\n",
    "      'A' : [4,5,6,5,4],\n",
    "      'Y' : [1,2,3,2,1]}\n",
    "\n",
    "#List Comprension\n",
    "res = list(sorted({element for i in dt.values() for element in i}))\n",
    "\n",
    "#Printing The Result\n",
    "print(res)"
   ]
  },
  {
   "cell_type": "markdown",
   "metadata": {},
   "source": [
    "**2.\tWrite a Python program to find the sum of all items in a dictionary?**"
   ]
  },
  {
   "cell_type": "code",
   "execution_count": 18,
   "metadata": {},
   "outputs": [
    {
     "data": {
      "text/plain": [
       "3700"
      ]
     },
     "execution_count": 18,
     "metadata": {},
     "output_type": "execute_result"
    }
   ],
   "source": [
    "#Defining The Function\n",
    "def sum_item(dt):\n",
    "    \"\"\"\n",
    "    Thse Function Can Be Used For Adding All The Value From The Given Dictionary\n",
    "    dt = dt Stands For Dictionary\n",
    "    \"\"\"\n",
    "    \n",
    "    sum=0 #Initialize The Variable\n",
    "\n",
    "    for i in dt.values(): #Iterating Through Ecah Value of Dictionary\n",
    "        \n",
    "        sum = sum + i #Addition of All The Value\n",
    "        \n",
    "    return sum\n",
    "  \n",
    "#Initialize The Dictionary    \n",
    "dt = {'M' : 500,'A' : 1100, 'Y' : 1500,'U': 100, 'R':200, 'C':300}\n",
    "\n",
    "#Calling The Function\n",
    "sum_item(dt)"
   ]
  },
  {
   "cell_type": "markdown",
   "metadata": {},
   "source": [
    "**3.\tWrite a Python program to Merging two Dictionaries?**"
   ]
  },
  {
   "cell_type": "code",
   "execution_count": 19,
   "metadata": {},
   "outputs": [
    {
     "data": {
      "text/plain": [
       "{'M': 500, 'A': 1100, 'Y': 1500, 'U': 100, 'R': 1200, 'C': 5300}"
      ]
     },
     "execution_count": 19,
     "metadata": {},
     "output_type": "execute_result"
    }
   ],
   "source": [
    "#Defining The Function\n",
    "def merge(dt, dt2):\n",
    "    \"\"\"\n",
    "    Thse Function Can Be Used For Merging The Two Dictionary\n",
    "    dt = dt Stands For Dictionary1\n",
    "    dt2 = dt2 Stands For Dictionary2\n",
    "    \"\"\"\n",
    "    merge_dt = {**dt, **dt2} #Merging The Two Dictionary\n",
    "    \n",
    "    return merge_dt\n",
    "\n",
    "#Initialize The Dictionary\n",
    "dt  = {'M' : 500,'A' : 1100, 'Y' : 1500}\n",
    "dt2 = {'U' : 100,'R' : 1200, 'C' : 5300}\n",
    "\n",
    "#Calling The Function\n",
    "merge(dt, dt2)"
   ]
  },
  {
   "cell_type": "markdown",
   "metadata": {},
   "source": [
    "**4.\tWrite a Python program to convert key-values list to flat dictionary?**"
   ]
  },
  {
   "cell_type": "code",
   "execution_count": 21,
   "metadata": {},
   "outputs": [
    {
     "data": {
      "text/plain": [
       "\"[(10, 'X'), (11, 'XI'), (12, 'XII'), (13, 'XIII')]\""
      ]
     },
     "execution_count": 21,
     "metadata": {},
     "output_type": "execute_result"
    }
   ],
   "source": [
    "test_dict = {'Number' : [10,11,12,13],\n",
    "             'Roman'  : ['X','XI','XII','XIII']}\n",
    "\n",
    "#We Are Zippping The Value And Convert It Into List\n",
    "flat_dict = list(zip(test_dict['Number'], test_dict['Roman']))\n",
    "\n",
    "\n",
    "str(flat_dict)"
   ]
  },
  {
   "cell_type": "markdown",
   "metadata": {},
   "source": [
    "**5.\tWrite a Python program to insertion at the beginning in Ordered Dict?**"
   ]
  },
  {
   "cell_type": "code",
   "execution_count": 1,
   "metadata": {},
   "outputs": [
    {
     "name": "stdout",
     "output_type": "stream",
     "text": [
      "OrderedDict([('Shraddha', '4'), ('Mayur', '1'), ('vaibhao', '2'), ('Rajat', '3')])\n"
     ]
    }
   ],
   "source": [
    "#Importing The Package\n",
    "from collections import OrderedDict\n",
    "\n",
    "#Creating The Inorder Dictionary\n",
    "Inorder_dict = OrderedDict([('Mayur', '1'),('vaibhao', '2'),('Rajat','3')])\n",
    "\n",
    "#Updating The Inorder Dictionary\n",
    "Inorder_dict.update({'Shraddha': '4'})\n",
    "\n",
    "#Updated Info will Be Add At Frist \n",
    "Inorder_dict.move_to_end('Shraddha', last=False)\n",
    "    \n",
    "print(Inorder_dict)"
   ]
  },
  {
   "cell_type": "markdown",
   "metadata": {},
   "source": [
    "**6.\tWrite a Python program to check order of character in string using OrderedDict()?**"
   ]
  },
  {
   "cell_type": "code",
   "execution_count": 19,
   "metadata": {},
   "outputs": [
    {
     "name": "stdout",
     "output_type": "stream",
     "text": [
      "False\n"
     ]
    }
   ],
   "source": [
    "#Importing The Package\n",
    "from collections import OrderedDict\n",
    "\n",
    "#Defining The Function\n",
    "def check_order(input, pattern):\n",
    "    \"\"\"\n",
    "    These Function Can Be Used To Check The Order of Ordered Dictionary\n",
    "    input = input Stands For An String\n",
    "    pattern = In which We Provide some pattern\n",
    "    \"\"\"\n",
    "    dict = OrderedDict.fromkeys(input)\n",
    "    \n",
    "    pattern_len = 0\n",
    "    \n",
    "    for key,value in dict.items(): #Iterating Throgh Ecah Key & Value Pair Dictionary\n",
    "        \n",
    "        if (key == pattern[pattern_len]): #Checking The Condition\n",
    "            \n",
    "            pattern_len = pattern_len + 1\n",
    "            \n",
    "        if (pattern_len == (len(pattern))): #Checking The Caluculating Pattern length & Given Pattern Are Equal or Not\n",
    "            \n",
    "            return 'True'\n",
    "        \n",
    "    return 'False'\n",
    "\n",
    "#Driver Code\n",
    "if __name__ == \"__main__\":\n",
    "        \n",
    "    #Intitiliaze The Input & Pattern        \n",
    "    input = 'Frist You Learn Then Remove The Letter L'\n",
    "    pattern = 'FYLTRTLL'\n",
    "\n",
    "#Calling The Function\n",
    "print(check_order(input, pattern))"
   ]
  },
  {
   "cell_type": "markdown",
   "metadata": {},
   "source": [
    "**7.\tWrite a Python program to sort Python Dictionaries by Key or Value?**"
   ]
  },
  {
   "cell_type": "code",
   "execution_count": 5,
   "metadata": {},
   "outputs": [
    {
     "name": "stdout",
     "output_type": "stream",
     "text": [
      "The Key Value Are Sorted By Key : \n",
      "(1, 23) (2, 12) (3, 45) (4, 34) (5, 67) (6, 56) (7, 89) (8, 78) "
     ]
    }
   ],
   "source": [
    "#Defining The Function\n",
    "def dictionary():\n",
    "    \"\"\"\n",
    "    These Function Can Be Used To Ordered Dictionary By Their Key \n",
    "    \"\"\"\n",
    "    \n",
    "    key_value = {} #Creating The Empty Key_Value Dict\n",
    "    \n",
    "    key_value[2] = 12\n",
    "    key_value[1] = 23\n",
    "    key_value[4] = 34\n",
    "    key_value[3] = 45\n",
    "    key_value[6] = 56\n",
    "    key_value[5] = 67\n",
    "    key_value[8] = 78\n",
    "    key_value[7] = 89\n",
    "\n",
    "    print('The Key Value Are Sorted By Key : ')\n",
    "\n",
    "    for i in sorted (key_value): #Iterating Through Each Key\n",
    "        print((i, key_value[i]), end=\" \")\n",
    "\n",
    "#Driver Code\n",
    "if __name__== \"__main__\":\n",
    " \n",
    " #Calling The Function\n",
    "    dictionary()"
   ]
  },
  {
   "cell_type": "code",
   "execution_count": 9,
   "metadata": {},
   "outputs": [
    {
     "name": "stdout",
     "output_type": "stream",
     "text": [
      "The Key Value Are Sorted By Value : \n",
      "[(2, 12), (1, 23), (4, 34), (3, 45), (6, 56), (5, 67), (8, 78), (7, 89)]\n"
     ]
    }
   ],
   "source": [
    "#Defining The Function\n",
    "def dictionary2():\n",
    "    \"\"\"\n",
    "    These Function Can Be Used To Ordered Dictionary By Their Value \n",
    "    \"\"\"\n",
    "    \n",
    "    key_value = {} #Creating The Empty Key_Value Dict\n",
    "    \n",
    "    key_value[1] = 23\n",
    "    key_value[2] = 12\n",
    "    key_value[3] = 45\n",
    "    key_value[4] = 34\n",
    "    key_value[5] = 67\n",
    "    key_value[6] = 56\n",
    "    key_value[7] = 89\n",
    "    key_value[8] = 78\n",
    "\n",
    "    print('The Key Value Are Sorted By Value : ')\n",
    "\n",
    "    print(sorted(key_value.items(), key= lambda i : (i[1], i[0]))) #Sorting The Dict With the Help of value\n",
    "\n",
    "#Driver Code\n",
    "if __name__== \"__main__\":\n",
    "\n",
    "#Calling The Function\n",
    "    dictionary2()"
   ]
  },
  {
   "cell_type": "code",
   "execution_count": null,
   "metadata": {},
   "outputs": [],
   "source": []
  }
 ],
 "metadata": {
  "kernelspec": {
   "display_name": "Python 3",
   "language": "python",
   "name": "python3"
  },
  "language_info": {
   "codemirror_mode": {
    "name": "ipython",
    "version": 3
   },
   "file_extension": ".py",
   "mimetype": "text/x-python",
   "name": "python",
   "nbconvert_exporter": "python",
   "pygments_lexer": "ipython3",
   "version": "3.8.5"
  }
 },
 "nbformat": 4,
 "nbformat_minor": 4
}
