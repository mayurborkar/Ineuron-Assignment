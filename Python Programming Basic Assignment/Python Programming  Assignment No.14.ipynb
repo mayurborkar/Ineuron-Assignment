{
 "cells": [
  {
   "cell_type": "markdown",
   "metadata": {},
   "source": [
    "**Question 1: Define a class with a generator which can iterate the numbers, which are divisible by 7, between a given range 0 and n.**\n"
   ]
  },
  {
   "cell_type": "code",
   "execution_count": 1,
   "metadata": {},
   "outputs": [
    {
     "name": "stdout",
     "output_type": "stream",
     "text": [
      "0\n",
      "7\n",
      "14\n",
      "21\n",
      "28\n",
      "35\n",
      "42\n",
      "49\n",
      "56\n",
      "63\n",
      "70\n",
      "77\n",
      "84\n",
      "91\n",
      "98\n"
     ]
    }
   ],
   "source": [
    "class iterator(object):\n",
    "    def __init__(self,n):\n",
    "        super(iterator,self).__init__()\n",
    "        self.n = n\n",
    "        \n",
    "    def division_by_seven(self):\n",
    "        for i in range(0,self.n):\n",
    "            if i % 7 == 0:\n",
    "                yield i\n",
    "                \n",
    "for i in iterator(100).division_by_seven():\n",
    "    print(i)"
   ]
  },
  {
   "cell_type": "markdown",
   "metadata": {},
   "source": [
    "**Question 2: Write a program to compute the frequency of the words from the input. The output should output after sorting the key alphanumerically.** \n",
    "\n",
    "Suppose the following input is supplied to the program: **New to Python or choosing between Python 2 and Python 3? Read Python 2 or Python 3.**\n",
    "\n",
    "Then, the output should be:\n",
    "\n",
    "2:2\n",
    "\n",
    "3.:1\n",
    "\n",
    "3?:1\n",
    "\n",
    "New:1\n",
    "\n",
    "Python:5\n",
    "\n",
    "Read:1\n",
    "\n",
    "and:1\n",
    "\n",
    "between:1\n",
    "\n",
    "choosing:1\n",
    "\n",
    "or:2\n",
    "\n",
    "to:1\n"
   ]
  },
  {
   "cell_type": "code",
   "execution_count": 12,
   "metadata": {},
   "outputs": [
    {
     "data": {
      "text/plain": [
       "{'New': 1,\n",
       " 'to': 1,\n",
       " 'Python': 5,\n",
       " 'or': 2,\n",
       " 'choosing': 1,\n",
       " 'between': 1,\n",
       " '2': 2,\n",
       " 'and': 1,\n",
       " '3?': 1,\n",
       " 'Read': 1,\n",
       " '3.': 1}"
      ]
     },
     "execution_count": 12,
     "metadata": {},
     "output_type": "execute_result"
    }
   ],
   "source": [
    "#Defining The Function\n",
    "def word_count(str):\n",
    "    \"\"\"\n",
    "    These Function Can Be Used For Word Count From The Given Input\n",
    "    str = str Stands For The Input String\n",
    "    \"\"\"\n",
    "    words = str.split() #Splitting Up The Input String\n",
    "    \n",
    "    counts = dict() #Creating The Empty Dict\n",
    "    \n",
    "    for i in words: #Iterating Through Each Word\n",
    "        \n",
    "        if i in counts: #Checking The Word Prsenrt In The Empty Dict\n",
    "            \n",
    "            counts[i] += 1 #If Present In Empty Dict Increament By 1\n",
    "            \n",
    "        else:\n",
    "            \n",
    "            counts[i] = 1 #If Not Present In Empty Dict Keep It Up 1\n",
    "\n",
    "    return counts\n",
    "\n",
    "#Providing The Input For Function\n",
    "str = 'New to Python or choosing between Python 2 and Python 3? Read Python 2 or Python 3.'\n",
    "\n",
    "#Calling Function\n",
    "word_count(str)"
   ]
  },
  {
   "cell_type": "markdown",
   "metadata": {},
   "source": [
    "**Question 3: Define a class Person and its two child classes: Male and Female. All classes have a method \"getGender\" which can print \"Male\" for Male class and \"Female\" for Female class.**"
   ]
  },
  {
   "cell_type": "code",
   "execution_count": 13,
   "metadata": {},
   "outputs": [
    {
     "name": "stdout",
     "output_type": "stream",
     "text": [
      "Male\n",
      "Female\n"
     ]
    }
   ],
   "source": [
    "class Person(object):\n",
    "    def __init__(self):\n",
    "        self.gender = 'Unknown'\n",
    "        \n",
    "    def getgender(self):\n",
    "        print(self.gender)\n",
    "        \n",
    "class Male(Person):\n",
    "    def __init__(self):\n",
    "        self.gender = 'Male'\n",
    "        \n",
    "class Female(Person):\n",
    "    def __init__(self):\n",
    "        self.gender = 'Female'\n",
    "        \n",
    "Mayur = Male()\n",
    "Sneha = Female()\n",
    "\n",
    "Mayur.getgender()\n",
    "Sneha.getgender()"
   ]
  },
  {
   "cell_type": "markdown",
   "metadata": {},
   "source": [
    "**Question 4: Please write a program to generate all sentences where subject is in [\"I\", \"You\"] and verb is in [\"Play\", \"Love\"] and the object is in [\"Hockey\",\"Football\"].**"
   ]
  },
  {
   "cell_type": "code",
   "execution_count": 15,
   "metadata": {},
   "outputs": [
    {
     "name": "stdout",
     "output_type": "stream",
     "text": [
      "The Sentence Is : I Play Hockey\n",
      "The Sentence Is : I Play Football\n",
      "The Sentence Is : I Love Hockey\n",
      "The Sentence Is : I Love Football\n",
      "The Sentence Is : You Play Hockey\n",
      "The Sentence Is : You Play Football\n",
      "The Sentence Is : You Love Hockey\n",
      "The Sentence Is : You Love Football\n"
     ]
    }
   ],
   "source": [
    "subject = [\"I\", \"You\"]  \n",
    "\n",
    "verb = [\"Play\", \"Love\"] \n",
    "\n",
    "objects = [\"Hockey\",\"Football\"]\n",
    "\n",
    "for i in range(len(subject)):\n",
    "    for j in range(len(verb)):\n",
    "        for k in range(len(objects)):\n",
    "            sentence = print('The Sentence Is : {} {} {}'.format(subject[i],verb[j],objects[k]))"
   ]
  },
  {
   "cell_type": "markdown",
   "metadata": {},
   "source": [
    "**Question 5: Please write a program to compress and decompress the string \"hello world!hello world!hello world!hello world!\".**\n"
   ]
  },
  {
   "cell_type": "code",
   "execution_count": 29,
   "metadata": {},
   "outputs": [
    {
     "name": "stdout",
     "output_type": "stream",
     "text": [
      "b'x\\x9c\\xcbH\\xcd\\xc9\\xc9W(\\xcf/\\xcaIQ\\xcc \\x82\\r\\x00\\xbd[\\x11\\xf5'\n",
      "b'hello world!hello world!hello world!hello world!'\n"
     ]
    }
   ],
   "source": [
    "#Importing The Package\n",
    "import zlib \n",
    "\n",
    "#Given Input With Encoding\n",
    "s = 'hello world!hello world!hello world!hello world!'.encode()\n",
    "\n",
    "#Compressing The File\n",
    "t = zlib.compress(s)\n",
    "print(t)\n",
    "\n",
    "#Decompressing File\n",
    "print(zlib.decompress(t))"
   ]
  },
  {
   "cell_type": "markdown",
   "metadata": {},
   "source": [
    "**Question 6: Please write a binary search function which searches an item in a sorted list. The function should return the index of element to be searched in the list.**\n"
   ]
  },
  {
   "cell_type": "code",
   "execution_count": 4,
   "metadata": {},
   "outputs": [
    {
     "name": "stdout",
     "output_type": "stream",
     "text": [
      "Element is present at index 6\n"
     ]
    }
   ],
   "source": [
    "def binary_search(li, element):\n",
    "    low    = 0\n",
    "    high   = len(li) - 1\n",
    "    medium = 0\n",
    "    \n",
    "    while low <= high:\n",
    "        medium = (high + low) // 2\n",
    "        \n",
    "        if li[medium] < element:\n",
    "            \n",
    "            low = medium + 1\n",
    "            \n",
    "        elif li[medium] > element:\n",
    "            \n",
    "            high = medium - 1\n",
    "            \n",
    "        else:\n",
    "            \n",
    "            return medium\n",
    "\n",
    "    return -1\n",
    "\n",
    "#Test List\n",
    "li=[2,5,7,9,11,17,25,38,45,67,98]\n",
    "element=25\n",
    "\n",
    "result = binary_search(li, element)\n",
    " \n",
    "if result != -1:\n",
    "    print(\"Element is present at index\", str(result))\n",
    "else:\n",
    "    print(\"Element is not present in array\")"
   ]
  },
  {
   "cell_type": "code",
   "execution_count": null,
   "metadata": {},
   "outputs": [],
   "source": []
  }
 ],
 "metadata": {
  "kernelspec": {
   "display_name": "Python 3",
   "language": "python",
   "name": "python3"
  },
  "language_info": {
   "codemirror_mode": {
    "name": "ipython",
    "version": 3
   },
   "file_extension": ".py",
   "mimetype": "text/x-python",
   "name": "python",
   "nbconvert_exporter": "python",
   "pygments_lexer": "ipython3",
   "version": "3.8.5"
  }
 },
 "nbformat": 4,
 "nbformat_minor": 4
}
