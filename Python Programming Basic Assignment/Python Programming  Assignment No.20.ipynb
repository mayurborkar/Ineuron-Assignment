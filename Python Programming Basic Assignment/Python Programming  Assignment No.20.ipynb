{
 "cells": [
  {
   "cell_type": "markdown",
   "metadata": {},
   "source": [
    "**Question1.Create a function that takes a list of strings and integers, and filters out the list so that it returns a list of integers only.**\n",
    "\n",
    "Examples\n",
    "\n",
    "filter_list([1, 2, 3, \"a\", \"b\", 4]) ➞ **[1, 2, 3, 4]**\n",
    "\n",
    "filter_list([\"A\", 0, \"Edabit\", 1729, \"Python\", \"1729\"]) ➞ **[0, 1729]**\n",
    "\n",
    "filter_list([\"Nothing\", \"here\"]) ➞ **[]**\n"
   ]
  },
  {
   "cell_type": "code",
   "execution_count": 1,
   "metadata": {},
   "outputs": [
    {
     "name": "stdout",
     "output_type": "stream",
     "text": [
      "[1, 2, 3, 4]\n",
      "------------------------------\n",
      "[0, 1729]\n",
      "------------------------------\n",
      "[]\n",
      "------------------------------\n"
     ]
    }
   ],
   "source": [
    "class Notstring:\n",
    "    def __init__(self,lis=[]):\n",
    "        self.lis = lis\n",
    "        \n",
    "    def filter_list(self):\n",
    "        try:\n",
    "            a = []\n",
    "            for i in self.lis:\n",
    "                if (type(i) == int):\n",
    "                        a.append(i)                \n",
    "            return a\n",
    "        \n",
    "        except Exception as e:\n",
    "            print(e)\n",
    "            \n",
    "    def __str__(self):\n",
    "        return 'The Given Function Written Inside Class & Can Be Used To Filter List'\n",
    "        \n",
    "#Calling The Class\n",
    "b = Notstring([1, 2, 3, \"a\", \"b\", 4])\n",
    "print(b.filter_list())\n",
    "print('---'*10)\n",
    "\n",
    "b = Notstring([\"A\", 0, \"Edabit\", 1729, \"Python\", \"1729\"])\n",
    "print(b.filter_list())\n",
    "print('---'*10)\n",
    "\n",
    "b = Notstring([\"Nothing\", \"here\"])\n",
    "print(b.filter_list())\n",
    "print('---'*10)"
   ]
  },
  {
   "cell_type": "markdown",
   "metadata": {},
   "source": [
    "**Question3 Create a function that takes the height and radius of a cone as arguments and returns the volume of the cone rounded to the nearest hundredth. See the resources tab for the formula.**\n",
    " \n",
    "Examples\n",
    "\n",
    "cone_volume(3, 2) ➞ **12.57**\n",
    "\n",
    "cone_volume(15, 6) ➞ **565.49**\n",
    "\n",
    "cone_volume(18, 0) ➞ **0**\n"
   ]
  },
  {
   "cell_type": "code",
   "execution_count": 2,
   "metadata": {},
   "outputs": [
    {
     "name": "stdout",
     "output_type": "stream",
     "text": [
      "12.57\n",
      "------------------------------\n",
      "565.49\n",
      "------------------------------\n",
      "0.0\n",
      "------------------------------\n"
     ]
    }
   ],
   "source": [
    "import math\n",
    "class Cone:\n",
    "    def __init__(self,height,radius):\n",
    "        self.height = height\n",
    "        self.radius = radius\n",
    "        \n",
    "    def cone_volume(self):\n",
    "        try:\n",
    "            π = 3.141592\n",
    "\n",
    "            V = round((π * (self.radius)**2 *self.height)/3 ,2)\n",
    "\n",
    "            return V\n",
    "        \n",
    "        except Exception as e:\n",
    "            print(e)\n",
    "            \n",
    "    def __str__(self):\n",
    "        \n",
    "        return 'The Given Function Written Inside Class & Can Be Used To Find Out The Cone of Cylinder'     \n",
    "    \n",
    "#Calling The Class\n",
    "height = 3\n",
    "radius = 2\n",
    "c=Cone(height,radius)\n",
    "print(c.cone_volume())\n",
    "print('---'*10)\n",
    "\n",
    "height = 15\n",
    "radius = 6\n",
    "c=Cone(height,radius)\n",
    "print(c.cone_volume())\n",
    "print('---'*10)\n",
    "\n",
    "height = 18\n",
    "radius = 0\n",
    "c=Cone(height,radius)\n",
    "print(c.cone_volume())\n",
    "print('---'*10)"
   ]
  },
  {
   "cell_type": "markdown",
   "metadata": {},
   "source": [
    "**Question4. This Triangular Number Sequence is generated from a pattern of dots that form a triangle. The first 5 numbers of the sequence, or dots, are:**\n",
    "\n",
    "1, 3, 6, 10, 15\n",
    "\n",
    "**This means that the first triangle has just one dot, the second one has three dots, the third one has 6 dots and so on.\n",
    "Write a function that gives the number of dots with its corresponding triangle number of the sequence.**\n",
    "\n",
    "Examples\n",
    "\n",
    "triangle(1) ➞ **1**\n",
    "\n",
    "triangle(6) ➞ **21**\n",
    "\n",
    "triangle(215) ➞ **23220**\n"
   ]
  },
  {
   "cell_type": "code",
   "execution_count": 3,
   "metadata": {},
   "outputs": [
    {
     "name": "stdout",
     "output_type": "stream",
     "text": [
      "1\n",
      "------------------------------\n",
      "21\n",
      "------------------------------\n",
      "23220\n",
      "------------------------------\n"
     ]
    }
   ],
   "source": [
    "class Triangle:\n",
    "    def __init__(self, num):\n",
    "        self.num = num\n",
    "\n",
    "    def triangular_sequence(self):\n",
    "        try:\n",
    "            j = 0\n",
    "            k = 0\n",
    "            for i in range(1,self.num+1):\n",
    "                #print(k, end = ' ')\n",
    "                j = j + 1\n",
    "                k = k + j\n",
    "                \n",
    "            return k\n",
    "\n",
    "        except Exception as e:\n",
    "            print(e)\n",
    "\n",
    "    def __str__(self):\n",
    "\n",
    "        return 'The Given Function Written Inside Class & Can Be Used To Find Out the number of dots with its corresponding triangle number of the sequence.'\n",
    "\n",
    "#Calling Class   \n",
    "num = 1\n",
    "t = Triangle(num)\n",
    "print(t.triangular_sequence())\n",
    "print('---'*10)\n",
    "\n",
    "num = 6\n",
    "t = Triangle(num)\n",
    "print(t.triangular_sequence())\n",
    "print('---'*10)\n",
    "\n",
    "num = 215\n",
    "t = Triangle(num)\n",
    "print(t.triangular_sequence())\n",
    "print('---'*10)"
   ]
  },
  {
   "cell_type": "markdown",
   "metadata": {},
   "source": [
    "**Question5. Create a function that takes a list of numbers between 1 and 10 (excluding one number) and returns the missing number.**\n",
    "\n",
    "Examples\n",
    "\n",
    "missing_num([1, 2, 3, 4, 6, 7, 8, 9, 10]) ➞ **5**\n",
    "\n",
    "missing_num([7, 2, 3, 6, 5, 9, 1, 4, 8]) ➞ **10**\n",
    "\n",
    "missing_num([10, 5, 1, 2, 4, 6, 8, 3, 9]) ➞ **7**\n"
   ]
  },
  {
   "cell_type": "code",
   "execution_count": 4,
   "metadata": {},
   "outputs": [
    {
     "name": "stdout",
     "output_type": "stream",
     "text": [
      "5\n",
      "------------------------------\n",
      "10\n",
      "------------------------------\n",
      "7\n",
      "------------------------------\n"
     ]
    }
   ],
   "source": [
    "class Missing:\n",
    "    \n",
    "    def __init__(self,l):\n",
    "        self.l = l\n",
    "        \n",
    "    def missing_num(self):\n",
    "        try:\n",
    "            n = len(self.l)\n",
    "\n",
    "            total = (n+1)*(n+2)//2\n",
    "\n",
    "            sum_l = sum(self.l)\n",
    "\n",
    "            return total - sum_l\n",
    "        \n",
    "        except Exception as e:\n",
    "            print(e)\n",
    "            \n",
    "    def __str__(self):\n",
    "        \n",
    "        return 'The Given Function Written Inside Class & Can Be Used To Find out Missing Number Between Range 1 to 10' \n",
    "    \n",
    "#Calling Class\n",
    "l = [1, 2, 3, 4, 6, 7, 8, 9, 10]\n",
    "m = Missing(l)\n",
    "print(m.missing_num())\n",
    "print('---'*10)\n",
    "\n",
    "l = [7, 2, 3, 6, 5, 9, 1, 4, 8]\n",
    "m = Missing(l)\n",
    "print(m.missing_num())\n",
    "print('---'*10)\n",
    "\n",
    "l = [10, 5, 1, 2, 4, 6, 8, 3, 9]\n",
    "m = Missing(l)\n",
    "print(m.missing_num())\n",
    "print('---'*10)"
   ]
  }
 ],
 "metadata": {
  "kernelspec": {
   "display_name": "Python 3",
   "language": "python",
   "name": "python3"
  },
  "language_info": {
   "codemirror_mode": {
    "name": "ipython",
    "version": 3
   },
   "file_extension": ".py",
   "mimetype": "text/x-python",
   "name": "python",
   "nbconvert_exporter": "python",
   "pygments_lexer": "ipython3",
   "version": "3.8.5"
  }
 },
 "nbformat": 4,
 "nbformat_minor": 4
}
