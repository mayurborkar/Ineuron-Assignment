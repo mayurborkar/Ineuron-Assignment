{
 "cells": [
  {
   "cell_type": "markdown",
   "metadata": {},
   "source": [
    "**Question 1: Please write a program using generator to print the numbers which can be divisible by 5 and 7 between 0 and n in comma separated form while n is input by console.**\n",
    "\n",
    "Example:\n",
    "\n",
    "If the following n is given as input to the program: 100\n",
    "\n",
    "Then, the output of the program should be: 0,35,70\n"
   ]
  },
  {
   "cell_type": "code",
   "execution_count": 6,
   "metadata": {},
   "outputs": [
    {
     "name": "stdout",
     "output_type": "stream",
     "text": [
      "Enter The Number : 100\n",
      "0,35,70\n",
      "Code Is Exicuted\n"
     ]
    }
   ],
   "source": [
    "try:\n",
    "    def generator(n): #Creating The Function\n",
    "        \n",
    "        for i in range(n+1): #Iterating Through The User\n",
    "            \n",
    "            if i % 5 == 0 and i % 7 == 0: # Checking Condition\n",
    "                \n",
    "                yield i #Becaz we Use Generator\n",
    "\n",
    "\n",
    "    n = int(input('Enter The Number : ')) #Taking The User Input\n",
    "    \n",
    "    number = [] #Creating The Empty List To Appending The Value\n",
    "    \n",
    "    for i in generator(n): #calling The Function\n",
    "        \n",
    "        number.append(str(i)) #Appending The Empty List\n",
    "\n",
    "    print((\",\").join(number)) \n",
    "    \n",
    "except Exception as e: #Creating The Exception Class\n",
    "    print(e)\n",
    "    \n",
    "finally: #Finally Block Exicuted Whether It Is Error Or Not\n",
    "    print('Code Is Exicuted')"
   ]
  },
  {
   "cell_type": "markdown",
   "metadata": {},
   "source": [
    "**Question 2: Please write a program using generator to print the even numbers between 0 and n in comma separated form while n is input by console.**\n",
    "\n",
    "Example:\n",
    "\n",
    "If the following n is given as input to the program: **10**\n",
    "\n",
    "Then, the output of the program should be: **0,2,4,6,8,10**\n"
   ]
  },
  {
   "cell_type": "code",
   "execution_count": 9,
   "metadata": {},
   "outputs": [
    {
     "name": "stdout",
     "output_type": "stream",
     "text": [
      "Enter The Number : 10\n",
      "0,2,4,6,8,10\n",
      "Code Is Exicuted\n"
     ]
    }
   ],
   "source": [
    "try:\n",
    "    def even_generator(n): #Creating The Function\n",
    "        \n",
    "        for i in range(n+1): #Iterating Through The User\n",
    "            \n",
    "            if i % 2 == 0 : # Checking Condition\n",
    "                \n",
    "                yield i #Becaz we Use Generator\n",
    "\n",
    "\n",
    "    n = int(input('Enter The Number : ')) #Taking The User Input\n",
    "    \n",
    "    number = [] #Creating The Empty List To Appending The Value\n",
    "    \n",
    "    for i in even_generator(n): #calling The Function\n",
    "        \n",
    "        number.append(str(i)) #Appending The Empty List\n",
    "\n",
    "    print((\",\").join(number)) \n",
    "    \n",
    "except Exception as e: #Creating The Exception Class\n",
    "    print(e)\n",
    "    \n",
    "finally: #Finally Block Exicuted Whether It Is Error Or Not\n",
    "    print('Code Is Exicuted')"
   ]
  },
  {
   "cell_type": "markdown",
   "metadata": {},
   "source": [
    "**Question 3: The Fibonacci Sequence is computed based on the following formula:**\n",
    "\n",
    "f(n)=0 if n=0\n",
    "\n",
    "f(n)=1 if n=1\n",
    "\n",
    "f(n)=f(n-1)+f(n-2) if n>1\n",
    "\n",
    "Please write a program using list comprehension to print the Fibonacci Sequence in comma separated form with a given n input by console.\n",
    "\n",
    "Example:\n",
    "\n",
    "If the following n is given as input to the program: **7**\n",
    "\n",
    "Then, the output of the program should be: **0,1,1,2,3,5,8,13**\n"
   ]
  },
  {
   "cell_type": "code",
   "execution_count": 16,
   "metadata": {},
   "outputs": [
    {
     "name": "stdout",
     "output_type": "stream",
     "text": [
      "Enter The Number : 7\n",
      "0,1,1,2,3,5,8,13\n",
      "The Code Is Exicuted\n"
     ]
    }
   ],
   "source": [
    "try:\n",
    "    def f(n): #Creating The Function\n",
    "        if n == 0: \n",
    "            return 0\n",
    "        elif n == 1:\n",
    "            return 1\n",
    "        else:\n",
    "            return f(n-1) + f(n-2)\n",
    "        \n",
    "except Exception as e: #Creating The Exception Class\n",
    "    print(e)\n",
    "    \n",
    "else:\n",
    "    n = int(input('Enter The Number : ')) #Taking The User Input\n",
    "\n",
    "    value = [str (f(i)) for i in range(0,n+1)] #list comprehension\n",
    "\n",
    "    print((',').join(value))\n",
    "        \n",
    "finally: #Finally Block Exicuted Whether It Is Error Or Not\n",
    "    print('The Code Is Exicuted')"
   ]
  },
  {
   "cell_type": "markdown",
   "metadata": {},
   "source": [
    "**Question 4: Assuming that we have some email addresses in the \"username@companyname.com\" format, please write program to print the user name of a given email address. Both user names and company names are composed of letters only.**\n",
    "\n",
    "Example:\n",
    "\n",
    "If the following email address is given as input to the program: **john@google.com**\n",
    "\n",
    "Then, the output of the program should be: **john**\n"
   ]
  },
  {
   "cell_type": "code",
   "execution_count": 19,
   "metadata": {},
   "outputs": [
    {
     "name": "stdout",
     "output_type": "stream",
     "text": [
      "Enter The Email Address : mayur@google.com\n",
      "User Name Is : mayur\n",
      "Code Is Exicuted\n"
     ]
    }
   ],
   "source": [
    "#Importing The Regex Package\n",
    "import re\n",
    "\n",
    "try:\n",
    "    email_address = input('Enter The Email Address : ') #Entering The User Email Address\n",
    "    \n",
    "    seperating = '(\\w+)@(\\w+).(com)' #Matches word characters.\n",
    "    \n",
    "    checking = re.match(seperating, email_address) #Matching With The Emial address\n",
    "    \n",
    "    print('User Name Is :', checking.group(1)) # for the first parenthesized subgroup \n",
    "    \n",
    "except Exception as e:\n",
    "    print(e)\n",
    "    \n",
    "finally:\n",
    "    print('Code Is Exicuted')"
   ]
  },
  {
   "cell_type": "markdown",
   "metadata": {},
   "source": [
    "**Question 5: Define a class named Shape and its subclass Square. The Square class has an init function which takes a length as argument. Both classes have a area function which can print the area of the shape where Shape's area is 0 by default.**\n"
   ]
  },
  {
   "cell_type": "code",
   "execution_count": 24,
   "metadata": {},
   "outputs": [
    {
     "name": "stdout",
     "output_type": "stream",
     "text": [
      "9\n"
     ]
    }
   ],
   "source": [
    "#Creating The Parent Class name Shape\n",
    "class Shape(object):\n",
    "    def __init__(self):\n",
    "        pass\n",
    "    \n",
    "    def area(self): #Defining  The Area Method\n",
    "        return 0\n",
    "\n",
    "#Creating The Child Class Name Square Inside Parent Class\n",
    "class Square(Shape):\n",
    "    def __init__(self,l):\n",
    "        Shape.__init__(self) #Accessing The Parent Class Variable\n",
    "        self.length = l\n",
    "        \n",
    "    def area(self):\n",
    "        return self.length*self.length #Giving The Area of Square\n",
    "        \n",
    "        \n",
    "sq = Square(3)\n",
    "print(sq.area())"
   ]
  },
  {
   "cell_type": "code",
   "execution_count": null,
   "metadata": {},
   "outputs": [],
   "source": []
  }
 ],
 "metadata": {
  "kernelspec": {
   "display_name": "Python 3",
   "language": "python",
   "name": "python3"
  },
  "language_info": {
   "codemirror_mode": {
    "name": "ipython",
    "version": 3
   },
   "file_extension": ".py",
   "mimetype": "text/x-python",
   "name": "python",
   "nbconvert_exporter": "python",
   "pygments_lexer": "ipython3",
   "version": "3.8.5"
  }
 },
 "nbformat": 4,
 "nbformat_minor": 4
}
