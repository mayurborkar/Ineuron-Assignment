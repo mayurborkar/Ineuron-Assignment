{
 "cells": [
  {
   "cell_type": "markdown",
   "metadata": {},
   "source": [
    "**1.\tWrite a Python Program to Find the Factorial of a Number?**"
   ]
  },
  {
   "cell_type": "code",
   "execution_count": 3,
   "metadata": {},
   "outputs": [
    {
     "name": "stdout",
     "output_type": "stream",
     "text": [
      "Enter a number : 15\n",
      "The Factorial of 15 is 1307674368000\n"
     ]
    }
   ],
   "source": [
    "#Taking The user Input\n",
    "user = int(input(\"Enter a number : \"))  \n",
    "\n",
    "fact = 1 \n",
    "\n",
    "if user < 0:  \n",
    "    print(\"Factorial of Negative Number Does Not Exist\")  \n",
    "    \n",
    "elif user == 0:  \n",
    "    print(\"The factorial of 0 is 1\")  \n",
    "    \n",
    "else:  \n",
    "    for i in range(1,user + 1):  \n",
    "        fact = fact*i  \n",
    "    print(\"The Factorial of\",user,\"is\",fact)  "
   ]
  },
  {
   "cell_type": "markdown",
   "metadata": {},
   "source": [
    "**2.\tWrite a Python Program to Display the multiplication Table?**"
   ]
  },
  {
   "cell_type": "code",
   "execution_count": 6,
   "metadata": {},
   "outputs": [
    {
     "name": "stdout",
     "output_type": "stream",
     "text": [
      "Show The Multiplication Table of :  34\n",
      "34 x 1 = 34\n",
      "34 x 2 = 68\n",
      "34 x 3 = 102\n",
      "34 x 4 = 136\n",
      "34 x 5 = 170\n",
      "34 x 6 = 204\n",
      "34 x 7 = 238\n",
      "34 x 8 = 272\n",
      "34 x 9 = 306\n",
      "34 x 10 = 340\n"
     ]
    }
   ],
   "source": [
    "#Taking The user Input\n",
    "user = int(input(\"Show The Multiplication Table of :  \")) \n",
    "\n",
    "# Using for loop to iterate multiplication 10 times   \n",
    "for i in range(1,11):  \n",
    "    print(user, 'x' ,i , '=' ,user*i)  "
   ]
  },
  {
   "cell_type": "markdown",
   "metadata": {},
   "source": [
    "**3.\tWrite a Python Program to Print the Fibonacci sequence?**"
   ]
  },
  {
   "cell_type": "code",
   "execution_count": 13,
   "metadata": {},
   "outputs": [
    {
     "name": "stdout",
     "output_type": "stream",
     "text": [
      "Enter A Number : 20\n",
      "0 , 1, 1 , 2 , 3 , 5 , 8 , 13 , 21 , 34 , 55 , 89 , 144 , 233 , 377 , 610 , 987 , 1597 , 2584 , 4181 , "
     ]
    }
   ],
   "source": [
    "# Taking The User Input\n",
    "term=int(input('Enter A Number : '))\n",
    "\n",
    "#Deciding The Some Element\n",
    "n1=0\n",
    "n2=1\n",
    "count=2\n",
    "\n",
    "#Condition\n",
    "if term <= 0:\n",
    "    print('Please Enter A Positive Number')\n",
    "    \n",
    "elif term == 1:\n",
    "    print(n1)\n",
    "    \n",
    "else:\n",
    "      \n",
    "    print(n1,\",\",n2,end=', ')  \n",
    "    while count < term:  \n",
    "        nth = n1 + n2  \n",
    "        print(nth,end=' , ')  \n",
    "        \n",
    "        # update values  \n",
    "        n1 = n2  \n",
    "        n2 = nth  \n",
    "        count += 1  "
   ]
  },
  {
   "cell_type": "markdown",
   "metadata": {},
   "source": [
    "**4.\tWrite a Python Program to Check Armstrong Number?**"
   ]
  },
  {
   "cell_type": "code",
   "execution_count": 1,
   "metadata": {},
   "outputs": [
    {
     "name": "stdout",
     "output_type": "stream",
     "text": [
      "Enter a number : 407\n",
      "407 is an Armstrong number\n"
     ]
    }
   ],
   "source": [
    "#Taking The User Input\n",
    "user = int(input(\"Enter a number : \")) \n",
    "\n",
    "#Intialize Some variable\n",
    "sum = 0  \n",
    "temp = user  \n",
    "  \n",
    "#Condition    \n",
    "while temp > 0:  \n",
    "    digit = temp % 10  \n",
    "    sum += digit ** 3  \n",
    "    temp //= 10\n",
    "    \n",
    "if user == sum:\n",
    "    print(user,\"is an Armstrong number\")  \n",
    "else:  \n",
    "    print(user,\"is not an Armstrong number\")  "
   ]
  },
  {
   "cell_type": "markdown",
   "metadata": {},
   "source": [
    "**5.\tWrite a Python Program to Find Armstrong Number in an Interval?**"
   ]
  },
  {
   "cell_type": "code",
   "execution_count": 6,
   "metadata": {},
   "outputs": [
    {
     "name": "stdout",
     "output_type": "stream",
     "text": [
      "Enter a number : 100\n",
      "Enter a number : 500\n",
      "153\n",
      "370\n",
      "371\n",
      "407\n"
     ]
    }
   ],
   "source": [
    "#Taking The User Input\n",
    "starting_value = int(input(\"Enter a number : \")) \n",
    "ending_value = int(input(\"Enter a number : \")) \n",
    "\n",
    "for i in range(starting_value,ending_value+1):\n",
    "    \n",
    "    \n",
    "    #Intialize Some variable\n",
    "    sum = 0  \n",
    "    temp = i  \n",
    "  \n",
    "    #Condition    \n",
    "    while temp > 0:  \n",
    "        digit = temp % 10  \n",
    "        sum += digit ** 3  \n",
    "        temp //= 10\n",
    "    \n",
    "    if i == sum:\n",
    "        print(i)   "
   ]
  },
  {
   "cell_type": "markdown",
   "metadata": {},
   "source": [
    "**6.\tWrite a Python Program to Find the Sum of Natural Numbers?**"
   ]
  },
  {
   "cell_type": "code",
   "execution_count": 10,
   "metadata": {},
   "outputs": [
    {
     "name": "stdout",
     "output_type": "stream",
     "text": [
      "Enter A Number :100\n",
      "The Sum Of Natural Number Is :  5050\n"
     ]
    }
   ],
   "source": [
    "#Taking The User Input\n",
    "user=int(input('Enter A Number :'))\n",
    "\n",
    "if user < 0:\n",
    "    print('Enter A positive Number')\n",
    "else:\n",
    "    sum = 0\n",
    "    \n",
    "    #While Loop To Iterate\n",
    "    while(user>0):\n",
    "        sum += user\n",
    "        user -= 1\n",
    "    print('The Sum Of Natural Number Is : ',sum) "
   ]
  }
 ],
 "metadata": {
  "kernelspec": {
   "display_name": "Python 3",
   "language": "python",
   "name": "python3"
  },
  "language_info": {
   "codemirror_mode": {
    "name": "ipython",
    "version": 3
   },
   "file_extension": ".py",
   "mimetype": "text/x-python",
   "name": "python",
   "nbconvert_exporter": "python",
   "pygments_lexer": "ipython3",
   "version": "3.8.5"
  }
 },
 "nbformat": 4,
 "nbformat_minor": 4
}
