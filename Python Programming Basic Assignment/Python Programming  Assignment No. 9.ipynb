{
 "cells": [
  {
   "cell_type": "markdown",
   "metadata": {},
   "source": [
    "**1.\tWrite a Python program to check if the given number is a Disarium Number?**"
   ]
  },
  {
   "cell_type": "code",
   "execution_count": 4,
   "metadata": {},
   "outputs": [
    {
     "name": "stdout",
     "output_type": "stream",
     "text": [
      "175 is a disarium number\n"
     ]
    }
   ],
   "source": [
    "#Defining The Function\n",
    "def calculate_length(n):    \n",
    "    length = 0    \n",
    "    while(n != 0):    \n",
    "        length = length + 1    \n",
    "        n = n//10    \n",
    "    return length    \n",
    "\n",
    "#Initiliaze The Some Term\n",
    "number = 175    \n",
    "rem = sum = 0    \n",
    "length = calculate_length(number)    \n",
    "     \n",
    "#Makes a copy of the original number num    \n",
    "n = number    \n",
    "     \n",
    "#Calculates the sum of digits powered with their respective position    \n",
    "while(number > 0):    \n",
    "    rem = number % 10    \n",
    "    sum = sum + int(rem**length)    \n",
    "    number = number//10    \n",
    "    length = length - 1    \n",
    "     \n",
    "#Checks whether the sum is equal to the number itself    \n",
    "if(sum == n):    \n",
    "    print(str(n) + \" is a disarium number\")    \n",
    "else:    \n",
    "    print(str(n) + \" is not a disarium number\")"
   ]
  },
  {
   "cell_type": "markdown",
   "metadata": {},
   "source": [
    "**2.\tWrite a Python program to print all disarium numbers between 1 to 100?**"
   ]
  },
  {
   "cell_type": "code",
   "execution_count": 7,
   "metadata": {},
   "outputs": [
    {
     "name": "stdout",
     "output_type": "stream",
     "text": [
      "1\n",
      "2\n",
      "3\n",
      "4\n",
      "5\n",
      "6\n",
      "7\n",
      "8\n",
      "9\n",
      "89\n"
     ]
    }
   ],
   "source": [
    "#Defining The Function\n",
    "def calculate_length(n):    \n",
    "    length = 0    \n",
    "    while(n != 0):    \n",
    "        length = length + 1    \n",
    "        n = n//10    \n",
    "    return length    \n",
    "\n",
    "#Initiliaze The Some Term\n",
    "def sum_of_digit(number):   \n",
    "    rem = sum = 0    \n",
    "    length = calculate_length(number)    \n",
    "     \n",
    "    #Makes a copy of the original number num    \n",
    "    n = number    \n",
    "     \n",
    "    #Calculates the sum of digits powered with their respective position    \n",
    "    while(number > 0):    \n",
    "        rem = number % 10    \n",
    "        sum = sum + int(rem**length)    \n",
    "        number = number//10    \n",
    "        length = length - 1 \n",
    "    return sum\n",
    "\n",
    "result=0\n",
    "\n",
    "for i in range(1,100):\n",
    "    result=sum_of_digit(i)\n",
    "    \n",
    "    if (result == i):\n",
    "        print(i)\n",
    "     "
   ]
  },
  {
   "cell_type": "markdown",
   "metadata": {},
   "source": [
    "**3.\tWrite a Python program to check if the given number is Happy Number?**"
   ]
  },
  {
   "cell_type": "code",
   "execution_count": 1,
   "metadata": {},
   "outputs": [
    {
     "name": "stdout",
     "output_type": "stream",
     "text": [
      "82 is a happy number\n"
     ]
    }
   ],
   "source": [
    "def isHappyNumber(num):    \n",
    "    rem = sum = 0    \n",
    "        \n",
    "    #Calculates the sum of squares of digits    \n",
    "    while(num > 0):    \n",
    "        rem = num%10    \n",
    "        sum = sum + (rem*rem)   \n",
    "        num = num//10   \n",
    "    return sum    \n",
    "        \n",
    "num = 82    \n",
    "result = num    \n",
    "     \n",
    "while(result != 1 and result != 4)    \n",
    "    result = isHappyNumber(result)    \n",
    "     \n",
    "#Happy number always ends with 1    \n",
    "if(result == 1):    \n",
    "    print(str(num) + \" is a happy number\")   \n",
    "#Unhappy number ends in a cycle of repeating numbers which contain 4    \n",
    "elif(result == 4):    \n",
    "    print(str(num) + \" is not a happy number\")   "
   ]
  },
  {
   "cell_type": "markdown",
   "metadata": {},
   "source": [
    "**4.\tWrite a Python program to print all happy numbers between 1 and 100?**"
   ]
  },
  {
   "cell_type": "code",
   "execution_count": 5,
   "metadata": {},
   "outputs": [
    {
     "name": "stdout",
     "output_type": "stream",
     "text": [
      "The Haappy Number Between 1 to 100 :\n",
      "1\n",
      "7\n",
      "10\n",
      "13\n",
      "19\n",
      "23\n",
      "28\n",
      "31\n",
      "32\n",
      "44\n",
      "49\n",
      "68\n",
      "70\n",
      "79\n",
      "82\n",
      "86\n",
      "91\n",
      "94\n",
      "97\n"
     ]
    }
   ],
   "source": [
    "#Defining The Function\n",
    "def isHappyNumber(num):    \n",
    "    rem = sum = 0    \n",
    "        \n",
    "#Calculates the sum of squares of digits    \n",
    "    while(num > 0):    \n",
    "        rem = num%10    \n",
    "        sum = sum + (rem*rem)   \n",
    "        num = num//10   \n",
    "    return sum    \n",
    "\n",
    "#The Happy Number Between\n",
    "print('The Haappy Number Between 1 to 100 :')    \n",
    "for i in range (1,100):\n",
    "    result=i\n",
    "     \n",
    "    while(result != 1 and result != 4):    \n",
    "        result = isHappyNumber(result)    \n",
    "     \n",
    "    #Happy number always ends with 1    \n",
    "    if(result == 1):    \n",
    "        print(i)"
   ]
  },
  {
   "cell_type": "markdown",
   "metadata": {},
   "source": [
    "**5.\tWrite a Python program to determine whether the given number is a Harshad Number?**"
   ]
  },
  {
   "cell_type": "code",
   "execution_count": 6,
   "metadata": {},
   "outputs": [
    {
     "name": "stdout",
     "output_type": "stream",
     "text": [
      "Enter The Number :156\n",
      "156 Is Harshad Number\n"
     ]
    }
   ],
   "source": [
    "num=int(input('Enter The Number :'))\n",
    "remainder=sum=0\n",
    "\n",
    "n=num\n",
    "\n",
    "while (num>0):\n",
    "    remainder = num % 10\n",
    "    sum = sum + remainder\n",
    "    num = num // 10\n",
    "\n",
    "    \n",
    "if (n % sum == 0):\n",
    "    print(str(n),'Is Harshad Number')\n",
    "else:\n",
    "    print(str(n),'Is Not Harshad Number')"
   ]
  },
  {
   "cell_type": "markdown",
   "metadata": {},
   "source": [
    "**6.\tWrite a Python program to print all pronic numbers between 1 and 100?**"
   ]
  },
  {
   "cell_type": "code",
   "execution_count": 7,
   "metadata": {},
   "outputs": [
    {
     "name": "stdout",
     "output_type": "stream",
     "text": [
      "The Pronic Number Between 1-100 : \n",
      "2\n",
      "6\n",
      "12\n",
      "20\n",
      "30\n",
      "42\n",
      "56\n",
      "72\n",
      "90\n"
     ]
    }
   ],
   "source": [
    "def PronicNumber(num):\n",
    "    a=False\n",
    "    \n",
    "    for j in range(1,num+1):\n",
    "        if((j*(j+1)) == num):\n",
    "            a=True\n",
    "            break\n",
    "    return a\n",
    "\n",
    "print('The Pronic Number Between 1-100 : ')\n",
    "for i in range(1,101):\n",
    "    if(PronicNumber(i)):\n",
    "        print(i)\n",
    "            "
   ]
  },
  {
   "cell_type": "code",
   "execution_count": null,
   "metadata": {},
   "outputs": [],
   "source": []
  }
 ],
 "metadata": {
  "kernelspec": {
   "display_name": "Python 3",
   "language": "python",
   "name": "python3"
  },
  "language_info": {
   "codemirror_mode": {
    "name": "ipython",
    "version": 3
   },
   "file_extension": ".py",
   "mimetype": "text/x-python",
   "name": "python",
   "nbconvert_exporter": "python",
   "pygments_lexer": "ipython3",
   "version": "3.8.5"
  }
 },
 "nbformat": 4,
 "nbformat_minor": 4
}
