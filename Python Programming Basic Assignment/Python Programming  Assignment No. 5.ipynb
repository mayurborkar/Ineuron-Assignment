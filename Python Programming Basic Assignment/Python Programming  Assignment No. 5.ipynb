{
 "cells": [
  {
   "cell_type": "markdown",
   "metadata": {},
   "source": [
    "**1.\tWrite a Python Program to Find LCM?**"
   ]
  },
  {
   "cell_type": "code",
   "execution_count": 2,
   "metadata": {},
   "outputs": [
    {
     "name": "stdout",
     "output_type": "stream",
     "text": [
      "Enter The Number : 12\n",
      "Enter The Number : 24\n",
      "24\n"
     ]
    }
   ],
   "source": [
    "#Taking The User Input\n",
    "num1=int(input('Enter The Number : '))\n",
    "num2=int(input('Enter The Number : '))\n",
    "\n",
    "#Checking Which Number Is Greater\n",
    "if (num1 > num2):\n",
    "    max = num1\n",
    "else:\n",
    "    max = num2\n",
    "\n",
    "#Check If The Modules Is Equal to Zero     \n",
    "while(True):\n",
    "    if(max % num1 == 0 and max % num2 ==0):\n",
    "        print(max)\n",
    "        break\n",
    "        \n",
    "    max =max +1"
   ]
  },
  {
   "cell_type": "markdown",
   "metadata": {},
   "source": [
    "**2.\tWrite a Python Program to Find HCF?**"
   ]
  },
  {
   "cell_type": "code",
   "execution_count": 9,
   "metadata": {},
   "outputs": [
    {
     "name": "stdout",
     "output_type": "stream",
     "text": [
      "Enter The Number : 24\n",
      "Enter The Number : 60\n",
      "The HCF of Two Number 24 and 60  is  : 12\n"
     ]
    }
   ],
   "source": [
    "hcf=0\n",
    "#Taking The User Input\n",
    "num1=int(input('Enter The Number : '))\n",
    "num2=int(input('Enter The Number : '))\n",
    "\n",
    "i=1\n",
    "\n",
    "while (i <= num1 and i <= num2):\n",
    "    if((num1 % i ==0) and (num2 % i ==0)):\n",
    "        hcf=i\n",
    "    i = i+1\n",
    "    \n",
    "print('The HCF of Two Number',num1, 'and', num2,' is  : {}'.format(hcf))"
   ]
  },
  {
   "cell_type": "markdown",
   "metadata": {},
   "source": [
    "**3.\tWrite a Python Program to Convert Decimal to Binary, Octal and Hexadecimal?**"
   ]
  },
  {
   "cell_type": "code",
   "execution_count": 11,
   "metadata": {},
   "outputs": [
    {
     "name": "stdout",
     "output_type": "stream",
     "text": [
      "Enter A Number :25\n",
      "The Binary For 25 Is :  0b11001\n",
      "The Octal For 25 Is :  0o31\n",
      "The Hexadecimal For 25 Is :  0x19\n"
     ]
    }
   ],
   "source": [
    "#Taking The User Input\n",
    "number=int(input('Enter A Number :'))\n",
    "\n",
    "print('The Binary For',number,'Is : ',bin(number))\n",
    "\n",
    "print('The Octal For',number,'Is : ',oct(number))\n",
    "\n",
    "print('The Hexadecimal For',number,'Is : ',hex(number))"
   ]
  },
  {
   "cell_type": "markdown",
   "metadata": {},
   "source": [
    "**4.\tWrite a Python Program To Find ASCII value of a character?**"
   ]
  },
  {
   "cell_type": "code",
   "execution_count": 16,
   "metadata": {},
   "outputs": [
    {
     "name": "stdout",
     "output_type": "stream",
     "text": [
      "Enter The Number :&\n",
      "The ASCII Value For & Is : 38\n"
     ]
    }
   ],
   "source": [
    "#Taking The user Input\n",
    "user=input('Enter The Number :')\n",
    "\n",
    "print('The ASCII Value For',user,'Is : {}'.format(ord(user)))"
   ]
  },
  {
   "cell_type": "markdown",
   "metadata": {},
   "source": [
    "**5.\tWrite a Python Program to Make a Simple Calculator with 4 basic mathematical operations?**"
   ]
  },
  {
   "cell_type": "code",
   "execution_count": 17,
   "metadata": {},
   "outputs": [
    {
     "name": "stdout",
     "output_type": "stream",
     "text": [
      "CALCULATOR\n",
      "1.Addition\n",
      "2.Subtraction\n",
      "3.Multiply\n",
      "4.Division\n",
      "Enter The Number : 3\n",
      "Enter A:512\n",
      "Enter B:465\n",
      "Multiply =  238080\n"
     ]
    }
   ],
   "source": [
    "print('CALCULATOR')\n",
    "\n",
    "#Menu\n",
    "print('1.Addition')\n",
    "print('2.Subtraction')\n",
    "print('3.Multiply')\n",
    "print('4.Division')\n",
    "\n",
    "#Enter The Choice From 1 to 4\n",
    "choice=int(input('Enter The Number : '))\n",
    "\n",
    "if choice == 1:\n",
    "    a=int(input(\"Enter A:\"))\n",
    "    b=int(input(\"Enter B:\"))\n",
    "    c=a+b\n",
    "    print(\"Addition = \",c)\n",
    "    \n",
    "elif choice == 2:\n",
    "    a=int(input(\"Enter A:\"))\n",
    "    b=int(input(\"Enter B:\"))\n",
    "    c=a-b\n",
    "    print(\"Subtraction = \",c)\n",
    "    \n",
    "elif choice == 3:\n",
    "    a=int(input(\"Enter A:\"))\n",
    "    b=int(input(\"Enter B:\"))\n",
    "    c=a*b\n",
    "    print(\"Multiply = \",c)\n",
    "    \n",
    "elif choice == 4:\n",
    "    a=int(input(\"Enter A:\"))\n",
    "    b=int(input(\"Enter B:\"))\n",
    "    c=a/b\n",
    "    print(\"Division = \",c)\n",
    "    \n",
    "else:\n",
    "    print('Invalid Choice')"
   ]
  },
  {
   "cell_type": "code",
   "execution_count": null,
   "metadata": {},
   "outputs": [],
   "source": []
  }
 ],
 "metadata": {
  "kernelspec": {
   "display_name": "Python 3",
   "language": "python",
   "name": "python3"
  },
  "language_info": {
   "codemirror_mode": {
    "name": "ipython",
    "version": 3
   },
   "file_extension": ".py",
   "mimetype": "text/x-python",
   "name": "python",
   "nbconvert_exporter": "python",
   "pygments_lexer": "ipython3",
   "version": "3.8.5"
  }
 },
 "nbformat": 4,
 "nbformat_minor": 4
}
