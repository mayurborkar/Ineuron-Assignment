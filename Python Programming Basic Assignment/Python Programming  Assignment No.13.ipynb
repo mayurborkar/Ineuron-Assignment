{
 "cells": [
  {
   "cell_type": "markdown",
   "metadata": {},
   "source": [
    "**Question 1: Write a program that calculates and prints the value according to the given formula:**\n",
    "\n",
    "**Q = Square root of [(2 * C * D)/H]**\n",
    "\n",
    "**Following are the fixed values of C and H: C is 50. H is 30.**\n",
    "\n",
    "**D is the variable whose values should be input to your program in a comma-separated sequence.**\n",
    "\n",
    "Example\n",
    "\n",
    "Let us assume the following comma separated input sequence is given to the program: **100,150,180**\n",
    "\n",
    "The output of the program should be: **18,22,24**\n"
   ]
  },
  {
   "cell_type": "code",
   "execution_count": 3,
   "metadata": {},
   "outputs": [
    {
     "name": "stdout",
     "output_type": "stream",
     "text": [
      "Provide The Valur of D: 100,150,180\n"
     ]
    },
    {
     "data": {
      "text/plain": [
       "[18, 22, 24]"
      ]
     },
     "execution_count": 3,
     "metadata": {},
     "output_type": "execute_result"
    }
   ],
   "source": [
    "#Importing The Package\n",
    "import math\n",
    "\n",
    "#Defining The Function\n",
    "def square_root():\n",
    "    \"\"\"\n",
    "    Thse Function Can Be Used To Findout The Square Root Of Number Which Is Taken From The User\n",
    "    \"\"\"\n",
    "    input_sequence = input(\"Provide The Valur of D: \") #Taking The User Input\n",
    "    \n",
    "    numbers = input_sequence.split(',') #Now Splitting The User Into Comma Seperated Input\n",
    "    \n",
    "    output_list = [] #Creating The Empty List So That We Can Append The Output In It\n",
    "    \n",
    "    for i in numbers: #Iterating Throgh Ecah Number From The User\n",
    "        \n",
    "        Q = round(math.sqrt(2 * 50* int(i) / 30)) #Formula For The Square Root In Which C=50 & H=30 Are Fixed\n",
    "        \n",
    "        output_list.append(Q) #Appending The OOutput In Empty List\n",
    "\n",
    "    return output_list \n",
    "\n",
    "#Calling The Function\n",
    "square_root()"
   ]
  },
  {
   "cell_type": "markdown",
   "metadata": {},
   "source": [
    "**Question 2: Write a program which takes 2 digits, X,Y as input and generates a 2-dimensional array. The element value in the i-th row and j-th column of the array should be i*j.**\n",
    "\n",
    "**Note: i=0,1.., X-1; j=0,1..., Y-1.**\n",
    "\n",
    "Example\n",
    "\n",
    "Suppose the following inputs are given to the program: **3,5**\n",
    "\n",
    "Then, the output of the program should be: **[[0, 0, 0, 0, 0], [0, 1, 2, 3, 4], [0, 2, 4, 6, 8]]** \n"
   ]
  },
  {
   "cell_type": "code",
   "execution_count": 2,
   "metadata": {},
   "outputs": [
    {
     "name": "stdout",
     "output_type": "stream",
     "text": [
      "Enter The 1st Number :3\n",
      "Enter The 2nd Number :5\n"
     ]
    },
    {
     "data": {
      "text/plain": [
       "[[0, 0, 0, 0, 0], [0, 1, 2, 3, 4], [0, 2, 4, 6, 8]]"
      ]
     },
     "execution_count": 2,
     "metadata": {},
     "output_type": "execute_result"
    }
   ],
   "source": [
    "def array_2D():\n",
    "    \"\"\"\n",
    "    Thse Function Can Be Use For Creating The 2D Array.\n",
    "    In Which The Row & Column Value Taking From The User\n",
    "    \"\"\"\n",
    "    X=int(input('Enter The 1st Number :')) #User Input For Row\n",
    "    \n",
    "    Y=int(input('Enter The 2nd Number :')) #User Input For Column\n",
    "    \n",
    "    array = [[0 for j in range(Y)] for i in range(X)] #Creating The Empty Array Such As [[Column][Row]]\n",
    "    \n",
    "    for i in range(X): #Iterating Through The Row\n",
    "        \n",
    "        for j in range(Y): #Itearting Through The Column\n",
    "            \n",
    "            array[i][j] = i*j #Creating The Array Row*Column\n",
    "            \n",
    "    return array\n",
    "\n",
    "#Calling The Function\n",
    "array_2D()"
   ]
  },
  {
   "cell_type": "markdown",
   "metadata": {},
   "source": [
    "**Question 3: Write a program that accepts a comma separated sequence of words as input and prints the words in a comma-separated sequence after sorting them alphabetically.**\n",
    "\n",
    "Suppose the following input is supplied to the program: **without,hello,bag,world**\n",
    "\n",
    "Then, the output should be: **bag,hello,without,world**\n"
   ]
  },
  {
   "cell_type": "code",
   "execution_count": 10,
   "metadata": {},
   "outputs": [
    {
     "name": "stdout",
     "output_type": "stream",
     "text": [
      "Enter The Comma Separated Sequence of Words : without,hello,bag,world\n",
      "bag,hello,without,world\n"
     ]
    }
   ],
   "source": [
    "#Enter The Uer Input String\n",
    "items = input(\"Enter The Comma Separated Sequence of Words : \")\n",
    "\n",
    "#Create The Empty List\n",
    "words = []\n",
    "\n",
    "#Itreating Through Every Uer Input\n",
    "for i in items.split(','):\n",
    "    \n",
    "    words.append(i)\n",
    "\n",
    "#Printing The Output\n",
    "print(\",\".join(sorted(list(set(words)))))"
   ]
  },
  {
   "cell_type": "markdown",
   "metadata": {},
   "source": [
    "**Question 4: Write a program that accepts a sequence of whitespace separated words as input and prints the words after removing all duplicate words and sorting them alphanumerically.**\n",
    "\n",
    "Suppose the following input is supplied to the program: **hello world and practice makes perfect and hello world again**\n",
    "\n",
    "Then, the output should be: **again and hello makes perfect practice world**\n"
   ]
  },
  {
   "cell_type": "code",
   "execution_count": 24,
   "metadata": {},
   "outputs": [
    {
     "name": "stdout",
     "output_type": "stream",
     "text": [
      "Enter The Phrase : hello world and practice makes perfect and hello world again\n",
      "The Output Will Be :  again and hello makes perfect practice world\n"
     ]
    }
   ],
   "source": [
    "#Defining The Function\n",
    "def duplicate_sort():\n",
    "    \"\"\"\n",
    "    These Function Can Be Used To Sorting And Removing The Duplicate Word\n",
    "    \"\"\"\n",
    "    sentence = input('Enter The Phrase : ') #Taking The User Input\n",
    "    \n",
    "    split = sentence.split(' ') #Splitting Up The User Input\n",
    "    \n",
    "    empty_list = [] #Creating The Empty List\n",
    "    \n",
    "    for i in split: #Iterating Through Each Word From User Input\n",
    "        \n",
    "        if i not in empty_list: #Checking The COndition \n",
    "            \n",
    "            empty_list.append(i) #Appending In The Empty List\n",
    "            \n",
    "        else:\n",
    "            \n",
    "            continue \n",
    "            \n",
    "    print('The Output Will Be : ',(\" \").join(sorted(empty_list)))\n",
    "\n",
    "#Calling The Function\n",
    "duplicate_sort()"
   ]
  },
  {
   "cell_type": "markdown",
   "metadata": {},
   "source": [
    "**Question 5: Write a program that accepts a sentence and calculate the number of letters and digits.**\n",
    "\n",
    "Suppose the following input is supplied to the program: **hello world! 123**\n",
    "\n",
    "Then, the output should be:\n",
    "\n",
    "**LETTERS 10**\n",
    "\n",
    "**DIGITS 3**\n"
   ]
  },
  {
   "cell_type": "code",
   "execution_count": 30,
   "metadata": {},
   "outputs": [
    {
     "name": "stdout",
     "output_type": "stream",
     "text": [
      "Enter The Input : hello world! 123\n",
      "LETTER :  10\n",
      "DIGITS :  3\n"
     ]
    }
   ],
   "source": [
    "#Defining The Function\n",
    "def letter_digit():\n",
    "    \n",
    "    user = input('Enter The Input : ') #Enter The User Input\n",
    "    \n",
    "    digit = 0 #Consider The Digit Variable\n",
    "    \n",
    "    word =0 #Consider The Word Variable\n",
    "    \n",
    "    for i in user: #Iterating Through The User\n",
    "        \n",
    "        if i.isdigit(): #Condition Checking Whether It Is Digit or Not\n",
    "            \n",
    "            digit = digit + 1\n",
    "            \n",
    "        elif i.isalpha(): #Condition Checking Whether It Is Word or Not\n",
    "            \n",
    "            word = word + 1\n",
    "            \n",
    "        else:\n",
    "            \n",
    "            pass\n",
    "        \n",
    "    print('LETTER : ',word)\n",
    "    print('DIGITS : ',digit)    \n",
    "\n",
    "#Calling The Function\n",
    "letter_digit()"
   ]
  },
  {
   "cell_type": "markdown",
   "metadata": {},
   "source": [
    "**Question 6: A website requires the users to input username and password to register. Write a program to check the validity of password input by users.**\n",
    "\n",
    "Following are the criteria for checking the password:\n",
    "\n",
    "1. At least 1 letter between [a-z]\n",
    "\n",
    "2. At least 1 number between [0-9]\n",
    "\n",
    "1. At least 1 letter between [A-Z]\n",
    "\n",
    "3. At least 1 character from [$#@]\n",
    "\n",
    "4. Minimum length of transaction password: 6\n",
    "\n",
    "5. Maximum length of transaction password: 12\n",
    "\n",
    "Your program should accept a sequence of comma separated passwords and will check them according to the above criteria. Passwords that match the criteria are to be printed, each separated by a comma.\n",
    "\n",
    "Example\n",
    "\n",
    "If the following passwords are given as input to the program: ABd1234@1,a F1#,2w3E*,2We3345\n",
    "\n",
    "Then, the output of the program should be: ABd1234@1\n"
   ]
  },
  {
   "cell_type": "code",
   "execution_count": 32,
   "metadata": {},
   "outputs": [
    {
     "name": "stdout",
     "output_type": "stream",
     "text": [
      "Enter The Username : mayurborkar123\n",
      "Enter The Password : ABd1234@1,a F1#,2w3E*,2We3345\n",
      "ABd1234@1\n"
     ]
    }
   ],
   "source": [
    "import re\n",
    "\n",
    "username = input('Enter The Username : ')\n",
    "\n",
    "password = input('Enter The Password : ')\n",
    "\n",
    "passwords = password.split(\",\")\n",
    "\n",
    "accept_password = []\n",
    "\n",
    "for i in passwords:\n",
    "    \n",
    "    if len(i) < 6 and len(i) > 12:\n",
    "        continue\n",
    "    elif not re.search(\"([a-z])+\",i):\n",
    "        continue\n",
    "    elif not re.search(\"([A-Z])+\",i):\n",
    "        continue\n",
    "    elif not re.search(\"([0-9])+\",i):\n",
    "        continue\n",
    "    elif not re.search(\"([!@$%^&])+\", i):\n",
    "        continue\n",
    "    else:\n",
    "        accept_password.append(i)\n",
    "        \n",
    "print((\",\").join(accept_password))"
   ]
  },
  {
   "cell_type": "code",
   "execution_count": null,
   "metadata": {},
   "outputs": [],
   "source": []
  },
  {
   "cell_type": "code",
   "execution_count": null,
   "metadata": {},
   "outputs": [],
   "source": []
  },
  {
   "cell_type": "code",
   "execution_count": null,
   "metadata": {},
   "outputs": [],
   "source": []
  },
  {
   "cell_type": "code",
   "execution_count": null,
   "metadata": {},
   "outputs": [],
   "source": []
  }
 ],
 "metadata": {
  "kernelspec": {
   "display_name": "Python 3",
   "language": "python",
   "name": "python3"
  },
  "language_info": {
   "codemirror_mode": {
    "name": "ipython",
    "version": 3
   },
   "file_extension": ".py",
   "mimetype": "text/x-python",
   "name": "python",
   "nbconvert_exporter": "python",
   "pygments_lexer": "ipython3",
   "version": "3.8.5"
  }
 },
 "nbformat": 4,
 "nbformat_minor": 4
}
