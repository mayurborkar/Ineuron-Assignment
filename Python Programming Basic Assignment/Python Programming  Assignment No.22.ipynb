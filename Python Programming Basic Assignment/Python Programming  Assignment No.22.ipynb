{
 "cells": [
  {
   "cell_type": "markdown",
   "metadata": {},
   "source": [
    "**Question1. Create a function that takes three parameters where:**\n",
    "\n",
    "•\tx is the start of the range (inclusive).\n",
    "\n",
    "•\ty is the end of the range (inclusive).\n",
    "\n",
    "•\tn is the divisor to be checked against.\n",
    "\n",
    "**Return an ordered list with numbers in the range that are divisible by the third parameter n. Return an empty list if there are no numbers that are divisible by n.**\n",
    "\n",
    "Examples\n",
    "\n",
    "list_operation(1, 10, 3) ➞ **[3, 6, 9]**\n",
    "\n",
    "list_operation(7, 9, 2) ➞ **[8]**\n",
    "\n",
    "list_operation(15, 20, 7) ➞ **[]**\n"
   ]
  },
  {
   "cell_type": "code",
   "execution_count": 1,
   "metadata": {},
   "outputs": [
    {
     "name": "stdout",
     "output_type": "stream",
     "text": [
      "[3, 6, 9]\n",
      "------------------------------\n",
      "[8]\n",
      "------------------------------\n",
      "[]\n",
      "------------------------------\n"
     ]
    }
   ],
   "source": [
    "class Order:\n",
    "    def __init__(self,X,Y,N):\n",
    "        self.X = X\n",
    "        self.Y = Y\n",
    "        self.N = N\n",
    "        \n",
    "    def list_operation(self):\n",
    "        try:  \n",
    "            final = []\n",
    "            for i in range (self.X,self.Y):\n",
    "                if (i % self.N == 0):\n",
    "                    final.append(i)\n",
    "            return final\n",
    "        \n",
    "        except Exception as e:\n",
    "            print(e)\n",
    "            \n",
    "    def __str__(self):\n",
    "        \n",
    "        return 'The Given Function Is Written Inside Class & Can Be Used For The List Operation.'\n",
    "    \n",
    "#Calling Class\n",
    "o = Order(1, 10, 3)\n",
    "print(o.list_operation())\n",
    "print('---'*10)\n",
    "\n",
    "o = Order(7, 9, 2)\n",
    "print(o.list_operation())\n",
    "print('---'*10)\n",
    "\n",
    "o = Order(15, 20, 7)\n",
    "print(o.list_operation())\n",
    "print('---'*10)"
   ]
  },
  {
   "cell_type": "markdown",
   "metadata": {},
   "source": [
    "**Question2. Create a function that takes in two lists and returns True if the second list follows the first list by one element, and False otherwise. In other words, determine if the second list is the first list shifted to the right by 1.**\n",
    "\n",
    "Examples\n",
    "\n",
    "simon_says([1, 2], [5, 1]) ➞ **True**\n",
    "\n",
    "simon_says([1, 2], [5, 5]) ➞ **False**\n",
    "\n",
    "simon_says([1, 2, 3, 4, 5], [0, 1, 2, 3, 4]) ➞ **True**\n",
    "\n",
    "simon_says([1, 2, 3, 4, 5], [5, 5, 1, 2, 3]) ➞ **False**\n",
    "\n",
    "**Notes**\n",
    "\n",
    "•\tBoth input lists will be of the same length, and will have a minimum length of 2.\n",
    "•\tThe values of the 0-indexed element in the second list and the n-1th indexed element in the first list do not matter.\n"
   ]
  },
  {
   "cell_type": "code",
   "execution_count": 2,
   "metadata": {},
   "outputs": [
    {
     "name": "stdout",
     "output_type": "stream",
     "text": [
      "True\n",
      "------------------------------\n",
      "False\n",
      "------------------------------\n",
      "True\n",
      "------------------------------\n",
      "True\n",
      "------------------------------\n"
     ]
    }
   ],
   "source": [
    "class Checking:\n",
    "    \n",
    "    def __init__(self,list1,list2):\n",
    "        self.list1 = list1\n",
    "        self.list2 = list2\n",
    "        \n",
    "    def list_contains(self):\n",
    "        try:\n",
    "            check = False\n",
    "\n",
    "            for i in self.list1[:-1]: \n",
    "                for j in self.list2[1:]: \n",
    "\n",
    "                    if i == j: \n",
    "                        check = True\n",
    "                        return check  \n",
    "\n",
    "            return check\n",
    "        \n",
    "        except Exception as e:\n",
    "            print(e)\n",
    "            \n",
    "    def __str__(self):\n",
    "        \n",
    "        return 'The Given Function Is Written Inside Class & Can Be Used For Chcecking The Element From Both The List.'\n",
    "    \n",
    "#Calling Class\n",
    "c = Checking([1, 2], [5, 1])\n",
    "print(c.list_contains())\n",
    "print('---'*10)\n",
    "\n",
    "c = Checking([1, 2], [5, 5])\n",
    "print(c.list_contains())\n",
    "print('---'*10)\n",
    "\n",
    "c = Checking([1, 2, 3, 4, 5], [0, 1, 2, 3, 4])\n",
    "print(c.list_contains())\n",
    "print('---'*10)\n",
    "\n",
    "c = Checking([1, 2, 3, 4, 5], [5, 5, 1, 2, 3])\n",
    "print(c.list_contains())\n",
    "print('---'*10)\n"
   ]
  },
  {
   "cell_type": "markdown",
   "metadata": {},
   "source": [
    "**Question3. A group of friends have decided to start a secret society. The name will be the first letter of each of their names, sorted in alphabetical order.Create a function that takes in a list of names and returns the name of the secret society.**\n",
    "\n",
    "Examples\n",
    "\n",
    "society_name([\"Adam\", \"Sarah\", \"Malcolm\"]) ➞ **\"AMS\"**\n",
    "\n",
    "society_name([\"Harry\", \"Newt\", \"Luna\", \"Cho\"]) ➞ **\"CHLN\"**\n",
    "\n",
    "society_name([\"Phoebe\", \"Chandler\", \"Rachel\", \"Ross\", \"Monica\", \"Joey\"]) ➞ **\"CJMPRR\"**\n"
   ]
  },
  {
   "cell_type": "code",
   "execution_count": 3,
   "metadata": {},
   "outputs": [
    {
     "data": {
      "text/plain": [
       "'AMS'"
      ]
     },
     "execution_count": 3,
     "metadata": {},
     "output_type": "execute_result"
    }
   ],
   "source": [
    "class Society:\n",
    "    def __init__(self,string):\n",
    "        self.string = string\n",
    "\n",
    "    def society_name(self):\n",
    "        try: \n",
    "            result = \"\"\n",
    "            for i in range(len(self.string)):\n",
    "                if self.string[i].upper():\n",
    "                    result += (self.string[i][0])\n",
    "                    a = ''.join(sorted(result))\n",
    "\n",
    "            return a\n",
    "\n",
    "        except Exception as e:\n",
    "            print(e)\n",
    "\n",
    "    def __str__(self):\n",
    "\n",
    "        return 'The Given Function Is Written Inside Class & Can Be Used For Taking The frist Name of Each String That We are pass.'\n",
    "\n",
    "\n",
    "#Calling Class\n",
    "s = Society([\"Adam\", \"Sarah\", \"Malcolm\"])\n",
    "s.society_name()"
   ]
  },
  {
   "cell_type": "markdown",
   "metadata": {},
   "source": [
    "**Question4. An isogram is a word that has no duplicate letters. Create a function that takes a string and returns either True or False depending on whether or not it's an \"isogram\".**\n",
    "\n",
    "Examples\n",
    "\n",
    "is_isogram(\"Algorism\") ➞ **True**\n",
    "\n",
    "is_isogram(\"PasSword\") ➞ **False**\n",
    "\n",
    "**Not case sensitive.**\n",
    "\n",
    "is_isogram(\"Consecutive\") ➞ **False**\n",
    "\n",
    "**Notes**\n",
    "\n",
    "•\tIgnore letter case (should not be case sensitive).\n",
    "\n",
    "•\tAll test cases contain valid one word strings.\n"
   ]
  },
  {
   "cell_type": "code",
   "execution_count": 4,
   "metadata": {},
   "outputs": [
    {
     "name": "stdout",
     "output_type": "stream",
     "text": [
      "True\n",
      "------------------------------\n",
      "False\n",
      "------------------------------\n",
      "False\n",
      "------------------------------\n"
     ]
    }
   ],
   "source": [
    "class Isogram:\n",
    "    def __init__(self,string):\n",
    "        self.string = string\n",
    "        \n",
    "    def is_isogram(self):\n",
    "        try:\n",
    "            clean = self.string.lower()\n",
    "            output = []\n",
    "            for i in clean:\n",
    "                if i.isalpha():\n",
    "                    if i in output:\n",
    "                        return False\n",
    "                    output.append(i)\n",
    "            return  True\n",
    "\n",
    "        except Exception as e:\n",
    "            print(e)\n",
    "\n",
    "    def __str__(self):\n",
    "\n",
    "        return 'The Given Function Is Written Inside Class & Can Be Used For Checking The Word Is Isogram or Not.'\n",
    "    \n",
    "#Calling Class\n",
    "I = Isogram('Algorism')\n",
    "print(I.is_isogram())\n",
    "print('---'*10)\n",
    "\n",
    "I = Isogram('PasSword')\n",
    "print(I.is_isogram())\n",
    "print('---'*10)\n",
    "\n",
    "I = Isogram('Consecutive')\n",
    "print(I.is_isogram())\n",
    "print('---'*10)"
   ]
  },
  {
   "cell_type": "markdown",
   "metadata": {},
   "source": [
    "**Question5. Create a function that takes a string and returns True or False, depending on whether the characters are in order or not.**\n",
    "\n",
    "Examples\n",
    "\n",
    "is_in_order(\"abc\") ➞ **True**\n",
    "\n",
    "is_in_order(\"edabit\") ➞ **False**\n",
    "\n",
    "is_in_order(\"123\") ➞ **True**\n",
    "\n",
    "is_in_order(\"xyzz\") ➞ **True**\n"
   ]
  },
  {
   "cell_type": "code",
   "execution_count": 5,
   "metadata": {},
   "outputs": [
    {
     "name": "stdout",
     "output_type": "stream",
     "text": [
      "True\n",
      "------------------------------\n",
      "False\n",
      "------------------------------\n",
      "True\n",
      "------------------------------\n",
      "True\n",
      "------------------------------\n"
     ]
    }
   ],
   "source": [
    "class Order:\n",
    "    def __init__(self,string):\n",
    "        self.string = string\n",
    "\n",
    "    def is_in_order(self):\n",
    "        try:\n",
    "            n = len(self.string)\n",
    "            \n",
    "            c = [self.string [i] for i in range(len(self.string))]\n",
    "            \n",
    "            c.sort(reverse = False)\n",
    "            \n",
    "            for i in range(n):\n",
    "                \n",
    "                if (c[i] != self.string [i]):\n",
    "                    \n",
    "                    return False\n",
    "         \n",
    "            return True\n",
    "        \n",
    "        except Exception as e:\n",
    "            print(e)         \n",
    "\n",
    "    def __str__(self):\n",
    "\n",
    "        return 'The Given Function Is Written Inside Class & Can Be Used For Checking The Word Are In Order or Not.'\n",
    "    \n",
    "#Calling Class\n",
    "o = Order('abc')\n",
    "print(o.is_in_order())\n",
    "print('---'*10)\n",
    "\n",
    "o = Order('edabit')\n",
    "print(o.is_in_order())\n",
    "print('---'*10)\n",
    "\n",
    "o = Order('123')\n",
    "print(o.is_in_order())\n",
    "print('---'*10)\n",
    "\n",
    "o = Order('xyzz')\n",
    "print(o.is_in_order())\n",
    "print('---'*10)"
   ]
  },
  {
   "cell_type": "code",
   "execution_count": null,
   "metadata": {},
   "outputs": [],
   "source": []
  }
 ],
 "metadata": {
  "kernelspec": {
   "display_name": "Python 3",
   "language": "python",
   "name": "python3"
  },
  "language_info": {
   "codemirror_mode": {
    "name": "ipython",
    "version": 3
   },
   "file_extension": ".py",
   "mimetype": "text/x-python",
   "name": "python",
   "nbconvert_exporter": "python",
   "pygments_lexer": "ipython3",
   "version": "3.8.5"
  }
 },
 "nbformat": 4,
 "nbformat_minor": 4
}
