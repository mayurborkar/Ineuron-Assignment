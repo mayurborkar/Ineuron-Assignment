{
 "cells": [
  {
   "cell_type": "markdown",
   "metadata": {},
   "source": [
    "**Question1. Create a function that takes a string and returns a string in which each character is repeated once.**\n",
    "\n",
    "Examples\n",
    "\n",
    "double_char(\"String\") ➞ **\"SSttrriinngg\"**\n",
    "\n",
    "double_char(\"Hello World!\") ➞ **\"HHeelllloo  WWoorrlldd!!\"**\n",
    "\n",
    "double_char(\"1234!_ \") ➞ **\"11223344!!__  \"**\n",
    "\n"
   ]
  },
  {
   "cell_type": "code",
   "execution_count": 1,
   "metadata": {},
   "outputs": [
    {
     "name": "stdout",
     "output_type": "stream",
     "text": [
      "SSttrriinngg\n",
      "------------------------------\n",
      "HHeelllloo  WWoorrlldd\n",
      "------------------------------\n",
      "11223344!!__\n",
      "------------------------------\n"
     ]
    }
   ],
   "source": [
    "import re\n",
    "class Repeated:\n",
    "    def __init__(self,string,n):\n",
    "        self.string = string\n",
    "        self.n = n\n",
    "        \n",
    "    def repeate_char(self):\n",
    "        new_string=re.sub('(.)',r'\\1' * self.n, self.string)\n",
    "        return new_string\n",
    "    \n",
    "    def __str__(self):\n",
    "        return 'The Function Is Written In The Class & Can Be Used For To Repeat Each Char In String'\n",
    "    \n",
    "#Calling The Class\n",
    "string='String'\n",
    "n=2\n",
    "r=Repeated(string,n)\n",
    "print(r.repeate_char())\n",
    "print('---'*10)\n",
    "\n",
    "string='Hello World'\n",
    "n=2\n",
    "r=Repeated(string,n)\n",
    "print(r.repeate_char())\n",
    "print('---'*10)\n",
    "\n",
    "string='1234!_'\n",
    "n=2\n",
    "r=Repeated(string,n)\n",
    "print(r.repeate_char())\n",
    "print('---'*10)\n"
   ]
  },
  {
   "cell_type": "markdown",
   "metadata": {},
   "source": [
    "**Question2. Create a function that reverses a boolean value and returns the string \"boolean expected\" if another variable type is given.**\n",
    "\n",
    "Examples\n",
    "\n",
    "reverse(True) ➞ **False**\n",
    "\n",
    "reverse(False) ➞ **True**\n",
    "\n",
    "reverse(0) ➞ **\"boolean expected\"**\n",
    "\n",
    "reverse(None) ➞ **\"boolean expected\"**\n"
   ]
  },
  {
   "cell_type": "code",
   "execution_count": 2,
   "metadata": {},
   "outputs": [
    {
     "name": "stdout",
     "output_type": "stream",
     "text": [
      "False\n",
      "------------------------------\n",
      "True\n",
      "------------------------------\n",
      "boolean expected\n",
      "------------------------------\n",
      "boolean expected\n",
      "------------------------------\n"
     ]
    }
   ],
   "source": [
    "class Reverse:\n",
    "    def __init__(self,user):\n",
    "        self.user = user\n",
    "        \n",
    "    def reverse(self):\n",
    "        try:\n",
    "            if type(self.user) == bool:\n",
    "                if self.user == True:\n",
    "                    print('False')\n",
    "                else:\n",
    "                    print('True')\n",
    "            else:\n",
    "                print('boolean expected')\n",
    "                \n",
    "        except Exception as e:\n",
    "            print(e)\n",
    "            \n",
    "    def __str__(self):\n",
    "        return 'The Function Is Written Under The Class & Can Be Used For To Reverse The Boolean Value'\n",
    "    \n",
    "user=True\n",
    "r=Reverse(user)\n",
    "r.reverse()\n",
    "print('---'*10)\n",
    "\n",
    "user=False\n",
    "r=Reverse(user)\n",
    "r.reverse()\n",
    "print('---'*10)\n",
    "\n",
    "user=None\n",
    "r=Reverse(user)\n",
    "r.reverse()\n",
    "print('---'*10)\n",
    "\n",
    "user=0\n",
    "r=Reverse(user)\n",
    "r.reverse()\n",
    "print('---'*10)"
   ]
  },
  {
   "cell_type": "markdown",
   "metadata": {},
   "source": [
    "**Question3. Create a function that returns the thickness (in meters) of a piece of paper after folding it n number of times. The paper starts off with a thickness of 0.5mm.**\n",
    "\n",
    "Examples\n",
    "\n",
    "num_layers(1) ➞ **\"0.001m\"**\n",
    "\n",
    "**Paper folded once is 1mm (equal to 0.001m)**\n",
    "\n",
    "num_layers(4) ➞ **\"0.008m\"**\n",
    "\n",
    "**Paper folded 4 times is 8mm (equal to 0.008m)**\n",
    "\n",
    "num_layers(21) ➞ **\"1048.576m\"**\n",
    "\n",
    "**Paper folded 21 times is 1048576mm (equal to 1048.576m)**\n"
   ]
  },
  {
   "cell_type": "code",
   "execution_count": 3,
   "metadata": {},
   "outputs": [
    {
     "name": "stdout",
     "output_type": "stream",
     "text": [
      "0.001\n",
      "--------------------\n",
      "0.008\n",
      "--------------------\n",
      "1048.576\n",
      "--------------------\n"
     ]
    }
   ],
   "source": [
    "class Paper_Fold:\n",
    "    def __init__(self,fold):\n",
    "        self.fold = fold\n",
    "        \n",
    "    def num_layers(self):\n",
    "        try:\n",
    "            thickness = 0.5\n",
    "            for i in range(self.fold):\n",
    "                thickness *= 2\n",
    "\n",
    "            return thickness/1000\n",
    "        \n",
    "        except Exception as e:\n",
    "            print(e)\n",
    "            \n",
    "    def __str__(self):\n",
    "        return 'The Function Is Written Under The Class & Can Be Used To Find out The Thickness of Paper Based On Their Fold' \n",
    "    \n",
    "fold=1\n",
    "p=Paper_Fold(fold)\n",
    "print(p.num_layers())\n",
    "print('--'*10)\n",
    "\n",
    "fold=4\n",
    "p=Paper_Fold(fold)\n",
    "print(p.num_layers())\n",
    "print('--'*10)\n",
    "\n",
    "  \n",
    "fold=21\n",
    "p=Paper_Fold(fold)\n",
    "print(p.num_layers())\n",
    "print('--'*10)"
   ]
  },
  {
   "cell_type": "markdown",
   "metadata": {},
   "source": [
    "**Question4. Create a function that takes a single string as argument and returns an ordered list containing the indices of all capital letters in the string.**\n",
    "\n",
    "Examples\n",
    "\n",
    "index_of_caps(\"eDaBiT\") ➞ **[1, 3, 5]**\n",
    "\n",
    "index_of_caps(\"eQuINoX\") ➞ **[1, 3, 4, 6]**\n",
    "\n",
    "index_of_caps(\"determine\") ➞ **[]**\n",
    "\n",
    "index_of_caps(\"STRIKE\") ➞ **[0, 1, 2, 3, 4, 5]**\n",
    "\n",
    "index_of_caps(\"sUn\") ➞ **[1]**\n"
   ]
  },
  {
   "cell_type": "code",
   "execution_count": 4,
   "metadata": {},
   "outputs": [
    {
     "name": "stdout",
     "output_type": "stream",
     "text": [
      "[1, 3, 5]\n",
      "------------------------------\n",
      "[1, 3, 4, 6]\n",
      "------------------------------\n",
      "[]\n",
      "------------------------------\n",
      "[0, 1, 2, 3, 4, 5]\n",
      "------------------------------\n",
      "[1]\n",
      "------------------------------\n"
     ]
    }
   ],
   "source": [
    "class Capsital:\n",
    "    def __init__(self,user):\n",
    "        self.user =user\n",
    "\n",
    "    def index_of_caps(self):\n",
    "        try:\n",
    "            lis=[]\n",
    "            for i in range(len(self.user)):\n",
    "                if self.user[i].isupper():\n",
    "                    lis.append(i)\n",
    "            print(lis)\n",
    "\n",
    "        except Exception as e:\n",
    "            print(e)\n",
    "\n",
    "    def __str__(self):\n",
    "        return 'These Function Is Written Under The Class & Can Be Used To Return Index of Capital Letter From String'\n",
    "    \n",
    "    \n",
    "user='eDaBiT'\n",
    "c=Capsital(user)\n",
    "c.index_of_caps()\n",
    "print('---'*10)\n",
    "\n",
    "user='eQuINoX'\n",
    "c=Capsital(user)\n",
    "c.index_of_caps()\n",
    "print('---'*10)\n",
    "\n",
    "user='determine'\n",
    "c=Capsital(user)\n",
    "c.index_of_caps()\n",
    "print('---'*10)\n",
    "\n",
    "user='STRIKE'\n",
    "c=Capsital(user)\n",
    "c.index_of_caps()\n",
    "print('---'*10)\n",
    "\n",
    "user='sUn'\n",
    "c=Capsital(user)\n",
    "c.index_of_caps()\n",
    "print('---'*10)"
   ]
  },
  {
   "cell_type": "markdown",
   "metadata": {},
   "source": [
    "**Question5. Using list comprehensions, create a function that finds all even numbers from 1 to the given number.**\n",
    "\n",
    "Examples\n",
    "\n",
    "find_even_nums(8) ➞ **[2, 4, 6, 8]**\n",
    "\n",
    "find_even_nums(4) ➞ **[2, 4]**\n",
    "\n",
    "find_even_nums(2) ➞ **[2]**\n"
   ]
  },
  {
   "cell_type": "code",
   "execution_count": 5,
   "metadata": {},
   "outputs": [
    {
     "name": "stdout",
     "output_type": "stream",
     "text": [
      "[2, 4, 6, 8]\n",
      "------------------------------\n",
      "[2, 4]\n",
      "------------------------------\n",
      "[2]\n",
      "------------------------------\n"
     ]
    }
   ],
   "source": [
    "class Comprenensions:\n",
    "    def __init__(self,num):\n",
    "        self.num = num \n",
    "\n",
    "    def even_nummber(self):\n",
    "        try: \n",
    "            lis = [i for i in range(1,self.num+1) if (i % 2 ==0)]\n",
    "            return lis\n",
    "\n",
    "        except Exception as e:\n",
    "            print(e)\n",
    "\n",
    "    def __str__(self):\n",
    "\n",
    "        return 'The Function Is Written Inside The Class & Can Be Used For Find Out Even Number With Help of List Comprenensions'\n",
    "\n",
    "    \n",
    "num = 8\n",
    "c = Comprenensions(num)\n",
    "print(c.even_nummber())\n",
    "print('---'*10)\n",
    "\n",
    "num = 4\n",
    "c = Comprenensions(num)\n",
    "print(c.even_nummber())\n",
    "print('---'*10)\n",
    "\n",
    "num = 2\n",
    "c = Comprenensions(num)\n",
    "print(c.even_nummber())\n",
    "print('---'*10)"
   ]
  },
  {
   "cell_type": "code",
   "execution_count": null,
   "metadata": {},
   "outputs": [],
   "source": []
  }
 ],
 "metadata": {
  "kernelspec": {
   "display_name": "Python 3",
   "language": "python",
   "name": "python3"
  },
  "language_info": {
   "codemirror_mode": {
    "name": "ipython",
    "version": 3
   },
   "file_extension": ".py",
   "mimetype": "text/x-python",
   "name": "python",
   "nbconvert_exporter": "python",
   "pygments_lexer": "ipython3",
   "version": "3.8.5"
  }
 },
 "nbformat": 4,
 "nbformat_minor": 4
}
