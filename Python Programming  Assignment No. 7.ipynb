{
 "cells": [
  {
   "cell_type": "markdown",
   "metadata": {},
   "source": [
    "**1.\tWrite a Python Program to find sum of array?**"
   ]
  },
  {
   "cell_type": "code",
   "execution_count": 7,
   "metadata": {},
   "outputs": [
    {
     "name": "stdout",
     "output_type": "stream",
     "text": [
      "55\n"
     ]
    }
   ],
   "source": [
    "#Initiliaze The Array\n",
    "array=[1,2,3,4,5,6,7,8,9,10]\n",
    "\n",
    "#Deciding The Some Element 1st\n",
    "sum=0\n",
    "\n",
    "#Applying For loop For Iterrating Each Loop\n",
    "for i in range(0,len(array)):\n",
    "    sum = sum + array[i]\n",
    "    \n",
    "print(sum)"
   ]
  },
  {
   "cell_type": "markdown",
   "metadata": {},
   "source": [
    "**2.\tWrite a Python Program to find largest element in an array?**"
   ]
  },
  {
   "cell_type": "code",
   "execution_count": 10,
   "metadata": {},
   "outputs": [
    {
     "name": "stdout",
     "output_type": "stream",
     "text": [
      "The Maximum Number Between Array Is :  191345\n"
     ]
    }
   ],
   "source": [
    "#Initiliaze The Array\n",
    "array=[1123,3456,5789,7123,9456,11789,13123,15456,17789,191345]\n",
    "\n",
    "#Deciding Some Element\n",
    "max=array[0]\n",
    "\n",
    "#Applying For Loop For Iterating Each Element\n",
    "for i in range(0,len(array)):\n",
    "    if (array[i]>max):\n",
    "        max=array[i]\n",
    "        \n",
    "print('The Maximum Number Between Array Is : ',max)"
   ]
  },
  {
   "cell_type": "markdown",
   "metadata": {},
   "source": [
    "**3.\tWrite a Python Program for array rotation?**"
   ]
  },
  {
   "cell_type": "code",
   "execution_count": 18,
   "metadata": {},
   "outputs": [
    {
     "name": "stdout",
     "output_type": "stream",
     "text": [
      "The Orginal Array :\n",
      "1\n",
      "2\n",
      "3\n",
      "4\n",
      "5\n",
      "6\n",
      "7\n",
      "8\n",
      "9\n",
      "\n",
      "The Array After Rotation :\n",
      "6\n",
      "7\n",
      "8\n",
      "9\n",
      "1\n",
      "2\n",
      "3\n",
      "4\n",
      "5\n"
     ]
    }
   ],
   "source": [
    "#Right  Rotation\n",
    "#Initiliaze The Array\n",
    "array=[1,2,3,4,5,6,7,8,9]\n",
    "\n",
    "#How Many Times You Want To Rotate\n",
    "n=4\n",
    "\n",
    "#Display The Orginial Array\n",
    "print('The Orginal Array :')\n",
    "for i in range(0,len(array)):\n",
    "    print(array[i])\n",
    "    \n",
    "#Rotate The Array N times toward Right\n",
    "for i in range(0,n):\n",
    "    last=array[len(array)-1]\n",
    "    \n",
    "    for j in range(len(array)-1,-1,-1):\n",
    "        array[j]=array[j-1]\n",
    "        #print(array[j])\n",
    "    \n",
    "    #Last Element of array should start with frist element\n",
    "    array[0]=last\n",
    "    \n",
    "print()\n",
    "    \n",
    "print('The Array After Rotation :')\n",
    "for i in range(0,len(array)):\n",
    "    print(array[i])"
   ]
  },
  {
   "cell_type": "code",
   "execution_count": 20,
   "metadata": {},
   "outputs": [
    {
     "name": "stdout",
     "output_type": "stream",
     "text": [
      "The Orginal Array :\n",
      "1\n",
      "2\n",
      "3\n",
      "4\n",
      "5\n",
      "6\n",
      "7\n",
      "8\n",
      "9\n",
      "\n",
      "The Array After Rotation :\n",
      "5\n",
      "6\n",
      "7\n",
      "8\n",
      "9\n",
      "1\n",
      "2\n",
      "3\n",
      "4\n"
     ]
    }
   ],
   "source": [
    "#Left Rotation\n",
    "#Initiliaze The Array\n",
    "array=[1,2,3,4,5,6,7,8,9]\n",
    "\n",
    "#How Many Times You Want To Rotate\n",
    "n=4\n",
    "\n",
    "#Display The Orginial Array\n",
    "print('The Orginal Array :')\n",
    "for i in range(0,len(array)):\n",
    "    print(array[i])\n",
    "    \n",
    "#Rotate The Array N times toward Right\n",
    "for i in range(0,n):\n",
    "    frist=array[0]\n",
    "    \n",
    "    for j in range(0,len(array)-1):\n",
    "        array[j]=array[j+1]\n",
    "        #print(array[j])\n",
    "    \n",
    "    #Last Element of array should start with frist element\n",
    "    array[len(array)-1]=frist\n",
    "    \n",
    "print()\n",
    "    \n",
    "print('The Array After Rotation :')\n",
    "for i in range(0,len(array)):\n",
    "    print(array[i])"
   ]
  },
  {
   "cell_type": "markdown",
   "metadata": {},
   "source": [
    "**4.\tWrite a Python Program to Split the array and add the first part to the end?**"
   ]
  },
  {
   "cell_type": "code",
   "execution_count": 21,
   "metadata": {},
   "outputs": [
    {
     "name": "stdout",
     "output_type": "stream",
     "text": [
      "9 4 5 6 1 2 3 7 8 "
     ]
    }
   ],
   "source": [
    "array=[7,8,9,4,5,6,1,2,3]\n",
    "n=len(array)\n",
    "k=2#Position\n",
    "\n",
    "#Define Function\n",
    "def split_add(array,n,k):\n",
    "    for i in range(0,k):\n",
    "        x=array[0]\n",
    "        for j in range(0,n-1):\n",
    "            array[j]=array[j+1]\n",
    "            \n",
    "        array[n-1]=x\n",
    "        \n",
    "#Calling Function         \n",
    "split_add(array,n,k)\n",
    "\n",
    "for i in range(0,n):\n",
    "    print(array[i],end=' ')    "
   ]
  },
  {
   "cell_type": "markdown",
   "metadata": {},
   "source": [
    "**5.\tWrite a Python Program to check if given array is Monotonic?**"
   ]
  },
  {
   "cell_type": "code",
   "execution_count": 22,
   "metadata": {},
   "outputs": [
    {
     "name": "stdout",
     "output_type": "stream",
     "text": [
      "True\n"
     ]
    }
   ],
   "source": [
    "def monotonic(array):\n",
    "    return (all(array[i]<=array[i+1] for i in range(len(array)-1)) or\n",
    "            all(array[i]>=array[i+1] for i in range(len(array)-1)))\n",
    "\n",
    "array=[1,2,3,4,5,6,7,8,9,10]\n",
    "\n",
    "print(monotonic(array))"
   ]
  },
  {
   "cell_type": "code",
   "execution_count": null,
   "metadata": {},
   "outputs": [],
   "source": []
  }
 ],
 "metadata": {
  "kernelspec": {
   "display_name": "Python 3",
   "language": "python",
   "name": "python3"
  },
  "language_info": {
   "codemirror_mode": {
    "name": "ipython",
    "version": 3
   },
   "file_extension": ".py",
   "mimetype": "text/x-python",
   "name": "python",
   "nbconvert_exporter": "python",
   "pygments_lexer": "ipython3",
   "version": "3.8.5"
  }
 },
 "nbformat": 4,
 "nbformat_minor": 4
}
