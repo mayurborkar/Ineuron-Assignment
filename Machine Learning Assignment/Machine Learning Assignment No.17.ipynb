{
 "cells": [
  {
   "cell_type": "markdown",
   "metadata": {},
   "source": [
    "**1. Using a graph to illustrate slope and intercept, define basic linear regression.**"
   ]
  },
  {
   "cell_type": "markdown",
   "metadata": {},
   "source": [
    "**Solution:-** The equation y=mx+c represents a straight line graphically, where m is its slope/gradient and c its intercept.\n",
    "Below, you will learn how to plot y=mx+b in Python with Matplotlib."
   ]
  },
  {
   "cell_type": "code",
   "execution_count": 1,
   "metadata": {},
   "outputs": [
    {
     "data": {
      "image/png": "[encoded data removed]",
      "text/plain": [
       "<Figure size 432x288 with 1 Axes>"
      ]
     },
     "metadata": {
      "needs_background": "light"
     },
     "output_type": "display_data"
    }
   ],
   "source": [
    "import matplotlib.pyplot as plt\n",
    "import numpy as np\n",
    "x = np.linspace(-6,6,100)\n",
    "y = 2*x+1\n",
    "plt.plot(x, y, '-r', label='y=2x+1')\n",
    "plt.title('Graph of y=2x+1')\n",
    "plt.xlabel('x', color='#1C2833')\n",
    "plt.ylabel('y', color='#1C2833')\n",
    "plt.legend(loc='upper left')\n",
    "plt.grid()\n",
    "plt.show()"
   ]
  },
  {
   "cell_type": "markdown",
   "metadata": {},
   "source": [
    "**2. In a graph, explain the terms rise, run, and slope.**"
   ]
  },
  {
   "cell_type": "markdown",
   "metadata": {},
   "source": [
    "**Solution:-** The slope of a line measures the steepness of the line. Most of you are probably familiar with associating slope with \"rise over run\". Rise means how many units you move up or down from point to point. On the graph that would be a change in the y values. Run means how far left or right you move from point to point."
   ]
  },
  {
   "cell_type": "markdown",
   "metadata": {},
   "source": [
    "**3. Use a graph to demonstrate slope, linear positive slope, and linear negative slope, as well as the different conditions that contribute to the slope.**"
   ]
  },
  {
   "cell_type": "markdown",
   "metadata": {},
   "source": [
    "**Solution:-**  it measures the relationship between two variables. \n",
    "\n",
    "1. A positive slope means that two variables are positively related—that is, when x increases, so does y, and when x decreases, y also decreases. Graphically, a positive slope means that as a line on the line graph moves from left to right, the line rises. We will learn in other sections that “price” and “quantity supplied” have a positive relationship; that is, firms will supply more when the price is higher."
   ]
  },
  {
   "cell_type": "markdown",
   "metadata": {},
   "source": [
    "<img src = 'Images/IMG_Econ_01_004.png'>"
   ]
  },
  {
   "cell_type": "markdown",
   "metadata": {},
   "source": [
    "2. A negative slope means that two variables are negatively related; that is, when x increases, y decreases, and when x decreases, y increases. Graphically, a negative slope means that as the line on the line graph moves from left to right, the line falls. We will learn that “price” and “quantity demanded” have a negative relationship; that is, consumers will purchase less when the price is higher."
   ]
  },
  {
   "cell_type": "markdown",
   "metadata": {},
   "source": [
    "<img src = 'Images/IMG_Econ_01_005.png'>"
   ]
  },
  {
   "cell_type": "markdown",
   "metadata": {},
   "source": [
    "3. A slope of zero means that y is constant no matter the value of x. Graphically, the line is flat; the rise over run is zero."
   ]
  },
  {
   "cell_type": "markdown",
   "metadata": {},
   "source": [
    "<img src = 'Images/IMG_Econ_01_006.png'>"
   ]
  },
  {
   "cell_type": "markdown",
   "metadata": {},
   "source": [
    "4. The unemployment-rate graph in Figure 4, below, illustrates a common pattern of many line graphs: some segments where the slope is positive, other segments where the slope is negative, and still other segments where the slope is close to zero."
   ]
  },
  {
   "cell_type": "markdown",
   "metadata": {},
   "source": [
    "<img src = 'Images/IMG_Econ_01_007.png'>"
   ]
  },
  {
   "cell_type": "markdown",
   "metadata": {},
   "source": [
    "**4. Use a graph to demonstrate curve linear negative slope and curve linear positive slope.**\n",
    "\n",
    "**Solution:-** Image result for a graph to demonstrate curve linear negative slope and curve linear positive slope.I f the signs are different then the answer is negative! If the slope is negative you can plot your next point by going down and right OR up and left. f the slope is positive you can plot your next point by going up and right OR down and left."
   ]
  },
  {
   "cell_type": "markdown",
   "metadata": {},
   "source": [
    "**5. Use a graph to show the maximum and low points of curves.**\n",
    "\n",
    "**Solution:-** To find the maximum/minimum of a curve you must first differentiate the function and then equate it to zero. This gives you one coordinate. To find the other you must resubstitute the one already found into the original function."
   ]
  },
  {
   "cell_type": "markdown",
   "metadata": {},
   "source": [
    "**6. Use the formulas for a and b to explain ordinary least squares.**\n",
    "\n",
    "**Solution:-** This best line is the Least Squares Regression Line (abbreviated as LSRL). This is true where ˆy is the predicted y-value given x, a is the y intercept, b and is the slope. For every x-value, the Least Squares Regression Line makes a predicted y-value that is close to the observed y-value, but usually slightly off."
   ]
  },
  {
   "cell_type": "markdown",
   "metadata": {},
   "source": [
    "**7. Provide a step-by-step explanation of the OLS algorithm.**\n",
    "\n",
    "**Solution:-** Ordinary Least Square Method : Set a difference between dependent variable and its estimation: Square the difference: Take summation for all data. To get the parameters that make the sum of square difference become minimum, take partial derivative for each parameter and equate it with zero,"
   ]
  },
  {
   "cell_type": "markdown",
   "metadata": {},
   "source": [
    "**8. What is the regression's standard error? To represent the same, make a graph.**\n",
    "\n",
    "**Solution:-** The standard error of the regression (S), also known as the standard error of the estimate, represents the average distance that the observed values fall from the regression line. Conveniently, it tells you how wrong the regression model is on average using the units of the response variable"
   ]
  },
  {
   "cell_type": "markdown",
   "metadata": {},
   "source": [
    "<img src = 'Images/comparing-the-fit-of-2-linear-regression-models-1024x316.png'>"
   ]
  },
  {
   "cell_type": "markdown",
   "metadata": {},
   "source": [
    "**9. Provide an example of multiple linear regression.**\n",
    "\n",
    "**Solution:-** Multiple Linear Regression is one of the important regression algorithms which models the linear relationship between a single dependent continuous variable and more than one independent variable. Example: Prediction of CO2 emission based on engine size and number of cylinders in a car."
   ]
  },
  {
   "cell_type": "markdown",
   "metadata": {},
   "source": [
    "**10. Describe the regression analysis assumptions and the BLUE principle.**\n",
    "\n",
    "**Solution:-** There are four assumptions associated with a linear regression model: Linearity: The relationship between X and the mean of Y is linear. Homoscedasticity: The variance of residual is the same for any value of X. Independence: Observations are independent of each other. BLUE is an acronym for the following: Best Linear Unbiased Estimator. In this context, the definition of “best” refers to the minimum variance or the narrowest sampling distribution."
   ]
  },
  {
   "cell_type": "markdown",
   "metadata": {},
   "source": [
    "**11. Describe two major issues with regression analysis.**\n",
    "\n",
    "**Solution:-** It involves very lengthy and complicated procedure of calculations and analysis. It cannot be used in case of qualitative phenomenon viz. honesty, crime etc. The overall idea of regression is to examine two things: \n",
    "\n",
    "(1) does a set of predictor variables do a good job in predicting an outcome (dependent) variable? \n",
    "\n",
    "(2) Which variables in particular are significant predictors of the outcome variable, and in what way do they–indicated by the magnitude and sign of the beta"
   ]
  },
  {
   "cell_type": "markdown",
   "metadata": {},
   "source": [
    "**12. How can the linear regression model's accuracy be improved?**\n",
    "\n",
    "**Solution:-** 8 Methods to Boost the Accuracy of a Model : \n",
    "\n",
    "a) Add more data. Having more data is always a good idea.\n",
    "\n",
    "b) Treat missing and Outlier values. \n",
    "\n",
    "c) Feature Engineering.\n",
    "\n",
    "d) Feature Selection.\n",
    "\n",
    "e) Multiple algorithms.\n",
    "\n",
    "f) Algorithm Tuning. \n",
    "\n",
    "g) Ensemble methods."
   ]
  },
  {
   "cell_type": "markdown",
   "metadata": {},
   "source": [
    "**13. Using an example, describe the polynomial regression model in detail.**\n",
    "\n",
    "**Solution:-** In statistics, polynomial regression is a form of regression analysis in which the relationship between the independent variable x and the dependent variable y is modelled as an nth degree polynomial in x.For this reason, polynomial regression is considered to be a special case of multiple linear regression. Polynomial regression is one of the machine learning algorithms used for making predictions. For example, it is widely applied to predict the spread rate of COVID-19 and other infectious diseases."
   ]
  },
  {
   "cell_type": "markdown",
   "metadata": {},
   "source": [
    "**14. Provide a detailed explanation of logistic regression.**\n",
    "\n",
    "**Solution:-** Logistic regression is a statistical analysis method used to predict a data value based on prior observations of a data set.Based on historical data about earlier outcomes involving the same input criteria, it then scores new cases on their probability of falling into a particular outcome category."
   ]
  },
  {
   "cell_type": "markdown",
   "metadata": {},
   "source": [
    "**15. What are the logistic regression assumptions?**\n",
    "\n",
    "**Solution:-** Basic assumptions that must be met for logistic regression include independence of errors, linearity in the logit for continuous variables, absence of multicollinearity, and lack of strongly influential outliers."
   ]
  },
  {
   "cell_type": "markdown",
   "metadata": {},
   "source": [
    "**16. Go through the details of maximum likelihood estimation.**\n",
    "\n",
    "**Solution:-** Maximum likelihood estimation is a method that determines values for the parameters of a model. The parameter values are found such that they maximise the likelihood that the process described by the model produced the data that were actually observed."
   ]
  },
  {
   "cell_type": "code",
   "execution_count": null,
   "metadata": {},
   "outputs": [],
   "source": []
  }
 ],
 "metadata": {
  "kernelspec": {
   "display_name": "Python 3",
   "language": "python",
   "name": "python3"
  },
  "language_info": {
   "codemirror_mode": {
    "name": "ipython",
    "version": 3
   },
   "file_extension": ".py",
   "mimetype": "text/x-python",
   "name": "python",
   "nbconvert_exporter": "python",
   "pygments_lexer": "ipython3",
   "version": "3.8.5"
  }
 },
 "nbformat": 4,
 "nbformat_minor": 4
}
