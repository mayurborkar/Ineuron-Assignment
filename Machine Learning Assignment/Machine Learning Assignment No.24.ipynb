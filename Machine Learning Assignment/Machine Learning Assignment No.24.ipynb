{
 "cells": [
  {
   "cell_type": "markdown",
   "metadata": {},
   "source": [
    "**1. What is your definition of clustering? What are a few clustering algorithms you might think of?**\n",
    "\n",
    "**Solution:-** clustering is a unsupervised approach. it is a method of identifing similar object and kipping them together.clustering is find a structute or pattern in a collection of unlabled data.The goal of clustering is to determine the intrensic groups of unlabled data.Few algorithms of clusterings are:\n",
    "\n",
    "1. k-mean clustering\n",
    "\n",
    "2. herirachical clustering\n",
    "\n",
    "3. DBSCAN\n",
    "\n",
    "**2. What are some of the most popular clustering algorithm applications?**\n",
    "\n",
    "**Solution:-** Application of clustering algorithm are:- \n",
    "1. for customer segment \n",
    "\n",
    "2. for data analysis \n",
    "\n",
    "3. As a dimensionality reduction technique \n",
    "\n",
    "4. for anamoly detection \n",
    "\n",
    "5. to segment an image\n",
    "\n",
    "**3. When using K-Means, describe two strategies for selecting the appropriate number of clusters.**\n",
    "\n",
    "**Solution:-** The k-mean is a clusterring approach in which a data is grouped into k-distinct non-overlapping cluster based on the distance from the k-centre. the value of k is specified first then algorithm assign the point to exactly one cluster.The optimum value of k is obtained by using the elbow method(wcc or inertia).\n",
    "\n",
    "**5. Provide two examples of clustering algorithms that can handle large datasets. And two that look for high-density areas?**\n",
    "\n",
    "**Solution:-** Two examples of clustering algorithms that can handle large datasets are.\n",
    "\n",
    "1. Identifying fraudulent or criminal activity.\n",
    "\n",
    "2. Classifying network traffic\n",
    "\n",
    "**6. Can you think of a scenario in which constructive learning will be advantageous? How can you go about putting it into action?**\n",
    "\n",
    "**Solution:-**\n",
    "\n",
    "**7. How do you tell the difference between anomaly and novelty detection?**\n",
    "\n",
    "**Solution:-** Anamoly detection is similar to the novelty detection but not completely similar. the novelty detection is mainly concerned to identify the unabsorbed pattern in the obsrvation.\n",
    "\n",
    "**8. What is a Gaussian mixture, and how does it work? What are some of the things you can do about it?**\n",
    "\n",
    "**Solution:-** A Gaussian mixture model is a probabilistic model that assumes all the data points are generated from a mixture of a finite number of Gaussian distributions with unknown parameters. Gaussian Mixture models are used for representing Normally Distributed subpopulations within an overall population. The advantage of Mixture models is that they do not require which subpopulation a data point belongs to. It allows the model to learn the subpopulations automatically.\n",
    "\n",
    "**9. When using a Gaussian mixture model, can you name two techniques for determining the correct number of clusters?**\n",
    "\n",
    "**Solution:-** How can a Gaussian mixture model be used for clustering? Gaussian mixture models (GMMs) are often used for data clustering. You can use GMMs to perform either hard clustering or soft clustering on query data. To perform hard clustering, the GMM assigns query data points to the multivariate normal components that maximize the component posterior probability, given the data."
   ]
  },
  {
   "cell_type": "code",
   "execution_count": null,
   "metadata": {},
   "outputs": [],
   "source": []
  }
 ],
 "metadata": {
  "kernelspec": {
   "display_name": "Python 3",
   "language": "python",
   "name": "python3"
  },
  "language_info": {
   "codemirror_mode": {
    "name": "ipython",
    "version": 3
   },
   "file_extension": ".py",
   "mimetype": "text/x-python",
   "name": "python",
   "nbconvert_exporter": "python",
   "pygments_lexer": "ipython3",
   "version": "3.8.5"
  }
 },
 "nbformat": 4,
 "nbformat_minor": 4
}
